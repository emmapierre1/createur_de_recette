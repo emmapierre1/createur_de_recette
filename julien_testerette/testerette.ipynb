{
 "cells": [
  {
   "cell_type": "code",
   "execution_count": null,
   "id": "9c009775",
   "metadata": {},
   "outputs": [],
   "source": []
  },
  {
   "cell_type": "code",
   "execution_count": null,
   "id": "62dbdabc",
   "metadata": {},
   "outputs": [],
   "source": []
  },
  {
   "cell_type": "markdown",
   "id": "cbd496eb",
   "metadata": {},
   "source": [
    "## Scrapping\n"
   ]
  },
  {
   "cell_type": "code",
   "execution_count": 1,
   "id": "baf399ef",
   "metadata": {
    "ExecuteTime": {
     "end_time": "2022-01-05T08:21:02.965138Z",
     "start_time": "2022-01-05T08:21:02.891657Z"
    },
    "scrolled": true
   },
   "outputs": [],
   "source": [
    "from bs4 import BeautifulSoup\n",
    "\n",
    "html_doc = 'fafea'\n",
    "\n",
    "soup = BeautifulSoup(html_doc, 'html.parser')"
   ]
  },
  {
   "cell_type": "code",
   "execution_count": 2,
   "id": "d827de35",
   "metadata": {
    "ExecuteTime": {
     "end_time": "2022-01-05T08:21:03.091622Z",
     "start_time": "2022-01-05T08:21:03.056027Z"
    }
   },
   "outputs": [],
   "source": [
    "import re\n",
    "import requests\n",
    "from bs4 import BeautifulSoup, Comment"
   ]
  },
  {
   "cell_type": "code",
   "execution_count": 3,
   "id": "189e9e2d",
   "metadata": {
    "ExecuteTime": {
     "end_time": "2022-01-05T08:21:03.228226Z",
     "start_time": "2022-01-05T08:21:03.225681Z"
    }
   },
   "outputs": [],
   "source": [
    "url = f'https://www.marmiton.org/recettes/recette_gratin-pomme-de-terre-et-panais_532213.aspx' # valuepage={page}"
   ]
  },
  {
   "cell_type": "code",
   "execution_count": 4,
   "id": "28e16e7e",
   "metadata": {
    "ExecuteTime": {
     "end_time": "2022-01-05T08:21:03.959780Z",
     "start_time": "2022-01-05T08:21:03.376209Z"
    }
   },
   "outputs": [],
   "source": [
    "response = requests.get(url, headers={\"Accept-Language\":\"en-US\"})\n",
    "soup = BeautifulSoup(response.content, \"html.parser\")\n",
    "\n",
    "# print(soup)"
   ]
  },
  {
   "cell_type": "code",
   "execution_count": 5,
   "id": "361674cb",
   "metadata": {
    "ExecuteTime": {
     "end_time": "2022-01-05T08:21:03.965222Z",
     "start_time": "2022-01-05T08:21:03.962044Z"
    }
   },
   "outputs": [],
   "source": [
    "# from bs4 import Comment\n",
    "\n",
    "# for child in soup.body.div.children:\n",
    "#     if isinstance(child,Comment):\n",
    "#         child.extract()"
   ]
  },
  {
   "cell_type": "code",
   "execution_count": 6,
   "id": "d5fcab93",
   "metadata": {
    "ExecuteTime": {
     "end_time": "2022-01-05T08:21:03.985779Z",
     "start_time": "2022-01-05T08:21:03.967424Z"
    }
   },
   "outputs": [
    {
     "name": "stdout",
     "output_type": "stream",
     "text": [
      "<span class=\"SHRD__sc-10plygc-0 epviYI\">1<!-- --> <!-- -->branche</span>\n",
      " \n",
      " \n"
     ]
    }
   ],
   "source": [
    "ingredients_list = []\n",
    "for ingredients in soup.find_all(\"div\", class_=\"fLWRho\"):\n",
    "    title = ingredients.find_all(\"span\", class_=\"epviYI\") #.find(\"a\").string\n",
    "#     duration = int(movie.find(class_=\"runtime\").string.strip(' min'))\n",
    "#     year = int(re.search(r\"\\d{4}\", movie.find(class_=\"lister-item-year\").string).group(0))\n",
    "    ingredients_list.append(title)\n",
    "#     movies.append({'title': title, 'duration': duration, 'year': year})\n",
    "print(ingredients_list[1][0])\n",
    "# ingredients_list[1].content\n",
    "soup2 = BeautifulSoup(str(ingredients_list[1][0]), \"html.parser\")\n",
    "\n",
    "\n",
    "# from bs4 import Comment\n",
    "\n",
    "# if isinstance(soup2.string,Comment):\n",
    "#     souped2 = soup2.extract()\n",
    "#     print(souped2)\n",
    "num=0\n",
    "for element in soup2(text=lambda text: isinstance(text, Comment)):\n",
    "    print(element.extract())\n",
    "\n",
    "    "
   ]
  },
  {
   "cell_type": "code",
   "execution_count": 7,
   "id": "4e5975ce",
   "metadata": {
    "ExecuteTime": {
     "end_time": "2022-01-05T08:21:03.992750Z",
     "start_time": "2022-01-05T08:21:03.988668Z"
    }
   },
   "outputs": [
    {
     "name": "stdout",
     "output_type": "stream",
     "text": [
      "<span class=\"SHRD__sc-10plygc-0 epviYI\">1 branche</span>\n"
     ]
    }
   ],
   "source": [
    "print(str(soup2))"
   ]
  },
  {
   "cell_type": "code",
   "execution_count": 8,
   "id": "d7b9111c",
   "metadata": {
    "ExecuteTime": {
     "end_time": "2022-01-05T08:21:04.017839Z",
     "start_time": "2022-01-05T08:21:04.014584Z"
    }
   },
   "outputs": [],
   "source": [
    "soupstr=str(soup2)\n",
    "result=re.sub(r'<!.*?->','', soupstr)\n"
   ]
  },
  {
   "cell_type": "code",
   "execution_count": 9,
   "id": "29018a3b",
   "metadata": {
    "ExecuteTime": {
     "end_time": "2022-01-05T08:21:04.229468Z",
     "start_time": "2022-01-05T08:21:04.169676Z"
    }
   },
   "outputs": [
    {
     "ename": "TypeError",
     "evalue": "object of type 'NoneType' has no len()",
     "output_type": "error",
     "traceback": [
      "\u001b[0;31m---------------------------------------------------------------------------\u001b[0m",
      "\u001b[0;31mTypeError\u001b[0m                                 Traceback (most recent call last)",
      "\u001b[0;32m/tmp/ipykernel_31684/549081897.py\u001b[0m in \u001b[0;36m<module>\u001b[0;34m\u001b[0m\n\u001b[0;32m----> 1\u001b[0;31m \u001b[0mBeautifulSoup\u001b[0m\u001b[0;34m(\u001b[0m\u001b[0msoup2\u001b[0m\u001b[0;34m.\u001b[0m\u001b[0mstring\u001b[0m\u001b[0;34m)\u001b[0m\u001b[0;34m\u001b[0m\u001b[0;34m\u001b[0m\u001b[0m\n\u001b[0m",
      "\u001b[0;32m~/.pyenv/versions/3.8.12/envs/createur_de_recette/lib/python3.8/site-packages/bs4/__init__.py\u001b[0m in \u001b[0;36m__init__\u001b[0;34m(self, markup, features, builder, parse_only, from_encoding, exclude_encodings, element_classes, **kwargs)\u001b[0m\n\u001b[1;32m    310\u001b[0m         \u001b[0;32mif\u001b[0m \u001b[0mhasattr\u001b[0m\u001b[0;34m(\u001b[0m\u001b[0mmarkup\u001b[0m\u001b[0;34m,\u001b[0m \u001b[0;34m'read'\u001b[0m\u001b[0;34m)\u001b[0m\u001b[0;34m:\u001b[0m        \u001b[0;31m# It's a file-type object.\u001b[0m\u001b[0;34m\u001b[0m\u001b[0;34m\u001b[0m\u001b[0m\n\u001b[1;32m    311\u001b[0m             \u001b[0mmarkup\u001b[0m \u001b[0;34m=\u001b[0m \u001b[0mmarkup\u001b[0m\u001b[0;34m.\u001b[0m\u001b[0mread\u001b[0m\u001b[0;34m(\u001b[0m\u001b[0;34m)\u001b[0m\u001b[0;34m\u001b[0m\u001b[0;34m\u001b[0m\u001b[0m\n\u001b[0;32m--> 312\u001b[0;31m         elif len(markup) <= 256 and (\n\u001b[0m\u001b[1;32m    313\u001b[0m                 \u001b[0;34m(\u001b[0m\u001b[0misinstance\u001b[0m\u001b[0;34m(\u001b[0m\u001b[0mmarkup\u001b[0m\u001b[0;34m,\u001b[0m \u001b[0mbytes\u001b[0m\u001b[0;34m)\u001b[0m \u001b[0;32mand\u001b[0m \u001b[0;32mnot\u001b[0m \u001b[0;34mb'<'\u001b[0m \u001b[0;32min\u001b[0m \u001b[0mmarkup\u001b[0m\u001b[0;34m)\u001b[0m\u001b[0;34m\u001b[0m\u001b[0;34m\u001b[0m\u001b[0m\n\u001b[1;32m    314\u001b[0m                 \u001b[0;32mor\u001b[0m \u001b[0;34m(\u001b[0m\u001b[0misinstance\u001b[0m\u001b[0;34m(\u001b[0m\u001b[0mmarkup\u001b[0m\u001b[0;34m,\u001b[0m \u001b[0mstr\u001b[0m\u001b[0;34m)\u001b[0m \u001b[0;32mand\u001b[0m \u001b[0;32mnot\u001b[0m \u001b[0;34m'<'\u001b[0m \u001b[0;32min\u001b[0m \u001b[0mmarkup\u001b[0m\u001b[0;34m)\u001b[0m\u001b[0;34m\u001b[0m\u001b[0;34m\u001b[0m\u001b[0m\n",
      "\u001b[0;31mTypeError\u001b[0m: object of type 'NoneType' has no len()"
     ]
    }
   ],
   "source": [
    "BeautifulSoup(soup2.string)"
   ]
  },
  {
   "cell_type": "code",
   "execution_count": 10,
   "id": "01056950",
   "metadata": {
    "ExecuteTime": {
     "end_time": "2022-01-05T08:21:04.322990Z",
     "start_time": "2022-01-05T08:21:04.319951Z"
    }
   },
   "outputs": [],
   "source": [
    "units = ['branche', 'bouquet','cl','cuillère à café bien bombée', 'c.à.c', 'c.à.s' 'g', \\\n",
    "         'gousse', 'gousses', 'ml', 'plaques', 'pincée', 'poignée', 'pot', 'tablette', 'tranches', 'verre', 'verres']\n",
    "doubts = ['1⁄2', '1⁄4']"
   ]
  },
  {
   "cell_type": "code",
   "execution_count": 11,
   "id": "f1f189dd",
   "metadata": {
    "ExecuteTime": {
     "end_time": "2022-01-05T08:21:04.473387Z",
     "start_time": "2022-01-05T08:21:04.470288Z"
    }
   },
   "outputs": [],
   "source": [
    "# 1⁄2 bouquet\n",
    "# de persil"
   ]
  },
  {
   "cell_type": "markdown",
   "id": "18eeaf77",
   "metadata": {},
   "source": [
    "## Prep nettoyage de données"
   ]
  },
  {
   "cell_type": "code",
   "execution_count": 44,
   "id": "a2912536",
   "metadata": {
    "ExecuteTime": {
     "end_time": "2022-01-05T08:39:14.013519Z",
     "start_time": "2022-01-05T08:39:13.259726Z"
    },
    "scrolled": true
   },
   "outputs": [
    {
     "data": {
      "text/html": [
       "<div>\n",
       "<style scoped>\n",
       "    .dataframe tbody tr th:only-of-type {\n",
       "        vertical-align: middle;\n",
       "    }\n",
       "\n",
       "    .dataframe tbody tr th {\n",
       "        vertical-align: top;\n",
       "    }\n",
       "\n",
       "    .dataframe thead th {\n",
       "        text-align: right;\n",
       "    }\n",
       "</style>\n",
       "<table border=\"1\" class=\"dataframe\">\n",
       "  <thead>\n",
       "    <tr style=\"text-align: right;\">\n",
       "      <th></th>\n",
       "      <th>recipe_id</th>\n",
       "      <th>recipe_url</th>\n",
       "      <th>recipe_title</th>\n",
       "      <th>recipe_type</th>\n",
       "      <th>recipe_steps</th>\n",
       "    </tr>\n",
       "  </thead>\n",
       "  <tbody>\n",
       "    <tr>\n",
       "      <th>0</th>\n",
       "      <td>10534</td>\n",
       "      <td>https://www.marmiton.org/recettes/recette_le-c...</td>\n",
       "      <td>Le crumble aux pommes du Chat qui Tousse</td>\n",
       "      <td>Dessert</td>\n",
       "      <td>Préchauffer le four à 210°C (thermostat 7). \\n...</td>\n",
       "    </tr>\n",
       "    <tr>\n",
       "      <th>1</th>\n",
       "      <td>10531</td>\n",
       "      <td>https://www.marmiton.org/recettes/recette_esca...</td>\n",
       "      <td>Escalopes lucullus à la cocotte</td>\n",
       "      <td>Plat principal</td>\n",
       "      <td>Coupez l'oignon en petits morceaux, faites rev...</td>\n",
       "    </tr>\n",
       "  </tbody>\n",
       "</table>\n",
       "</div>"
      ],
      "text/plain": [
       "   recipe_id                                         recipe_url  \\\n",
       "0      10534  https://www.marmiton.org/recettes/recette_le-c...   \n",
       "1      10531  https://www.marmiton.org/recettes/recette_esca...   \n",
       "\n",
       "                               recipe_title     recipe_type  \\\n",
       "0  Le crumble aux pommes du Chat qui Tousse         Dessert   \n",
       "1           Escalopes lucullus à la cocotte  Plat principal   \n",
       "\n",
       "                                        recipe_steps  \n",
       "0  Préchauffer le four à 210°C (thermostat 7). \\n...  \n",
       "1  Coupez l'oignon en petits morceaux, faites rev...  "
      ]
     },
     "execution_count": 44,
     "metadata": {},
     "output_type": "execute_result"
    }
   ],
   "source": [
    "import pandas as pd\n",
    "ingredients_df = pd.read_csv('../createur_de_recette/data/ingredients.csv')\n",
    "recipes_df = pd.read_csv('../createur_de_recette/data/recipes.csv')\n",
    "recipes_df.head(2)"
   ]
  },
  {
   "cell_type": "code",
   "execution_count": 13,
   "id": "8814e6cf",
   "metadata": {
    "ExecuteTime": {
     "end_time": "2022-01-05T08:21:05.872439Z",
     "start_time": "2022-01-05T08:21:05.867511Z"
    }
   },
   "outputs": [
    {
     "data": {
      "text/plain": [
       "(70603, 5)"
      ]
     },
     "execution_count": 13,
     "metadata": {},
     "output_type": "execute_result"
    }
   ],
   "source": [
    "recipes_df.shape"
   ]
  },
  {
   "cell_type": "code",
   "execution_count": 14,
   "id": "ed8ecf8c",
   "metadata": {
    "ExecuteTime": {
     "end_time": "2022-01-05T08:21:05.903848Z",
     "start_time": "2022-01-05T08:21:05.874389Z"
    }
   },
   "outputs": [],
   "source": [
    "recipes_df['first_letter'] = recipes_df.recipe_steps.apply(lambda x : x[0])"
   ]
  },
  {
   "cell_type": "code",
   "execution_count": 15,
   "id": "786516bc",
   "metadata": {
    "ExecuteTime": {
     "end_time": "2022-01-05T08:21:05.917460Z",
     "start_time": "2022-01-05T08:21:05.906247Z"
    },
    "scrolled": true
   },
   "outputs": [
    {
     "data": {
      "text/plain": [
       "à       1\n",
       ":       1\n",
       "`       1\n",
       "¨       1\n",
       "'       1\n",
       "➢       1\n",
       "\\n      2\n",
       "u       2\n",
       "8       2\n",
       "0       2\n",
       "[       2\n",
       "t       2\n",
       "~       2\n",
       "_       2\n",
       "°       3\n",
       "n       3\n",
       "5       3\n",
       "6       3\n",
       "h       4\n",
       "o       4\n",
       "b       4\n",
       "a       5\n",
       ">       5\n",
       "v       5\n",
       "Z       6\n",
       "•       6\n",
       "e       6\n",
       "s       7\n",
       "\"       7\n",
       "3       7\n",
       "r       8\n",
       "<      11\n",
       "4      13\n",
       ".      16\n",
       "À      17\n",
       "é      24\n",
       "l      24\n",
       "       32\n",
       "(      32\n",
       "m      38\n",
       "d      44\n",
       "2      44\n",
       "Q      50\n",
       "*      62\n",
       "c      63\n",
       "p      70\n",
       "f      71\n",
       "Ô      72\n",
       "J     100\n",
       "Name: first_letter, dtype: int64"
      ]
     },
     "execution_count": 15,
     "metadata": {},
     "output_type": "execute_result"
    }
   ],
   "source": [
    "recipes_df.first_letter.value_counts().sort_values()[0:49]"
   ]
  },
  {
   "cell_type": "code",
   "execution_count": 16,
   "id": "dd4ea80e",
   "metadata": {
    "ExecuteTime": {
     "end_time": "2022-01-05T08:21:05.928899Z",
     "start_time": "2022-01-05T08:21:05.919588Z"
    },
    "scrolled": true
   },
   "outputs": [
    {
     "data": {
      "text/plain": [
       "f       71\n",
       "Ô       72\n",
       "J      100\n",
       "U      148\n",
       "G      202\n",
       "I      244\n",
       "O      345\n",
       "N      688\n",
       "H      790\n",
       "-      803\n",
       "1      843\n",
       "V      915\n",
       "T      930\n",
       "A     1074\n",
       "S     1158\n",
       "B     1342\n",
       "R     1488\n",
       "É     2166\n",
       "L     3672\n",
       "E     4434\n",
       "M     6429\n",
       "D     7320\n",
       "C     7661\n",
       "F    10659\n",
       "P    16401\n",
       "Name: first_letter, dtype: int64"
      ]
     },
     "execution_count": 16,
     "metadata": {},
     "output_type": "execute_result"
    }
   ],
   "source": [
    "# recipes_df.first_letter.value_counts().sort_values()[0:49]\n",
    "recipes_df.first_letter.value_counts().sort_values()[46:80]"
   ]
  },
  {
   "cell_type": "code",
   "execution_count": 17,
   "id": "03f5ec99",
   "metadata": {
    "ExecuteTime": {
     "end_time": "2022-01-05T08:21:05.934435Z",
     "start_time": "2022-01-05T08:21:05.930881Z"
    }
   },
   "outputs": [],
   "source": [
    "DELETE_ROW_IF_FIRST_CHAR=[':','`', '¨', '➢']\n",
    "REPLACE_IF_FIRST_CHAR = [' ', '-', '\\n']\n",
    "STR_TO_REPLACE_BY_SINGLE_OCCURENCES = ['!', '.', ' ', '-', ]\n",
    "\n"
   ]
  },
  {
   "cell_type": "code",
   "execution_count": 18,
   "id": "32dd29ea",
   "metadata": {
    "ExecuteTime": {
     "end_time": "2022-01-05T08:21:05.941599Z",
     "start_time": "2022-01-05T08:21:05.935985Z"
    }
   },
   "outputs": [
    {
     "data": {
      "text/plain": [
       "(70603, 6)"
      ]
     },
     "execution_count": 18,
     "metadata": {},
     "output_type": "execute_result"
    }
   ],
   "source": [
    "recipes_df.shape\n"
   ]
  },
  {
   "cell_type": "code",
   "execution_count": 42,
   "id": "197eb16a",
   "metadata": {
    "ExecuteTime": {
     "end_time": "2022-01-05T08:35:10.355025Z",
     "start_time": "2022-01-05T08:35:08.811959Z"
    }
   },
   "outputs": [
    {
     "data": {
      "text/html": [
       "<div>\n",
       "<style scoped>\n",
       "    .dataframe tbody tr th:only-of-type {\n",
       "        vertical-align: middle;\n",
       "    }\n",
       "\n",
       "    .dataframe tbody tr th {\n",
       "        vertical-align: top;\n",
       "    }\n",
       "\n",
       "    .dataframe thead th {\n",
       "        text-align: right;\n",
       "    }\n",
       "</style>\n",
       "<table border=\"1\" class=\"dataframe\">\n",
       "  <thead>\n",
       "    <tr style=\"text-align: right;\">\n",
       "      <th></th>\n",
       "      <th>recipe_id</th>\n",
       "      <th>recipe_url</th>\n",
       "      <th>recipe_title</th>\n",
       "      <th>recipe_type</th>\n",
       "      <th>recipe_steps</th>\n",
       "    </tr>\n",
       "  </thead>\n",
       "  <tbody>\n",
       "    <tr>\n",
       "      <th>0</th>\n",
       "      <td>10534</td>\n",
       "      <td>https://www.marmiton.org/recettes/recette_le-c...</td>\n",
       "      <td>Le crumble aux pommes du Chat qui Tousse</td>\n",
       "      <td>Dessert</td>\n",
       "      <td>Préchauffer le four à 210°C (thermostat 7). \\n...</td>\n",
       "    </tr>\n",
       "    <tr>\n",
       "      <th>1</th>\n",
       "      <td>10531</td>\n",
       "      <td>https://www.marmiton.org/recettes/recette_esca...</td>\n",
       "      <td>Escalopes lucullus à la cocotte</td>\n",
       "      <td>Plat principal</td>\n",
       "      <td>Coupez l'oignon en petits morceaux, faites rev...</td>\n",
       "    </tr>\n",
       "    <tr>\n",
       "      <th>2</th>\n",
       "      <td>10529</td>\n",
       "      <td>https://www.marmiton.org/recettes/recette_terr...</td>\n",
       "      <td>Terrine de foie de porc</td>\n",
       "      <td>Plat principal</td>\n",
       "      <td>hacher (pas trop fin) le foie, le lard, les éc...</td>\n",
       "    </tr>\n",
       "    <tr>\n",
       "      <th>3</th>\n",
       "      <td>10530</td>\n",
       "      <td>https://www.marmiton.org/recettes/recette_lapi...</td>\n",
       "      <td>Lapin au vin blanc (à la cocotte)</td>\n",
       "      <td>Plat principal</td>\n",
       "      <td>Faire revenir les échalotes et les lardons dan...</td>\n",
       "    </tr>\n",
       "    <tr>\n",
       "      <th>4</th>\n",
       "      <td>10528</td>\n",
       "      <td>https://www.marmiton.org/recettes/recette_truf...</td>\n",
       "      <td>Truffes en chocolat</td>\n",
       "      <td>Confiserie</td>\n",
       "      <td>La veille : faire fondre le chocolat au bain-m...</td>\n",
       "    </tr>\n",
       "    <tr>\n",
       "      <th>...</th>\n",
       "      <td>...</td>\n",
       "      <td>...</td>\n",
       "      <td>...</td>\n",
       "      <td>...</td>\n",
       "      <td>...</td>\n",
       "    </tr>\n",
       "    <tr>\n",
       "      <th>70396</th>\n",
       "      <td>532439</td>\n",
       "      <td>https://www.marmiton.org/recettes/recette_buch...</td>\n",
       "      <td>Bûche de Noël au chocolat et crêpes dentelles</td>\n",
       "      <td>Dessert</td>\n",
       "      <td>Faire fondre les chocolats au bain marie avec ...</td>\n",
       "    </tr>\n",
       "    <tr>\n",
       "      <th>70397</th>\n",
       "      <td>532434</td>\n",
       "      <td>https://www.marmiton.org/recettes/recette_cook...</td>\n",
       "      <td>Cookies aux noix de pécan et au chocolat</td>\n",
       "      <td>Dessert</td>\n",
       "      <td>Pour le beurre de pécan : Faire fondre le beur...</td>\n",
       "    </tr>\n",
       "    <tr>\n",
       "      <th>70398</th>\n",
       "      <td>532401</td>\n",
       "      <td>https://www.marmiton.org/recettes/recette_sand...</td>\n",
       "      <td>Sando au poulet</td>\n",
       "      <td>Plat principal</td>\n",
       "      <td>Couper le poulet en morceaux de 5/6cm. \\n\\n Ba...</td>\n",
       "    </tr>\n",
       "    <tr>\n",
       "      <th>70399</th>\n",
       "      <td>532213</td>\n",
       "      <td>https://www.marmiton.org/recettes/recette_grat...</td>\n",
       "      <td>Gratin pomme de terre et panais</td>\n",
       "      <td>Accompagnement</td>\n",
       "      <td>Éplucher les pommes de terre et le panais et l...</td>\n",
       "    </tr>\n",
       "    <tr>\n",
       "      <th>70400</th>\n",
       "      <td>532201</td>\n",
       "      <td>https://www.marmiton.org/recettes/recette_tour...</td>\n",
       "      <td>Tourte au saumon et à la béchamel au citron</td>\n",
       "      <td>Pizza, tarte, quiche</td>\n",
       "      <td>Dans une casserole, faire fondre le beurre pui...</td>\n",
       "    </tr>\n",
       "  </tbody>\n",
       "</table>\n",
       "<p>70401 rows × 5 columns</p>\n",
       "</div>"
      ],
      "text/plain": [
       "       recipe_id                                         recipe_url  \\\n",
       "0          10534  https://www.marmiton.org/recettes/recette_le-c...   \n",
       "1          10531  https://www.marmiton.org/recettes/recette_esca...   \n",
       "2          10529  https://www.marmiton.org/recettes/recette_terr...   \n",
       "3          10530  https://www.marmiton.org/recettes/recette_lapi...   \n",
       "4          10528  https://www.marmiton.org/recettes/recette_truf...   \n",
       "...          ...                                                ...   \n",
       "70396     532439  https://www.marmiton.org/recettes/recette_buch...   \n",
       "70397     532434  https://www.marmiton.org/recettes/recette_cook...   \n",
       "70398     532401  https://www.marmiton.org/recettes/recette_sand...   \n",
       "70399     532213  https://www.marmiton.org/recettes/recette_grat...   \n",
       "70400     532201  https://www.marmiton.org/recettes/recette_tour...   \n",
       "\n",
       "                                        recipe_title           recipe_type  \\\n",
       "0           Le crumble aux pommes du Chat qui Tousse               Dessert   \n",
       "1                    Escalopes lucullus à la cocotte        Plat principal   \n",
       "2                            Terrine de foie de porc        Plat principal   \n",
       "3                  Lapin au vin blanc (à la cocotte)        Plat principal   \n",
       "4                                Truffes en chocolat            Confiserie   \n",
       "...                                              ...                   ...   \n",
       "70396  Bûche de Noël au chocolat et crêpes dentelles               Dessert   \n",
       "70397       Cookies aux noix de pécan et au chocolat               Dessert   \n",
       "70398                                Sando au poulet        Plat principal   \n",
       "70399                Gratin pomme de terre et panais        Accompagnement   \n",
       "70400    Tourte au saumon et à la béchamel au citron  Pizza, tarte, quiche   \n",
       "\n",
       "                                            recipe_steps  \n",
       "0      Préchauffer le four à 210°C (thermostat 7). \\n...  \n",
       "1      Coupez l'oignon en petits morceaux, faites rev...  \n",
       "2      hacher (pas trop fin) le foie, le lard, les éc...  \n",
       "3      Faire revenir les échalotes et les lardons dan...  \n",
       "4      La veille : faire fondre le chocolat au bain-m...  \n",
       "...                                                  ...  \n",
       "70396  Faire fondre les chocolats au bain marie avec ...  \n",
       "70397  Pour le beurre de pécan : Faire fondre le beur...  \n",
       "70398  Couper le poulet en morceaux de 5/6cm. \\n\\n Ba...  \n",
       "70399  Éplucher les pommes de terre et le panais et l...  \n",
       "70400  Dans une casserole, faire fondre le beurre pui...  \n",
       "\n",
       "[70401 rows x 5 columns]"
      ]
     },
     "execution_count": 42,
     "metadata": {},
     "output_type": "execute_result"
    }
   ],
   "source": [
    "def recipe_df_cleaning(recipes_df) :\n",
    "    \"\"\"Function dedicated to the cleaning of the recipe's DataFrame cooking steps\n",
    "    \n",
    "    Dropped :\n",
    "        - steps with HTML Tags in it '<' \n",
    "        - steps starting with ':','`', '¨', '➢', '\\n' ( only 1 encounters as first character in steps)\n",
    "        \n",
    "    Replaced characters :\n",
    "        - if first char is ' ' or '-'\n",
    "        \n",
    "        - multiples !!! ... and spaces '    '        \n",
    "\n",
    "    \"\"\"\n",
    "    # Creating a column with the first letters of each recipe_steps to identify troublemakers\n",
    "    recipes_df['first_letter'] = recipes_df.recipe_steps.apply(lambda x : x[0])\n",
    "    \n",
    "    # Deleting HTML Tags (balises)\n",
    "    rows_to_drop = list(recipes_df.recipe_steps[recipes_df.recipe_steps.apply(lambda x : x.find('<')) != -1].index)\n",
    "    recipes_df.drop(rows_to_drop, axis=0, inplace=True)\n",
    "    \n",
    "    recipes_df = recipes_df.reset_index().drop(columns='index')\n",
    "    \n",
    "    # Deleting rows with first_letter in DELETE_ROW_IF_FIRST_CHAR\n",
    "    for deleted_char in DELETE_ROW_IF_FIRST_CHAR :\n",
    "        rows_to_drop = list(recipes_df.recipe_steps[recipes_df.recipe_steps.apply(lambda x : \\\n",
    "                                x.startswith(deleted_char))].index)\n",
    "        \n",
    "    recipes_df.drop(rows_to_drop, axis=0, inplace=True)\n",
    "    recipes_df = recipes_df.reset_index().drop(columns='index')\n",
    "    \n",
    "    # Replacing first chars of rows if it starts with a char from REPLACE_IF_FIRST_CHAR (Twice, just in cases '- ' or ' .')\n",
    "    for i in range(2) :\n",
    "        for replaced_char in REPLACE_IF_FIRST_CHAR :\n",
    "            recipes_df.recipe_steps = recipes_df.recipe_steps.apply(lambda x : x[1:] \\\n",
    "                    if x.startswith(replaced_char) else x)\n",
    "            \n",
    "            \n",
    "    # Replacing multiples occurences like !!!!! to ! or ... to . or '        ' to ' '\n",
    "    for i in range(5) : \n",
    "        for char in STR_TO_REPLACE_BY_SINGLE_OCCURENCES:\n",
    "            recipes_df.recipe_steps = recipes_df.recipe_steps.apply(lambda x : x.replace(f\"{char}{char}\", f\"{char}\"))\n",
    "        \n",
    "    \n",
    "    # dropping useless columns\n",
    "    recipes_df.drop(columns='first_letter', inplace=True)\n",
    "    \n",
    "    return recipes_df\n",
    "\n",
    "def drop_rows(df, rows_to_drop, index ) : \n",
    "    \"\"\" delete rows and reset index\n",
    "    df : DataFrame\n",
    "    rows_to_drop : list\n",
    "    \n",
    "    \"\"\"\n",
    "    df.drop(rows_to_drop, axis=0, inplace=True)\n",
    "    df = df.reset_index().drop(columns='index')\n",
    "    return df\n",
    "\n",
    "trans_recipe = recipe_df_cleaning(recipes_df)\n",
    "trans_recipe"
   ]
  },
  {
   "cell_type": "code",
   "execution_count": 20,
   "id": "9c0fb9cb",
   "metadata": {
    "ExecuteTime": {
     "end_time": "2022-01-05T08:21:07.533723Z",
     "start_time": "2022-01-05T08:21:07.483607Z"
    }
   },
   "outputs": [
    {
     "data": {
      "text/plain": [
       "307"
      ]
     },
     "execution_count": 20,
     "metadata": {},
     "output_type": "execute_result"
    }
   ],
   "source": [
    "stringed = 'twto'\n",
    "stringed.startswith('t')\n",
    "70401 - trans_recipe.recipe_steps[trans_recipe.recipe_steps.apply(lambda x : x.find('.')) != -1].count()"
   ]
  },
  {
   "cell_type": "code",
   "execution_count": 39,
   "id": "be5a536e",
   "metadata": {
    "ExecuteTime": {
     "end_time": "2022-01-05T08:25:13.161571Z",
     "start_time": "2022-01-05T08:25:13.153640Z"
    }
   },
   "outputs": [
    {
     "ename": "AttributeError",
     "evalue": "'DataFrame' object has no attribute 'first_letter'",
     "output_type": "error",
     "traceback": [
      "\u001b[0;31m---------------------------------------------------------------------------\u001b[0m",
      "\u001b[0;31mAttributeError\u001b[0m                            Traceback (most recent call last)",
      "\u001b[0;32m/tmp/ipykernel_31684/2437088654.py\u001b[0m in \u001b[0;36m<module>\u001b[0;34m\u001b[0m\n\u001b[0;32m----> 1\u001b[0;31m \u001b[0mrecipes_df\u001b[0m\u001b[0;34m.\u001b[0m\u001b[0mrecipe_steps\u001b[0m\u001b[0;34m[\u001b[0m\u001b[0mrecipes_df\u001b[0m\u001b[0;34m.\u001b[0m\u001b[0mfirst_letter\u001b[0m \u001b[0;34m==\u001b[0m \u001b[0;34m'.'\u001b[0m\u001b[0;34m]\u001b[0m\u001b[0;34m\u001b[0m\u001b[0;34m\u001b[0m\u001b[0m\n\u001b[0m\u001b[1;32m      2\u001b[0m \u001b[0;31m# recipes_df.recipe_steps[recipes_df.first_letter == '.'].reset_index().recipe_steps[0]\u001b[0m\u001b[0;34m\u001b[0m\u001b[0;34m\u001b[0m\u001b[0;34m\u001b[0m\u001b[0m\n",
      "\u001b[0;32m~/.pyenv/versions/3.8.12/envs/createur_de_recette/lib/python3.8/site-packages/pandas/core/generic.py\u001b[0m in \u001b[0;36m__getattr__\u001b[0;34m(self, name)\u001b[0m\n\u001b[1;32m   5485\u001b[0m         ):\n\u001b[1;32m   5486\u001b[0m             \u001b[0;32mreturn\u001b[0m \u001b[0mself\u001b[0m\u001b[0;34m[\u001b[0m\u001b[0mname\u001b[0m\u001b[0;34m]\u001b[0m\u001b[0;34m\u001b[0m\u001b[0;34m\u001b[0m\u001b[0m\n\u001b[0;32m-> 5487\u001b[0;31m         \u001b[0;32mreturn\u001b[0m \u001b[0mobject\u001b[0m\u001b[0;34m.\u001b[0m\u001b[0m__getattribute__\u001b[0m\u001b[0;34m(\u001b[0m\u001b[0mself\u001b[0m\u001b[0;34m,\u001b[0m \u001b[0mname\u001b[0m\u001b[0;34m)\u001b[0m\u001b[0;34m\u001b[0m\u001b[0;34m\u001b[0m\u001b[0m\n\u001b[0m\u001b[1;32m   5488\u001b[0m \u001b[0;34m\u001b[0m\u001b[0m\n\u001b[1;32m   5489\u001b[0m     \u001b[0;32mdef\u001b[0m \u001b[0m__setattr__\u001b[0m\u001b[0;34m(\u001b[0m\u001b[0mself\u001b[0m\u001b[0;34m,\u001b[0m \u001b[0mname\u001b[0m\u001b[0;34m:\u001b[0m \u001b[0mstr\u001b[0m\u001b[0;34m,\u001b[0m \u001b[0mvalue\u001b[0m\u001b[0;34m)\u001b[0m \u001b[0;34m->\u001b[0m \u001b[0;32mNone\u001b[0m\u001b[0;34m:\u001b[0m\u001b[0;34m\u001b[0m\u001b[0;34m\u001b[0m\u001b[0m\n",
      "\u001b[0;31mAttributeError\u001b[0m: 'DataFrame' object has no attribute 'first_letter'"
     ]
    }
   ],
   "source": [
    "recipes_df.recipe_steps[recipes_df.first_letter == '.']\n",
    "# recipes_df.recipe_steps[recipes_df.first_letter == '.'].reset_index().recipe_steps[0]"
   ]
  },
  {
   "cell_type": "code",
   "execution_count": 41,
   "id": "e2af93fd",
   "metadata": {
    "ExecuteTime": {
     "end_time": "2022-01-05T08:26:06.781268Z",
     "start_time": "2022-01-05T08:26:06.735985Z"
    },
    "scrolled": true
   },
   "outputs": [
    {
     "data": {
      "text/plain": [
       "recipe_id       200\n",
       "recipe_url      200\n",
       "recipe_title    200\n",
       "recipe_type     200\n",
       "recipe_steps    200\n",
       "dtype: int64"
      ]
     },
     "execution_count": 41,
     "metadata": {},
     "output_type": "execute_result"
    }
   ],
   "source": [
    "recipes_df[recipes_df.recipe_steps.apply(lambda x : x.find(\"<\"))!= -1].count()"
   ]
  },
  {
   "cell_type": "code",
   "execution_count": 46,
   "id": "cf7707d3",
   "metadata": {
    "ExecuteTime": {
     "end_time": "2022-01-05T08:39:26.650654Z",
     "start_time": "2022-01-05T08:39:26.615371Z"
    }
   },
   "outputs": [
    {
     "data": {
      "text/plain": [
       "793      <I>Risotto ai funghi porcini</I> \\n\\n Commence...\n",
       "856      Couper le thon en petits morceaux, ainsi que l...\n",
       "1129     La veille : Piquer les parties rouge foncé aut...\n",
       "1336     Préparer le thon en tranches très fines, comme...\n",
       "2274     <IMG SRC=\"http://www.marmiton.org/pix/recettes...\n",
       "                               ...                        \n",
       "56168    1 - Même préparation que pour une <a href=\"htt...\n",
       "56211    Préparer le <a href=\"http://www.marmiton.org/p...\n",
       "58228    Faire revenir l'oignon et l'ail (le tout haché...\n",
       "62690    Commencez par préparez les boulettes de <a hre...\n",
       "63808    <préchauffer le four à 200° C (Thermostat 6-7)...\n",
       "Name: recipe_steps, Length: 200, dtype: object"
      ]
     },
     "execution_count": 46,
     "metadata": {},
     "output_type": "execute_result"
    }
   ],
   "source": [
    "recipes_df.recipe_steps[recipes_df.recipe_steps.apply(lambda x : x.find('<')) != -1]"
   ]
  },
  {
   "cell_type": "code",
   "execution_count": 32,
   "id": "850276c1",
   "metadata": {
    "ExecuteTime": {
     "end_time": "2022-01-05T08:23:58.308106Z",
     "start_time": "2022-01-05T08:23:58.267030Z"
    }
   },
   "outputs": [
    {
     "data": {
      "text/plain": [
       "'La veille : Piquer les parties rouge foncé autour de l’arête avec un clou de girofle par quartier (la tranche de thon se présente en 4 quartiers autour de l’arête). Piquer la chair rose d’éclats d’ail, comme on le ferait pour un gigot. \\n\\n Éplucher et couper les oignons en rondelles fines. \\n\\n Sur les 2 faces, huiler les tranches de thon, les saler, poivrer et saupoudrer légèrement de poivre de Cayenne. \\n\\n Les poser sur un lit d’oignons en rondelles sur lequel on aura effeuillé une branche de thym. Laisser reposer 24 heures. Retourner les tranches au moins une fois pendant cette période, pour que l’autre face s’imprègne des parfums. \\n\\n Le jour même, 10 à 15 min avant de déguster ces tranches de thon, commencer la cuisson au barbecue ou au grill (de préférence sans les oignons qui brûlent facilement). \\n\\n Ne pas trop prolonger la cuisson, car la chair deviendrait trop sèche. Ne pas trop tenir compte des parties rouge foncé autour de l’arête car on ne les mange pas en raison de la présence des clous de girofle : vérifier plutôt la cuisson au niveau de la chair blanche qui doit rester moelleuse. \\n\\n <a target=\"_blank\" href=\"http://www.marmiton.org/Magazine/Dossiers-Marmiton_thon-rouge_1.aspx\"><img alt=\"\" src=\"/pixcontent/bf2efd42-ffbc-4c4d-b7c7-637a1c67adcb/23d86b95-73b2-4dce-84d6-9610e446d6da/logo-thon-rouge-petit.jpg\" alt=\"Logo Thon rouge petit\" style=\"float: left;\"/></a> Préférez du thon Germon ou du thon Albacore pour réaliser cette recette. Pour en savoir plus sur le <a href=\"http://www.marmiton.org/Magazine/Dossiers-Marmiton_thon-rouge_1.aspx\"><u>thon rouge, cliquez ici</u></a>.'"
      ]
     },
     "execution_count": 32,
     "metadata": {},
     "output_type": "execute_result"
    }
   ],
   "source": [
    "list(recipes_df.recipe_steps[recipes_df.recipe_steps.apply(lambda x : x.find('<')) != -1])[2]"
   ]
  },
  {
   "cell_type": "code",
   "execution_count": 24,
   "id": "537a845a",
   "metadata": {
    "ExecuteTime": {
     "end_time": "2022-01-05T08:21:07.665725Z",
     "start_time": "2022-01-05T08:21:07.638872Z"
    },
    "scrolled": true
   },
   "outputs": [
    {
     "ename": "NameError",
     "evalue": "name 'r' is not defined",
     "output_type": "error",
     "traceback": [
      "\u001b[0;31m---------------------------------------------------------------------------\u001b[0m",
      "\u001b[0;31mNameError\u001b[0m                                 Traceback (most recent call last)",
      "\u001b[0;32m/tmp/ipykernel_31684/1313387711.py\u001b[0m in \u001b[0;36m<module>\u001b[0;34m\u001b[0m\n\u001b[0;32m----> 1\u001b[0;31m \u001b[0mr\u001b[0m\u001b[0;34m\u001b[0m\u001b[0;34m\u001b[0m\u001b[0m\n\u001b[0m",
      "\u001b[0;31mNameError\u001b[0m: name 'r' is not defined"
     ]
    }
   ],
   "source": [
    "r"
   ]
  },
  {
   "cell_type": "code",
   "execution_count": null,
   "id": "5b2f4518",
   "metadata": {},
   "outputs": [],
   "source": []
  },
  {
   "cell_type": "code",
   "execution_count": null,
   "id": "0313a69c",
   "metadata": {},
   "outputs": [],
   "source": []
  }
 ],
 "metadata": {
  "kernelspec": {
   "display_name": "Python 3 (ipykernel)",
   "language": "python",
   "name": "python3"
  },
  "language_info": {
   "codemirror_mode": {
    "name": "ipython",
    "version": 3
   },
   "file_extension": ".py",
   "mimetype": "text/x-python",
   "name": "python",
   "nbconvert_exporter": "python",
   "pygments_lexer": "ipython3",
   "version": "3.8.12"
  },
  "toc": {
   "base_numbering": 1,
   "nav_menu": {},
   "number_sections": true,
   "sideBar": true,
   "skip_h1_title": false,
   "title_cell": "Table of Contents",
   "title_sidebar": "Contents",
   "toc_cell": false,
   "toc_position": {},
   "toc_section_display": true,
   "toc_window_display": false
  }
 },
 "nbformat": 4,
 "nbformat_minor": 5
}
