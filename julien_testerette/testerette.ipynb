{
 "cells": [
  {
   "cell_type": "code",
   "execution_count": null,
   "id": "9c009775",
   "metadata": {},
   "outputs": [],
   "source": []
  },
  {
   "cell_type": "code",
   "execution_count": null,
   "id": "62dbdabc",
   "metadata": {},
   "outputs": [],
   "source": []
  },
  {
   "cell_type": "markdown",
   "id": "cbd496eb",
   "metadata": {},
   "source": [
    "## Scrapping\n"
   ]
  },
  {
   "cell_type": "code",
   "execution_count": 3,
   "id": "baf399ef",
   "metadata": {
    "ExecuteTime": {
     "end_time": "2022-01-03T12:03:52.346356Z",
     "start_time": "2022-01-03T12:03:52.340832Z"
    },
    "scrolled": true
   },
   "outputs": [],
   "source": [
    "from bs4 import BeautifulSoup\n",
    "\n",
    "html_doc = 'fafea'\n",
    "\n",
    "soup = BeautifulSoup(html_doc, 'html.parser')"
   ]
  },
  {
   "cell_type": "code",
   "execution_count": 5,
   "id": "d827de35",
   "metadata": {
    "ExecuteTime": {
     "end_time": "2022-01-03T14:08:17.628973Z",
     "start_time": "2022-01-03T14:08:17.626248Z"
    }
   },
   "outputs": [],
   "source": [
    "import re\n",
    "import requests\n",
    "from bs4 import BeautifulSoup, Comment"
   ]
  },
  {
   "cell_type": "code",
   "execution_count": null,
   "id": "189e9e2d",
   "metadata": {},
   "outputs": [],
   "source": [
    "url = f'https://www.marmiton.org/recettes/recette_gratin-pomme-de-terre-et-panais_532213.aspx' # valuepage={page}"
   ]
  },
  {
   "cell_type": "code",
   "execution_count": 29,
   "id": "28e16e7e",
   "metadata": {
    "ExecuteTime": {
     "end_time": "2022-01-03T14:24:47.188401Z",
     "start_time": "2022-01-03T14:24:47.018100Z"
    }
   },
   "outputs": [],
   "source": [
    "response = requests.get(url, headers={\"Accept-Language\":\"en-US\"})\n",
    "soup = BeautifulSoup(response.content, \"html.parser\")\n",
    "\n",
    "# print(soup)"
   ]
  },
  {
   "cell_type": "code",
   "execution_count": 13,
   "id": "361674cb",
   "metadata": {
    "ExecuteTime": {
     "end_time": "2022-01-03T14:19:13.478478Z",
     "start_time": "2022-01-03T14:19:13.475531Z"
    }
   },
   "outputs": [],
   "source": [
    "# from bs4 import Comment\n",
    "\n",
    "# for child in soup.body.div.children:\n",
    "#     if isinstance(child,Comment):\n",
    "#         child.extract()"
   ]
  },
  {
   "cell_type": "code",
   "execution_count": 100,
   "id": "d5fcab93",
   "metadata": {
    "ExecuteTime": {
     "end_time": "2022-01-03T14:51:23.812647Z",
     "start_time": "2022-01-03T14:51:23.804211Z"
    }
   },
   "outputs": [
    {
     "name": "stdout",
     "output_type": "stream",
     "text": [
      "<span class=\"SHRD__sc-10plygc-0 epviYI\">1<!-- --> <!-- -->branche</span>\n",
      " \n",
      " \n"
     ]
    }
   ],
   "source": [
    "ingredients_list = []\n",
    "for ingredients in soup.find_all(\"div\", class_=\"fLWRho\"):\n",
    "    title = ingredients.find_all(\"span\", class_=\"epviYI\") #.find(\"a\").string\n",
    "#     duration = int(movie.find(class_=\"runtime\").string.strip(' min'))\n",
    "#     year = int(re.search(r\"\\d{4}\", movie.find(class_=\"lister-item-year\").string).group(0))\n",
    "    ingredients_list.append(title)\n",
    "#     movies.append({'title': title, 'duration': duration, 'year': year})\n",
    "print(ingredients_list[1][0])\n",
    "# ingredients_list[1].content\n",
    "soup2 = BeautifulSoup(str(ingredients_list[1][0]), \"html.parser\")\n",
    "\n",
    "\n",
    "# from bs4 import Comment\n",
    "\n",
    "# if isinstance(soup2.string,Comment):\n",
    "#     souped2 = soup2.extract()\n",
    "#     print(souped2)\n",
    "num=0\n",
    "for element in soup2(text=lambda text: isinstance(text, Comment)):\n",
    "    print(element.extract())\n",
    "\n",
    "    "
   ]
  },
  {
   "cell_type": "code",
   "execution_count": 119,
   "id": "4e5975ce",
   "metadata": {
    "ExecuteTime": {
     "end_time": "2022-01-03T15:01:16.297707Z",
     "start_time": "2022-01-03T15:01:16.293303Z"
    }
   },
   "outputs": [
    {
     "name": "stdout",
     "output_type": "stream",
     "text": [
      "<span class=\"SHRD__sc-10plygc-0 epviYI\">1 branche</span>\n"
     ]
    }
   ],
   "source": [
    "print(str(soup2))"
   ]
  },
  {
   "cell_type": "code",
   "execution_count": 116,
   "id": "d7b9111c",
   "metadata": {
    "ExecuteTime": {
     "end_time": "2022-01-03T15:00:54.822317Z",
     "start_time": "2022-01-03T15:00:54.819144Z"
    }
   },
   "outputs": [],
   "source": [
    "soupstr=str(soup2)\n",
    "result=re.sub(r'<!.*?->','', soupstr)\n"
   ]
  },
  {
   "cell_type": "code",
   "execution_count": 118,
   "id": "29018a3b",
   "metadata": {
    "ExecuteTime": {
     "end_time": "2022-01-03T15:01:05.440479Z",
     "start_time": "2022-01-03T15:01:05.432974Z"
    }
   },
   "outputs": [
    {
     "ename": "TypeError",
     "evalue": "object of type 'NoneType' has no len()",
     "output_type": "error",
     "traceback": [
      "\u001b[0;31m---------------------------------------------------------------------------\u001b[0m",
      "\u001b[0;31mTypeError\u001b[0m                                 Traceback (most recent call last)",
      "\u001b[0;32m/tmp/ipykernel_7805/549081897.py\u001b[0m in \u001b[0;36m<module>\u001b[0;34m\u001b[0m\n\u001b[0;32m----> 1\u001b[0;31m \u001b[0mBeautifulSoup\u001b[0m\u001b[0;34m(\u001b[0m\u001b[0msoup2\u001b[0m\u001b[0;34m.\u001b[0m\u001b[0mstring\u001b[0m\u001b[0;34m)\u001b[0m\u001b[0;34m\u001b[0m\u001b[0;34m\u001b[0m\u001b[0m\n\u001b[0m",
      "\u001b[0;32m~/.pyenv/versions/3.8.12/envs/createur_de_recette/lib/python3.8/site-packages/bs4/__init__.py\u001b[0m in \u001b[0;36m__init__\u001b[0;34m(self, markup, features, builder, parse_only, from_encoding, exclude_encodings, element_classes, **kwargs)\u001b[0m\n\u001b[1;32m    310\u001b[0m         \u001b[0;32mif\u001b[0m \u001b[0mhasattr\u001b[0m\u001b[0;34m(\u001b[0m\u001b[0mmarkup\u001b[0m\u001b[0;34m,\u001b[0m \u001b[0;34m'read'\u001b[0m\u001b[0;34m)\u001b[0m\u001b[0;34m:\u001b[0m        \u001b[0;31m# It's a file-type object.\u001b[0m\u001b[0;34m\u001b[0m\u001b[0;34m\u001b[0m\u001b[0m\n\u001b[1;32m    311\u001b[0m             \u001b[0mmarkup\u001b[0m \u001b[0;34m=\u001b[0m \u001b[0mmarkup\u001b[0m\u001b[0;34m.\u001b[0m\u001b[0mread\u001b[0m\u001b[0;34m(\u001b[0m\u001b[0;34m)\u001b[0m\u001b[0;34m\u001b[0m\u001b[0;34m\u001b[0m\u001b[0m\n\u001b[0;32m--> 312\u001b[0;31m         elif len(markup) <= 256 and (\n\u001b[0m\u001b[1;32m    313\u001b[0m                 \u001b[0;34m(\u001b[0m\u001b[0misinstance\u001b[0m\u001b[0;34m(\u001b[0m\u001b[0mmarkup\u001b[0m\u001b[0;34m,\u001b[0m \u001b[0mbytes\u001b[0m\u001b[0;34m)\u001b[0m \u001b[0;32mand\u001b[0m \u001b[0;32mnot\u001b[0m \u001b[0;34mb'<'\u001b[0m \u001b[0;32min\u001b[0m \u001b[0mmarkup\u001b[0m\u001b[0;34m)\u001b[0m\u001b[0;34m\u001b[0m\u001b[0;34m\u001b[0m\u001b[0m\n\u001b[1;32m    314\u001b[0m                 \u001b[0;32mor\u001b[0m \u001b[0;34m(\u001b[0m\u001b[0misinstance\u001b[0m\u001b[0;34m(\u001b[0m\u001b[0mmarkup\u001b[0m\u001b[0;34m,\u001b[0m \u001b[0mstr\u001b[0m\u001b[0;34m)\u001b[0m \u001b[0;32mand\u001b[0m \u001b[0;32mnot\u001b[0m \u001b[0;34m'<'\u001b[0m \u001b[0;32min\u001b[0m \u001b[0mmarkup\u001b[0m\u001b[0;34m)\u001b[0m\u001b[0;34m\u001b[0m\u001b[0;34m\u001b[0m\u001b[0m\n",
      "\u001b[0;31mTypeError\u001b[0m: object of type 'NoneType' has no len()"
     ]
    }
   ],
   "source": [
    "BeautifulSoup(soup2.string)"
   ]
  },
  {
   "cell_type": "code",
   "execution_count": 123,
   "id": "01056950",
   "metadata": {
    "ExecuteTime": {
     "end_time": "2022-01-03T15:28:56.485667Z",
     "start_time": "2022-01-03T15:28:56.481816Z"
    }
   },
   "outputs": [],
   "source": [
    "units = ['branche', 'bouquet','cl','cuillère à café bien bombée', 'c.à.c', 'c.à.s' 'g', \\\n",
    "         'gousse', 'gousses', 'ml', 'plaques', 'pincée', 'poignée', 'pot', 'tablette', 'tranches', 'verre', 'verres']\n",
    "doubts = ['1⁄2', '1⁄4']"
   ]
  },
  {
   "cell_type": "code",
   "execution_count": null,
   "id": "f1f189dd",
   "metadata": {},
   "outputs": [],
   "source": [
    "# 1⁄2 bouquet\n",
    "# de persil"
   ]
  },
  {
   "cell_type": "markdown",
   "id": "18eeaf77",
   "metadata": {},
   "source": [
    "## Prep nettoyage de données"
   ]
  },
  {
   "cell_type": "code",
   "execution_count": 20,
   "id": "a2912536",
   "metadata": {
    "ExecuteTime": {
     "end_time": "2022-01-04T17:25:08.814423Z",
     "start_time": "2022-01-04T17:25:07.891173Z"
    },
    "scrolled": true
   },
   "outputs": [
    {
     "data": {
      "text/html": [
       "<div>\n",
       "<style scoped>\n",
       "    .dataframe tbody tr th:only-of-type {\n",
       "        vertical-align: middle;\n",
       "    }\n",
       "\n",
       "    .dataframe tbody tr th {\n",
       "        vertical-align: top;\n",
       "    }\n",
       "\n",
       "    .dataframe thead th {\n",
       "        text-align: right;\n",
       "    }\n",
       "</style>\n",
       "<table border=\"1\" class=\"dataframe\">\n",
       "  <thead>\n",
       "    <tr style=\"text-align: right;\">\n",
       "      <th></th>\n",
       "      <th>recipe_id</th>\n",
       "      <th>recipe_url</th>\n",
       "      <th>recipe_title</th>\n",
       "      <th>recipe_type</th>\n",
       "      <th>recipe_steps</th>\n",
       "    </tr>\n",
       "  </thead>\n",
       "  <tbody>\n",
       "    <tr>\n",
       "      <th>0</th>\n",
       "      <td>10534</td>\n",
       "      <td>https://www.marmiton.org/recettes/recette_le-c...</td>\n",
       "      <td>Le crumble aux pommes du Chat qui Tousse</td>\n",
       "      <td>Dessert</td>\n",
       "      <td>Préchauffer le four à 210°C (thermostat 7). \\n...</td>\n",
       "    </tr>\n",
       "    <tr>\n",
       "      <th>1</th>\n",
       "      <td>10531</td>\n",
       "      <td>https://www.marmiton.org/recettes/recette_esca...</td>\n",
       "      <td>Escalopes lucullus à la cocotte</td>\n",
       "      <td>Plat principal</td>\n",
       "      <td>Coupez l'oignon en petits morceaux, faites rev...</td>\n",
       "    </tr>\n",
       "  </tbody>\n",
       "</table>\n",
       "</div>"
      ],
      "text/plain": [
       "   recipe_id                                         recipe_url  \\\n",
       "0      10534  https://www.marmiton.org/recettes/recette_le-c...   \n",
       "1      10531  https://www.marmiton.org/recettes/recette_esca...   \n",
       "\n",
       "                               recipe_title     recipe_type  \\\n",
       "0  Le crumble aux pommes du Chat qui Tousse         Dessert   \n",
       "1           Escalopes lucullus à la cocotte  Plat principal   \n",
       "\n",
       "                                        recipe_steps  \n",
       "0  Préchauffer le four à 210°C (thermostat 7). \\n...  \n",
       "1  Coupez l'oignon en petits morceaux, faites rev...  "
      ]
     },
     "execution_count": 20,
     "metadata": {},
     "output_type": "execute_result"
    }
   ],
   "source": [
    "import pandas as pd\n",
    "ingredients_df = pd.read_csv('../createur_de_recette/data/ingredients.csv')\n",
    "recipes_df = pd.read_csv('../createur_de_recette/data/recipes.csv')\n",
    "recipes_df.head(2)"
   ]
  },
  {
   "cell_type": "code",
   "execution_count": 21,
   "id": "8814e6cf",
   "metadata": {
    "ExecuteTime": {
     "end_time": "2022-01-04T17:25:10.382639Z",
     "start_time": "2022-01-04T17:25:10.376661Z"
    }
   },
   "outputs": [
    {
     "data": {
      "text/plain": [
       "(70603, 5)"
      ]
     },
     "execution_count": 21,
     "metadata": {},
     "output_type": "execute_result"
    }
   ],
   "source": [
    "recipes_df.shape"
   ]
  },
  {
   "cell_type": "code",
   "execution_count": 22,
   "id": "ed8ecf8c",
   "metadata": {
    "ExecuteTime": {
     "end_time": "2022-01-04T17:25:10.611470Z",
     "start_time": "2022-01-04T17:25:10.580908Z"
    }
   },
   "outputs": [],
   "source": [
    "recipes_df['first_letter'] = recipes_df.recipe_steps.apply(lambda x : x[0])"
   ]
  },
  {
   "cell_type": "code",
   "execution_count": 25,
   "id": "786516bc",
   "metadata": {
    "ExecuteTime": {
     "end_time": "2022-01-04T17:25:33.733463Z",
     "start_time": "2022-01-04T17:25:33.722708Z"
    },
    "scrolled": true
   },
   "outputs": [
    {
     "data": {
      "text/plain": [
       "à       1\n",
       ":       1\n",
       "`       1\n",
       "¨       1\n",
       "'       1\n",
       "➢       1\n",
       "\\n      2\n",
       "u       2\n",
       "8       2\n",
       "0       2\n",
       "[       2\n",
       "t       2\n",
       "~       2\n",
       "_       2\n",
       "°       3\n",
       "n       3\n",
       "5       3\n",
       "6       3\n",
       "h       4\n",
       "o       4\n",
       "b       4\n",
       "a       5\n",
       ">       5\n",
       "v       5\n",
       "Z       6\n",
       "•       6\n",
       "e       6\n",
       "s       7\n",
       "\"       7\n",
       "3       7\n",
       "r       8\n",
       "<      11\n",
       "4      13\n",
       ".      16\n",
       "À      17\n",
       "é      24\n",
       "l      24\n",
       "       32\n",
       "(      32\n",
       "m      38\n",
       "d      44\n",
       "2      44\n",
       "Q      50\n",
       "*      62\n",
       "c      63\n",
       "p      70\n",
       "f      71\n",
       "Ô      72\n",
       "J     100\n",
       "Name: first_letter, dtype: int64"
      ]
     },
     "execution_count": 25,
     "metadata": {},
     "output_type": "execute_result"
    }
   ],
   "source": [
    "recipes_df.first_letter.value_counts().sort_values()[0:49]"
   ]
  },
  {
   "cell_type": "code",
   "execution_count": 26,
   "id": "dd4ea80e",
   "metadata": {
    "ExecuteTime": {
     "end_time": "2022-01-04T17:28:04.217366Z",
     "start_time": "2022-01-04T17:28:04.205030Z"
    },
    "scrolled": true
   },
   "outputs": [
    {
     "data": {
      "text/plain": [
       "f       71\n",
       "Ô       72\n",
       "J      100\n",
       "U      148\n",
       "G      202\n",
       "I      244\n",
       "O      345\n",
       "N      688\n",
       "H      790\n",
       "-      803\n",
       "1      843\n",
       "V      915\n",
       "T      930\n",
       "A     1074\n",
       "S     1158\n",
       "B     1342\n",
       "R     1488\n",
       "É     2166\n",
       "L     3672\n",
       "E     4434\n",
       "M     6429\n",
       "D     7320\n",
       "C     7661\n",
       "F    10659\n",
       "P    16401\n",
       "Name: first_letter, dtype: int64"
      ]
     },
     "execution_count": 26,
     "metadata": {},
     "output_type": "execute_result"
    }
   ],
   "source": [
    "# recipes_df.first_letter.value_counts().sort_values()[0:49]\n",
    "recipes_df.first_letter.value_counts().sort_values()[46:80]"
   ]
  },
  {
   "cell_type": "code",
   "execution_count": 201,
   "id": "03f5ec99",
   "metadata": {
    "ExecuteTime": {
     "end_time": "2022-01-04T19:22:12.663108Z",
     "start_time": "2022-01-04T19:22:12.657118Z"
    }
   },
   "outputs": [],
   "source": [
    "DELETE_ROW_IF_FIRST_CHAR=[':','`', '¨', '➢', '\\n']\n",
    "REPLACE_IF_FIRST_CHAR = [' ', '-']\n",
    "STR_TO_REPLACE_BY_SINGLE_OCCURENCES = ['!', '.', ' ']\n",
    "\n"
   ]
  },
  {
   "cell_type": "code",
   "execution_count": 125,
   "id": "32dd29ea",
   "metadata": {
    "ExecuteTime": {
     "end_time": "2022-01-04T18:29:19.368000Z",
     "start_time": "2022-01-04T18:29:19.362189Z"
    }
   },
   "outputs": [
    {
     "data": {
      "text/plain": [
       "(70603, 6)"
      ]
     },
     "execution_count": 125,
     "metadata": {},
     "output_type": "execute_result"
    }
   ],
   "source": [
    "recipes_df.shape\n"
   ]
  },
  {
   "cell_type": "code",
   "execution_count": 208,
   "id": "197eb16a",
   "metadata": {
    "ExecuteTime": {
     "end_time": "2022-01-04T19:26:13.143504Z",
     "start_time": "2022-01-04T19:26:10.797629Z"
    }
   },
   "outputs": [
    {
     "data": {
      "text/html": [
       "<div>\n",
       "<style scoped>\n",
       "    .dataframe tbody tr th:only-of-type {\n",
       "        vertical-align: middle;\n",
       "    }\n",
       "\n",
       "    .dataframe tbody tr th {\n",
       "        vertical-align: top;\n",
       "    }\n",
       "\n",
       "    .dataframe thead th {\n",
       "        text-align: right;\n",
       "    }\n",
       "</style>\n",
       "<table border=\"1\" class=\"dataframe\">\n",
       "  <thead>\n",
       "    <tr style=\"text-align: right;\">\n",
       "      <th></th>\n",
       "      <th>recipe_id</th>\n",
       "      <th>recipe_url</th>\n",
       "      <th>recipe_title</th>\n",
       "      <th>recipe_type</th>\n",
       "      <th>recipe_steps</th>\n",
       "    </tr>\n",
       "  </thead>\n",
       "  <tbody>\n",
       "    <tr>\n",
       "      <th>0</th>\n",
       "      <td>10534</td>\n",
       "      <td>https://www.marmiton.org/recettes/recette_le-c...</td>\n",
       "      <td>Le crumble aux pommes du Chat qui Tousse</td>\n",
       "      <td>Dessert</td>\n",
       "      <td>Préchauffer le four à 210°C (thermostat 7). \\n...</td>\n",
       "    </tr>\n",
       "    <tr>\n",
       "      <th>1</th>\n",
       "      <td>10531</td>\n",
       "      <td>https://www.marmiton.org/recettes/recette_esca...</td>\n",
       "      <td>Escalopes lucullus à la cocotte</td>\n",
       "      <td>Plat principal</td>\n",
       "      <td>Coupez l'oignon en petits morceaux, faites rev...</td>\n",
       "    </tr>\n",
       "    <tr>\n",
       "      <th>2</th>\n",
       "      <td>10529</td>\n",
       "      <td>https://www.marmiton.org/recettes/recette_terr...</td>\n",
       "      <td>Terrine de foie de porc</td>\n",
       "      <td>Plat principal</td>\n",
       "      <td>- hacher (pas trop fin) le foie, le lard, les ...</td>\n",
       "    </tr>\n",
       "    <tr>\n",
       "      <th>3</th>\n",
       "      <td>10530</td>\n",
       "      <td>https://www.marmiton.org/recettes/recette_lapi...</td>\n",
       "      <td>Lapin au vin blanc (à la cocotte)</td>\n",
       "      <td>Plat principal</td>\n",
       "      <td>Faire revenir les échalotes et les lardons dan...</td>\n",
       "    </tr>\n",
       "    <tr>\n",
       "      <th>4</th>\n",
       "      <td>10528</td>\n",
       "      <td>https://www.marmiton.org/recettes/recette_truf...</td>\n",
       "      <td>Truffes en chocolat</td>\n",
       "      <td>Confiserie</td>\n",
       "      <td>La veille : faire fondre le chocolat au bain-m...</td>\n",
       "    </tr>\n",
       "    <tr>\n",
       "      <th>...</th>\n",
       "      <td>...</td>\n",
       "      <td>...</td>\n",
       "      <td>...</td>\n",
       "      <td>...</td>\n",
       "      <td>...</td>\n",
       "    </tr>\n",
       "    <tr>\n",
       "      <th>70396</th>\n",
       "      <td>532439</td>\n",
       "      <td>https://www.marmiton.org/recettes/recette_buch...</td>\n",
       "      <td>Bûche de Noël au chocolat et crêpes dentelles</td>\n",
       "      <td>Dessert</td>\n",
       "      <td>Faire fondre les chocolats au bain marie avec ...</td>\n",
       "    </tr>\n",
       "    <tr>\n",
       "      <th>70397</th>\n",
       "      <td>532434</td>\n",
       "      <td>https://www.marmiton.org/recettes/recette_cook...</td>\n",
       "      <td>Cookies aux noix de pécan et au chocolat</td>\n",
       "      <td>Dessert</td>\n",
       "      <td>Pour le beurre de pécan : Faire fondre le beur...</td>\n",
       "    </tr>\n",
       "    <tr>\n",
       "      <th>70398</th>\n",
       "      <td>532401</td>\n",
       "      <td>https://www.marmiton.org/recettes/recette_sand...</td>\n",
       "      <td>Sando au poulet</td>\n",
       "      <td>Plat principal</td>\n",
       "      <td>Couper le poulet en morceaux de 5/6cm. \\n\\n Ba...</td>\n",
       "    </tr>\n",
       "    <tr>\n",
       "      <th>70399</th>\n",
       "      <td>532213</td>\n",
       "      <td>https://www.marmiton.org/recettes/recette_grat...</td>\n",
       "      <td>Gratin pomme de terre et panais</td>\n",
       "      <td>Accompagnement</td>\n",
       "      <td>Éplucher les pommes de terre et le panais et l...</td>\n",
       "    </tr>\n",
       "    <tr>\n",
       "      <th>70400</th>\n",
       "      <td>532201</td>\n",
       "      <td>https://www.marmiton.org/recettes/recette_tour...</td>\n",
       "      <td>Tourte au saumon et à la béchamel au citron</td>\n",
       "      <td>Pizza, tarte, quiche</td>\n",
       "      <td>Dans une casserole, faire fondre le beurre pui...</td>\n",
       "    </tr>\n",
       "  </tbody>\n",
       "</table>\n",
       "<p>70401 rows × 5 columns</p>\n",
       "</div>"
      ],
      "text/plain": [
       "       recipe_id                                         recipe_url  \\\n",
       "0          10534  https://www.marmiton.org/recettes/recette_le-c...   \n",
       "1          10531  https://www.marmiton.org/recettes/recette_esca...   \n",
       "2          10529  https://www.marmiton.org/recettes/recette_terr...   \n",
       "3          10530  https://www.marmiton.org/recettes/recette_lapi...   \n",
       "4          10528  https://www.marmiton.org/recettes/recette_truf...   \n",
       "...          ...                                                ...   \n",
       "70396     532439  https://www.marmiton.org/recettes/recette_buch...   \n",
       "70397     532434  https://www.marmiton.org/recettes/recette_cook...   \n",
       "70398     532401  https://www.marmiton.org/recettes/recette_sand...   \n",
       "70399     532213  https://www.marmiton.org/recettes/recette_grat...   \n",
       "70400     532201  https://www.marmiton.org/recettes/recette_tour...   \n",
       "\n",
       "                                        recipe_title           recipe_type  \\\n",
       "0           Le crumble aux pommes du Chat qui Tousse               Dessert   \n",
       "1                    Escalopes lucullus à la cocotte        Plat principal   \n",
       "2                            Terrine de foie de porc        Plat principal   \n",
       "3                  Lapin au vin blanc (à la cocotte)        Plat principal   \n",
       "4                                Truffes en chocolat            Confiserie   \n",
       "...                                              ...                   ...   \n",
       "70396  Bûche de Noël au chocolat et crêpes dentelles               Dessert   \n",
       "70397       Cookies aux noix de pécan et au chocolat               Dessert   \n",
       "70398                                Sando au poulet        Plat principal   \n",
       "70399                Gratin pomme de terre et panais        Accompagnement   \n",
       "70400    Tourte au saumon et à la béchamel au citron  Pizza, tarte, quiche   \n",
       "\n",
       "                                            recipe_steps  \n",
       "0      Préchauffer le four à 210°C (thermostat 7). \\n...  \n",
       "1      Coupez l'oignon en petits morceaux, faites rev...  \n",
       "2      - hacher (pas trop fin) le foie, le lard, les ...  \n",
       "3      Faire revenir les échalotes et les lardons dan...  \n",
       "4      La veille : faire fondre le chocolat au bain-m...  \n",
       "...                                                  ...  \n",
       "70396  Faire fondre les chocolats au bain marie avec ...  \n",
       "70397  Pour le beurre de pécan : Faire fondre le beur...  \n",
       "70398  Couper le poulet en morceaux de 5/6cm. \\n\\n Ba...  \n",
       "70399  Éplucher les pommes de terre et le panais et l...  \n",
       "70400  Dans une casserole, faire fondre le beurre pui...  \n",
       "\n",
       "[70401 rows x 5 columns]"
      ]
     },
     "execution_count": 208,
     "metadata": {},
     "output_type": "execute_result"
    }
   ],
   "source": [
    "def recipe_df_cleaning(recipes_df) :\n",
    "    \"\"\"Function dedicated to the cleaning of the recipe's DataFrame cooking steps\n",
    "    \n",
    "    Dropped :\n",
    "        - steps with HTML Tags in it '<' \n",
    "        - steps starting with ':','`', '¨', '➢', '\\n' ( only 1 encounters as first character in steps)\n",
    "        \n",
    "    Replaced characters :\n",
    "        - if first char is ' ' or '-'\n",
    "        \n",
    "        - multiples !!! ... and spaces '    '\n",
    "        \n",
    "\n",
    "    \"\"\"\n",
    "    # Creating a column with the first letters of each recipe_steps to identify troublemakers\n",
    "    recipes_df['first_letter'] = recipes_df.recipe_steps.apply(lambda x : x[0])\n",
    "    \n",
    "    # Deleting HTML Tags (balises)\n",
    "    rows_to_drop = list(recipes_df.recipe_steps[recipes_df.recipe_steps.apply(lambda x : x.find('<')) != -1].index)\n",
    "    recipes_df.drop(rows_to_drop, axis=0, inplace=True)\n",
    "    recipes_df = recipes_df.reset_index().drop(columns='index')\n",
    "    \n",
    "    # Deleting rows with first_letter in DELETE_ROW_IF_FIRST_CHAR\n",
    "    for deleted_char in DELETE_ROW_IF_FIRST_CHAR :\n",
    "        rows_to_drop = list(recipes_df.recipe_steps[recipes_df.recipe_steps.apply(lambda x : \\\n",
    "                                x.startswith(deleted_char))].index)\n",
    "        \n",
    "    recipes_df.drop(rows_to_drop, axis=0, inplace=True)\n",
    "    recipes_df = recipes_df.reset_index().drop(columns='index')\n",
    "    \n",
    "    # Replacing first chars of rows if it starts with a char from REPLACE_IF_FIRST_CHAR (Twice, just in cases '- ' or ' .')\n",
    "    for i in range(2) :\n",
    "        for replaced_char in REPLACE_IF_FIRST_CHAR :\n",
    "            recipes_df.recipe_steps = recipes_df.recipe_steps.apply(lambda x : x[1:] \\\n",
    "                    if x.startswith(replaced_char) else x)\n",
    "            \n",
    "            \n",
    "    # Replacing multiples occurences like !!!!! to ! or ... to . or '        ' to ' '\n",
    "    for i in range(5) : \n",
    "        for char in STR_TO_REPLACE_BY_SINGLE_OCCURENCES:\n",
    "            recipes_df.recipe_steps = recipes_df.recipe_steps.apply(lambda x : x.replace(f\"{char}{char}\", f\"{char}\"))\n",
    "        \n",
    "    \n",
    "    # dropping useless columns\n",
    "    recipes_df.drop(columns='first_letter', inplace=True)\n",
    "    \n",
    "    return recipes_df\n",
    "\n",
    "trans_recipe = recipe_df_cleaning(recipes_df)\n",
    "trans_recipe"
   ]
  },
  {
   "cell_type": "code",
   "execution_count": 213,
   "id": "9c0fb9cb",
   "metadata": {
    "ExecuteTime": {
     "end_time": "2022-01-04T20:05:10.014927Z",
     "start_time": "2022-01-04T20:05:09.937120Z"
    }
   },
   "outputs": [
    {
     "data": {
      "text/plain": [
       "307"
      ]
     },
     "execution_count": 213,
     "metadata": {},
     "output_type": "execute_result"
    }
   ],
   "source": [
    "stringed = 'twto'\n",
    "stringed.startswith('t')\n",
    "70401 - trans_recipe.recipe_steps[trans_recipe.recipe_steps.apply(lambda x : x.find('.')) != -1].count()"
   ]
  },
  {
   "cell_type": "code",
   "execution_count": 53,
   "id": "be5a536e",
   "metadata": {
    "ExecuteTime": {
     "end_time": "2022-01-04T17:47:21.738770Z",
     "start_time": "2022-01-04T17:47:21.725627Z"
    }
   },
   "outputs": [
    {
     "data": {
      "text/plain": [
       "41117    . Préchauffer le four à 200°, thermostat 6-7. ...\n",
       "42276    . Eplucher les 3 gousses d'ail. Les couper en ...\n",
       "47030    . Préparer le bouillon de volaille : soit avec...\n",
       "47053    .Lavez les fraises et équeutez-les. Coupez-les...\n",
       "47476    . Coupez le saumon en petits dés. Ciselez de l...\n",
       "47504    . Pâte : mélangez dans un saladier les ingrédi...\n",
       "47906    . Verser les amandes dans le lait. Casser les ...\n",
       "47907    . Eplucher les oignons, les hacher, et les fai...\n",
       "48148    . couper le curé nantais en tranches \\n\\n . ba...\n",
       "48503    . Amalgamer la farine, la levure, la pincée de...\n",
       "48504    . La veille, découper la viande de sanglier en...\n",
       "48562    . Laver les fruits. Blanchir le citron. Dans u...\n",
       "48704    . Si vous avez acheté votre pâte en grande sur...\n",
       "49519    .Décortiquer les crevettes et les faire marine...\n",
       "50068    . Préchauffer le four à 100°C au maximum.  \\n\\...\n",
       "50331    . Faites préchauffer le four Th 6 ou 180 °C. \\...\n",
       "Name: recipe_steps, dtype: object"
      ]
     },
     "execution_count": 53,
     "metadata": {},
     "output_type": "execute_result"
    }
   ],
   "source": [
    "recipes_df.recipe_steps[recipes_df.first_letter == '.']\n",
    "# recipes_df.recipe_steps[recipes_df.first_letter == '.'].reset_index().recipe_steps[0]"
   ]
  },
  {
   "cell_type": "code",
   "execution_count": 73,
   "id": "e2af93fd",
   "metadata": {
    "ExecuteTime": {
     "end_time": "2022-01-04T17:56:59.213857Z",
     "start_time": "2022-01-04T17:56:59.162258Z"
    },
    "scrolled": true
   },
   "outputs": [
    {
     "data": {
      "text/html": [
       "<div>\n",
       "<style scoped>\n",
       "    .dataframe tbody tr th:only-of-type {\n",
       "        vertical-align: middle;\n",
       "    }\n",
       "\n",
       "    .dataframe tbody tr th {\n",
       "        vertical-align: top;\n",
       "    }\n",
       "\n",
       "    .dataframe thead th {\n",
       "        text-align: right;\n",
       "    }\n",
       "</style>\n",
       "<table border=\"1\" class=\"dataframe\">\n",
       "  <thead>\n",
       "    <tr style=\"text-align: right;\">\n",
       "      <th></th>\n",
       "      <th>recipe_id</th>\n",
       "      <th>recipe_url</th>\n",
       "      <th>recipe_title</th>\n",
       "      <th>recipe_type</th>\n",
       "      <th>recipe_steps</th>\n",
       "      <th>first_letter</th>\n",
       "    </tr>\n",
       "  </thead>\n",
       "  <tbody>\n",
       "    <tr>\n",
       "      <th>793</th>\n",
       "      <td>11740</td>\n",
       "      <td>https://www.marmiton.org/recettes/recette_riso...</td>\n",
       "      <td>Risotto aux cèpes (Italie)</td>\n",
       "      <td>Plat principal</td>\n",
       "      <td>&lt;I&gt;Risotto ai funghi porcini&lt;/I&gt; \\n\\n Commence...</td>\n",
       "      <td>&lt;</td>\n",
       "    </tr>\n",
       "    <tr>\n",
       "      <th>856</th>\n",
       "      <td>11826</td>\n",
       "      <td>https://www.marmiton.org/recettes/recette_thon...</td>\n",
       "      <td>Thon marmitako (Pays Basque)</td>\n",
       "      <td>Plat principal</td>\n",
       "      <td>Couper le thon en petits morceaux, ainsi que l...</td>\n",
       "      <td>C</td>\n",
       "    </tr>\n",
       "    <tr>\n",
       "      <th>1129</th>\n",
       "      <td>12198</td>\n",
       "      <td>https://www.marmiton.org/recettes/recette_thon...</td>\n",
       "      <td>Thon grillé</td>\n",
       "      <td>Thon grillé</td>\n",
       "      <td>La veille : Piquer les parties rouge foncé aut...</td>\n",
       "      <td>L</td>\n",
       "    </tr>\n",
       "    <tr>\n",
       "      <th>1336</th>\n",
       "      <td>12528</td>\n",
       "      <td>https://www.marmiton.org/recettes/recette_sash...</td>\n",
       "      <td>Sashimi de thon express</td>\n",
       "      <td>Entrée</td>\n",
       "      <td>Préparer le thon en tranches très fines, comme...</td>\n",
       "      <td>P</td>\n",
       "    </tr>\n",
       "    <tr>\n",
       "      <th>2274</th>\n",
       "      <td>13800</td>\n",
       "      <td>https://www.marmiton.org/recettes/recette_gigo...</td>\n",
       "      <td>Gigot en croûte d'herbes et aux légumes confits</td>\n",
       "      <td>Gigot en croûte d'herbes et aux légumes confits</td>\n",
       "      <td>&lt;IMG SRC=\"http://www.marmiton.org/pix/recettes...</td>\n",
       "      <td>&lt;</td>\n",
       "    </tr>\n",
       "    <tr>\n",
       "      <th>...</th>\n",
       "      <td>...</td>\n",
       "      <td>...</td>\n",
       "      <td>...</td>\n",
       "      <td>...</td>\n",
       "      <td>...</td>\n",
       "      <td>...</td>\n",
       "    </tr>\n",
       "    <tr>\n",
       "      <th>56168</th>\n",
       "      <td>228569</td>\n",
       "      <td>https://www.marmiton.org/recettes/recette_calz...</td>\n",
       "      <td>Calzone Nutella Banane</td>\n",
       "      <td>Calzone nutella banane</td>\n",
       "      <td>1 - Même préparation que pour une &lt;a href=\"htt...</td>\n",
       "      <td>1</td>\n",
       "    </tr>\n",
       "    <tr>\n",
       "      <th>56211</th>\n",
       "      <td>228601</td>\n",
       "      <td>https://www.marmiton.org/recettes/recette_riso...</td>\n",
       "      <td>Risotto à la mortadelle de Prato et aux parfum...</td>\n",
       "      <td>Plat principal</td>\n",
       "      <td>Préparer le &lt;a href=\"http://www.marmiton.org/p...</td>\n",
       "      <td>P</td>\n",
       "    </tr>\n",
       "    <tr>\n",
       "      <th>58228</th>\n",
       "      <td>253836</td>\n",
       "      <td>https://www.marmiton.org/recettes/recette_samo...</td>\n",
       "      <td>Samoussas au boeuf et aux courgettes</td>\n",
       "      <td>Samoussas au boeuf et aux courgettes</td>\n",
       "      <td>Faire revenir l'oignon et l'ail (le tout haché...</td>\n",
       "      <td>F</td>\n",
       "    </tr>\n",
       "    <tr>\n",
       "      <th>62690</th>\n",
       "      <td>326713</td>\n",
       "      <td>https://www.marmiton.org/recettes/recette_hot-...</td>\n",
       "      <td>Hot Dog revisité à la méditerranéenne (kefta, ...</td>\n",
       "      <td>Salade</td>\n",
       "      <td>Commencez par préparez les boulettes de &lt;a hre...</td>\n",
       "      <td>C</td>\n",
       "    </tr>\n",
       "    <tr>\n",
       "      <th>63808</th>\n",
       "      <td>335367</td>\n",
       "      <td>https://www.marmiton.org/recettes/recette_claf...</td>\n",
       "      <td>clafoutis aux mirabelles</td>\n",
       "      <td>Dessert</td>\n",
       "      <td>&lt;préchauffer le four à 200° C (Thermostat 6-7)...</td>\n",
       "      <td>&lt;</td>\n",
       "    </tr>\n",
       "  </tbody>\n",
       "</table>\n",
       "<p>200 rows × 6 columns</p>\n",
       "</div>"
      ],
      "text/plain": [
       "       recipe_id                                         recipe_url  \\\n",
       "793        11740  https://www.marmiton.org/recettes/recette_riso...   \n",
       "856        11826  https://www.marmiton.org/recettes/recette_thon...   \n",
       "1129       12198  https://www.marmiton.org/recettes/recette_thon...   \n",
       "1336       12528  https://www.marmiton.org/recettes/recette_sash...   \n",
       "2274       13800  https://www.marmiton.org/recettes/recette_gigo...   \n",
       "...          ...                                                ...   \n",
       "56168     228569  https://www.marmiton.org/recettes/recette_calz...   \n",
       "56211     228601  https://www.marmiton.org/recettes/recette_riso...   \n",
       "58228     253836  https://www.marmiton.org/recettes/recette_samo...   \n",
       "62690     326713  https://www.marmiton.org/recettes/recette_hot-...   \n",
       "63808     335367  https://www.marmiton.org/recettes/recette_claf...   \n",
       "\n",
       "                                            recipe_title  \\\n",
       "793                           Risotto aux cèpes (Italie)   \n",
       "856                         Thon marmitako (Pays Basque)   \n",
       "1129                                         Thon grillé   \n",
       "1336                             Sashimi de thon express   \n",
       "2274     Gigot en croûte d'herbes et aux légumes confits   \n",
       "...                                                  ...   \n",
       "56168                             Calzone Nutella Banane   \n",
       "56211  Risotto à la mortadelle de Prato et aux parfum...   \n",
       "58228               Samoussas au boeuf et aux courgettes   \n",
       "62690  Hot Dog revisité à la méditerranéenne (kefta, ...   \n",
       "63808                           clafoutis aux mirabelles   \n",
       "\n",
       "                                           recipe_type  \\\n",
       "793                                     Plat principal   \n",
       "856                                     Plat principal   \n",
       "1129                                       Thon grillé   \n",
       "1336                                            Entrée   \n",
       "2274   Gigot en croûte d'herbes et aux légumes confits   \n",
       "...                                                ...   \n",
       "56168                           Calzone nutella banane   \n",
       "56211                                   Plat principal   \n",
       "58228             Samoussas au boeuf et aux courgettes   \n",
       "62690                                           Salade   \n",
       "63808                                          Dessert   \n",
       "\n",
       "                                            recipe_steps first_letter  \n",
       "793    <I>Risotto ai funghi porcini</I> \\n\\n Commence...            <  \n",
       "856    Couper le thon en petits morceaux, ainsi que l...            C  \n",
       "1129   La veille : Piquer les parties rouge foncé aut...            L  \n",
       "1336   Préparer le thon en tranches très fines, comme...            P  \n",
       "2274   <IMG SRC=\"http://www.marmiton.org/pix/recettes...            <  \n",
       "...                                                  ...          ...  \n",
       "56168  1 - Même préparation que pour une <a href=\"htt...            1  \n",
       "56211  Préparer le <a href=\"http://www.marmiton.org/p...            P  \n",
       "58228  Faire revenir l'oignon et l'ail (le tout haché...            F  \n",
       "62690  Commencez par préparez les boulettes de <a hre...            C  \n",
       "63808  <préchauffer le four à 200° C (Thermostat 6-7)...            <  \n",
       "\n",
       "[200 rows x 6 columns]"
      ]
     },
     "execution_count": 73,
     "metadata": {},
     "output_type": "execute_result"
    }
   ],
   "source": [
    "recipes_df[recipes_df.recipe_steps.apply(lambda x : x.find(\"<\"))!= -1]"
   ]
  },
  {
   "cell_type": "code",
   "execution_count": 96,
   "id": "cf7707d3",
   "metadata": {
    "ExecuteTime": {
     "end_time": "2022-01-04T18:16:42.127716Z",
     "start_time": "2022-01-04T18:16:42.078243Z"
    }
   },
   "outputs": [
    {
     "data": {
      "text/plain": [
       "200"
      ]
     },
     "execution_count": 96,
     "metadata": {},
     "output_type": "execute_result"
    }
   ],
   "source": [
    "recipes_df.recipe_steps[recipes_df.recipe_steps.apply(lambda x : x.find('<')) != -1].count()"
   ]
  },
  {
   "cell_type": "code",
   "execution_count": null,
   "id": "537a845a",
   "metadata": {},
   "outputs": [],
   "source": [
    "r"
   ]
  },
  {
   "cell_type": "code",
   "execution_count": null,
   "id": "5b2f4518",
   "metadata": {},
   "outputs": [],
   "source": []
  },
  {
   "cell_type": "code",
   "execution_count": null,
   "id": "0313a69c",
   "metadata": {},
   "outputs": [],
   "source": []
  }
 ],
 "metadata": {
  "kernelspec": {
   "display_name": "Python 3 (ipykernel)",
   "language": "python",
   "name": "python3"
  },
  "language_info": {
   "codemirror_mode": {
    "name": "ipython",
    "version": 3
   },
   "file_extension": ".py",
   "mimetype": "text/x-python",
   "name": "python",
   "nbconvert_exporter": "python",
   "pygments_lexer": "ipython3",
   "version": "3.8.12"
  },
  "toc": {
   "base_numbering": 1,
   "nav_menu": {},
   "number_sections": true,
   "sideBar": true,
   "skip_h1_title": false,
   "title_cell": "Table of Contents",
   "title_sidebar": "Contents",
   "toc_cell": false,
   "toc_position": {},
   "toc_section_display": true,
   "toc_window_display": false
  }
 },
 "nbformat": 4,
 "nbformat_minor": 5
}
