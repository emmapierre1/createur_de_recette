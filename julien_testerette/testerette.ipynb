{
 "cells": [
  {
   "cell_type": "code",
   "execution_count": null,
   "id": "9c009775",
   "metadata": {},
   "outputs": [],
   "source": []
  },
  {
   "cell_type": "code",
   "execution_count": null,
   "id": "62dbdabc",
   "metadata": {},
   "outputs": [],
   "source": []
  },
  {
   "cell_type": "markdown",
   "id": "cbd496eb",
   "metadata": {},
   "source": [
    "## Scrapping\n"
   ]
  },
  {
   "cell_type": "code",
   "execution_count": 1,
   "id": "baf399ef",
   "metadata": {
    "ExecuteTime": {
     "end_time": "2022-01-06T10:37:52.756643Z",
     "start_time": "2022-01-06T10:37:52.653141Z"
    },
    "scrolled": true
   },
   "outputs": [],
   "source": [
    "from bs4 import BeautifulSoup\n",
    "\n",
    "html_doc = 'fafea'\n",
    "\n",
    "soup = BeautifulSoup(html_doc, 'html.parser')"
   ]
  },
  {
   "cell_type": "code",
   "execution_count": 2,
   "id": "d827de35",
   "metadata": {
    "ExecuteTime": {
     "end_time": "2022-01-06T10:37:52.802372Z",
     "start_time": "2022-01-06T10:37:52.759047Z"
    }
   },
   "outputs": [],
   "source": [
    "import re\n",
    "import requests\n",
    "from bs4 import BeautifulSoup, Comment"
   ]
  },
  {
   "cell_type": "code",
   "execution_count": 3,
   "id": "189e9e2d",
   "metadata": {
    "ExecuteTime": {
     "end_time": "2022-01-06T10:37:52.808173Z",
     "start_time": "2022-01-06T10:37:52.804559Z"
    }
   },
   "outputs": [],
   "source": [
    "url = f'https://www.marmiton.org/recettes/recette_gratin-pomme-de-terre-et-panais_532213.aspx' # valuepage={page}"
   ]
  },
  {
   "cell_type": "code",
   "execution_count": 4,
   "id": "28e16e7e",
   "metadata": {
    "ExecuteTime": {
     "end_time": "2022-01-06T10:37:53.650018Z",
     "start_time": "2022-01-06T10:37:52.810823Z"
    }
   },
   "outputs": [],
   "source": [
    "response = requests.get(url, headers={\"Accept-Language\":\"en-US\"})\n",
    "soup = BeautifulSoup(response.content, \"html.parser\")\n",
    "\n",
    "# print(soup)"
   ]
  },
  {
   "cell_type": "code",
   "execution_count": 5,
   "id": "361674cb",
   "metadata": {
    "ExecuteTime": {
     "end_time": "2022-01-06T10:37:53.655910Z",
     "start_time": "2022-01-06T10:37:53.652215Z"
    }
   },
   "outputs": [],
   "source": [
    "# from bs4 import Comment\n",
    "\n",
    "# for child in soup.body.div.children:\n",
    "#     if isinstance(child,Comment):\n",
    "#         child.extract()"
   ]
  },
  {
   "cell_type": "code",
   "execution_count": 6,
   "id": "d5fcab93",
   "metadata": {
    "ExecuteTime": {
     "end_time": "2022-01-06T10:37:53.673314Z",
     "start_time": "2022-01-06T10:37:53.658083Z"
    }
   },
   "outputs": [
    {
     "name": "stdout",
     "output_type": "stream",
     "text": [
      "<span class=\"SHRD__sc-10plygc-0 epviYI\">1<!-- --> <!-- -->branche</span>\n",
      " \n",
      " \n"
     ]
    }
   ],
   "source": [
    "ingredients_list = []\n",
    "for ingredients in soup.find_all(\"div\", class_=\"fLWRho\"):\n",
    "    title = ingredients.find_all(\"span\", class_=\"epviYI\") #.find(\"a\").string\n",
    "#     duration = int(movie.find(class_=\"runtime\").string.strip(' min'))\n",
    "#     year = int(re.search(r\"\\d{4}\", movie.find(class_=\"lister-item-year\").string).group(0))\n",
    "    ingredients_list.append(title)\n",
    "#     movies.append({'title': title, 'duration': duration, 'year': year})\n",
    "print(ingredients_list[1][0])\n",
    "# ingredients_list[1].content\n",
    "soup2 = BeautifulSoup(str(ingredients_list[1][0]), \"html.parser\")\n",
    "\n",
    "\n",
    "# from bs4 import Comment\n",
    "\n",
    "# if isinstance(soup2.string,Comment):\n",
    "#     souped2 = soup2.extract()\n",
    "#     print(souped2)\n",
    "num=0\n",
    "for element in soup2(text=lambda text: isinstance(text, Comment)):\n",
    "    print(element.extract())\n",
    "\n",
    "    "
   ]
  },
  {
   "cell_type": "code",
   "execution_count": 7,
   "id": "4e5975ce",
   "metadata": {
    "ExecuteTime": {
     "end_time": "2022-01-06T10:37:53.681493Z",
     "start_time": "2022-01-06T10:37:53.675237Z"
    }
   },
   "outputs": [
    {
     "name": "stdout",
     "output_type": "stream",
     "text": [
      "<span class=\"SHRD__sc-10plygc-0 epviYI\">1 branche</span>\n"
     ]
    }
   ],
   "source": [
    "print(str(soup2))"
   ]
  },
  {
   "cell_type": "code",
   "execution_count": 8,
   "id": "d7b9111c",
   "metadata": {
    "ExecuteTime": {
     "end_time": "2022-01-06T10:37:53.688478Z",
     "start_time": "2022-01-06T10:37:53.683439Z"
    }
   },
   "outputs": [],
   "source": [
    "soupstr=str(soup2)\n",
    "result=re.sub(r'<!.*?->','', soupstr)\n"
   ]
  },
  {
   "cell_type": "code",
   "execution_count": 10,
   "id": "29018a3b",
   "metadata": {
    "ExecuteTime": {
     "end_time": "2022-01-06T10:38:01.419463Z",
     "start_time": "2022-01-06T10:38:01.416430Z"
    }
   },
   "outputs": [],
   "source": [
    "# BeautifulSoup(soup2.string)"
   ]
  },
  {
   "cell_type": "code",
   "execution_count": 11,
   "id": "01056950",
   "metadata": {
    "ExecuteTime": {
     "end_time": "2022-01-06T10:38:02.846613Z",
     "start_time": "2022-01-06T10:38:02.841337Z"
    }
   },
   "outputs": [],
   "source": [
    "units = ['branche', 'bouquet','cl','cuillère à café bien bombée', 'c.à.c', 'c.à.s' 'g', \\\n",
    "         'gousse', 'gousses', 'ml', 'plaques', 'pincée', 'poignée', 'pot', 'tablette', 'tranches', 'verre', 'verres']\n",
    "doubts = ['1⁄2', '1⁄4']"
   ]
  },
  {
   "cell_type": "code",
   "execution_count": 12,
   "id": "f1f189dd",
   "metadata": {
    "ExecuteTime": {
     "end_time": "2022-01-06T10:38:04.109206Z",
     "start_time": "2022-01-06T10:38:04.105392Z"
    }
   },
   "outputs": [],
   "source": [
    "# 1⁄2 bouquet\n",
    "# de persil"
   ]
  },
  {
   "cell_type": "markdown",
   "id": "18eeaf77",
   "metadata": {},
   "source": [
    "## Prep nettoyage de données"
   ]
  },
  {
   "cell_type": "code",
   "execution_count": 13,
   "id": "a2912536",
   "metadata": {
    "ExecuteTime": {
     "end_time": "2022-01-06T10:38:05.704315Z",
     "start_time": "2022-01-06T10:38:04.517289Z"
    },
    "scrolled": true
   },
   "outputs": [
    {
     "data": {
      "text/html": [
       "<div>\n",
       "<style scoped>\n",
       "    .dataframe tbody tr th:only-of-type {\n",
       "        vertical-align: middle;\n",
       "    }\n",
       "\n",
       "    .dataframe tbody tr th {\n",
       "        vertical-align: top;\n",
       "    }\n",
       "\n",
       "    .dataframe thead th {\n",
       "        text-align: right;\n",
       "    }\n",
       "</style>\n",
       "<table border=\"1\" class=\"dataframe\">\n",
       "  <thead>\n",
       "    <tr style=\"text-align: right;\">\n",
       "      <th></th>\n",
       "      <th>recipe_id</th>\n",
       "      <th>recipe_url</th>\n",
       "      <th>recipe_title</th>\n",
       "      <th>recipe_type</th>\n",
       "      <th>recipe_steps</th>\n",
       "    </tr>\n",
       "  </thead>\n",
       "  <tbody>\n",
       "    <tr>\n",
       "      <th>0</th>\n",
       "      <td>10534</td>\n",
       "      <td>https://www.marmiton.org/recettes/recette_le-c...</td>\n",
       "      <td>Le crumble aux pommes du Chat qui Tousse</td>\n",
       "      <td>Dessert</td>\n",
       "      <td>Préchauffer le four à 210°C (thermostat 7). \\n...</td>\n",
       "    </tr>\n",
       "    <tr>\n",
       "      <th>1</th>\n",
       "      <td>10531</td>\n",
       "      <td>https://www.marmiton.org/recettes/recette_esca...</td>\n",
       "      <td>Escalopes lucullus à la cocotte</td>\n",
       "      <td>Plat principal</td>\n",
       "      <td>Coupez l'oignon en petits morceaux, faites rev...</td>\n",
       "    </tr>\n",
       "  </tbody>\n",
       "</table>\n",
       "</div>"
      ],
      "text/plain": [
       "   recipe_id                                         recipe_url  \\\n",
       "0      10534  https://www.marmiton.org/recettes/recette_le-c...   \n",
       "1      10531  https://www.marmiton.org/recettes/recette_esca...   \n",
       "\n",
       "                               recipe_title     recipe_type  \\\n",
       "0  Le crumble aux pommes du Chat qui Tousse         Dessert   \n",
       "1           Escalopes lucullus à la cocotte  Plat principal   \n",
       "\n",
       "                                        recipe_steps  \n",
       "0  Préchauffer le four à 210°C (thermostat 7). \\n...  \n",
       "1  Coupez l'oignon en petits morceaux, faites rev...  "
      ]
     },
     "execution_count": 13,
     "metadata": {},
     "output_type": "execute_result"
    }
   ],
   "source": [
    "import pandas as pd\n",
    "ingredients_df = pd.read_csv('../createur_de_recette/data/ingredients.csv')\n",
    "recipes_df = pd.read_csv('../createur_de_recette/data/recipes.csv')\n",
    "recipes_df.head(2)"
   ]
  },
  {
   "cell_type": "code",
   "execution_count": 14,
   "id": "8814e6cf",
   "metadata": {
    "ExecuteTime": {
     "end_time": "2022-01-06T10:38:05.712237Z",
     "start_time": "2022-01-06T10:38:05.707213Z"
    }
   },
   "outputs": [
    {
     "data": {
      "text/plain": [
       "(70603, 5)"
      ]
     },
     "execution_count": 14,
     "metadata": {},
     "output_type": "execute_result"
    }
   ],
   "source": [
    "recipes_df.shape"
   ]
  },
  {
   "cell_type": "code",
   "execution_count": 15,
   "id": "ed8ecf8c",
   "metadata": {
    "ExecuteTime": {
     "end_time": "2022-01-06T10:38:05.748059Z",
     "start_time": "2022-01-06T10:38:05.713874Z"
    }
   },
   "outputs": [],
   "source": [
    "recipes_df['first_letter'] = recipes_df.recipe_steps.apply(lambda x : x[0])"
   ]
  },
  {
   "cell_type": "code",
   "execution_count": 16,
   "id": "786516bc",
   "metadata": {
    "ExecuteTime": {
     "end_time": "2022-01-06T10:38:05.762844Z",
     "start_time": "2022-01-06T10:38:05.751738Z"
    },
    "scrolled": true
   },
   "outputs": [
    {
     "data": {
      "text/plain": [
       "à       1\n",
       ":       1\n",
       "`       1\n",
       "¨       1\n",
       "'       1\n",
       "➢       1\n",
       "\\n      2\n",
       "u       2\n",
       "8       2\n",
       "0       2\n",
       "[       2\n",
       "t       2\n",
       "~       2\n",
       "_       2\n",
       "°       3\n",
       "n       3\n",
       "5       3\n",
       "6       3\n",
       "h       4\n",
       "o       4\n",
       "b       4\n",
       "a       5\n",
       ">       5\n",
       "v       5\n",
       "Z       6\n",
       "•       6\n",
       "e       6\n",
       "s       7\n",
       "\"       7\n",
       "3       7\n",
       "r       8\n",
       "<      11\n",
       "4      13\n",
       ".      16\n",
       "À      17\n",
       "é      24\n",
       "l      24\n",
       "       32\n",
       "(      32\n",
       "m      38\n",
       "d      44\n",
       "2      44\n",
       "Q      50\n",
       "*      62\n",
       "c      63\n",
       "p      70\n",
       "f      71\n",
       "Ô      72\n",
       "J     100\n",
       "Name: first_letter, dtype: int64"
      ]
     },
     "execution_count": 16,
     "metadata": {},
     "output_type": "execute_result"
    }
   ],
   "source": [
    "recipes_df.first_letter.value_counts().sort_values()[0:49]"
   ]
  },
  {
   "cell_type": "code",
   "execution_count": 17,
   "id": "dd4ea80e",
   "metadata": {
    "ExecuteTime": {
     "end_time": "2022-01-06T10:38:05.776520Z",
     "start_time": "2022-01-06T10:38:05.765213Z"
    },
    "scrolled": true
   },
   "outputs": [
    {
     "data": {
      "text/plain": [
       "f       71\n",
       "Ô       72\n",
       "J      100\n",
       "U      148\n",
       "G      202\n",
       "I      244\n",
       "O      345\n",
       "N      688\n",
       "H      790\n",
       "-      803\n",
       "1      843\n",
       "V      915\n",
       "T      930\n",
       "A     1074\n",
       "S     1158\n",
       "B     1342\n",
       "R     1488\n",
       "É     2166\n",
       "L     3672\n",
       "E     4434\n",
       "M     6429\n",
       "D     7320\n",
       "C     7661\n",
       "F    10659\n",
       "P    16401\n",
       "Name: first_letter, dtype: int64"
      ]
     },
     "execution_count": 17,
     "metadata": {},
     "output_type": "execute_result"
    }
   ],
   "source": [
    "# recipes_df.first_letter.value_counts().sort_values()[0:49]\n",
    "recipes_df.first_letter.value_counts().sort_values()[46:80]"
   ]
  },
  {
   "cell_type": "code",
   "execution_count": 18,
   "id": "03f5ec99",
   "metadata": {
    "ExecuteTime": {
     "end_time": "2022-01-06T10:38:05.790622Z",
     "start_time": "2022-01-06T10:38:05.779218Z"
    }
   },
   "outputs": [],
   "source": [
    "DELETE_ROW_IF_FIRST_CHAR=[':','`', '¨', '➢']\n",
    "REPLACE_IF_FIRST_CHAR = [' ', '-', '\\n']\n",
    "STR_TO_REPLACE_BY_SINGLE_OCCURENCES = ['!', '.', ' ', '-', ]\n",
    "\n"
   ]
  },
  {
   "cell_type": "code",
   "execution_count": 19,
   "id": "32dd29ea",
   "metadata": {
    "ExecuteTime": {
     "end_time": "2022-01-06T10:38:05.861453Z",
     "start_time": "2022-01-06T10:38:05.854515Z"
    }
   },
   "outputs": [
    {
     "data": {
      "text/plain": [
       "(70603, 6)"
      ]
     },
     "execution_count": 19,
     "metadata": {},
     "output_type": "execute_result"
    }
   ],
   "source": [
    "recipes_df.shape\n"
   ]
  },
  {
   "cell_type": "code",
   "execution_count": 20,
   "id": "197eb16a",
   "metadata": {
    "ExecuteTime": {
     "end_time": "2022-01-06T10:38:08.081012Z",
     "start_time": "2022-01-06T10:38:06.016711Z"
    }
   },
   "outputs": [
    {
     "data": {
      "text/html": [
       "<div>\n",
       "<style scoped>\n",
       "    .dataframe tbody tr th:only-of-type {\n",
       "        vertical-align: middle;\n",
       "    }\n",
       "\n",
       "    .dataframe tbody tr th {\n",
       "        vertical-align: top;\n",
       "    }\n",
       "\n",
       "    .dataframe thead th {\n",
       "        text-align: right;\n",
       "    }\n",
       "</style>\n",
       "<table border=\"1\" class=\"dataframe\">\n",
       "  <thead>\n",
       "    <tr style=\"text-align: right;\">\n",
       "      <th></th>\n",
       "      <th>recipe_id</th>\n",
       "      <th>recipe_url</th>\n",
       "      <th>recipe_title</th>\n",
       "      <th>recipe_type</th>\n",
       "      <th>recipe_steps</th>\n",
       "    </tr>\n",
       "  </thead>\n",
       "  <tbody>\n",
       "    <tr>\n",
       "      <th>0</th>\n",
       "      <td>10534</td>\n",
       "      <td>https://www.marmiton.org/recettes/recette_le-c...</td>\n",
       "      <td>Le crumble aux pommes du Chat qui Tousse</td>\n",
       "      <td>Dessert</td>\n",
       "      <td>Préchauffer le four à 210°C (thermostat 7). \\n...</td>\n",
       "    </tr>\n",
       "    <tr>\n",
       "      <th>1</th>\n",
       "      <td>10531</td>\n",
       "      <td>https://www.marmiton.org/recettes/recette_esca...</td>\n",
       "      <td>Escalopes lucullus à la cocotte</td>\n",
       "      <td>Plat principal</td>\n",
       "      <td>Coupez l'oignon en petits morceaux, faites rev...</td>\n",
       "    </tr>\n",
       "    <tr>\n",
       "      <th>2</th>\n",
       "      <td>10529</td>\n",
       "      <td>https://www.marmiton.org/recettes/recette_terr...</td>\n",
       "      <td>Terrine de foie de porc</td>\n",
       "      <td>Plat principal</td>\n",
       "      <td>hacher (pas trop fin) le foie, le lard, les éc...</td>\n",
       "    </tr>\n",
       "    <tr>\n",
       "      <th>3</th>\n",
       "      <td>10530</td>\n",
       "      <td>https://www.marmiton.org/recettes/recette_lapi...</td>\n",
       "      <td>Lapin au vin blanc (à la cocotte)</td>\n",
       "      <td>Plat principal</td>\n",
       "      <td>Faire revenir les échalotes et les lardons dan...</td>\n",
       "    </tr>\n",
       "    <tr>\n",
       "      <th>4</th>\n",
       "      <td>10528</td>\n",
       "      <td>https://www.marmiton.org/recettes/recette_truf...</td>\n",
       "      <td>Truffes en chocolat</td>\n",
       "      <td>Confiserie</td>\n",
       "      <td>La veille : faire fondre le chocolat au bain-m...</td>\n",
       "    </tr>\n",
       "    <tr>\n",
       "      <th>...</th>\n",
       "      <td>...</td>\n",
       "      <td>...</td>\n",
       "      <td>...</td>\n",
       "      <td>...</td>\n",
       "      <td>...</td>\n",
       "    </tr>\n",
       "    <tr>\n",
       "      <th>70397</th>\n",
       "      <td>532439</td>\n",
       "      <td>https://www.marmiton.org/recettes/recette_buch...</td>\n",
       "      <td>Bûche de Noël au chocolat et crêpes dentelles</td>\n",
       "      <td>Dessert</td>\n",
       "      <td>Faire fondre les chocolats au bain marie avec ...</td>\n",
       "    </tr>\n",
       "    <tr>\n",
       "      <th>70398</th>\n",
       "      <td>532434</td>\n",
       "      <td>https://www.marmiton.org/recettes/recette_cook...</td>\n",
       "      <td>Cookies aux noix de pécan et au chocolat</td>\n",
       "      <td>Dessert</td>\n",
       "      <td>Pour le beurre de pécan : Faire fondre le beur...</td>\n",
       "    </tr>\n",
       "    <tr>\n",
       "      <th>70399</th>\n",
       "      <td>532401</td>\n",
       "      <td>https://www.marmiton.org/recettes/recette_sand...</td>\n",
       "      <td>Sando au poulet</td>\n",
       "      <td>Plat principal</td>\n",
       "      <td>Couper le poulet en morceaux de 5/6cm. \\n\\n Ba...</td>\n",
       "    </tr>\n",
       "    <tr>\n",
       "      <th>70400</th>\n",
       "      <td>532213</td>\n",
       "      <td>https://www.marmiton.org/recettes/recette_grat...</td>\n",
       "      <td>Gratin pomme de terre et panais</td>\n",
       "      <td>Accompagnement</td>\n",
       "      <td>Éplucher les pommes de terre et le panais et l...</td>\n",
       "    </tr>\n",
       "    <tr>\n",
       "      <th>70401</th>\n",
       "      <td>532201</td>\n",
       "      <td>https://www.marmiton.org/recettes/recette_tour...</td>\n",
       "      <td>Tourte au saumon et à la béchamel au citron</td>\n",
       "      <td>Pizza, tarte, quiche</td>\n",
       "      <td>Dans une casserole, faire fondre le beurre pui...</td>\n",
       "    </tr>\n",
       "  </tbody>\n",
       "</table>\n",
       "<p>70402 rows × 5 columns</p>\n",
       "</div>"
      ],
      "text/plain": [
       "       recipe_id                                         recipe_url  \\\n",
       "0          10534  https://www.marmiton.org/recettes/recette_le-c...   \n",
       "1          10531  https://www.marmiton.org/recettes/recette_esca...   \n",
       "2          10529  https://www.marmiton.org/recettes/recette_terr...   \n",
       "3          10530  https://www.marmiton.org/recettes/recette_lapi...   \n",
       "4          10528  https://www.marmiton.org/recettes/recette_truf...   \n",
       "...          ...                                                ...   \n",
       "70397     532439  https://www.marmiton.org/recettes/recette_buch...   \n",
       "70398     532434  https://www.marmiton.org/recettes/recette_cook...   \n",
       "70399     532401  https://www.marmiton.org/recettes/recette_sand...   \n",
       "70400     532213  https://www.marmiton.org/recettes/recette_grat...   \n",
       "70401     532201  https://www.marmiton.org/recettes/recette_tour...   \n",
       "\n",
       "                                        recipe_title           recipe_type  \\\n",
       "0           Le crumble aux pommes du Chat qui Tousse               Dessert   \n",
       "1                    Escalopes lucullus à la cocotte        Plat principal   \n",
       "2                            Terrine de foie de porc        Plat principal   \n",
       "3                  Lapin au vin blanc (à la cocotte)        Plat principal   \n",
       "4                                Truffes en chocolat            Confiserie   \n",
       "...                                              ...                   ...   \n",
       "70397  Bûche de Noël au chocolat et crêpes dentelles               Dessert   \n",
       "70398       Cookies aux noix de pécan et au chocolat               Dessert   \n",
       "70399                                Sando au poulet        Plat principal   \n",
       "70400                Gratin pomme de terre et panais        Accompagnement   \n",
       "70401    Tourte au saumon et à la béchamel au citron  Pizza, tarte, quiche   \n",
       "\n",
       "                                            recipe_steps  \n",
       "0      Préchauffer le four à 210°C (thermostat 7). \\n...  \n",
       "1      Coupez l'oignon en petits morceaux, faites rev...  \n",
       "2      hacher (pas trop fin) le foie, le lard, les éc...  \n",
       "3      Faire revenir les échalotes et les lardons dan...  \n",
       "4      La veille : faire fondre le chocolat au bain-m...  \n",
       "...                                                  ...  \n",
       "70397  Faire fondre les chocolats au bain marie avec ...  \n",
       "70398  Pour le beurre de pécan : Faire fondre le beur...  \n",
       "70399  Couper le poulet en morceaux de 5/6cm. \\n\\n Ba...  \n",
       "70400  Éplucher les pommes de terre et le panais et l...  \n",
       "70401  Dans une casserole, faire fondre le beurre pui...  \n",
       "\n",
       "[70402 rows x 5 columns]"
      ]
     },
     "execution_count": 20,
     "metadata": {},
     "output_type": "execute_result"
    }
   ],
   "source": [
    "def recipe_df_cleaning(recipes_df) :\n",
    "    \"\"\"Function dedicated to the cleaning of the recipe's DataFrame cooking steps\n",
    "    \n",
    "    Dropped :\n",
    "        - steps with HTML Tags in it '<' \n",
    "        - steps starting with ':','`', '¨', '➢', '\\n' ( only 1 encounters as first character in steps)\n",
    "        \n",
    "    Replaced characters :\n",
    "        - if first char is ' ' or '-'\n",
    "        \n",
    "        - multiples !!! ... and spaces '    '        \n",
    "\n",
    "    \"\"\"\n",
    "    # Creating a column with the first letters of each recipe_steps to identify troublemakers\n",
    "    recipes_df['first_letter'] = recipes_df.recipe_steps.apply(lambda x : x[0])\n",
    "    \n",
    "    # Deleting HTML Tags (balises)\n",
    "    rows_to_drop = list(recipes_df.recipe_steps[recipes_df.recipe_steps.apply(lambda x : x.find('<')) != -1].index)\n",
    "    recipes_df.drop(rows_to_drop, axis=0, inplace=True)\n",
    "    \n",
    "    recipes_df = recipes_df.reset_index().drop(columns='index')\n",
    "    \n",
    "    # Deleting rows with first_letter in DELETE_ROW_IF_FIRST_CHAR\n",
    "    for deleted_char in DELETE_ROW_IF_FIRST_CHAR :\n",
    "        rows_to_drop = list(recipes_df.recipe_steps[recipes_df.recipe_steps.apply(lambda x : \\\n",
    "                                x.startswith(deleted_char))].index)\n",
    "        \n",
    "    recipes_df.drop(rows_to_drop, axis=0, inplace=True)\n",
    "    recipes_df = recipes_df.reset_index().drop(columns='index')\n",
    "    \n",
    "    # Replacing first chars of rows if it starts with a char from REPLACE_IF_FIRST_CHAR (Twice, just in cases '- ' or ' .')\n",
    "    for i in range(2) :\n",
    "        for replaced_char in REPLACE_IF_FIRST_CHAR :\n",
    "            recipes_df.recipe_steps = recipes_df.recipe_steps.apply(lambda x : x[1:] \\\n",
    "                    if x.startswith(replaced_char) else x)\n",
    "            \n",
    "            \n",
    "    # Replacing multiples occurences like !!!!! to ! or ... to . or '        ' to ' '\n",
    "    for i in range(5) : \n",
    "        for char in STR_TO_REPLACE_BY_SINGLE_OCCURENCES:\n",
    "            recipes_df.recipe_steps = recipes_df.recipe_steps.apply(lambda x : x.replace(f\"{char}{char}\", f\"{char}\"))\n",
    "        \n",
    "    \n",
    "    # dropping useless columns\n",
    "    recipes_df.drop(columns='first_letter', inplace=True)\n",
    "    \n",
    "    return recipes_df\n",
    "\n",
    "def drop_rows(df, rows_to_drop, index ) : \n",
    "    \"\"\" delete rows and reset index\n",
    "    df : DataFrame\n",
    "    rows_to_drop : list\n",
    "    \n",
    "    \"\"\"\n",
    "    df.drop(rows_to_drop, axis=0, inplace=True)\n",
    "    df = df.reset_index().drop(columns='index')\n",
    "    return df\n",
    "\n",
    "trans_recipe = recipe_df_cleaning(recipes_df)\n",
    "trans_recipe"
   ]
  },
  {
   "cell_type": "code",
   "execution_count": 21,
   "id": "9c0fb9cb",
   "metadata": {
    "ExecuteTime": {
     "end_time": "2022-01-06T10:38:08.141315Z",
     "start_time": "2022-01-06T10:38:08.083745Z"
    }
   },
   "outputs": [
    {
     "data": {
      "text/plain": [
       "306"
      ]
     },
     "execution_count": 21,
     "metadata": {},
     "output_type": "execute_result"
    }
   ],
   "source": [
    "stringed = 'twto'\n",
    "stringed.startswith('t')\n",
    "70401 - trans_recipe.recipe_steps[trans_recipe.recipe_steps.apply(lambda x : x.find('.')) != -1].count()"
   ]
  },
  {
   "cell_type": "code",
   "execution_count": 22,
   "id": "be5a536e",
   "metadata": {
    "ExecuteTime": {
     "end_time": "2022-01-06T10:38:08.153707Z",
     "start_time": "2022-01-06T10:38:08.142923Z"
    }
   },
   "outputs": [
    {
     "data": {
      "text/plain": [
       "41117    . Préchauffer le four à 200°, thermostat 6-7. ...\n",
       "42276    . Eplucher les 3 gousses d'ail. Les couper en ...\n",
       "47476    . Coupez le saumon en petits dés. Ciselez de l...\n",
       "47504    . Pâte : mélangez dans un saladier les ingrédi...\n",
       "47906    . Verser les amandes dans le lait. Casser les ...\n",
       "47907    . Eplucher les oignons, les hacher, et les fai...\n",
       "48148    . couper le curé nantais en tranches \\n\\n . ba...\n",
       "48503    . Amalgamer la farine, la levure, la pincée de...\n",
       "48504    . La veille, découper la viande de sanglier en...\n",
       "48562    . Laver les fruits. Blanchir le citron. Dans u...\n",
       "48704    . Si vous avez acheté votre pâte en grande sur...\n",
       "49519    .Décortiquer les crevettes et les faire marine...\n",
       "50068    . Préchauffer le four à 100°C au maximum.  \\n\\...\n",
       "50331    . Faites préchauffer le four Th 6 ou 180 °C. \\...\n",
       "Name: recipe_steps, dtype: object"
      ]
     },
     "execution_count": 22,
     "metadata": {},
     "output_type": "execute_result"
    }
   ],
   "source": [
    "recipes_df.recipe_steps[recipes_df.first_letter == '.']\n",
    "# recipes_df.recipe_steps[recipes_df.first_letter == '.'].reset_index().recipe_steps[0]"
   ]
  },
  {
   "cell_type": "code",
   "execution_count": 23,
   "id": "e2af93fd",
   "metadata": {
    "ExecuteTime": {
     "end_time": "2022-01-06T10:38:10.523777Z",
     "start_time": "2022-01-06T10:38:10.477577Z"
    },
    "scrolled": true
   },
   "outputs": [
    {
     "data": {
      "text/plain": [
       "recipe_id       0\n",
       "recipe_url      0\n",
       "recipe_title    0\n",
       "recipe_type     0\n",
       "recipe_steps    0\n",
       "first_letter    0\n",
       "dtype: int64"
      ]
     },
     "execution_count": 23,
     "metadata": {},
     "output_type": "execute_result"
    }
   ],
   "source": [
    "recipes_df[recipes_df.recipe_steps.apply(lambda x : x.find(\"<\"))!= -1].count()"
   ]
  },
  {
   "cell_type": "code",
   "execution_count": 24,
   "id": "cf7707d3",
   "metadata": {
    "ExecuteTime": {
     "end_time": "2022-01-06T10:38:10.719241Z",
     "start_time": "2022-01-06T10:38:10.668395Z"
    }
   },
   "outputs": [
    {
     "data": {
      "text/plain": [
       "Series([], Name: recipe_steps, dtype: object)"
      ]
     },
     "execution_count": 24,
     "metadata": {},
     "output_type": "execute_result"
    }
   ],
   "source": [
    "recipes_df.recipe_steps[recipes_df.recipe_steps.apply(lambda x : x.find('<')) != -1]"
   ]
  },
  {
   "cell_type": "code",
   "execution_count": 25,
   "id": "d51e6185",
   "metadata": {
    "ExecuteTime": {
     "end_time": "2022-01-06T10:38:10.937730Z",
     "start_time": "2022-01-06T10:38:10.863545Z"
    }
   },
   "outputs": [
    {
     "ename": "IndexError",
     "evalue": "list index out of range",
     "output_type": "error",
     "traceback": [
      "\u001b[0;31m---------------------------------------------------------------------------\u001b[0m",
      "\u001b[0;31mIndexError\u001b[0m                                Traceback (most recent call last)",
      "\u001b[0;32m/tmp/ipykernel_2708/2607951285.py\u001b[0m in \u001b[0;36m<module>\u001b[0;34m\u001b[0m\n\u001b[0;32m----> 1\u001b[0;31m \u001b[0mlist\u001b[0m\u001b[0;34m(\u001b[0m\u001b[0mrecipes_df\u001b[0m\u001b[0;34m.\u001b[0m\u001b[0mrecipe_steps\u001b[0m\u001b[0;34m[\u001b[0m\u001b[0mrecipes_df\u001b[0m\u001b[0;34m.\u001b[0m\u001b[0mrecipe_steps\u001b[0m\u001b[0;34m.\u001b[0m\u001b[0mapply\u001b[0m\u001b[0;34m(\u001b[0m\u001b[0;32mlambda\u001b[0m \u001b[0mx\u001b[0m \u001b[0;34m:\u001b[0m \u001b[0mx\u001b[0m\u001b[0;34m.\u001b[0m\u001b[0mfind\u001b[0m\u001b[0;34m(\u001b[0m\u001b[0;34m'<'\u001b[0m\u001b[0;34m)\u001b[0m\u001b[0;34m)\u001b[0m \u001b[0;34m!=\u001b[0m \u001b[0;34m-\u001b[0m\u001b[0;36m1\u001b[0m\u001b[0;34m]\u001b[0m\u001b[0;34m)\u001b[0m\u001b[0;34m[\u001b[0m\u001b[0;36m2\u001b[0m\u001b[0;34m]\u001b[0m\u001b[0;34m\u001b[0m\u001b[0;34m\u001b[0m\u001b[0m\n\u001b[0m",
      "\u001b[0;31mIndexError\u001b[0m: list index out of range"
     ]
    }
   ],
   "source": [
    "list(recipes_df.recipe_steps[recipes_df.recipe_steps.apply(lambda x : x.find('<')) != -1])[2]"
   ]
  },
  {
   "cell_type": "code",
   "execution_count": 26,
   "id": "537a845a",
   "metadata": {
    "ExecuteTime": {
     "end_time": "2022-01-06T10:38:12.135685Z",
     "start_time": "2022-01-06T10:38:11.030089Z"
    },
    "scrolled": true
   },
   "outputs": [],
   "source": [
    "recipes_df_new = recipes_df.replace(to_replace =' {2,}', value = ' ', regex = True)"
   ]
  },
  {
   "cell_type": "code",
   "execution_count": 27,
   "id": "5b2f4518",
   "metadata": {
    "ExecuteTime": {
     "end_time": "2022-01-06T10:38:12.244771Z",
     "start_time": "2022-01-06T10:38:12.138431Z"
    }
   },
   "outputs": [
    {
     "data": {
      "text/plain": [
       "[\"Battez l'oeuf dans une assiette creuse et élatez la noix de coco râpée dans une autre assiette. \\n\\n Trempez les tranches d'ananas épongées, d'abord dans l'oeuf, puis dans la noix de coco. Recommencez l'opération. Laissez reposer au frais recouvert d'une feuille de papier film. \\n\\n Allumez le four à thermostat 6 (180°C). \\n\\n Lavez et épépinez les poivrons. Taillez-les en grandes lanières. Coupez le jambon en cubes et les tomates en morceaux. \\n\\n Dans une grande sauteuse, faites revenir 3mn (sans coloration) l'oignon haché dans l'huile chaude. Ajoutez les poivrons. Poursuivez la cuisson 5 mn et versez le riz en pluie. \\n\\n Remuez 5 mn puis mettez les tomates, le thym, le laurier, l'ail haché et le poivre de Cayenne. Arrosez de bouillon, portez à ébullition, ajoutez les dés de jambon et un peu de sel. \\n\\n Couvrez et faites cuire au four 25 à 30 mn. \\n\\n Laissez reposer 5 mn dans le four éteint, porte entr'ouverte. \\n\\n Faites dorer les rondelles d'ananas panées dans 30g de beurre chaud, 5 mn par face. \\n\\n Dans une autre poèle, faites sauter les gambas dans 10g de beurre chaud. Salez et poivrez. \\n\\n Pour servir, versez la Jambalaya dans un grand plat creux et gaarnissez-la avec les rondelles d'ananas et les gambas sautées.\",\n",
       " \"Mélanger la farine,le sucre, le lait,l'huile,les oeufs et la levure dans un saladier puis mettre le tout daans un moule. \\n\\n Couper les pommes en quartiers et les poser sur la pâte. \\n\\n Mettre au four thermostat 5 pendant 40 mn. \\n\\n Soupoudrer de sucre glace à la sortie du four.\",\n",
       " \"Mélanger le sel et la farine. \\n\\n Délayer la levure dans un peu de lait tiède et l'incorporer à la farine. verser peu à peu le reste du lait pour obtenir une pâte lisse. Laisser lever 1 heure. \\n\\n Graisser les alvéoles de la poèle et la faire chauffer. Verser l'equivalent d'une cuillère à café de pâte dans chaque alvéole. \\n\\n Laisser cuire jusqu'à ce que la surface soit séche. Retourner en s'aidant d'une brochette en bois. \\n\\n Servir chaud, environ une douzaine de poffertjes par assiette, avec un morceau de beurre au centre de l'assiette et une bonne couche de sucre glace. \\n\\n On peut remplacer le sucre glace par de la liqueur épaisse d'advocaat (spécialité hollandaise).\",\n",
       " \"Dans un plat à tarte, déposez la première pâte feuilletée (en gardant dans le fond du plat la feuille de papier sulfurisé). \\n\\n Nappez la pâte d'une fine couche de crème fraîche. \\n\\n Disposez ensuite deux tranches de jambon face à face (sans qu'elles se chevauchent!). \\n\\n Couvrez avec du gruyère râpé (à peu près la moitié du sachet). Déposez sur le gruyère quelques noix de crème fraîche. \\n\\n Renouvelez l'opération : deux tranches de jambon face à face mais cette fois-ci dans l'autre sens puis lit de gruyère. Enfin, recouvrez le tout avec la deuxième pâte feuilletée. \\n\\n A l'aide d'un pinceau, nappez la pâte d'un jaune d'oeuf pour que la tourte soit bien dorée. \\n\\n Le petit plus : faates un trou au centre de la tourte et avec un morceau de papier aluminium, faites une cheminée.\",\n",
       " \"Pétrir longuement les semoules avec le beurre (ou le smané). \\n\\n Laisser la pâte reposer 12 heures. \\n\\n Puis la reprendre et la travailler avec l'eau de rose et l'eau de fleurs d'orangers (en reserver un peu). \\n\\n Hacher finement les amandes et les mélanger avec le sucre cristallisé et un peu d'eau de fleurs d'oranger. On obtient une sorte de pâte qui va servir de garniture. \\n\\n Prendre la pâte de semoule, confectionner à la main des petites boulettes de la grosseur d'une noix. Y introduire l'index pour former une cavité dans laquelle on mettra un peu de farce d'amandes. On referme chaque boulette en l'applatissant un peu. \\n\\n Dessiner des motifs géométriques sur la pâte avec un couteau. \\n\\n Disposer les Maamouls sur un plat allant au four, et les faire cuire à four moyen (thermostat 6 soit 180°C) 20 à 25 minutes. Quand ils sont refroidis, les saupoudrer de sucre en poudre. \\n\\n On peut également remplacer les amandes de la garniture par des noix ou des pistaches.\",\n",
       " \"Faites fondre le ghee au bain-marie. Dans un bol, battez ensemble les yaourts et l'oeuf. Ajoutez le ghee ou l'huile. \\n\\n Dans un saladier, mélangez la farine, le sucre, la levure et 2 pincées de sel. Faites un puits et incorporez le contenu du bol. Incorporez la farine progressivement et travaillez la pâte quelques minutes. Vous devez obtenir une pâte compacte et souple. Formez une boule et posez-la dans un saladier. \\n\\n Recouvrez le saladier d'un linge humide. Placez le tout dans un endroit plutôt chaud (20-23°C). Laissez monter 3 h. \\n\\n Préchauffez le gril du four (Th 7 ). Retravaillez légèrement la pâte puis divisez-la en 8 boules. Etalez chaque boule au rouleau en galettes circulaires d'un petit centimètre d'épaisseur. Avec un pinceau, badigeonnez chaque galette de beurre fondu sur les 2 faces. Posez les naans sur une plaque et faites-les cuire au four 5 mn par face. Retournez-les dès qu'ils sont dorés. \\n\\n Gardez les naans au chaud dans un linge jusqu'au moment de servir.\",\n",
       " \"Laisser égoutter les yaourts dans un torchon suspendu durant 3 h 30 (ou plus). \\n\\n Couper le poivron en 2 et l'épépiner. \\n\\n Le placer sous le grill du four, jusqu'à ce que la peau se boursouffle et noircisse; enlever la peau et le passer au mixer. \\n\\n Mettre les yaourts désséchés dans un bol. \\n\\n Servir avec des crakers, des pitas ou des cheese naan, dont la recette est sur le site Marmiton. \\n\\n Ajouter le poivron mixé, assaisonner et mettre au frigo. \",\n",
       " \"Chauffer l'huile dans une casserole ou une cocotte \\n\\n y faire revenir les oignons et l'ail, remuer. \\n\\n Ajouter les épices et remuer. \\n\\n Ajouter les tomates avec leur jus. \\n\\n puis les pois chiches. Mélanger. \\n\\n Couvrir et laisser mijoter 20 min à feu doux. \\n\\n Saler, ajouter le guaram massala, remuer et prolonger la cuisson de 20 min. \\n\\n Servir très chaud avec des naans ou des chapatis.\",\n",
       " \"Préparer la pâte : \\n\\n Sabler du bout des doigts la farine + beurre ramolli, ajouter en une seule fois le parfum. Former rapidement une boule. Ne pas trop travailler la pâte. Placer la pâte au réfrigérateur pendant 30 mn environ. \\n\\n Préparer la farce. \\n\\n Former des boules de pâtes et faire un petit creux (dans lequel on glisse un peu de garniture). \\n\\n Recouvrir le creux et aplatir un peu le gâteau. \\n\\n Si vous disposer d'un moule à Maamouls mettre la pâte dans le moule afin de réaliser une empreinte. \\n\\n Sinon créer sa propre décoration en piquant les côtés avec une fourchette ou faire des quadrillages avec un couteau sur le dessus du gâteau. \\n\\n Disposer les gâteaux sur une plaque beurrées ou papier sulfurisé et mettre au four à 180°C - Th 6 - pendant 20-30 mn. \\n\\n Les gâteaux doivent à peine colorer, les saupoudrer de sucre glace à la sortie du four.\",\n",
       " \"Hachez grossièrement les fruits, sauf les raisins. Mettez-les dans une casserole, ajoutez la cannelle, le rhum et 50 cl d'eau. Pressez le citron et ajoutez son jus. \\n\\n Laissez compoter doucement à découvert pendnat 30 min environ, il ne doit plus y avoir de liquide. Ecrasez un peu la prépaartion à la fourchette. \\n\\n Montez le gâteau de crêpe en tartinant les crêpes du mélange de fruits au fur et à mesure que vous les empilez. \\n\\n Faites chauffer le miel jusqu'à ce qu'il soit bien liquide et versez-le sur le gâteau de crêpes.\",\n",
       " \"Lavez et pelez les pommes. Retirez en le coeur et les pépins. \\n\\n Faites-les cuire et réduire en compote sur feux doux pendant 15 min environ, dans une petite casserole couverte contenant une noix de beurre. \\n\\n Pendant ce temps, mélangez la farine avec la levure et le sucre. \\n\\n Faites une fontaine au milieu et mettez-y 150 g de beurre ramolli et coupé en petits morceaux ainsi que l'oeuf légèrement battu. \\n\\n Travaillez rapidement la pâte. Roulez-la en boule et laissez-la reposer pendant une heure au frais. \\n\\n Préchauffez le four à 200°C (thermostaat 6-7). \\n\\n Etendez la pâte au rouleau sur une planche farinée, de façon à obtenir une feuille d'environ un centimètre d'épaisseur. Découpez-y des cercles à l'emporte pièce. \\n\\n Placez un peu de purée de pommes au milieu de chaque cercle. Repliez-les en deux en appuyant bien sur les bords. Posez ces petits pâtés sur une plaque à pâtisserie ou sur du papier sulfurisé. \\n\\n Faites-les cuire, de 10 à 15 min, à four chaud. Servez-les tièdes ou froids, éventuellement saupoudrés de sucre glace.\",\n",
       " \"Ustensiles : Prévoir un égouttoir à pâtes et un torchon \\n\\n Tapisser l'égouttoir avec le torchon. \\n\\n Placer une assiette creuse ou un saladier sous l'égouttoir. \\n\\n Verser tous les yaourts dans le torchon. Rabattre les pans du torchon par dessus le yaourt et laisser égoutter une nuit. \\n\\n A utiliser tel quel ou avec de l'huile d'olive et de la menthe séchée, du zaatar etc.\",\n",
       " \"Préparez la pâte : mélanger la semoule, le beurre fondu, l'eau de fleur d'oranger et l'eau de rose. Ajoutez 1 tasse à café d'eau chaude, puis laissez reposer 2 heures minimum, voire toute la nuit, recouvert d'un torchon propre. \\n\\n Au bout de ce temps, ajoutez 1/2 tasse d'eau de fleur d'oranger à la pâte et pétrissez jusqu'à ce que la pâte ne colle plus aux doigts. \\n\\n Pendant le repos de la pâte, préparez la farce : versez dans une terrine le fruit sec choisi mondé et réduit en poudre ajoutez le sucre et l'eau de rose. \\n\\n Préchauffez le four à 200°C. \\n\\n Façonnez des petites boulettes de pâte de la grosseur d'une noix, aplatissez les dans la paume de vos mains farcissez-les avec 1 cuillère à café de farce, rabattez la pâte sur la farce, roulez entre vos mains pour reformer une boulette. \\n\\n Rangez les maamouls sur une plaque à four recouverte de papier cuisson et faites cuire à four préchauffée à 200°C environ 20 minutes. Les gâteaux doivent rester presque blancs, à peine rosés dessous. \\n\\n Laissez-les refroidir, puis saupoudrez-les d'un nuage de sucre glace. \\n\\n Se conservent dans une boîte métallique facilement une semaine.\",\n",
       " \"Couper l'ail, l'oignon et le gingembre. \\n\\n Faire mariner toute une nuit le poulet dans la préparation ail, oignon, gingembre, sauce huître et soyou. \\n\\n Le lendemain faire revenir dans du beurre dans une casserole l'oignon, l'ail et le poulet. \\n\\n Rajouter la marinade. \\n\\n Rajouter de l'eau, il faut que le poulet soit recouvert. \\n\\n Laisser mijoter environ une demi heure à trois quart d'heure ; Il faut que le poulet soit tendre. \\n\\n Ensuite épaissir la sauce avec de la Maïzena. Assaisonner selon votre goût. \\n\\n Mangez ce plat avec du riz ou de la purée. \\n\\n Tamaa maitai ! (bon appétit)\",\n",
       " \"Râpez le concombre (après l'avoir épépiné) et faîtes-le dégorger au dessus d'une passoire avec un peu de sel. \\n\\n Pendant ce temps, râpez la ou les carottes, coupez en petits dés les tomates. \\n\\n Dans un petit plat, mélangez les yaourts, le concombre râpé, les carottes râpées et les dés de tomates. \\n\\n Ajoutez le curry en poudre selon votre goût. Effeuillez le bouquet de coriandre et les feuilles de menthe. \\n\\n Mélangez et entreposez la préparation au frais. \\n\\n La raïta se déguste accompagnée de naans ou de chappattis, les pains traditionnels indiens !\",\n",
       " \"Mélanger dans un saladier la farine, le sel, le yaourt nature, la levure et l'huile. \\n\\n Pétrir la pâte, elle doit être molle et légèrement collante. Inutile d'ajouter de l'eau. \\n\\n Laissez-la reposer au minimum une heure après l'avoir saupoudrée de 2 pincées de paprika et de l'avoir bien mélangée à l'intérieur de la pâte. \\n\\n Faites 4 petites boules. Après avoir fariné votre plan de travail, faites une des galettes très fines. \\n\\n Il faut qu'au maximum la pâte soit épaisse de 3/4 mm. \\n\\n Mettez dans chaque naan 2 vaches qui rit. \\n\\n Méthode simple : mettez à 1,5 cm du rebord de la pâte les 2 vaches qui rit, repliez l'autre rebord et écrasez lentement les vaches qui rit à l'intérieur pour les étaler au maximum. \\n\\n Votre four doit être chauffée à 190°C. \\n\\n Huilez d'huile d'olive une feuille d'aluminium, étalez les cheese naans dessus et mettez quelques gouttes d'huile d'olive sur le côté à l'air. \\n\\n Cuisez environ 5 mn de chaque côté. \\n\\n Bon appétit!\",\n",
       " \"Faites revenir les oignons dans une sauteuse avec un trait d'huile d'olive. Quand ils chantent et commencent à dorer, ajouter les patates douces et les carottes coupées en dés. Ajouter de l'eau à hauteur et couvrez. \\n\\n Laissez cuire à feux doux 30 minutes puis ajouter les épices et le lait de coco. Laissez encore un petit quart d'heure afin que la sauce épaississe. \\n\\n Dégustez chaud avec des naans ou des chapati pour un repas complet rapide et original.\",\n",
       " \"Laissez fondre le sucre dans le lait. Amalgamez tous les ingrédients, malaxez bien afin d'obtenir une boule. \\n\\n Etalez la pâte sur le plan de travail enfariné à 1/2 cm d'épaisseur et découpez-y les figurines ou formes souhaitées. \\n\\n Cuisez environ 15 min à four chaud, jusqu'à ce les 'spekulaasjes' soient bien dorés. Laissez refroidir sur une grille.\",\n",
       " \"Faire cuire le riz, y ajouter le gruyère râpé et le persil. \\n\\n Préparer une omelette avec les 2 oeufs. \\n\\n Plaacer la moitié du riz dans un moule à manqué beurré, poser l'omelette, y répartir les toastinettes et les tranches de jambon. \\n\\n Recouvrir du reste de riz, parsemer de gruyère râpé et de morceaux de beurre. \\n\\n Faire dorer 20 min au four préchauffé à thermostat 6 (180°C).\",\n",
       " 'Préchauffez votre four à 200°C (thermostat 6-7). \\n\\n Dans un saladier, mélangez ensemble la farine de blé, la farine de blé complet, la levure chimique, la cannelle, le \"4 épices\" et le sel. \\n\\n Dans un autre saladier, battez ensemble les autres ingrédients, c\\'est à dire l\\'oeuf, l\\'huile, le sucre, la courgette râpée et le lait. \\n\\n Ajoutez ensuite ceci au mélaange sec (farines, levure et épices). \\n\\n Mélangez bien. \\n\\n Petit truc surprenant d\\'une grande gourmande, ajoutez à la pâte 125g de pépites de chocolat ou, encore meilleur, de copeaux de chocolat. \\n\\n N\\'ayez pas peur c\\'est délicieux... \\n\\n Faites cuire à 200°C pendant 20 à 25 minutes selon votre four. \\n\\n Servir tiède.',\n",
       " \"Hachez l'oignon et râpez le gingembre (le mini hachoir fait aussi l'affaire) \\n\\n Faites revenir le tout dans le beurre fondu + huile (ou seulement huile pour ceux qui préfèrent, même de l'huile d'olive) quelques minutes. \\n\\n Ajoutez l'ail haché et les épices et remuez quelques minutes. \\n\\n Ajoutez le poulet découpé en petits morceaux (de 2cm de large) et remuez encore quelques minutes. Ajoutez le lait de coco et le yaourt. \\n\\n Laissez mijoter à feu doux pendant 30-45 min en remuant de temps en temps. Plus si ça vous dit mais attention à ne pas brûler la sauce qui épaissit rapidement. \\n\\n Servez avec du riz nature, naans et autres accompagnements indiens (lentilles... si vous en avez).\",\n",
       " \"Préchauffer le four à 140°C (thermostat 4-5). \\n\\n Dérouler la pâte feuilletée sur une plaque. \\n\\n Couper les tomates, en rondelles pas trop fines (5 mm d'épaisseur), pour garder toute la fraîcheur et le jus des fruits. \\n\\n Disposer sur la pate feuilletée, à 1 cm du bord. \\n\\n Emincer le poivron jaune et le oignons, et les éparpiller sur les tomates. \\n\\n Couper la mozzarella, en petits cubes, et les disposer sur la tarte. Saupoudrer d'emmental rapé. \\n\\n Saler légèrement, poivrer et parsemer d'herbes de porvence. \\n\\n Enfourner pendant environ 15 minutes, jusqu'à ce que les bords se soulèvent, et que le fromage soit doré. \\n\\n A taaable!!! \",\n",
       " \"Cuisez vos rondelles de carottes environ 20 min à la vapeur, elles doivent être encore fermes, une pointe de couteau doit juste y rentrer. \\n\\n Pendant ce temps, préparez le reste des ingrédients. \\n\\n Faites chauffer l'huile d'olive dans un poêlon et mettez-y l'ail, puis le coulis et concentré de tomates, et les herbes et épices. \\n\\n Ajoutez les carottes et laissez mijoter doucement minimum 15 min. \\n\\n Servir accompagnée de pain plat oriental type pitta ou naan ou encore barbari...une salade verte...\",\n",
       " \"Laver et sécher la ciboulette, la passer au mixeur (pas trop fin). \\n\\n Ecraser le fromage à la fourchette, saler (légèrement), poivrer, ajouter la ciboulette hachée et bien mélanger. \\n\\n Couper des petits carrés de pain et étaler la préparaation. \\n\\n Mettre sur une grande assiette et présenter à l'appéritif. \",\n",
       " \"Dans un saladier, mélangez la farine, la levure, et le sel. \\n\\n Ajoutez l'huile, puis les yaourts. \\n\\n Si pétrir vous rebute, remplacez vos main par une cuillère en bois jusqu'à ce que la pâte commence à prendre forme, et une fois le yaourt bien incorporé, allez-y de bon coeur avec vos mains. \\n\\n Quoi qu'il arrive, surtout n'ajoutez pas d'eau ! Soyez patient, et vous obtiendrez une boule de pâte souple que vous laisserez reposer idéalement 1 heure, ou 1/2 heure pour les plus empressés ! \\n\\n A l'aide d'un rouleau à pâtisserie, confectionnez une galette géante. \\n\\n Ceci fait, munissez vous d'une bonne poêle, enduisez-la d'un filet d'huile, puis faites dorer votre naan des deux côtés, à feu moyen (attention, ça chauffe très vite !). \\n\\n Ceci fait, réduisez le feu. \\n\\n Votre galette toujours dans la poêle, découpez le beurre en cubes, et dispersez-le sur l'une des faces. \\n\\n Lorsqu'il commence à fondre, ajoutez le sucre. \\n\\n Laissez le tout cuit encore quelques minutes, en veillant à bien répartir le mélange sur toute la surface de la galette, jusqu'à obtenir une sorte de crème. \\n\\n Et voilà, laissez maintenant tiédir ou refroidir à votre goût, et régalez-vous!\",\n",
       " \"Mettez le pain libanais à griller, soit au grille-pain, soit au four, jusqu'à ce qu'il soit bien doré et croquant. \\n\\n Laver la salade et coupez-là en fines lamelles. \\n\\n Coupez les tomates, l'oignon nouveau, le concombre et la feta en tout petits dés. \\n\\n Mélangez tout dans un saladier et servez assaisonné à votre convenance avec l'huile d'olive, le vinaigre balsamique, le sel, le poivre et les épices zaatar et sumac... \\n\\n Servez immédiatement (les morceaux de pain doivent rester croquants).\",\n",
       " \"Faire cuire les épinards puis les égoutter soigneusement. \\n\\n Pendant ce temps, garnir les naans avec la feta coupée en cubes. Assaisonner d'épices, plus ou moins en fonction du goût. \\n\\n Faire cuire les naans au micro-ondes jusqu'à ce que la feta soit fondue (veiller a les couvrir avec un film plastique!). \\n\\n Placer les épinards sur la feta. \\n\\n Ajouter l'avocat coupé en lamelles. \\n\\n C'est prêt!\",\n",
       " \"Préchauffer le four à 180°C (thermostat 6). \\n\\n Etaler la pâte dans un moule et la piquer à l'aide d'une fourchette. \\n\\n Faire revenir les échalotes émincées dans une poêle haute puis ajouter les poireaaux coupés en fines lamelles et couvrir. \\n\\n Il faut que les poireaux soient très fondants. \\n\\n Pendant ce temps coupez le roquefort et le jambon en petits carrés. \\n\\n Disposez le roquefort sur la pâte. \\n\\n Battre les oeufs avec la crème, du sel, du poivre et un peu de muscade. \\n\\n Une fois les poireaux bien cuits, les mélanger avec le jambon et la préparation oeuf/crème. \\n\\n Déposer le tout sur la pâte. \\n\\n Saupoudrer de gruyère râpé. \\n\\n Enfourner et cuire environ 25 minutes. \\n\\n Il faut que la pâte soit bien cuite dessous et que le dessus soit bien doré.\",\n",
       " \"Découper les bananes en rondelles et les fruits secs en cubes à l'aide d'une paire de ciseaux. \\n\\n Les mettre dans un grand bol et les recouvrir avec 20 cl de muscat, afin que les fruits soient imprégnés; réserver au frais. \\n\\n Mettre le mascapone dans un grand bol, aajouter la crème fraîche, le sucre et les 10 cl de muscat; bien mélanger au fouet. Réserver au frais. \\n\\n Sortir les fruits du frigo après 15 min de macération et verser le tout dans un wok, à feu fort et sans couvrir, afin que le muscat s'évapore. \\n\\n Y ajouter les cuillères à soupe de miel et la cannelle et laisser mijoter jusqu'à obtention d'une sauce épaisse et jusqu'à ce que les bananes aient rétréci un peu et soient toutes molles. \\n\\n Préparer quatre bols, couvrir le fond de la préparation fruitée et recouvrir ensuite d'une couverture épaisse du mélange à base de mascarpone. \\n\\n Alterner les couches, pour des coupelles hautes; ou faire juste une couche de chaque, si les coupelles sont plates et larges. \\n\\n Recouvrir le tout de noix ou amandes grillées (facultatif). \\n\\n 7) Bon appétit!\",\n",
       " \"Coupez 2 des bananes et les mixer avec les framboises, ajoutez le lait au feeling (mais il ne faut pas que ce soit trop liquide sinon il faut le manger à la paille )! \\n\\n Mixez le tout. \\n\\n Ajoutez la glace à la vanille à la préparation puis mixez. \\n\\n Versez le contenu dans un joli bol, versez le muesli dans un petit récipient à côté (comme ça si les gens n'en veulent pas on force personne). \\n\\n Coupez en rondelles la dernière banane et posez dessus (déco). \\n\\n Et voilaaaaaaaaaaaaaaa ! Bon appétit !! :-D\",\n",
       " \"Préchauffez votre four à 200°C (thermostat 6-7). \\n\\n Lavez le chou-fleur divisé en bouquets et les pommes de terre pelées. \\n\\n Faites-les cuire à la vapeur dans le panier d'un autocuiseur pendant 10 min après que la soupape se soit mise en rotation. \\n\\n Pendant que cuisent le chou-fleur et les pommes de terre, émincez les poireaux et l'oignon, puis faites revenir les lardons dans une poêle (n'ajoutez pas de matières grasses, c'est inutile). \\n\\n Une fois que les lardons ont rendu un peu de graisse (1-2 min), ajoutez les poireaux et l'oignon. \\n\\n Ne faites pas cuire trop longtemps pour que les lardons restent tendres. \\n\\n Prenez un plat à gratin (pas la peine de le beurrer) et disposez les pommes de terre et les bouquets de chou-fleur au fond. \\n\\n Ecrasez-les légèrement (ne faites pas de la purée pour autant...mais vous pouvez si vous avez envie !!) et ajoutez dessus votre préparation aux lardons. \\n\\n Saupoudrez de gruyère rapé selon votre goût, arrosez le tout de crème liquide et faites gratiner au four pendant 10 min à 230°C (thermostat 7-8). \\n\\n Sortez du four quand c'est bien doré et dégustez aussitôt (pas trop vite non plus parce que...est...haauuud !!!) \\n\\n Bon appétit !\",\n",
       " \"Verser les 2 cuillères à soupe d'huile dans une cocotte, émincer l'échalote et la faire revenir doucement durant 5 minutes. Rajouter les pilons de poulet, le gingembre, les 2 cuillères à soupe de miel, le zeste de citron, le jus de citron. \\n\\n Faire bien revenir les pilons en surveillant et rajouter un verre d'eau (+/- 20 cl) car si la cuisson est trop forte le miel devient caramel et cela attache très vite. \\n\\n Lorsque les pilons sont cuits (c'est à dire lorsque la viande se détache facilement de l'os) rajouter la crème fraîche, mélanger et laisser mijoter doucement durant 20 minutes. \\n\\n Pendant que les pilons mijotent, faire fondre le beurre à feu doux et verser le riz. Le laisser blondir 5 minutes en remuant (n'arrêtez pas de remuer !). \\n\\n Répartir dessus la dose de safran. Verser l'eau et mélanger. Tourner jusqu'à ce que le riz ait absorbé toute l'eau. Normalement, au bout de ce laps de temps le riz est cuit (il faut goûter !). \\n\\n Servir dans chaque assiette une part de riz et par dessus 1 ou 2 pilons recouverts de sauce. \\n\\n Rhaaaaa que c'est bon ! A taaaaaable !\",\n",
       " \"Tout d'abord, éplucher les pommes de terre. Les faire cuire coupées en tranches dans une casserole d'eau jusqu'à ce qu'elles soient faciles à écraser. \\n\\n Faire une purée en assaisonnant à souhait (sel poivre, noix de muscade...) et en ajoutant la crème fraîche pour la rendre plus souple. \\n\\n Découper en fines lamelle les poireaux et les faire revenir dans la moitié du beurre. Ajouter un peu d'eau et couvrir afin que le mélange se transforme peu à peu en une fondue de poireaux. \\n\\n Eplucher les oignons et les couper en petits cubes. Les faire réduire dans une poêle dans l'autre moitié du beurre. Y ajouter la viande hachée en petit morceaux et la faire cuire. \\n\\n Voici venu le temps de mettre le tout dans un plat à gratin : une couche de viande, la fondue de poireaux, la purée ensuite, et pour finir, le comté rapé. Mettre aau four afin que l'ensemble soit chaud et que le comté gratine un peu. \\n\\n Reste à servir bien chaud et à se régaler!\",\n",
       " \"Préchauffer le four à 180°C. \\n\\n Mixez les gateaux dans votre robot pour les réduire en poudre fine. Ajoutez le beurre mou et tapissez avec ce mélange le fond du moule à manquer (24 cm de diamètre). Posez votre moule au frigo. \\n\\n En attendant, mélangez le fromage blanc, les jaunes d'oeufs,le sucre et l'extrait de vanille. \\n\\n Montez les blancs d'oeufs doucemenent en neige ferme. Plus vous allez doucement, plus la masse va être ferme! \\n\\n Ajoutez les blancs en neige au mélange de fromage blanc. \\n\\n Epluchez les pommes et détaillez-les en cubes. Chauffez la noisette de beurre dans une pôele et ajoutez le sucre. Dès que le sucre commence à fondre, ajoutez vos pommes et faites dorer vos morceaux de pommes. \\n\\n Sortez votre moule du frigo, posez les pommes poêlées et le mélange de fromage blanc par dessus. \\n\\n Faites cuire prendant environ 30 à 35 minutes au four. Le gâteau doit être doré sur le dessus. Laissez refroidir et puis... Miaaam!\",\n",
       " \"Faites mariner les tranches de carpaccio dans un bol rempli de sauce Yakitori pendant au moins 10 minutes. \\n\\n Pendant ce temps, coupez des morceaux de masdaam d'environ 1 cm sur 4 cm, ou des cubes selon préférence. \\n\\n Enrobez les morceaux de fromage avec le boeuf bien mariné et piquez les sur des petits pics à brochette (ou alors sur des pics à brochette normaux coupés en deux). \\n\\n Faites cuire sur un grill ou à défaut sur une poêle chaude environ 1 à 2 minutes de chaque côté. \\n\\n Servez et dégustez immédiatement.\",\n",
       " \"Préparez un plat allant au micro-ondes. \\n\\n Coupez les filets de poisson en cubes assez gros et placez les dans le plat. \\n\\n Emincez les oignons et ajoutez-les au plat. \\n\\n Placez-y aussi le lait de coco, la soupe de poisson et les tomates en boites coupées grossièrement. \\n\\n Ajoutez le jus d'un citron vert, l'huile d'olive, les 4 cuillères à café de curry et le sel. \\n\\n Mélangez délicatement le tout. \\n\\n Placez le plat au micro-ondes et laissez cuire 15 à 20 minutes. \\n\\n Vérifiez de temps en temps la cuisson. \\n\\n Lorsque le curry de poisson est cuit, placez-le dans un joli plat de présentation. \\n\\n Hachez la coriandre grossièrement et répandez la sur le curry. \\n\\n Servez chaud avec un riz thaï ou du riz basmati. Vous pouvez accompagnez ce plat de Cheese Naan (pain indien au fromage). \\n\\n Régalez-vous!!!\",\n",
       " 'Pour la recette de pâte à pizza, il en existe une très bien sur ce site qui se nomme \"pâte à pizza épaisse et moelleuse\". \\n\\n Sinon, vous pouvez vous la procurer chez votre boulanger. \\n\\n Préchauffer votre four à 250°, thermostat 8-9 (il faut que le four soit bien chaud pour un résultat optimal). \\n\\n Une fois que la pâte est étalée et prête à aller au four, pincer sa surface en plusieurs endroits (y compris sur les bords) pour empêcher la pâte de gonfler pendant la cuisson. Parsemer la pâte de zaatar et d\\'huile d\\'olive et cuire 10 min. \\n\\n La pâte doit être souple mais cuite et le zaatar ne doit pas brûler. \\n\\n Vous pouvez, avant de la manger, mettre quelques gouttes de citron, c\\'est délicieux !',\n",
       " \"Bien laver les inaa et les laisser s’égoutter dans une passoire. \\n\\n Couper la tomate en petits cubes, hacher l'oignon, l'ail et les brins d’oignons verts. \\n\\n Mélanger la farine, le lait, l’œuf et une pincée de sel. Battre avec un fouet jusqu'à obtenir une pâte homogène. \\n\\n Mélanger la préparation aux inaa. \\n\\n Laisser reposer la pâte à beignets environ 20 min. \\n\\n Se servir d’une louche ou d’une grosse cuillère pour verser la pâte dans le bain de friture en formant de petits beignets. \\n\\n Faire dorer puis égoutter sur du papier absorbant. \\n\\n Continuer avec le reste de la préparation. \\n\\n Servir avec la sauce cocktail et une salade.\",\n",
       " \"émincez et faites revenir les oignons dans un cuiller d'huile d'olive. ajoutez-y une cuiller à soupe de massalé,du sel et du poivre. \\n\\n Pendant ce temps faites cuire les épinards environ 10 minutes à la vapeur (temps pour un cuit-vapeur électrique) \\n\\n Lorsque les oignons sont bien fondants ajoutez les épinards cuits, mélangez, puis ajoutez la sauce tomate, le ketchup ainsi que le gruyère rapé. \\n\\n Laissez cuire quelques minutes pour que le gruyère fonde, rectifiez l'assaisonnement et c'est prêt. \\n\\n Plat à servir avec un riz basmati et l'idéal: des naans au fromage!\",\n",
       " 'A l aide d un long et robuste couteau , couper le potiron en quartiers . Oter la partie filandreuse et les pépins puis peler les quartiers . C est plus facile de le faire dans cet ordre plutôt que de commencer par peler le potiron . Tailler des cubes d environ 3 cm de coté dans les quartiers de potiron . Allé le plus dur est fait ... \\n\\n Dans une sauteuse bien large et à fond épais , verser l eau , le sirop d érable . Ajouter la gousse de vanille fendue en deux , le baton de cannelle et porter à ébulition . Laisser cuire 25 minutes à petits bouillons ( feu modéré ) jusqu à obtention d un miel épais . Bien surveiller et remuer souvent afin que rien ne brûle !! Laisser refroidir une dizaine de minutes puis ajouter dans la sauteuse les cubes de potiron . Brasser le tout délicatement afin de bien enrober les morceaux de potiron . Laisser refroidir . \\n\\n Préchauffer le four à 150° . Retirer le bâton de cannelle , la gousse de vanille . Avec un petit couteau racler les graines de vanille qui seraient restés dans la gousse et les joindre dans le mélange au potiron . Remuer une dernière fois . Répartir le tout dans un plat allant au four et enfourner pour 1h30 . Surveiller la cuisson , retourner les cubes de potiron toutes les 15/20 minutes . Si jamais les cubes prenaient trop de couleur , recouvrir le plat d une feuille d alu et baisser un peu le thermostat . Broyer grossièrement les noix de pécan au mortier . 20 minutes avant la fin de la cuisson les répartir sur les cubes de potiron et ne plus toucher à rien ... il faut laisser finir de cuire comme ca . \\n\\n A la sortie du four , laisser refroidir à température ambiante et déguster à l aide de pics en bois . Miaaaammm',\n",
       " 'Casser les oeufs dans un plat, les fouetter et ajouter le sucre, l\\'huile, la levure chimique et le sucre vanillé. Continuer à battre pour obtenir un mélange homogène. \\n\\n Verser ensuite de la semouline sur la préparation (progressivement) pour obtenir une pâte style gâteau quatre quarts mais un petit peu plus épaisse. \\n\\n Verser la préparation dans un moule carré ou rectangulaire beurré et enfourner. Pour le temps de cuisson tout dépend de votre four, vérifier aavec le test du \"couteau qu\\'on plante et qui doit sortir propre\", en général 30 minutes suffisent. \\n\\n Pendant que votre gâteau est dans le four, préparer le sirop en mettant sur le feu 350 ml d\\'eau avec le jus des oranges, l\\'eau de fleurs d\\'oranger, le sucre et la cannelle. Amener à ébullition en remuant et ensuite laisser frémir à très petit feu. \\n\\n Quand votre gâteau est cuit, verser dessus le sirop en répartissant bien. \\n\\n Vous puvez ensuite le décorer à votre convenance avec des amandes concassées ou toute autre garniture entrant dans la composition des pâtisseries. Laissez refroidir et servez accompagné de thé à la menthe ou de café. \\n\\n Une variante de présentation:vous pouvez découper des portions plus petites et les mettres dans des godets à petits four. \\n\\n Bon appétit.',\n",
       " 'Mixer grossièrement les betteraves en réservant 4 batonnets pouqr la décoraation. \\n\\n Assaisonner avec la vinaigrette. \\n\\n Mixer le saumon, en réservant 4 fines lanières pour la décoration, avec la crème fraiche et le jus de citron. \\n\\n Dresser dzns une verine : au fond la betterave, le saumon avec la crème. \\n\\n Finir avec une lanière de saumon, un batonnet de betterave et quelques brins de ciboulette. \\n\\n servir frais',\n",
       " '- Laver les pommes de terre \\n\\n - Les couper en rondelles pas trop grosses (perso je ne les épluche pas) \\n\\n - Les disposer uniformément sur le plat spécial Crisp \\n\\n - Mettre un filet d\\'huile d\\'olive et la répartir sur les pommes de terre à l\\'aide d\\'un sopalin \\n\\n - Bien saler et poivrer à souhait \\n\\n - Enfourner le plat dans votre four Crisp \\n\\n - Choisir la cuisson Crip en mode \"frites\" et lancer le programme \\n\\n Pendant ce temps-là couper le maasdam en petits dominos. \\n\\n - Une fois la 1ère cuisson terminée en lancer une 2ème sur le même programme \\n\\n - Retourner les pommes de terre \\n\\n - Lancer une 3ème cuisson \\n\\n - Si les pommes de terre sont encore un peu dures lancer une dernière cuisson \\n\\n - Répartir les morceaux de maasdam sur le dessus du plat \\n\\n - Enfourner votre plat dans le four en mode grill pendant 4 min \\n\\n C\\'est prêt ! servez et ajoutez 2 cuillères à soupe de crème fraiche par personne. Régalez-vous de cette moomoonade ;)',\n",
       " 'Mettre dans le pot de la MAP l\\'eau tiède, l\\'huile et le yaourt. Recouvrir de farine. Saupoudrer de coriandre. \\n\\n Mettre dans les coins le sel, le miel, la levure chimique. \\n\\n Creuser au milieu avec le doigt pour mettre la levure de boulanger. \\n\\n Remettre le pot et programmer \"pétrissage\", ou \"pâte\" ou \"pizza\" suivant les modèles. \\n\\n Avant la fin du programme, préchauffer le four à 240°C (thermostat 8) en mettant le lèche frite sur la sole du four et une plaque anti-adhésive sur grille. \\n\\n A la fin du programme, sortir la pâte sur le plan de travail fariné. Diviser la pâte en parts de la taille d\\'une mandarine. Pendant le travail sur une part, mettre les autres en attente sous un torchon et abaisser les parts une par une en les tapant avec le plat de la main et les manipulant avec les mains pour en faire des galettes (on peut préférer le rouleau). Attention la pâte est un peu collante, saupoudrer de farine. \\n\\n Incorporer une vache qui rit et refaçonner la part en galette, en la repliant, la tapant du plat de la main et la refaçonnant à la main (on peut utiliser le rouleau). \\n\\n Le four bien chaud, mettre de l\\'eau dans le lèche-frite et asperger les naans d\\'eau en les vaporisant. \\n\\n Disposer les naans sur la plaque anti-adhésive ou sur une plaque recouverte de papier de cuisson (sulfurisé). \\n\\n Laisser le four à 240°C pendant 5 min, puis baisser à 220°C et laisser encore les naans 10 min. Ils doivent avoir gonflé et être dorés. \\n\\n Les sortir du four et étaler dessus du beurre fondu. A présenter avec du chutney à la mangue.',\n",
       " \"Dans un wok ou un faitout, faire chauffer une petite cuillère à soupe d'huile. \\n\\n Dans l'huile chauffée, faire revenir l'oignon, l'ail et le poivron émincés (environ 5 min). \\n\\n Ajouter les morceaux de poulet et les faire légèrement dorer. \\n\\n Ajouter ensuite les courgettes, crevettes et tomates. \\n\\n Assaisonner de curry et bien mélanger. \\n\\n Faire revenir le tout environ 5 minutes puis ajouter le lait de coco. \\n\\n Faire mijoter encore 15 a 20 minutes à petits bouillons pour faire réduire la sauce qui peut s’avérer liquide. \\n\\n Servir avec du riz basmati et/ou du pain naan. \\n\\n Bon appétit !\",\n",
       " \"Couper le tofu en tout petits morceaux (pour imiter du boeuf haché). \\n\\n Le mettre dans un faitout avec une cuillère à soupe d'huile d'olive et les épices. Faire revenir quelques minutes en mélangeant bien le tout, puis ajouter l'eau. Mélanger à nouveau, ajouter les haricots rouges, le concentré de tomates et le vin rouge. \\n\\n Chauffer à feu vif 3 minutes puis laisser mijoter 30 minutes à feu doux en remuant régulièrement (le mélange ne doit pas avoir un rendu trop liquide mais si ça attache, on peut ajouter un peu d'eau). \\n\\n Faire cuire le riz comme indiqué sur le paquet, préparer les naans et couper les tomates en petits cubes. \\n\\n Mettre le riz dans les assiettes, recouvrir de chili con tofu, parsemer de cubes de tomates et servir avec les naans.\",\n",
       " \"Faites revenir les deux oignons dans un peu d'huile. Une fois brunis, ajoutez l'ail et le jus de citron. \\n\\n Ajoutez le poulet et laissez sur le feu le temps de préparer le reste des ingrédients. \\n\\n Dans un moulin à épices, mettre toutes les épices et réduisez en poudre / purée. Mélangez cette préparation avec le yaourt. \\n\\n Ajoutez le yaourt à votre poulet. Ajoutez la purée de tomates. \\n\\n Mélangez et laissez cuire 30 min. Garnissez éventuellement de coriandre fraîche. \\n\\n Dégustez avec du riz ou des naans !\",\n",
       " 'On met la levure dans l’eau tiède, puis le sucre et le sel. \\n\\n On ajoute le lait et l’huile et on mélange. \\n\\n On ajoute à la farine. \\n\\n On mélange pour avoir une pâte qui doit être assez liquide et collante, puis on recouvre d’un peu d’huile, on couvre et on laisse reposer 10 à 15 min. \\n\\n Ensuite on forme les naans : de petites boules de pâte de la taille d’un poing, qu’on roule dans la farine et qu’on laisse reposer 15 à 20 min en les recouvrant d’un torchon. \\n\\n On préchauffe le four au maximum et on met une grille tout en haut. \\n\\n Pour façonner un naan, on prend une boule et on la passe d’une paume de la main à l’autre : elle s’étire naturellement jusqu’à former une sorte de « goutte » que l’on va placer sur un plat beurré ou recouvert d’un papier cuisson. \\n\\n On met au four au plus près de la source de chaleur et on fait cuire 2min30 environ (ou plus si votre four ne monte pas très haut en température). \\n\\n En les sortant, on les recouvre de beurre fondu… et on les sert de suite ! \\n\\n Variantes : on saupoudre le naan d’ail haché, d’oignon émincé, de graines, avant de le mettre au four. Pour un naan au fromage, on place une portion de Vache qui rit au milieu du naan, on le replie et on l’étale avant cuisson. \\n\\n Variante sans four : on le fait cuire dans une grande poêle très chaude.',\n",
       " \"Dans un saladier, mélangez la farine et la levure. \\n\\n Ajoutez-y tous les autres ingrédients, sauf le fromage de chèvre, et formez une boule avec la pâte, en mélangeant avec vos mains. \\n\\n Laissez reposer (si vous avez le temps) une demi-heure environ. \\n\\n Divisez la pâte en 7 boules à peu près égales. \\n\\n Sur un support légèrement fariné, (assiette, plat, ou planche, par exemple) étalez une des 7 boules, disposez sur un côté une à deux tranches de chèvre assez fine(s), et refermez le naan en le repliant, et sans oublier de souder les bords. \\n\\n Renouvelez l'opération pour chacune des petites boules de pâte. \\n\\n Faites chauffer un peu d'huile à feu moyen à fort dans une poêle (moi je passe un essuie-tout quand l'huile est chaude, pour absorber l'excédant d'huile et pour des naans moins gras) et faites-y cuire les naans, quelques minutes d'un côté, avant de les retourner. \\n\\n La cuisson est relativement simple : quand le naan est doré d'un côté (au bout de 4 minutes environ) il faut le retourner, et quand il est également doré de l'autre côté, il est cuit !\",\n",
       " \"On prend un saladier, on mélange la farine, le sucre, la levure (astuce : on peut passer au tamis pour rendre plus aérien le mélange). \\n\\n On fait fondre le beurre au micro ondes en évitant de tout faire exploser ! \\n\\n On le sort, et le verse dans le saladier, on casse l’œuf et on touille. \\n\\n Ça fait une jolie pâte bien homogène alors on jette les pépites de chocolat et les brisures de m&m's (préalablement tapoter avec un rouleau à pâtisserie ou éclater avec un magnifique marteau). \\n\\n C'est bien mélangé ? \\n\\n Alors direction le roulage de cookies! \\n\\n Sur votre plaque de cuisson, tapissé de papier sulfurisé, on prend un morceau de pâte, on le roule dans ses mains légèrement humides, on dépose sur la plaque et appuie légèrement (pour garder un coté bombé et moelleux à la sortie du four !). \\n\\n On oublie pas d'espacer, car ils vont s'étaler sous la chaleur. \\n\\n On est prêt! \\n\\n Direction le four pour 10 mn de fiesta à 200°C. (bien surveiller la cuisson : les cookies doivent ressortir avec l'impression d'être encore mous et peu cuits, pas de panique ils durciront en refroidissant) \\n\\n Laisser refroidir sur une grille ou soyez impatient et dégustez tiède ! Miam miaaam\",\n",
       " \"Commencez par faire pocher le Haadock dans le lait avec la feuille de laurier 10 min. \\n\\n Réservez le poisson et mettez le lait de côté, il vous servira pour le reste de la recette. \\n\\n Hachez l'oignon, le poireau, la pancetta et coupez en dés la pomme de terre. \\n\\n Mettre le tout à revenir dans le beurre. \\n\\n Une fois le tout ayant réduit ajoutez le maïs et son jus. \\n\\n Faites rissoler 3 minutes, versez le lait que vous aviez préalablement réservé et laissez cuire les patates au maximum. \\n\\n Pendant ce temps prenez vos boules de pain, creusez-les en profondeur pour y faire un bol (attention à ne pas attaquer la croûte sinon au service tout s'échappera) . \\n\\n Au service, versez votre soupe dans les boules de pain, ajoutez le poisson et décorez selon vos envies. \\n\\n Bon appétit !\",\n",
       " \"Emincer les échalotes et la ciboulette. \\n\\n Laver les feuilles de menthe et de coriandre, puis les couper finement. Mélanger aux échalotes et ciboulette. \\n\\n Ajouter quelques morceaux émincés de galanga. \\n\\n Poêler la viande avec un filet d'huile : la viande ne doit pas être cuite, juste colorée. \\n\\n La laisser refroidir dans une assiette et la couper en lamelles le plus finement possible. Réserver. \\n\\n Dans une poêle sans matière grasse, mettre une poignée de riz (basmati ou gluant) et le griller doucement. \\n\\n Lorsqu'il a doré, mettre le riz grillé dans un mortier pour le réduire en poudre (se conserve très bien par la suite dans un bocal hermétique). \\n\\n Mélanger la viande aux herbes, ajouter l'assaisonnement de sauce poisson, jus de citrons et sucre. \\n\\n Mélanger le tout, et ajuster l'assaisonnement. \\n\\n Parsemer de riz grillé et ajouter le piment. \\n\\n Mélanger et laisser reposer quelques minutes avant de servir . \\n\\n Le laap se mange habituellement avec du riz (gluant ou basmati) en accompagnement, le riz doit être froid ou tiède.\",\n",
       " 'Allez c’est parti, alors dans l’ordre : \\n\\n Commence par faire revenir l’échalote ciselée, le bœuf et le veau dans une poêle avec un peu d’huile d’olive à feu vif. Sans oublier de saler et d’assaisonner avec les herbes de Provence (petit(e) étourdit(e) !) \\n\\n Pendant ce temps, tu peux mixer le jambon sec, les feuilles de persil et les tomates séchées (oui, oui dans un mixeur) \\n\\n Une fois que la viande est bien cuite, tu verses le vin blanc sec pour déglacer (jusqu’à évaporation). \\n\\n Dans un saladier, tu vas maintenant battre les 2 œufs et y ajouter le contenu de la poêle, du mixeur, le parmesan râpé et bien mélanger. Pas besoin de saler, le jambon sec et le parmesan font le travail. \\n\\n Fais préchauffer le four à 200°C - thermostat 6-7 (et oui, il va pas se mettre en marche tout seul !) \\n\\n C’est maintenant au tour des légumes : il faut leur couper le chapeau (aie), les évider (ouille) et les garnir de cette délicieuse farce (haaa). Parsème-les de chapelure et mets un copeau de beurre dessus pour que ça gratine bien. \\n\\n Tu vas ensuite mettre un filet d’huile d’olive dans un grand plat, y disposer les légumes farcis et c’est parti pour 30 min de cuisson. \\n\\n Là c’est plus cool, tu as bien le temps de ranger le souk que tu viens de mettre dans la cuisine et tu peux lancer tranquillement un riz safrané pour accompagner tout ça. \\n\\n Alors qu’est-ce que tu en dis ?',\n",
       " \"Battre les yaourts 5 min. \\n\\n Peler et cuire les carottes à la vapeur pendant 15 min. Les écraser ensuite à la fourchette. Les incorporer aux yaourts battus avec l'ail pressé. \\n\\n Faire revenir les graines de moutarde dans de l'huile, quand elles crépitent, les retirer et les incorporer sans l'huile. \\n\\n Ajouter du jus de citron. \\n\\n Saupoudrer légèrement de gingembre et de curry indien. \\n\\n Mettre au frais et servir en entrée ou apéritif avec des naan.\",\n",
       " \"Peler les pommes de terre et les tailler en frites. \\n\\n Faire griller la viande à la poêle coupée en lanières. Détailler les tomates en dés et émincer finement l'oignon. \\n\\n Frire les frites de pommes de terre puis les égoutter sur du papier absorbant. \\n\\n Faire dorer le naan puis le tartiner de sauce blanche, ajouter par-dessus les tomates, les frites, la viande grillée et l'oignon. Recouvrir d'un peu de moutarde et/ou ketchup. \\n\\n Bon appétit.\",\n",
       " \"Pour la salade commencer par ciseler le persil frais. \\n\\n Casser et torréfier les amandes une dizaine de minute pour qu'elles soient encore plus gourmandes ! \\n\\n Eplucher le chou rave et la poire et coupez les en fines lamelles de la taille d’une frite fine.\\nEssayer de couper le fenouil de la même façon pour créer un trompe l’oeil même si le fenouil est calibré bizarrement\\nCitronner le tout pour éviter que les lamelles ne s’oxydent et noircissent ! \\n\\n Préparer l’assaisonnement : écraser une moitié d’avocat bien mûr avec un filet d’huile d’olive, le jus d’un demi citron et du gros sel. \\n\\n Mélanger bien les lamelles dans l’assaisonnement, rajouter les amandes par-dessus ainsi que le persil ciselé.\\nUne boule de ricotta en haut de la montagne avec un filet d’huile d’olive et on est bon ! \\n\\n Pour la snow (labneh) : Mettre les oignons à caraméliser : dans une poêle, pour un oignon émincé verser un demi verre d’eau, le sucre et le miel et laisser confire.\\nRajouter de l’eau au besoin tant que les oignons ne sont pas sexy à souhait ! \\n\\n Etaler les oignons en base sur une assiette\\nRajouter deux grosses cuillères à soupe de yaourt grecque\\nEn topping, un peu d’huile d’olive, de noix et pignons rôtis et d’épices (zaatar, paprika) pour colorer tout ça !\\n\\n\\n\\nDégustez avec du pain. Amusez vous, ce midi je m’en suis fait un au kiwi c’était cool !\\nBientôt la saison de la rhubarbe ça marche super avec une compote de rhubarbe !\",\n",
       " \"Pour le cheese naan mélanger la farine, le sucre, la levure. Ajoute petit à petit l'eau Mélanger le tout, jusqu'à obtenir une pâte homogène. Laisser reposer pendant heures. Faire cuire ensuite les cheeses naan à la poêle à feu vif 2 minutes de chaque côté. \\n\\n Pour le picco de gallo. Coupez les tomates en petits dés. Hachez l’oignon, et la coriandre fraîche mélangez le tout dans un saladier. Verser le jus de citron par dessus. \\n\\n Pour le guacamole Enlevez la peau des avocats. avec une fourchette, écrasez les avocats. mélangez l'avocat avec l'oignon et les tomates. Ajoutez le sel et du citron.\",\n",
       " 'Préparer tous les ingrédients. L\\'ail, bien rincer les pommes de terre. Cuisson avec la peau. \\n\\n Commencez par confire vos gousses d\\'ail avec la peau dans de l\\'huile d\\'olive. \\n\\n Ensuite glacez vos pommes de terre dans la sauteuse : huile d\\'olive + Zaatar 3 pincées + 1/2 oignon rouge émincé \\n\\n Mélanger de temps en temps 30 min. \\n\\n Préparez votre épaule d\\'agneau : huile d\\'olive + légèrement salée Poivrez et généreusement Zaatar. Filmez et remettre au frigo. \\n\\n Faîtes la même chose avec les 4 tournedos d\\'agneau. Filmes et remettre au frigo. \\n\\n Sortez vos viandes 1/2 H du Frigo avant. \\n\\n Commencez par faire bien revenir votre épaule d\\'agneau dans de l\\'Huile d\\'olive sur toute les faces. Réservez. \\n\\n Snackez vos tournedos à la plancha. Réservez. \\n\\n Déglacez votre cocotte (les sucs de l\\'épaule d\\'agneau) avec du fond de veau. \\n\\n Faîtes revenir vos 2 Oignons roue et 2 oignons blanc. Belle couleur. \\n\\n Rajoutez votre épaule d\\'agneau. Rajoutez vos 2 bouteilles de rosé. Portez à ébullition pendant 10 Min pour \"évaporer l\\'alcool\". \\n\\n Fermez votre cocotte et régler TH 3 pendant 2 fois 99 Min. \\n\\n Petits bouillons. Goutez l\\'assaisonnement et rectifiez éventuellement le ZAATAR, le sel et le poivre. \\n\\n Le piment d\\'Alep (avec précaution) sera proposé à part mélangé au jus de cuisson. \\n\\n Prolongez la cuisson de 81 mn. Intégrez le tournedos d\\'agneau et prolongez à nouveau la cuisson de 81 mn. \\n\\n Toujours à feu Doux. 30 mn avant la fin de cuisson vous intégrez les pommes de terre et 1h avant la fin de cuisson vous rajoutez l\\'ail confit. \\n\\n Dépêchez vous de finir l\\'apéro car votre agneau Zaatar de 6H est prêt. Dressez vos viandes avec précaution pour un belle présentation. \\nService à l\\'assiette conseillé.',\n",
       " \"Préchauffer le four à 200°C / T7 \\n\\n Dans une poêle; faire fondre le beurre et ajouter une 1/2 cuill à café de zaatar. (vous pouvez le remplacer par des herbes de Provence). Ajouter les gnocchi et les faire dorer 5-6 min à feu moyen et à couvert. \\n\\n Pendant ce temps, éplucher et ciseler l'oignon. Dans une casserole, ajouter un filet d'huile d'olive et faire fondre l'oignon 5 min. \\n\\n Ajouter le concentré de tomate avec un fond d'eau et délayer. \\n\\n Ajouter la crème fraîche, le thym, saler et poivrer. Laisser mitonner à feu doux pendant 10 min. \\n\\n Dans un plat à gratin, verser les gnocchi et les recouvrir avec la sauce. Ajouter le parmesan râpé et l'emmental. Faire gratiner 10-15 min au four.\",\n",
       " \"Tailler des tranches d'edam, de gouda et de maasdam. \\n\\n Dérouler la pâte, la garnir de crème épaisse. \\n\\n Répartir les 3 fromages sur la pizza, terminer en émiettant le bleu de Graven par dessus. \\n\\n Enfourner 10 minutes à 220°C.\",\n",
       " \"Dans un robot de préférence, mélanger tous les ingrédients secs : farine, levure chimique, sel et sucre. \\n\\n Faire un puits dans cette farine, et ajouter les ingrédients liquides : huile, yaourt, levure boulangère et la moitié de l’eau. \\n\\n Pétrir pendant 10 min en position moyenne. L’objectif est que la pâte devienne souple et qu’elle ne colle plus aux parois du bol ! \\n\\n Ajouter la moitié d’eau restante au fur et à mesure, jusqu’à obtenir une belle pâte lisse. Ne pas hésiter à réajuster en eau ou farine pour obtenir la consistance voulue. \\n\\n Recouvrir la pâte d’un torchon et la laisser reposer et lever dans un lieu sec voir chaud (prêt d’un radiateur par ex) la pâte peut alors doubler voir tripler de volume grâce aux levures. \\n\\n Pendant le repos de la pâte, ouvrir les 12 portions de cream cheese dans un petit bol et bien mélanger, ce sera plus facile à travailler ensuite. \\n\\n Au bout de 1h à 2h, former 12 petites boules avec la pâte (de la taille d’une mandarine). Disposer les petites boules sur un plan de travail fleuré afin de commencer à abaisser la pâte. \\n\\n Commencer alors avec la 1ère boule, et l’aplatir au rouleau pour d’obtenir un disque fin (3/4 mm) de la taille d’une assiette. En faire une deuxième toujours de la même taille. \\n\\n Étaler une bonne cuillère à soupe de cream cheese sur le 1er disque avec une spatule. \\n\\n Puis le recouvrir du 2ème disque de pâte, ensuite, on presse les bords délicatement pour ne pas que la vache qui rit ne s’enfuit et c’est fini ! \\n\\n Placer délicatement votre naan dans une poêle, et laisser dorer 5 minutes de chaque côté. \\n\\n Décomposer le la viande hachée puis mélanger avec les épices. \\n\\n Former des steaks à peu près de la tailles des naans. \\n\\n Cuire la viande et finir la cuisson en plaçant le fromage dessus et mettre un couvercle sur la poêle pour finir à l’étouffé. \\n\\n Détailler les patates douces en frites. Mélanger avec les épices et l’huile et mettre au four 20 min à 180°C. \\n\\n Pour la sauce au yaourt : mélangez le yaourt à la grecque, l'ail, le gingembre et l'oignon. Mélanger les épices au yaourt. C'est prêt !\",\n",
       " 'Commencer par préchauffeer le four à 180°C. Ensuite, couper l’oignon finement. \\n\\n Mélanger l’oignon, la viande hachée, une belle poignée de coriandre fraîche ciselées, le 4 épices et le cumin, puis saler et poivrer. \\n\\n Faire des boulettes un peu de la forme de kefta (ovales). \\n\\n Faire revenir dans une poêle chaude avec de l’huile. \\n\\n Pour la sauce : couper le concombre en tout petits dés, puis verser le concombre dans le yaourt, ajouter de la menthe ciselée et saler, poivrer. \\n\\n Mettre les naans au four ¾ minutes à 180°C. \\n\\n Déposer 2 keftas, la sauce yaourt, quelques oignons rouges, quelques brins de feuilles de menthe et coriandre.']"
      ]
     },
     "execution_count": 27,
     "metadata": {},
     "output_type": "execute_result"
    }
   ],
   "source": [
    "list(recipes_df_new.recipe_steps[recipes_df_new.recipe_steps.apply(lambda x : x.find('aa')) != -1])"
   ]
  },
  {
   "cell_type": "code",
   "execution_count": 28,
   "id": "0313a69c",
   "metadata": {
    "ExecuteTime": {
     "end_time": "2022-01-06T10:38:13.433814Z",
     "start_time": "2022-01-06T10:38:12.246932Z"
    }
   },
   "outputs": [],
   "source": [
    "recipes_df = recipes_df.replace(to_replace =' {2,}', value = ' ', regex = True)"
   ]
  },
  {
   "cell_type": "code",
   "execution_count": 29,
   "id": "a3ec9384",
   "metadata": {
    "ExecuteTime": {
     "end_time": "2022-01-06T10:38:13.483742Z",
     "start_time": "2022-01-06T10:38:13.436947Z"
    }
   },
   "outputs": [
    {
     "data": {
      "text/plain": [
       "['Mélanger simplement tous les ingrédients !',\n",
       " 'Une simple émulsion et le tour est joué !',\n",
       " \"Il suffit de mélanger le tout dans l'ordre donné.\",\n",
       " 'Mélanger le tout et laisser macérer 3-4 jours.',\n",
       " \"Préparation : Mélanger le tout. C'est prêt!\",\n",
       " \"48h a l'avance, melanger les indredients\",\n",
       " 'Mixer tous les ingrédients et servir aussitôt.',\n",
       " \"C'est très simple : tout mélanger dans un mixeur.\",\n",
       " 'Mélanger tout les ingrédients et boire trés frais',\n",
       " 'Mélanger tous les ingrédients dans un bol.',\n",
       " 'Mettre le tout dans un mixeur et dégustez.',\n",
       " 'Mettre dans un bol, mélanger, et bon appétit!!!',\n",
       " 'Mélanger le tout. \\n\\n Ne pas laisser reposer.',\n",
       " 'Mixer tous les ingrédients et réserver au frais.',\n",
       " \"Mélangez tous les ingrédients... c'est prêt!!!\",\n",
       " 'Mélanger et shaker dans un shaker à glaçons !',\n",
       " \"Mélanger, verser, c'est prêt à déguster.\",\n",
       " 'Mixer le tout au blender environ 30 sec.',\n",
       " 'Simplement mélanger le tout et... Santé!',\n",
       " 'Mélangez tous les ingrédients et dégustez frais !',\n",
       " \"Mélanger tous les ingrédients et c'est prêt.\",\n",
       " 'Mixez le tout, et trempez-y les tacos! ;-)',\n",
       " \"Mélangez tous les ingrédients.. c'est prêt !\",\n",
       " 'On mixe le tout et on met au frais 3 à 4 heures.',\n",
       " \"Mélanger tous les ingrédients dans l'ordre.\",\n",
       " \"Mélanger les ingrédients un à un dans l'ordre.\",\n",
       " 'Mixer le tout pour obtenir un mélange homogène. ',\n",
       " 'Préparer le café, ajouter le beurre et touiller.',\n",
       " 'Mélanger les ingrédients et servir bien frais..',\n",
       " 'Mixer le tout et déguster immédiatement.']"
      ]
     },
     "execution_count": 29,
     "metadata": {},
     "output_type": "execute_result"
    }
   ],
   "source": [
    "recipes_df['steps_length'] = recipes_df.recipe_steps.apply(lambda x : len(x))\n",
    "# recipes_df[recipes_df.steps_length<30].shape\n",
    "# recipes_df[recipes_df.steps_length>30 &  recipes_df.steps_length<100].recipe_steps\n",
    "# recipes_df[recipes_df.steps_length>30] & recipes_df[recipes_df.steps_length<100]\n",
    "\n",
    "\n",
    "list(recipes_df.query('steps_length >= 40 & steps_length < 50').recipe_steps)\n"
   ]
  },
  {
   "cell_type": "code",
   "execution_count": 30,
   "id": "9142a4ba",
   "metadata": {
    "ExecuteTime": {
     "end_time": "2022-01-06T10:38:18.275098Z",
     "start_time": "2022-01-06T10:38:18.254901Z"
    }
   },
   "outputs": [
    {
     "data": {
      "text/html": [
       "<div>\n",
       "<style scoped>\n",
       "    .dataframe tbody tr th:only-of-type {\n",
       "        vertical-align: middle;\n",
       "    }\n",
       "\n",
       "    .dataframe tbody tr th {\n",
       "        vertical-align: top;\n",
       "    }\n",
       "\n",
       "    .dataframe thead th {\n",
       "        text-align: right;\n",
       "    }\n",
       "</style>\n",
       "<table border=\"1\" class=\"dataframe\">\n",
       "  <thead>\n",
       "    <tr style=\"text-align: right;\">\n",
       "      <th></th>\n",
       "      <th>recipe_id</th>\n",
       "      <th>recipe_url</th>\n",
       "      <th>recipe_title</th>\n",
       "      <th>recipe_type</th>\n",
       "      <th>recipe_steps</th>\n",
       "      <th>first_letter</th>\n",
       "      <th>steps_length</th>\n",
       "    </tr>\n",
       "  </thead>\n",
       "  <tbody>\n",
       "    <tr>\n",
       "      <th>0</th>\n",
       "      <td>10534</td>\n",
       "      <td>https://www.marmiton.org/recettes/recette_le-c...</td>\n",
       "      <td>Le crumble aux pommes du Chat qui Tousse</td>\n",
       "      <td>Dessert</td>\n",
       "      <td>Préchauffer le four à 210°C (thermostat 7). \\n...</td>\n",
       "      <td>P</td>\n",
       "      <td>567</td>\n",
       "    </tr>\n",
       "    <tr>\n",
       "      <th>1</th>\n",
       "      <td>10531</td>\n",
       "      <td>https://www.marmiton.org/recettes/recette_esca...</td>\n",
       "      <td>Escalopes lucullus à la cocotte</td>\n",
       "      <td>Plat principal</td>\n",
       "      <td>Coupez l'oignon en petits morceaux, faites rev...</td>\n",
       "      <td>C</td>\n",
       "      <td>555</td>\n",
       "    </tr>\n",
       "    <tr>\n",
       "      <th>2</th>\n",
       "      <td>10529</td>\n",
       "      <td>https://www.marmiton.org/recettes/recette_terr...</td>\n",
       "      <td>Terrine de foie de porc</td>\n",
       "      <td>Plat principal</td>\n",
       "      <td>- hacher (pas trop fin) le foie, le lard, les ...</td>\n",
       "      <td>-</td>\n",
       "      <td>538</td>\n",
       "    </tr>\n",
       "    <tr>\n",
       "      <th>3</th>\n",
       "      <td>10530</td>\n",
       "      <td>https://www.marmiton.org/recettes/recette_lapi...</td>\n",
       "      <td>Lapin au vin blanc (à la cocotte)</td>\n",
       "      <td>Plat principal</td>\n",
       "      <td>Faire revenir les échalotes et les lardons dan...</td>\n",
       "      <td>F</td>\n",
       "      <td>286</td>\n",
       "    </tr>\n",
       "    <tr>\n",
       "      <th>4</th>\n",
       "      <td>10528</td>\n",
       "      <td>https://www.marmiton.org/recettes/recette_truf...</td>\n",
       "      <td>Truffes en chocolat</td>\n",
       "      <td>Confiserie</td>\n",
       "      <td>La veille : faire fondre le chocolat au bain-m...</td>\n",
       "      <td>L</td>\n",
       "      <td>381</td>\n",
       "    </tr>\n",
       "    <tr>\n",
       "      <th>...</th>\n",
       "      <td>...</td>\n",
       "      <td>...</td>\n",
       "      <td>...</td>\n",
       "      <td>...</td>\n",
       "      <td>...</td>\n",
       "      <td>...</td>\n",
       "      <td>...</td>\n",
       "    </tr>\n",
       "    <tr>\n",
       "      <th>70598</th>\n",
       "      <td>532439</td>\n",
       "      <td>https://www.marmiton.org/recettes/recette_buch...</td>\n",
       "      <td>Bûche de Noël au chocolat et crêpes dentelles</td>\n",
       "      <td>Dessert</td>\n",
       "      <td>Faire fondre les chocolats au bain marie avec ...</td>\n",
       "      <td>F</td>\n",
       "      <td>733</td>\n",
       "    </tr>\n",
       "    <tr>\n",
       "      <th>70599</th>\n",
       "      <td>532434</td>\n",
       "      <td>https://www.marmiton.org/recettes/recette_cook...</td>\n",
       "      <td>Cookies aux noix de pécan et au chocolat</td>\n",
       "      <td>Dessert</td>\n",
       "      <td>Pour le beurre de pécan : Faire fondre le beur...</td>\n",
       "      <td>P</td>\n",
       "      <td>973</td>\n",
       "    </tr>\n",
       "    <tr>\n",
       "      <th>70600</th>\n",
       "      <td>532401</td>\n",
       "      <td>https://www.marmiton.org/recettes/recette_sand...</td>\n",
       "      <td>Sando au poulet</td>\n",
       "      <td>Plat principal</td>\n",
       "      <td>Couper le poulet en morceaux de 5/6cm. \\n\\n Ba...</td>\n",
       "      <td>C</td>\n",
       "      <td>785</td>\n",
       "    </tr>\n",
       "    <tr>\n",
       "      <th>70601</th>\n",
       "      <td>532213</td>\n",
       "      <td>https://www.marmiton.org/recettes/recette_grat...</td>\n",
       "      <td>Gratin pomme de terre et panais</td>\n",
       "      <td>Accompagnement</td>\n",
       "      <td>Éplucher les pommes de terre et le panais et l...</td>\n",
       "      <td>É</td>\n",
       "      <td>977</td>\n",
       "    </tr>\n",
       "    <tr>\n",
       "      <th>70602</th>\n",
       "      <td>532201</td>\n",
       "      <td>https://www.marmiton.org/recettes/recette_tour...</td>\n",
       "      <td>Tourte au saumon et à la béchamel au citron</td>\n",
       "      <td>Pizza, tarte, quiche</td>\n",
       "      <td>Dans une casserole, faire fondre le beurre pui...</td>\n",
       "      <td>D</td>\n",
       "      <td>660</td>\n",
       "    </tr>\n",
       "  </tbody>\n",
       "</table>\n",
       "<p>70403 rows × 7 columns</p>\n",
       "</div>"
      ],
      "text/plain": [
       "       recipe_id                                         recipe_url  \\\n",
       "0          10534  https://www.marmiton.org/recettes/recette_le-c...   \n",
       "1          10531  https://www.marmiton.org/recettes/recette_esca...   \n",
       "2          10529  https://www.marmiton.org/recettes/recette_terr...   \n",
       "3          10530  https://www.marmiton.org/recettes/recette_lapi...   \n",
       "4          10528  https://www.marmiton.org/recettes/recette_truf...   \n",
       "...          ...                                                ...   \n",
       "70598     532439  https://www.marmiton.org/recettes/recette_buch...   \n",
       "70599     532434  https://www.marmiton.org/recettes/recette_cook...   \n",
       "70600     532401  https://www.marmiton.org/recettes/recette_sand...   \n",
       "70601     532213  https://www.marmiton.org/recettes/recette_grat...   \n",
       "70602     532201  https://www.marmiton.org/recettes/recette_tour...   \n",
       "\n",
       "                                        recipe_title           recipe_type  \\\n",
       "0           Le crumble aux pommes du Chat qui Tousse               Dessert   \n",
       "1                    Escalopes lucullus à la cocotte        Plat principal   \n",
       "2                            Terrine de foie de porc        Plat principal   \n",
       "3                  Lapin au vin blanc (à la cocotte)        Plat principal   \n",
       "4                                Truffes en chocolat            Confiserie   \n",
       "...                                              ...                   ...   \n",
       "70598  Bûche de Noël au chocolat et crêpes dentelles               Dessert   \n",
       "70599       Cookies aux noix de pécan et au chocolat               Dessert   \n",
       "70600                                Sando au poulet        Plat principal   \n",
       "70601                Gratin pomme de terre et panais        Accompagnement   \n",
       "70602    Tourte au saumon et à la béchamel au citron  Pizza, tarte, quiche   \n",
       "\n",
       "                                            recipe_steps first_letter  \\\n",
       "0      Préchauffer le four à 210°C (thermostat 7). \\n...            P   \n",
       "1      Coupez l'oignon en petits morceaux, faites rev...            C   \n",
       "2      - hacher (pas trop fin) le foie, le lard, les ...            -   \n",
       "3      Faire revenir les échalotes et les lardons dan...            F   \n",
       "4      La veille : faire fondre le chocolat au bain-m...            L   \n",
       "...                                                  ...          ...   \n",
       "70598  Faire fondre les chocolats au bain marie avec ...            F   \n",
       "70599  Pour le beurre de pécan : Faire fondre le beur...            P   \n",
       "70600  Couper le poulet en morceaux de 5/6cm. \\n\\n Ba...            C   \n",
       "70601  Éplucher les pommes de terre et le panais et l...            É   \n",
       "70602  Dans une casserole, faire fondre le beurre pui...            D   \n",
       "\n",
       "       steps_length  \n",
       "0               567  \n",
       "1               555  \n",
       "2               538  \n",
       "3               286  \n",
       "4               381  \n",
       "...             ...  \n",
       "70598           733  \n",
       "70599           973  \n",
       "70600           785  \n",
       "70601           977  \n",
       "70602           660  \n",
       "\n",
       "[70403 rows x 7 columns]"
      ]
     },
     "execution_count": 30,
     "metadata": {},
     "output_type": "execute_result"
    }
   ],
   "source": [
    "recipes_df"
   ]
  },
  {
   "cell_type": "code",
   "execution_count": null,
   "id": "29f1b7ec",
   "metadata": {},
   "outputs": [],
   "source": []
  }
 ],
 "metadata": {
  "kernelspec": {
   "display_name": "Python 3 (ipykernel)",
   "language": "python",
   "name": "python3"
  },
  "language_info": {
   "codemirror_mode": {
    "name": "ipython",
    "version": 3
   },
   "file_extension": ".py",
   "mimetype": "text/x-python",
   "name": "python",
   "nbconvert_exporter": "python",
   "pygments_lexer": "ipython3",
   "version": "3.8.12"
  },
  "toc": {
   "base_numbering": 1,
   "nav_menu": {},
   "number_sections": true,
   "sideBar": true,
   "skip_h1_title": false,
   "title_cell": "Table of Contents",
   "title_sidebar": "Contents",
   "toc_cell": false,
   "toc_position": {},
   "toc_section_display": true,
   "toc_window_display": false
  }
 },
 "nbformat": 4,
 "nbformat_minor": 5
}
