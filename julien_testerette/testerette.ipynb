{
 "cells": [
  {
   "cell_type": "code",
   "execution_count": null,
   "id": "9c009775",
   "metadata": {},
   "outputs": [],
   "source": []
  },
  {
   "cell_type": "code",
   "execution_count": null,
   "id": "62dbdabc",
   "metadata": {},
   "outputs": [],
   "source": []
  },
  {
   "cell_type": "markdown",
   "id": "cbd496eb",
   "metadata": {},
   "source": [
    "## Scrapping\n"
   ]
  },
  {
   "cell_type": "code",
   "execution_count": 3,
   "id": "baf399ef",
   "metadata": {
    "ExecuteTime": {
     "end_time": "2022-01-03T12:03:52.346356Z",
     "start_time": "2022-01-03T12:03:52.340832Z"
    },
    "scrolled": true
   },
   "outputs": [],
   "source": [
    "from bs4 import BeautifulSoup\n",
    "\n",
    "html_doc = 'fafea'\n",
    "\n",
    "soup = BeautifulSoup(html_doc, 'html.parser')"
   ]
  },
  {
   "cell_type": "code",
   "execution_count": 5,
   "id": "d827de35",
   "metadata": {
    "ExecuteTime": {
     "end_time": "2022-01-03T14:08:17.628973Z",
     "start_time": "2022-01-03T14:08:17.626248Z"
    }
   },
   "outputs": [],
   "source": [
    "import re\n",
    "import requests\n",
    "from bs4 import BeautifulSoup, Comment"
   ]
  },
  {
   "cell_type": "code",
   "execution_count": null,
   "id": "189e9e2d",
   "metadata": {},
   "outputs": [],
   "source": [
    "url = f'https://www.marmiton.org/recettes/recette_gratin-pomme-de-terre-et-panais_532213.aspx' # valuepage={page}"
   ]
  },
  {
   "cell_type": "code",
   "execution_count": 29,
   "id": "28e16e7e",
   "metadata": {
    "ExecuteTime": {
     "end_time": "2022-01-03T14:24:47.188401Z",
     "start_time": "2022-01-03T14:24:47.018100Z"
    }
   },
   "outputs": [],
   "source": [
    "response = requests.get(url, headers={\"Accept-Language\":\"en-US\"})\n",
    "soup = BeautifulSoup(response.content, \"html.parser\")\n",
    "\n",
    "# print(soup)"
   ]
  },
  {
   "cell_type": "code",
   "execution_count": 13,
   "id": "361674cb",
   "metadata": {
    "ExecuteTime": {
     "end_time": "2022-01-03T14:19:13.478478Z",
     "start_time": "2022-01-03T14:19:13.475531Z"
    }
   },
   "outputs": [],
   "source": [
    "# from bs4 import Comment\n",
    "\n",
    "# for child in soup.body.div.children:\n",
    "#     if isinstance(child,Comment):\n",
    "#         child.extract()"
   ]
  },
  {
   "cell_type": "code",
   "execution_count": 100,
   "id": "d5fcab93",
   "metadata": {
    "ExecuteTime": {
     "end_time": "2022-01-03T14:51:23.812647Z",
     "start_time": "2022-01-03T14:51:23.804211Z"
    }
   },
   "outputs": [
    {
     "name": "stdout",
     "output_type": "stream",
     "text": [
      "<span class=\"SHRD__sc-10plygc-0 epviYI\">1<!-- --> <!-- -->branche</span>\n",
      " \n",
      " \n"
     ]
    }
   ],
   "source": [
    "ingredients_list = []\n",
    "for ingredients in soup.find_all(\"div\", class_=\"fLWRho\"):\n",
    "    title = ingredients.find_all(\"span\", class_=\"epviYI\") #.find(\"a\").string\n",
    "#     duration = int(movie.find(class_=\"runtime\").string.strip(' min'))\n",
    "#     year = int(re.search(r\"\\d{4}\", movie.find(class_=\"lister-item-year\").string).group(0))\n",
    "    ingredients_list.append(title)\n",
    "#     movies.append({'title': title, 'duration': duration, 'year': year})\n",
    "print(ingredients_list[1][0])\n",
    "# ingredients_list[1].content\n",
    "soup2 = BeautifulSoup(str(ingredients_list[1][0]), \"html.parser\")\n",
    "\n",
    "\n",
    "# from bs4 import Comment\n",
    "\n",
    "# if isinstance(soup2.string,Comment):\n",
    "#     souped2 = soup2.extract()\n",
    "#     print(souped2)\n",
    "num=0\n",
    "for element in soup2(text=lambda text: isinstance(text, Comment)):\n",
    "    print(element.extract())\n",
    "\n",
    "    "
   ]
  },
  {
   "cell_type": "code",
   "execution_count": 119,
   "id": "4e5975ce",
   "metadata": {
    "ExecuteTime": {
     "end_time": "2022-01-03T15:01:16.297707Z",
     "start_time": "2022-01-03T15:01:16.293303Z"
    }
   },
   "outputs": [
    {
     "name": "stdout",
     "output_type": "stream",
     "text": [
      "<span class=\"SHRD__sc-10plygc-0 epviYI\">1 branche</span>\n"
     ]
    }
   ],
   "source": [
    "print(str(soup2))"
   ]
  },
  {
   "cell_type": "code",
   "execution_count": 116,
   "id": "d7b9111c",
   "metadata": {
    "ExecuteTime": {
     "end_time": "2022-01-03T15:00:54.822317Z",
     "start_time": "2022-01-03T15:00:54.819144Z"
    }
   },
   "outputs": [],
   "source": [
    "soupstr=str(soup2)\n",
    "result=re.sub(r'<!.*?->','', soupstr)\n"
   ]
  },
  {
   "cell_type": "code",
   "execution_count": 118,
   "id": "29018a3b",
   "metadata": {
    "ExecuteTime": {
     "end_time": "2022-01-03T15:01:05.440479Z",
     "start_time": "2022-01-03T15:01:05.432974Z"
    }
   },
   "outputs": [
    {
     "ename": "TypeError",
     "evalue": "object of type 'NoneType' has no len()",
     "output_type": "error",
     "traceback": [
      "\u001b[0;31m---------------------------------------------------------------------------\u001b[0m",
      "\u001b[0;31mTypeError\u001b[0m                                 Traceback (most recent call last)",
      "\u001b[0;32m/tmp/ipykernel_7805/549081897.py\u001b[0m in \u001b[0;36m<module>\u001b[0;34m\u001b[0m\n\u001b[0;32m----> 1\u001b[0;31m \u001b[0mBeautifulSoup\u001b[0m\u001b[0;34m(\u001b[0m\u001b[0msoup2\u001b[0m\u001b[0;34m.\u001b[0m\u001b[0mstring\u001b[0m\u001b[0;34m)\u001b[0m\u001b[0;34m\u001b[0m\u001b[0;34m\u001b[0m\u001b[0m\n\u001b[0m",
      "\u001b[0;32m~/.pyenv/versions/3.8.12/envs/createur_de_recette/lib/python3.8/site-packages/bs4/__init__.py\u001b[0m in \u001b[0;36m__init__\u001b[0;34m(self, markup, features, builder, parse_only, from_encoding, exclude_encodings, element_classes, **kwargs)\u001b[0m\n\u001b[1;32m    310\u001b[0m         \u001b[0;32mif\u001b[0m \u001b[0mhasattr\u001b[0m\u001b[0;34m(\u001b[0m\u001b[0mmarkup\u001b[0m\u001b[0;34m,\u001b[0m \u001b[0;34m'read'\u001b[0m\u001b[0;34m)\u001b[0m\u001b[0;34m:\u001b[0m        \u001b[0;31m# It's a file-type object.\u001b[0m\u001b[0;34m\u001b[0m\u001b[0;34m\u001b[0m\u001b[0m\n\u001b[1;32m    311\u001b[0m             \u001b[0mmarkup\u001b[0m \u001b[0;34m=\u001b[0m \u001b[0mmarkup\u001b[0m\u001b[0;34m.\u001b[0m\u001b[0mread\u001b[0m\u001b[0;34m(\u001b[0m\u001b[0;34m)\u001b[0m\u001b[0;34m\u001b[0m\u001b[0;34m\u001b[0m\u001b[0m\n\u001b[0;32m--> 312\u001b[0;31m         elif len(markup) <= 256 and (\n\u001b[0m\u001b[1;32m    313\u001b[0m                 \u001b[0;34m(\u001b[0m\u001b[0misinstance\u001b[0m\u001b[0;34m(\u001b[0m\u001b[0mmarkup\u001b[0m\u001b[0;34m,\u001b[0m \u001b[0mbytes\u001b[0m\u001b[0;34m)\u001b[0m \u001b[0;32mand\u001b[0m \u001b[0;32mnot\u001b[0m \u001b[0;34mb'<'\u001b[0m \u001b[0;32min\u001b[0m \u001b[0mmarkup\u001b[0m\u001b[0;34m)\u001b[0m\u001b[0;34m\u001b[0m\u001b[0;34m\u001b[0m\u001b[0m\n\u001b[1;32m    314\u001b[0m                 \u001b[0;32mor\u001b[0m \u001b[0;34m(\u001b[0m\u001b[0misinstance\u001b[0m\u001b[0;34m(\u001b[0m\u001b[0mmarkup\u001b[0m\u001b[0;34m,\u001b[0m \u001b[0mstr\u001b[0m\u001b[0;34m)\u001b[0m \u001b[0;32mand\u001b[0m \u001b[0;32mnot\u001b[0m \u001b[0;34m'<'\u001b[0m \u001b[0;32min\u001b[0m \u001b[0mmarkup\u001b[0m\u001b[0;34m)\u001b[0m\u001b[0;34m\u001b[0m\u001b[0;34m\u001b[0m\u001b[0m\n",
      "\u001b[0;31mTypeError\u001b[0m: object of type 'NoneType' has no len()"
     ]
    }
   ],
   "source": [
    "BeautifulSoup(soup2.string)"
   ]
  },
  {
   "cell_type": "code",
   "execution_count": 123,
   "id": "01056950",
   "metadata": {
    "ExecuteTime": {
     "end_time": "2022-01-03T15:28:56.485667Z",
     "start_time": "2022-01-03T15:28:56.481816Z"
    }
   },
   "outputs": [],
   "source": [
    "units = ['branche', 'bouquet','cl','cuillère à café bien bombée', 'c.à.c', 'c.à.s' 'g', \\\n",
    "         'gousse', 'gousses', 'ml', 'plaques', 'pincée', 'poignée', 'pot', 'tablette', 'tranches', 'verre', 'verres']\n",
    "doubts = ['1⁄2', '1⁄4']"
   ]
  },
  {
   "cell_type": "code",
   "execution_count": null,
   "id": "f1f189dd",
   "metadata": {},
   "outputs": [],
   "source": [
    "# 1⁄2 bouquet\n",
    "# de persil"
   ]
  },
  {
   "cell_type": "code",
   "execution_count": null,
   "id": "b293dac3",
   "metadata": {},
   "outputs": [],
   "source": []
  }
 ],
 "metadata": {
  "kernelspec": {
   "display_name": "Python 3 (ipykernel)",
   "language": "python",
   "name": "python3"
  },
  "language_info": {
   "codemirror_mode": {
    "name": "ipython",
    "version": 3
   },
   "file_extension": ".py",
   "mimetype": "text/x-python",
   "name": "python",
   "nbconvert_exporter": "python",
   "pygments_lexer": "ipython3",
   "version": "3.8.12"
  },
  "toc": {
   "base_numbering": 1,
   "nav_menu": {},
   "number_sections": true,
   "sideBar": true,
   "skip_h1_title": false,
   "title_cell": "Table of Contents",
   "title_sidebar": "Contents",
   "toc_cell": false,
   "toc_position": {},
   "toc_section_display": true,
   "toc_window_display": false
  }
 },
 "nbformat": 4,
 "nbformat_minor": 5
}
