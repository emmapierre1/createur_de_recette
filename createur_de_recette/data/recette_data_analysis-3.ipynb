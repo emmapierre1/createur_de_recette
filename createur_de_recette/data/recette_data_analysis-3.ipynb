{
 "cells": [
  {
   "cell_type": "markdown",
   "id": "c5427ad5",
   "metadata": {},
   "source": [
    "# Import package and load dataset"
   ]
  },
  {
   "cell_type": "code",
   "execution_count": 1,
   "id": "9c9d9f86",
   "metadata": {
    "ExecuteTime": {
     "end_time": "2022-01-05T07:21:20.815051Z",
     "start_time": "2022-01-05T07:21:19.905848Z"
    }
   },
   "outputs": [],
   "source": [
    "import pandas as pd\n",
    "import seaborn as sns\n",
    "import matplotlib.pyplot as plt\n"
   ]
  },
  {
   "cell_type": "code",
   "execution_count": 2,
   "id": "e28f2eae",
   "metadata": {
    "ExecuteTime": {
     "end_time": "2022-01-05T07:21:20.946803Z",
     "start_time": "2022-01-05T07:21:20.815918Z"
    }
   },
   "outputs": [
    {
     "name": "stdout",
     "output_type": "stream",
     "text": [
      "ingredients.csv               recette_data_analysis.ipynb\r\n",
      "recette_data_analysis-2.ipynb recipes.csv\r\n",
      "recette_data_analysis-3.ipynb\r\n"
     ]
    }
   ],
   "source": [
    "!ls"
   ]
  },
  {
   "cell_type": "code",
   "execution_count": 3,
   "id": "a4415334",
   "metadata": {
    "ExecuteTime": {
     "end_time": "2022-01-05T07:21:21.891213Z",
     "start_time": "2022-01-05T07:21:20.950436Z"
    }
   },
   "outputs": [],
   "source": [
    "ingredients=pd.read_csv(\"ingredients.csv\")\n",
    "recipes=pd.read_csv(\"recipes.csv\")"
   ]
  },
  {
   "cell_type": "code",
   "execution_count": 4,
   "id": "a14c4bc6",
   "metadata": {
    "ExecuteTime": {
     "end_time": "2022-01-05T07:21:21.894405Z",
     "start_time": "2022-01-05T07:21:21.892126Z"
    }
   },
   "outputs": [],
   "source": [
    "pd.set_option(\"max_rows\", 20)\n",
    "pd.set_option(\"max_colwidth\", 50)"
   ]
  },
  {
   "cell_type": "markdown",
   "id": "8360fd07",
   "metadata": {},
   "source": [
    "# Utils"
   ]
  },
  {
   "cell_type": "code",
   "execution_count": 5,
   "id": "b7b735fc",
   "metadata": {
    "ExecuteTime": {
     "end_time": "2022-01-05T07:21:21.899530Z",
     "start_time": "2022-01-05T07:21:21.895592Z"
    }
   },
   "outputs": [],
   "source": [
    "def fastcheck(data,drop=True):\n",
    "    print('Data shape:\\n',data.shape,\\\n",
    "          '\\n\\nColumns name:\\n',list(data.columns),\\\n",
    "          '\\n\\nDatas type:\\n',data.dtypes,'\\n\\nNull data:\\n',\\\n",
    "          data.isnull().sum().sort_values(ascending=False)/len(data)*100)\n",
    "    if data.duplicated().sum() > 0:\n",
    "        print(f'\\n\\n{data.duplicated().sum()} duplicated data')\n",
    "        if drop==True:\n",
    "            data = data.drop_duplicates()\n",
    "            print('\\nDrop duplicates done : new data shape:\\n',data.shape)\n",
    "        else:\n",
    "            print('\\nDrop duplicates not done : data shape unchanged')\n",
    "    else:\n",
    "        print('No duplicate')\n",
    "    data.sample(10)\n",
    "    return data"
   ]
  },
  {
   "cell_type": "markdown",
   "id": "98c021a0",
   "metadata": {},
   "source": [
    "# Display raw data recipes and ingredients dataframes"
   ]
  },
  {
   "cell_type": "markdown",
   "id": "a967a2f5",
   "metadata": {},
   "source": [
    "## Ingredients"
   ]
  },
  {
   "cell_type": "code",
   "execution_count": 6,
   "id": "463463a8",
   "metadata": {
    "ExecuteTime": {
     "end_time": "2022-01-05T07:21:21.909886Z",
     "start_time": "2022-01-05T07:21:21.900428Z"
    }
   },
   "outputs": [
    {
     "data": {
      "text/html": [
       "<div>\n",
       "<style scoped>\n",
       "    .dataframe tbody tr th:only-of-type {\n",
       "        vertical-align: middle;\n",
       "    }\n",
       "\n",
       "    .dataframe tbody tr th {\n",
       "        vertical-align: top;\n",
       "    }\n",
       "\n",
       "    .dataframe thead th {\n",
       "        text-align: right;\n",
       "    }\n",
       "</style>\n",
       "<table border=\"1\" class=\"dataframe\">\n",
       "  <thead>\n",
       "    <tr style=\"text-align: right;\">\n",
       "      <th></th>\n",
       "      <th>recipe_id</th>\n",
       "      <th>ingredient</th>\n",
       "    </tr>\n",
       "  </thead>\n",
       "  <tbody>\n",
       "    <tr>\n",
       "      <th>0</th>\n",
       "      <td>10534</td>\n",
       "      <td>6 pommes (des Canada par exemple)</td>\n",
       "    </tr>\n",
       "    <tr>\n",
       "      <th>1</th>\n",
       "      <td>10534</td>\n",
       "      <td>150 g de  cassonade</td>\n",
       "    </tr>\n",
       "    <tr>\n",
       "      <th>2</th>\n",
       "      <td>10534</td>\n",
       "      <td>150 g de  farine de blé</td>\n",
       "    </tr>\n",
       "    <tr>\n",
       "      <th>3</th>\n",
       "      <td>10534</td>\n",
       "      <td>1 petite cuillère de  cannelle en poudre</td>\n",
       "    </tr>\n",
       "    <tr>\n",
       "      <th>4</th>\n",
       "      <td>10534</td>\n",
       "      <td>1 sachet de  sucre vanillé</td>\n",
       "    </tr>\n",
       "    <tr>\n",
       "      <th>...</th>\n",
       "      <td>...</td>\n",
       "      <td>...</td>\n",
       "    </tr>\n",
       "    <tr>\n",
       "      <th>578325</th>\n",
       "      <td>532201</td>\n",
       "      <td>2 plaques de  saumon fumé</td>\n",
       "    </tr>\n",
       "    <tr>\n",
       "      <th>578326</th>\n",
       "      <td>532201</td>\n",
       "      <td>25 g de  beurre</td>\n",
       "    </tr>\n",
       "    <tr>\n",
       "      <th>578327</th>\n",
       "      <td>532201</td>\n",
       "      <td>4 citrons verts</td>\n",
       "    </tr>\n",
       "    <tr>\n",
       "      <th>578328</th>\n",
       "      <td>532201</td>\n",
       "      <td>4 oeufs</td>\n",
       "    </tr>\n",
       "    <tr>\n",
       "      <th>578329</th>\n",
       "      <td>532201</td>\n",
       "      <td>brocoli</td>\n",
       "    </tr>\n",
       "  </tbody>\n",
       "</table>\n",
       "<p>578330 rows × 2 columns</p>\n",
       "</div>"
      ],
      "text/plain": [
       "        recipe_id                                ingredient\n",
       "0           10534         6 pommes (des Canada par exemple)\n",
       "1           10534                       150 g de  cassonade\n",
       "2           10534                   150 g de  farine de blé\n",
       "3           10534  1 petite cuillère de  cannelle en poudre\n",
       "4           10534                1 sachet de  sucre vanillé\n",
       "...           ...                                       ...\n",
       "578325     532201                 2 plaques de  saumon fumé\n",
       "578326     532201                           25 g de  beurre\n",
       "578327     532201                           4 citrons verts\n",
       "578328     532201                                   4 oeufs\n",
       "578329     532201                                   brocoli\n",
       "\n",
       "[578330 rows x 2 columns]"
      ]
     },
     "execution_count": 6,
     "metadata": {},
     "output_type": "execute_result"
    }
   ],
   "source": [
    "ingredients"
   ]
  },
  {
   "cell_type": "markdown",
   "id": "c9502a95",
   "metadata": {},
   "source": [
    "## Recipes"
   ]
  },
  {
   "cell_type": "code",
   "execution_count": 7,
   "id": "057ba958",
   "metadata": {
    "ExecuteTime": {
     "end_time": "2022-01-05T07:21:21.917768Z",
     "start_time": "2022-01-05T07:21:21.910886Z"
    }
   },
   "outputs": [
    {
     "data": {
      "text/html": [
       "<div>\n",
       "<style scoped>\n",
       "    .dataframe tbody tr th:only-of-type {\n",
       "        vertical-align: middle;\n",
       "    }\n",
       "\n",
       "    .dataframe tbody tr th {\n",
       "        vertical-align: top;\n",
       "    }\n",
       "\n",
       "    .dataframe thead th {\n",
       "        text-align: right;\n",
       "    }\n",
       "</style>\n",
       "<table border=\"1\" class=\"dataframe\">\n",
       "  <thead>\n",
       "    <tr style=\"text-align: right;\">\n",
       "      <th></th>\n",
       "      <th>recipe_id</th>\n",
       "      <th>recipe_url</th>\n",
       "      <th>recipe_title</th>\n",
       "      <th>recipe_type</th>\n",
       "      <th>recipe_steps</th>\n",
       "    </tr>\n",
       "  </thead>\n",
       "  <tbody>\n",
       "    <tr>\n",
       "      <th>0</th>\n",
       "      <td>10534</td>\n",
       "      <td>https://www.marmiton.org/recettes/recette_le-c...</td>\n",
       "      <td>Le crumble aux pommes du Chat qui Tousse</td>\n",
       "      <td>Dessert</td>\n",
       "      <td>Préchauffer le four à 210°C (thermostat 7). \\n...</td>\n",
       "    </tr>\n",
       "    <tr>\n",
       "      <th>1</th>\n",
       "      <td>10531</td>\n",
       "      <td>https://www.marmiton.org/recettes/recette_esca...</td>\n",
       "      <td>Escalopes lucullus à la cocotte</td>\n",
       "      <td>Plat principal</td>\n",
       "      <td>Coupez l'oignon en petits morceaux, faites rev...</td>\n",
       "    </tr>\n",
       "    <tr>\n",
       "      <th>2</th>\n",
       "      <td>10529</td>\n",
       "      <td>https://www.marmiton.org/recettes/recette_terr...</td>\n",
       "      <td>Terrine de foie de porc</td>\n",
       "      <td>Plat principal</td>\n",
       "      <td>- hacher (pas trop fin) le foie, le lard, les ...</td>\n",
       "    </tr>\n",
       "    <tr>\n",
       "      <th>3</th>\n",
       "      <td>10530</td>\n",
       "      <td>https://www.marmiton.org/recettes/recette_lapi...</td>\n",
       "      <td>Lapin au vin blanc (à la cocotte)</td>\n",
       "      <td>Plat principal</td>\n",
       "      <td>Faire revenir les échalotes et les lardons dan...</td>\n",
       "    </tr>\n",
       "    <tr>\n",
       "      <th>4</th>\n",
       "      <td>10528</td>\n",
       "      <td>https://www.marmiton.org/recettes/recette_truf...</td>\n",
       "      <td>Truffes en chocolat</td>\n",
       "      <td>Confiserie</td>\n",
       "      <td>La veille : faire fondre le chocolat au bain-m...</td>\n",
       "    </tr>\n",
       "    <tr>\n",
       "      <th>...</th>\n",
       "      <td>...</td>\n",
       "      <td>...</td>\n",
       "      <td>...</td>\n",
       "      <td>...</td>\n",
       "      <td>...</td>\n",
       "    </tr>\n",
       "    <tr>\n",
       "      <th>70598</th>\n",
       "      <td>532439</td>\n",
       "      <td>https://www.marmiton.org/recettes/recette_buch...</td>\n",
       "      <td>Bûche de Noël au chocolat et crêpes dentelles</td>\n",
       "      <td>Dessert</td>\n",
       "      <td>Faire fondre les chocolats au bain marie avec ...</td>\n",
       "    </tr>\n",
       "    <tr>\n",
       "      <th>70599</th>\n",
       "      <td>532434</td>\n",
       "      <td>https://www.marmiton.org/recettes/recette_cook...</td>\n",
       "      <td>Cookies aux noix de pécan et au chocolat</td>\n",
       "      <td>Dessert</td>\n",
       "      <td>Pour le beurre de pécan : Faire fondre le beur...</td>\n",
       "    </tr>\n",
       "    <tr>\n",
       "      <th>70600</th>\n",
       "      <td>532401</td>\n",
       "      <td>https://www.marmiton.org/recettes/recette_sand...</td>\n",
       "      <td>Sando au poulet</td>\n",
       "      <td>Plat principal</td>\n",
       "      <td>Couper le poulet en morceaux de 5/6cm. \\n\\n Ba...</td>\n",
       "    </tr>\n",
       "    <tr>\n",
       "      <th>70601</th>\n",
       "      <td>532213</td>\n",
       "      <td>https://www.marmiton.org/recettes/recette_grat...</td>\n",
       "      <td>Gratin pomme de terre et panais</td>\n",
       "      <td>Accompagnement</td>\n",
       "      <td>Éplucher les pommes de terre et le panais et l...</td>\n",
       "    </tr>\n",
       "    <tr>\n",
       "      <th>70602</th>\n",
       "      <td>532201</td>\n",
       "      <td>https://www.marmiton.org/recettes/recette_tour...</td>\n",
       "      <td>Tourte au saumon et à la béchamel au citron</td>\n",
       "      <td>Pizza, tarte, quiche</td>\n",
       "      <td>Dans une casserole, faire fondre le beurre pui...</td>\n",
       "    </tr>\n",
       "  </tbody>\n",
       "</table>\n",
       "<p>70603 rows × 5 columns</p>\n",
       "</div>"
      ],
      "text/plain": [
       "       recipe_id                                         recipe_url  \\\n",
       "0          10534  https://www.marmiton.org/recettes/recette_le-c...   \n",
       "1          10531  https://www.marmiton.org/recettes/recette_esca...   \n",
       "2          10529  https://www.marmiton.org/recettes/recette_terr...   \n",
       "3          10530  https://www.marmiton.org/recettes/recette_lapi...   \n",
       "4          10528  https://www.marmiton.org/recettes/recette_truf...   \n",
       "...          ...                                                ...   \n",
       "70598     532439  https://www.marmiton.org/recettes/recette_buch...   \n",
       "70599     532434  https://www.marmiton.org/recettes/recette_cook...   \n",
       "70600     532401  https://www.marmiton.org/recettes/recette_sand...   \n",
       "70601     532213  https://www.marmiton.org/recettes/recette_grat...   \n",
       "70602     532201  https://www.marmiton.org/recettes/recette_tour...   \n",
       "\n",
       "                                        recipe_title           recipe_type  \\\n",
       "0           Le crumble aux pommes du Chat qui Tousse               Dessert   \n",
       "1                    Escalopes lucullus à la cocotte        Plat principal   \n",
       "2                            Terrine de foie de porc        Plat principal   \n",
       "3                  Lapin au vin blanc (à la cocotte)        Plat principal   \n",
       "4                                Truffes en chocolat            Confiserie   \n",
       "...                                              ...                   ...   \n",
       "70598  Bûche de Noël au chocolat et crêpes dentelles               Dessert   \n",
       "70599       Cookies aux noix de pécan et au chocolat               Dessert   \n",
       "70600                                Sando au poulet        Plat principal   \n",
       "70601                Gratin pomme de terre et panais        Accompagnement   \n",
       "70602    Tourte au saumon et à la béchamel au citron  Pizza, tarte, quiche   \n",
       "\n",
       "                                            recipe_steps  \n",
       "0      Préchauffer le four à 210°C (thermostat 7). \\n...  \n",
       "1      Coupez l'oignon en petits morceaux, faites rev...  \n",
       "2      - hacher (pas trop fin) le foie, le lard, les ...  \n",
       "3      Faire revenir les échalotes et les lardons dan...  \n",
       "4      La veille : faire fondre le chocolat au bain-m...  \n",
       "...                                                  ...  \n",
       "70598  Faire fondre les chocolats au bain marie avec ...  \n",
       "70599  Pour le beurre de pécan : Faire fondre le beur...  \n",
       "70600  Couper le poulet en morceaux de 5/6cm. \\n\\n Ba...  \n",
       "70601  Éplucher les pommes de terre et le panais et l...  \n",
       "70602  Dans une casserole, faire fondre le beurre pui...  \n",
       "\n",
       "[70603 rows x 5 columns]"
      ]
     },
     "execution_count": 7,
     "metadata": {},
     "output_type": "execute_result"
    }
   ],
   "source": [
    "recipes"
   ]
  },
  {
   "cell_type": "markdown",
   "id": "80f490ce",
   "metadata": {},
   "source": [
    "# Exploration of recipes"
   ]
  },
  {
   "cell_type": "markdown",
   "id": "b425b774",
   "metadata": {},
   "source": [
    "## Check recipes  : 70 603 rows with 18 duplicates (<0,03%)  and 0 null"
   ]
  },
  {
   "cell_type": "code",
   "execution_count": 8,
   "id": "ee4f10a4",
   "metadata": {
    "ExecuteTime": {
     "end_time": "2022-01-05T07:21:22.525381Z",
     "start_time": "2022-01-05T07:21:21.918753Z"
    }
   },
   "outputs": [
    {
     "name": "stdout",
     "output_type": "stream",
     "text": [
      "Data shape:\n",
      " (70603, 5) \n",
      "\n",
      "Columns name:\n",
      " ['recipe_id', 'recipe_url', 'recipe_title', 'recipe_type', 'recipe_steps'] \n",
      "\n",
      "Datas type:\n",
      " recipe_id        int64\n",
      "recipe_url      object\n",
      "recipe_title    object\n",
      "recipe_type     object\n",
      "recipe_steps    object\n",
      "dtype: object \n",
      "\n",
      "Null data:\n",
      " recipe_id       0.0\n",
      "recipe_url      0.0\n",
      "recipe_title    0.0\n",
      "recipe_type     0.0\n",
      "recipe_steps    0.0\n",
      "dtype: float64\n",
      "\n",
      "\n",
      "18 duplicated data\n",
      "\n",
      "Drop duplicates done : new data shape:\n",
      " (70585, 5)\n"
     ]
    }
   ],
   "source": [
    "recipes=fastcheck(recipes)"
   ]
  },
  {
   "cell_type": "markdown",
   "id": "db56991c",
   "metadata": {},
   "source": [
    "## Check recipe_steps (=instructions) format"
   ]
  },
  {
   "cell_type": "markdown",
   "id": "935d4a9c",
   "metadata": {},
   "source": [
    "### Add number of sentences in recipes in new column"
   ]
  },
  {
   "cell_type": "code",
   "execution_count": 9,
   "id": "faa0f241",
   "metadata": {
    "ExecuteTime": {
     "end_time": "2022-01-05T07:21:22.589474Z",
     "start_time": "2022-01-05T07:21:22.528679Z"
    }
   },
   "outputs": [
    {
     "name": "stderr",
     "output_type": "stream",
     "text": [
      "/var/folders/79/kc35gvcn5h3dnnrgtwd2z2w40000gn/T/ipykernel_9788/453382256.py:3: SettingWithCopyWarning: \n",
      "A value is trying to be set on a copy of a slice from a DataFrame.\n",
      "Try using .loc[row_indexer,col_indexer] = value instead\n",
      "\n",
      "See the caveats in the documentation: https://pandas.pydata.org/pandas-docs/stable/user_guide/indexing.html#returning-a-view-versus-a-copy\n",
      "  recipes[\"nb_sentences\"]=recipes[\"recipe_steps\"].apply(lambda x: x.count(\".\"))\n"
     ]
    }
   ],
   "source": [
    "#Count the number of sentences using punctuation \".\" and store it in field nb_sentences\n",
    "#Warning : assumes that each sentence ends with \".\" (! or no punctuation is not counted)\n",
    "recipes[\"nb_sentences\"]=recipes[\"recipe_steps\"].apply(lambda x: x.count(\".\"))\n"
   ]
  },
  {
   "cell_type": "code",
   "execution_count": 10,
   "id": "b55ae6d5",
   "metadata": {
    "ExecuteTime": {
     "end_time": "2022-01-05T07:21:22.597143Z",
     "start_time": "2022-01-05T07:21:22.590403Z"
    }
   },
   "outputs": [
    {
     "data": {
      "text/html": [
       "<div>\n",
       "<style scoped>\n",
       "    .dataframe tbody tr th:only-of-type {\n",
       "        vertical-align: middle;\n",
       "    }\n",
       "\n",
       "    .dataframe tbody tr th {\n",
       "        vertical-align: top;\n",
       "    }\n",
       "\n",
       "    .dataframe thead th {\n",
       "        text-align: right;\n",
       "    }\n",
       "</style>\n",
       "<table border=\"1\" class=\"dataframe\">\n",
       "  <thead>\n",
       "    <tr style=\"text-align: right;\">\n",
       "      <th></th>\n",
       "      <th>recipe_id</th>\n",
       "      <th>recipe_url</th>\n",
       "      <th>recipe_title</th>\n",
       "      <th>recipe_type</th>\n",
       "      <th>recipe_steps</th>\n",
       "      <th>nb_sentences</th>\n",
       "    </tr>\n",
       "  </thead>\n",
       "  <tbody>\n",
       "    <tr>\n",
       "      <th>0</th>\n",
       "      <td>10534</td>\n",
       "      <td>https://www.marmiton.org/recettes/recette_le-c...</td>\n",
       "      <td>Le crumble aux pommes du Chat qui Tousse</td>\n",
       "      <td>Dessert</td>\n",
       "      <td>Préchauffer le four à 210°C (thermostat 7). \\n...</td>\n",
       "      <td>8</td>\n",
       "    </tr>\n",
       "    <tr>\n",
       "      <th>1</th>\n",
       "      <td>10531</td>\n",
       "      <td>https://www.marmiton.org/recettes/recette_esca...</td>\n",
       "      <td>Escalopes lucullus à la cocotte</td>\n",
       "      <td>Plat principal</td>\n",
       "      <td>Coupez l'oignon en petits morceaux, faites rev...</td>\n",
       "      <td>3</td>\n",
       "    </tr>\n",
       "    <tr>\n",
       "      <th>2</th>\n",
       "      <td>10529</td>\n",
       "      <td>https://www.marmiton.org/recettes/recette_terr...</td>\n",
       "      <td>Terrine de foie de porc</td>\n",
       "      <td>Plat principal</td>\n",
       "      <td>- hacher (pas trop fin) le foie, le lard, les ...</td>\n",
       "      <td>0</td>\n",
       "    </tr>\n",
       "    <tr>\n",
       "      <th>3</th>\n",
       "      <td>10530</td>\n",
       "      <td>https://www.marmiton.org/recettes/recette_lapi...</td>\n",
       "      <td>Lapin au vin blanc (à la cocotte)</td>\n",
       "      <td>Plat principal</td>\n",
       "      <td>Faire revenir les échalotes et les lardons dan...</td>\n",
       "      <td>6</td>\n",
       "    </tr>\n",
       "    <tr>\n",
       "      <th>4</th>\n",
       "      <td>10528</td>\n",
       "      <td>https://www.marmiton.org/recettes/recette_truf...</td>\n",
       "      <td>Truffes en chocolat</td>\n",
       "      <td>Confiserie</td>\n",
       "      <td>La veille : faire fondre le chocolat au bain-m...</td>\n",
       "      <td>7</td>\n",
       "    </tr>\n",
       "    <tr>\n",
       "      <th>...</th>\n",
       "      <td>...</td>\n",
       "      <td>...</td>\n",
       "      <td>...</td>\n",
       "      <td>...</td>\n",
       "      <td>...</td>\n",
       "      <td>...</td>\n",
       "    </tr>\n",
       "    <tr>\n",
       "      <th>70597</th>\n",
       "      <td>532440</td>\n",
       "      <td>https://www.marmiton.org/recettes/recette_ciga...</td>\n",
       "      <td>Cigare au poulet et au chèvre</td>\n",
       "      <td>Plat principal</td>\n",
       "      <td>Dénerver et couper le poulet en fines lamelles...</td>\n",
       "      <td>5</td>\n",
       "    </tr>\n",
       "    <tr>\n",
       "      <th>70598</th>\n",
       "      <td>532439</td>\n",
       "      <td>https://www.marmiton.org/recettes/recette_buch...</td>\n",
       "      <td>Bûche de Noël au chocolat et crêpes dentelles</td>\n",
       "      <td>Dessert</td>\n",
       "      <td>Faire fondre les chocolats au bain marie avec ...</td>\n",
       "      <td>14</td>\n",
       "    </tr>\n",
       "    <tr>\n",
       "      <th>70599</th>\n",
       "      <td>532434</td>\n",
       "      <td>https://www.marmiton.org/recettes/recette_cook...</td>\n",
       "      <td>Cookies aux noix de pécan et au chocolat</td>\n",
       "      <td>Dessert</td>\n",
       "      <td>Pour le beurre de pécan : Faire fondre le beur...</td>\n",
       "      <td>15</td>\n",
       "    </tr>\n",
       "    <tr>\n",
       "      <th>70600</th>\n",
       "      <td>532401</td>\n",
       "      <td>https://www.marmiton.org/recettes/recette_sand...</td>\n",
       "      <td>Sando au poulet</td>\n",
       "      <td>Plat principal</td>\n",
       "      <td>Couper le poulet en morceaux de 5/6cm. \\n\\n Ba...</td>\n",
       "      <td>11</td>\n",
       "    </tr>\n",
       "    <tr>\n",
       "      <th>70601</th>\n",
       "      <td>532213</td>\n",
       "      <td>https://www.marmiton.org/recettes/recette_grat...</td>\n",
       "      <td>Gratin pomme de terre et panais</td>\n",
       "      <td>Accompagnement</td>\n",
       "      <td>Éplucher les pommes de terre et le panais et l...</td>\n",
       "      <td>11</td>\n",
       "    </tr>\n",
       "  </tbody>\n",
       "</table>\n",
       "<p>70585 rows × 6 columns</p>\n",
       "</div>"
      ],
      "text/plain": [
       "       recipe_id                                         recipe_url  \\\n",
       "0          10534  https://www.marmiton.org/recettes/recette_le-c...   \n",
       "1          10531  https://www.marmiton.org/recettes/recette_esca...   \n",
       "2          10529  https://www.marmiton.org/recettes/recette_terr...   \n",
       "3          10530  https://www.marmiton.org/recettes/recette_lapi...   \n",
       "4          10528  https://www.marmiton.org/recettes/recette_truf...   \n",
       "...          ...                                                ...   \n",
       "70597     532440  https://www.marmiton.org/recettes/recette_ciga...   \n",
       "70598     532439  https://www.marmiton.org/recettes/recette_buch...   \n",
       "70599     532434  https://www.marmiton.org/recettes/recette_cook...   \n",
       "70600     532401  https://www.marmiton.org/recettes/recette_sand...   \n",
       "70601     532213  https://www.marmiton.org/recettes/recette_grat...   \n",
       "\n",
       "                                        recipe_title     recipe_type  \\\n",
       "0           Le crumble aux pommes du Chat qui Tousse         Dessert   \n",
       "1                    Escalopes lucullus à la cocotte  Plat principal   \n",
       "2                            Terrine de foie de porc  Plat principal   \n",
       "3                  Lapin au vin blanc (à la cocotte)  Plat principal   \n",
       "4                                Truffes en chocolat      Confiserie   \n",
       "...                                              ...             ...   \n",
       "70597                  Cigare au poulet et au chèvre  Plat principal   \n",
       "70598  Bûche de Noël au chocolat et crêpes dentelles         Dessert   \n",
       "70599       Cookies aux noix de pécan et au chocolat         Dessert   \n",
       "70600                                Sando au poulet  Plat principal   \n",
       "70601                Gratin pomme de terre et panais  Accompagnement   \n",
       "\n",
       "                                            recipe_steps  nb_sentences  \n",
       "0      Préchauffer le four à 210°C (thermostat 7). \\n...             8  \n",
       "1      Coupez l'oignon en petits morceaux, faites rev...             3  \n",
       "2      - hacher (pas trop fin) le foie, le lard, les ...             0  \n",
       "3      Faire revenir les échalotes et les lardons dan...             6  \n",
       "4      La veille : faire fondre le chocolat au bain-m...             7  \n",
       "...                                                  ...           ...  \n",
       "70597  Dénerver et couper le poulet en fines lamelles...             5  \n",
       "70598  Faire fondre les chocolats au bain marie avec ...            14  \n",
       "70599  Pour le beurre de pécan : Faire fondre le beur...            15  \n",
       "70600  Couper le poulet en morceaux de 5/6cm. \\n\\n Ba...            11  \n",
       "70601  Éplucher les pommes de terre et le panais et l...            11  \n",
       "\n",
       "[70585 rows x 6 columns]"
      ]
     },
     "execution_count": 10,
     "metadata": {},
     "output_type": "execute_result"
    }
   ],
   "source": [
    "recipes"
   ]
  },
  {
   "cell_type": "markdown",
   "id": "ef8afc2e",
   "metadata": {},
   "source": [
    "### Median of 8 sentences by instruction (based on \".\" occurence)"
   ]
  },
  {
   "cell_type": "code",
   "execution_count": 11,
   "id": "dae6445d",
   "metadata": {
    "ExecuteTime": {
     "end_time": "2022-01-05T07:21:23.193650Z",
     "start_time": "2022-01-05T07:21:22.597940Z"
    }
   },
   "outputs": [
    {
     "data": {
      "text/plain": [
       "nb_sentences    8.0\n",
       "dtype: float64"
      ]
     },
     "execution_count": 11,
     "metadata": {},
     "output_type": "execute_result"
    },
    {
     "data": {
      "image/png": "[encoded data removed]",
      "text/plain": [
       "<Figure size 1296x720 with 1 Axes>"
      ]
     },
     "metadata": {
      "needs_background": "light"
     },
     "output_type": "display_data"
    }
   ],
   "source": [
    "plt.figure(figsize=(18, 10))\n",
    "sns.histplot(recipes['nb_sentences'])#, kde=True);\n",
    "recipes[['nb_sentences']].median()"
   ]
  },
  {
   "cell_type": "code",
   "execution_count": 12,
   "id": "e3575103",
   "metadata": {
    "ExecuteTime": {
     "end_time": "2022-01-05T07:21:23.203207Z",
     "start_time": "2022-01-05T07:21:23.194516Z"
    }
   },
   "outputs": [
    {
     "data": {
      "text/html": [
       "<div>\n",
       "<style scoped>\n",
       "    .dataframe tbody tr th:only-of-type {\n",
       "        vertical-align: middle;\n",
       "    }\n",
       "\n",
       "    .dataframe tbody tr th {\n",
       "        vertical-align: top;\n",
       "    }\n",
       "\n",
       "    .dataframe thead th {\n",
       "        text-align: right;\n",
       "    }\n",
       "</style>\n",
       "<table border=\"1\" class=\"dataframe\">\n",
       "  <thead>\n",
       "    <tr style=\"text-align: right;\">\n",
       "      <th></th>\n",
       "      <th>recipe_id</th>\n",
       "      <th>recipe_url</th>\n",
       "      <th>recipe_title</th>\n",
       "      <th>recipe_type</th>\n",
       "      <th>recipe_steps</th>\n",
       "      <th>nb_sentences</th>\n",
       "    </tr>\n",
       "  </thead>\n",
       "  <tbody>\n",
       "    <tr>\n",
       "      <th>2</th>\n",
       "      <td>10529</td>\n",
       "      <td>https://www.marmiton.org/recettes/recette_terr...</td>\n",
       "      <td>Terrine de foie de porc</td>\n",
       "      <td>Plat principal</td>\n",
       "      <td>- hacher (pas trop fin) le foie, le lard, les ...</td>\n",
       "      <td>0</td>\n",
       "    </tr>\n",
       "    <tr>\n",
       "      <th>106</th>\n",
       "      <td>10717</td>\n",
       "      <td>https://www.marmiton.org/recettes/recette_sole...</td>\n",
       "      <td>Soleil d'Hawaii</td>\n",
       "      <td>Soleil d'hawaii</td>\n",
       "      <td>- Battre les 4 jaunes d'oeufs \\n\\n - Ajouter l...</td>\n",
       "      <td>0</td>\n",
       "    </tr>\n",
       "    <tr>\n",
       "      <th>979</th>\n",
       "      <td>12001</td>\n",
       "      <td>https://www.marmiton.org/recettes/recette_sauc...</td>\n",
       "      <td>Sauce / marinade Teriyaki</td>\n",
       "      <td>Sauce salée</td>\n",
       "      <td>Mélanger simplement tous les ingrédients !</td>\n",
       "      <td>0</td>\n",
       "    </tr>\n",
       "    <tr>\n",
       "      <th>1517</th>\n",
       "      <td>12776</td>\n",
       "      <td>https://www.marmiton.org/recettes/recette_sauc...</td>\n",
       "      <td>Sauce pour salade figues, foie gras et noix</td>\n",
       "      <td>Sauce salée</td>\n",
       "      <td>Une simple émulsion et le tour est joué !</td>\n",
       "      <td>0</td>\n",
       "    </tr>\n",
       "    <tr>\n",
       "      <th>2086</th>\n",
       "      <td>13516</td>\n",
       "      <td>https://www.marmiton.org/recettes/recette_glac...</td>\n",
       "      <td>Glace à la banane</td>\n",
       "      <td>Dessert</td>\n",
       "      <td>Passer tout ça au mixer, et faire prendre en s...</td>\n",
       "      <td>0</td>\n",
       "    </tr>\n",
       "    <tr>\n",
       "      <th>...</th>\n",
       "      <td>...</td>\n",
       "      <td>...</td>\n",
       "      <td>...</td>\n",
       "      <td>...</td>\n",
       "      <td>...</td>\n",
       "      <td>...</td>\n",
       "    </tr>\n",
       "    <tr>\n",
       "      <th>70170</th>\n",
       "      <td>530227</td>\n",
       "      <td>https://www.marmiton.org/recettes/recette_poiv...</td>\n",
       "      <td>Poivron farcis veggy</td>\n",
       "      <td>Plat principal</td>\n",
       "      <td>Coupez vos poivrons en deux, épépinez les et b...</td>\n",
       "      <td>0</td>\n",
       "    </tr>\n",
       "    <tr>\n",
       "      <th>70335</th>\n",
       "      <td>530831</td>\n",
       "      <td>https://www.marmiton.org/recettes/recette_cook...</td>\n",
       "      <td>Cookies fourrés à la pâte a tartiner maison by...</td>\n",
       "      <td>Dessert</td>\n",
       "      <td>Mettre les noisettes a torréfier au four à 160...</td>\n",
       "      <td>0</td>\n",
       "    </tr>\n",
       "    <tr>\n",
       "      <th>70464</th>\n",
       "      <td>531305</td>\n",
       "      <td>https://www.marmiton.org/recettes/recette_spri...</td>\n",
       "      <td>St-Germain Spritz</td>\n",
       "      <td>Apéritif ou buffet</td>\n",
       "      <td>Mettre les glaçons dans le verre \\n\\n Verser t...</td>\n",
       "      <td>0</td>\n",
       "    </tr>\n",
       "    <tr>\n",
       "      <th>70489</th>\n",
       "      <td>531692</td>\n",
       "      <td>https://www.marmiton.org/recettes/recette_tort...</td>\n",
       "      <td>Tortilla de riz au poulet et mozzarella de Fré...</td>\n",
       "      <td>Tortilla de riz au poulet et mozzarella de fré...</td>\n",
       "      <td>Faire cuire le riz 10 à 15min dans une cassero...</td>\n",
       "      <td>0</td>\n",
       "    </tr>\n",
       "    <tr>\n",
       "      <th>70563</th>\n",
       "      <td>531968</td>\n",
       "      <td>https://www.marmiton.org/recettes/recette_les-...</td>\n",
       "      <td>Les sucettes fantômes</td>\n",
       "      <td>Confiserie</td>\n",
       "      <td>Pour chaque sucettes, mets un demi-mouchoir au...</td>\n",
       "      <td>0</td>\n",
       "    </tr>\n",
       "  </tbody>\n",
       "</table>\n",
       "<p>308 rows × 6 columns</p>\n",
       "</div>"
      ],
      "text/plain": [
       "       recipe_id                                         recipe_url  \\\n",
       "2          10529  https://www.marmiton.org/recettes/recette_terr...   \n",
       "106        10717  https://www.marmiton.org/recettes/recette_sole...   \n",
       "979        12001  https://www.marmiton.org/recettes/recette_sauc...   \n",
       "1517       12776  https://www.marmiton.org/recettes/recette_sauc...   \n",
       "2086       13516  https://www.marmiton.org/recettes/recette_glac...   \n",
       "...          ...                                                ...   \n",
       "70170     530227  https://www.marmiton.org/recettes/recette_poiv...   \n",
       "70335     530831  https://www.marmiton.org/recettes/recette_cook...   \n",
       "70464     531305  https://www.marmiton.org/recettes/recette_spri...   \n",
       "70489     531692  https://www.marmiton.org/recettes/recette_tort...   \n",
       "70563     531968  https://www.marmiton.org/recettes/recette_les-...   \n",
       "\n",
       "                                            recipe_title  \\\n",
       "2                                Terrine de foie de porc   \n",
       "106                                      Soleil d'Hawaii   \n",
       "979                            Sauce / marinade Teriyaki   \n",
       "1517         Sauce pour salade figues, foie gras et noix   \n",
       "2086                                   Glace à la banane   \n",
       "...                                                  ...   \n",
       "70170                               Poivron farcis veggy   \n",
       "70335  Cookies fourrés à la pâte a tartiner maison by...   \n",
       "70464                                  St-Germain Spritz   \n",
       "70489  Tortilla de riz au poulet et mozzarella de Fré...   \n",
       "70563                              Les sucettes fantômes   \n",
       "\n",
       "                                             recipe_type  \\\n",
       "2                                         Plat principal   \n",
       "106                                      Soleil d'hawaii   \n",
       "979                                          Sauce salée   \n",
       "1517                                         Sauce salée   \n",
       "2086                                             Dessert   \n",
       "...                                                  ...   \n",
       "70170                                     Plat principal   \n",
       "70335                                            Dessert   \n",
       "70464                                 Apéritif ou buffet   \n",
       "70489  Tortilla de riz au poulet et mozzarella de fré...   \n",
       "70563                                         Confiserie   \n",
       "\n",
       "                                            recipe_steps  nb_sentences  \n",
       "2      - hacher (pas trop fin) le foie, le lard, les ...             0  \n",
       "106    - Battre les 4 jaunes d'oeufs \\n\\n - Ajouter l...             0  \n",
       "979           Mélanger simplement tous les ingrédients !             0  \n",
       "1517           Une simple émulsion et le tour est joué !             0  \n",
       "2086   Passer tout ça au mixer, et faire prendre en s...             0  \n",
       "...                                                  ...           ...  \n",
       "70170  Coupez vos poivrons en deux, épépinez les et b...             0  \n",
       "70335  Mettre les noisettes a torréfier au four à 160...             0  \n",
       "70464  Mettre les glaçons dans le verre \\n\\n Verser t...             0  \n",
       "70489  Faire cuire le riz 10 à 15min dans une cassero...             0  \n",
       "70563  Pour chaque sucettes, mets un demi-mouchoir au...             0  \n",
       "\n",
       "[308 rows x 6 columns]"
      ]
     },
     "execution_count": 12,
     "metadata": {},
     "output_type": "execute_result"
    }
   ],
   "source": [
    "recipes.query(\"nb_sentences == 0\")"
   ]
  },
  {
   "cell_type": "code",
   "execution_count": 13,
   "id": "6c643500",
   "metadata": {
    "ExecuteTime": {
     "end_time": "2022-01-05T07:21:23.208828Z",
     "start_time": "2022-01-05T07:21:23.204133Z"
    }
   },
   "outputs": [
    {
     "name": "stdout",
     "output_type": "stream",
     "text": [
      "Mettre les noisettes a torréfier au four à 160°C pendant 20 minutes \n",
      "\n",
      " Mixer les 100g de noisettes jusqu'a obtention d'une pâte  \n",
      "\n",
      " Ajouter les chocolats dans le mixeur \n",
      "\n",
      " Faire bouillir la crème et sucre  \n",
      "\n",
      " Verser progressivement la crème bouillante sur les chocolats tout en mixant  \n",
      "\n",
      " Mouler dans des moules en silicone rond de 4cm de diamètre la préparation et réservé la pendant minimum 2h au congélateur  \n",
      "\n",
      " Pour les cookies, mélanger le sucre muscovado, la poudre de noisette et le beurre pommade jusqu'a obtenir un mélange homogène \n",
      "\n",
      " Ajouter l'oeuf  \n",
      "\n",
      " Ajouter la farine, la levure chimique et le sel \n",
      "\n",
      " Concasser les noisettes et le chocolat  \n",
      "\n",
      " Ajouter les au mélange précédent \n",
      "\n",
      " Diviser la pâte à cookies en boules de 50g \n",
      "\n",
      " Démouler les inserts de pâte a tartiner et placer un insert au milieux de chaque cookies \n",
      "\n",
      " Façonner les cookies de manière a enfermer l'insert de pâte a tartiner a l'intérieur du cookie bien hermétiquement  \n",
      "\n",
      " Disposer vos cookies sur une plaque avec une feuille de cuisson et cuire les cookies a 210°C pendant 8 minutes \n",
      "\n",
      " Laisser refroidir vos cookies 15 minutes et décoré les avec quelque points de pâte à tartiner et quelque éclats de noisettes  \n",
      "\n",
      " Il n'y a plus qu'a déguster !\n"
     ]
    }
   ],
   "source": [
    "print(list(recipes.query(\"recipe_id==530831\").iloc[:,4])[0])"
   ]
  },
  {
   "cell_type": "markdown",
   "id": "6508d27b",
   "metadata": {},
   "source": [
    "### Random check of instructions format"
   ]
  },
  {
   "cell_type": "code",
   "execution_count": 14,
   "id": "19fb32b6",
   "metadata": {
    "ExecuteTime": {
     "end_time": "2022-01-05T07:21:23.218449Z",
     "start_time": "2022-01-05T07:21:23.209987Z"
    }
   },
   "outputs": [
    {
     "name": "stdout",
     "output_type": "stream",
     "text": [
      "\n",
      " =>RANDOM RECIPE  0 \n",
      " Faire fondre dans une terrine placée au bain-marie, le chocolat cassé en morceaux avec le lait. Quand le chocolat est bien mou, remuer le mélange de façon à obtenir une crème bien lisse. Retirer du bain-marie.  \n",
      "\n",
      " Ajouter le beurre, le sucre glace, la vanille liquide.  \n",
      "\n",
      " Concasser grossièrement et régulièrement les biscuits ; ajouter à la préparation, mélanger pour obtenir une pâte homogène.  \n",
      "\n",
      " Verser dans un moule à cake.  \n",
      "\n",
      " Mettre au réfrigérateur jusqu'au lendemain.  \n",
      "\n",
      " Démouler avec précaution.\n",
      "\n",
      " =>RANDOM RECIPE  1 \n",
      " Faire cuire les pâtes \"al dente\" ; tout l'monde sait l'faire ; sinon, y'a  de chouettes recettes sur marmiton ;) \n",
      "\n",
      " Dans une poêle, faire chauffer un peu d'huile, et cuire le saumon : \n",
      "\n",
      " Si avec peau : coté peau \n",
      "\n",
      " Si sans peau ... ben sur l'un des cotés ! \n",
      "\n",
      " Attention : Mettre le saumon dans la poêle bien chaude, et, au bout de 5 min, vérifier la cuisson : il doit être encore \"léger rose\" (pas très cuit) au milieu, mais la poêle doit sembler être au \"top chaud\". \n",
      "\n",
      " A ce moment, verser le vin (dans la poêle) et couvrir tout en arrêtant le feu. \n",
      "\n",
      " Ça doit faire psssshiiiitttt ... et sentir le vin ! En fait, la fin de la cuisson se fait à la vapeur de vin (on peut dire ça ! ). \n",
      "\n",
      " Pendant ce temps, le saumon fumé se laisse aller... \n",
      "\n",
      " Dans une autre poêle, faire revenir dans un tout ch'tit peu d'huile et l'ail écrasée, ajouter la crème et le gruyère. \n",
      "\n",
      " Touiller !!  Touiller !!! \n",
      "\n",
      " Et couper le feu dès que ça semble accrocher ou quand la crème commence à mousser de trop. \n",
      "\n",
      " Laisser la poêle à côté du feu, et râper (sur la crème) l'équivalent d'une demi cuillère à café de noix de muscade. \n",
      "\n",
      " Avec votre 4 ème bras (pendant ce temps), couper en lamelles le saumon fumé et mélanger avec l'aneth hachée. \n",
      "\n",
      " Bon, d'un coté les pâtes, de l'autre le saumon, maintenant cuit, et enfin, la crème. \n",
      "\n",
      " Casser les œufs dans un bol et fouetter avec (un fouet) une poignée de gruyère râpé et une goutte d'huile d'olive. \n",
      "\n",
      " Ajouter le saumon coupé en lanières. \n",
      "\n",
      " Émietter le saumon cuit (avec les doigts... propres... ) et mélanger à la crème. \n",
      "\n",
      " Dans un plat (ou par assiette individuelles) :  \n",
      "\n",
      " Disposer les tagliatelles, en y faisant comme une dépression (une sorte de puits), puis par dessus le mélange œuf/saumon, et enfin la crème saumon. \n",
      "\n",
      " Attention, ce plat est intentionnellement non-salé pendant la cuisson !!  Avec le saumon, on ne sait jamais ! Mieux vaut que chaque convive re-sale... \n",
      "\n",
      " Servir avec un p'tite salade de mâche au vinaigre balsamique...\n",
      "\n",
      " =>RANDOM RECIPE  2 \n",
      " Préchauffez le four à 180°C (thermostat 6). \n",
      "\n",
      " Déroulez la pate dans un plat à tarte avec son papier de cuisson. \n",
      "\n",
      " Lavez les citrons, essuyez-les et râpez leur zeste. \n",
      "\n",
      " Battez légerement les oeufs. \n",
      "\n",
      " Faites tiédir le miel pour le liquéfier puis retirez du feu et incorporez la poudre d'amandes, les zestes de citron et les oeufs en remuant. \n",
      "\n",
      " Versez le mélange sur le fond de tarte et enfournez pour 35 minutes de cuisson.\n"
     ]
    }
   ],
   "source": [
    "#Print n random\n",
    "n=3\n",
    "for i in range(n):\n",
    "    print(\"\\n =>RANDOM RECIPE \",str(i),\"\\n\",list(recipes.sample(1)[[\"recipe_steps\"]].iloc[0])[0])\n"
   ]
  },
  {
   "cell_type": "code",
   "execution_count": 15,
   "id": "79c33515",
   "metadata": {
    "ExecuteTime": {
     "end_time": "2022-01-05T07:21:23.222714Z",
     "start_time": "2022-01-05T07:21:23.219478Z"
    },
    "scrolled": false
   },
   "outputs": [],
   "source": [
    "#Return a print of 5 random recipe_steps from the recipies table\n",
    "def random_check_instructions(recipes,nbprint,col):\n",
    "    recipes_sample=recipes.sample(500)\n",
    "    for i in range(nbprint):\n",
    "        print(f\"\\n---> RANDOM RECIPIE {i} \\nTitle : {recipes_sample.iloc[i,2]}\")\n",
    "        print(f\"Nb sentences : {recipes_sample.iloc[i,5]}\")\n",
    "        print(f\"Recipe id : {recipes_sample.iloc[i,0]}\\n\")\n",
    "        print(recipes_sample.iloc[i,col])"
   ]
  },
  {
   "cell_type": "code",
   "execution_count": 16,
   "id": "6a0074b0",
   "metadata": {
    "ExecuteTime": {
     "end_time": "2022-01-05T07:21:23.228337Z",
     "start_time": "2022-01-05T07:21:23.223670Z"
    }
   },
   "outputs": [
    {
     "name": "stdout",
     "output_type": "stream",
     "text": [
      "\n",
      "---> RANDOM RECIPIE 0 \n",
      "Title : Moelleux aux poires\n",
      "Nb sentences : 5\n",
      "Recipe id : 17629\n",
      "\n",
      "Battre les oeufs et le sucre ensemble jusqu'à ce que le mélange blanchisse et que le sucre soit bien fondu. \n",
      "\n",
      " Ajoutez le beurre fondu, la farine, le sel et la levure pour former une pâte fluide. \n",
      "\n",
      " Versez la pâte dans un moule beurré. \n",
      "\n",
      " Disposez les poires en lamelles sur la pâte. \n",
      "\n",
      " Mettez au four à thermostat 5/6 (170°C) pendant 30 min environ.\n",
      "\n",
      "---> RANDOM RECIPIE 1 \n",
      "Title : Ragout de ragondin\n",
      "Nb sentences : 10\n",
      "Recipe id : 11286\n",
      "\n",
      "Faire revenir les morceaux de ragondin à feu vif dans une sauteuse avec une cuillerée à soupe d'huile d'arachide jusqu'à ce qu'ils soient bien dorés. Egoutter et réserver. \n",
      "\n",
      " Faire revenir ensuite dans le même récipient carottes, céleri, poireaux et oignons coupés en petits morceaux. \n",
      "\n",
      " Cuire à feu vif pendant 5 min. \n",
      "\n",
      " Ajouter les tomates en morceaux, l'ail et le persil haché, le bouquet garni. Saler et poivrer. \n",
      "\n",
      " Baisser le feu et laisser mijoter 15 min environ. \n",
      "\n",
      " Ajouter les morceaux de ragondin, mouiller avec le vin rouge et le bouillon. Porter à ébullition, puis laisser mijoter pendant 45 min à feu moyen. \n",
      "\n",
      " Ajouter les pommes de terre en morceaux et laisser cuire encore 25 min environ.\n",
      "\n",
      "---> RANDOM RECIPIE 2 \n",
      "Title : Cheesecake au chocolat blanc aux trois fromages frais\n",
      "Nb sentences : 17\n",
      "Recipe id : 326163\n",
      "\n",
      "Recette pour un moule à charnière de 24 cm. \n",
      "\n",
      " Tapisser le fond de votre moule de papier sulfurisé en découpant les bords qui dépassent. \n",
      "\n",
      " Faire fondre votre beurre 30 secondes au micro-ondes. \n",
      "\n",
      " Passer les speculoos et le beurre fondu au robot afin de les mixer et les mélanger. \n",
      "\n",
      " Étaler la préparation sur le fond du moule en tassant bien à l'aide d'une cuillère et réserver au frais (au moins 30-40 min). \n",
      "\n",
      " Faire pré-chauffer votre four à 150°C (thermostat 5). \n",
      "\n",
      " Faire fondre au bain marie le chocolat avec le lait en pensant à bien mélanger pour obtenir une pâte liquide et onctueuse. Réserver pour après. \n",
      "\n",
      " Mélanger dans un grand saladier les 3 fromages frais que vous aurez sorti du frigo au moins 1h à l'avance. Ajouter le sucre glace et mélanger pour obtenir une texture homogène et aérée. \n",
      "\n",
      " Incorporer les 3 jaunes d'oeufs et la maïzena. Battre les blancs en neige et les intégrer à votre préparation crémeuse sans casser les blancs. \n",
      "\n",
      " Ajouter votre mélange de chocolat blanc et mélanger. \n",
      "\n",
      " Verser le tout sur votre fond de speculoos et mettre au four 1h-1h15. Arrêter la cuisson quand votre cheesecake commence à dorer. Le laisser 30 min dans votre four éteint puis le réserver au frigo (Au moins 1 nuit). Ne le démouler que lorsqu'il est bien froid. \n",
      "\n",
      " Bonne dégustation !\n",
      "\n",
      "---> RANDOM RECIPIE 3 \n",
      "Title : Spaghetti au fromage et aux coques\n",
      "Nb sentences : 8\n",
      "Recipe id : 30582\n",
      "\n",
      "Rincez les coques et faites-les ouvrir à feu vif dans une grande marmite. \n",
      "\n",
      " Récupérez-les à l'écumoire ou fur et à mesure, décoquillez-les et réservez. \n",
      "\n",
      " Filtrez l'eau rendue. \n",
      "\n",
      " Faites cuire les pâtes à l'eau bouillante salée et l'huile. \n",
      "\n",
      " Faites chauffer l'eau filtrée des coques dans une casserole, laissez réduire de manière à n'avoir plus que 5 cuillères à soupe. \n",
      "\n",
      " Ajoutez alors la crème et portez à \n",
      "\n",
      " ébullition 1 min. \n",
      "\n",
      " Saupourdez le safran, puis ajoutez les coques, remuez et réservez hors du feu et couvert. \n",
      "\n",
      " Egouttez les pâtes, mélangez-les avec le beurre et les fromages puis versez la sauce aux coques et servez.\n",
      "\n",
      "---> RANDOM RECIPIE 4 \n",
      "Title : Mousse de saumon fumé\n",
      "Nb sentences : 8\n",
      "Recipe id : 12276\n",
      "\n",
      "Couper fin le saumon fumé et le mettre au réfrigérateur avant de le passer au mixeur avec le cognac et 2 c. à soupe de crème. Mettre dans une terrine. Délayer la gelée dans l'eau bouillante, laisser légèrement refroidir, puis ajouter à la purée de saumon sans cesser de remuer au fouet. \n",
      "\n",
      " Incorporer la crème fouettée, remplir une terrine et laisser prendre au frais 2 à 3 heures. Garnir avec une fine tranche de saumon fumé roulée. \n",
      "\n",
      " Servir avec des toasts et du beurre. \n",
      "\n",
      " Servie en entrée, la mousse suffit pour 6 à 8 personnes.\n"
     ]
    }
   ],
   "source": [
    "random_check_instructions(recipes,nbprint=5,col=4)"
   ]
  },
  {
   "cell_type": "markdown",
   "id": "562de2ad",
   "metadata": {},
   "source": [
    "### Clean text in instructions"
   ]
  },
  {
   "cell_type": "code",
   "execution_count": 17,
   "id": "7b6c0629",
   "metadata": {
    "ExecuteTime": {
     "end_time": "2022-01-05T07:21:23.232710Z",
     "start_time": "2022-01-05T07:21:23.230310Z"
    }
   },
   "outputs": [],
   "source": [
    "import textwrap\n",
    "#This function is to clean the instructions of recipes\n",
    "def clean_text(text):\n",
    "    #1. Remove whitespace before each new line\n",
    "    text=text.replace(\"\\n\\n \",\"\\n\\n\")\n",
    "    \n",
    "    #2. Replace multiple punctuation \n",
    "    #USE REGEX ?\n",
    "    return text"
   ]
  },
  {
   "cell_type": "code",
   "execution_count": 18,
   "id": "9b463b8c",
   "metadata": {
    "ExecuteTime": {
     "end_time": "2022-01-05T07:21:23.444220Z",
     "start_time": "2022-01-05T07:21:23.233759Z"
    }
   },
   "outputs": [
    {
     "name": "stderr",
     "output_type": "stream",
     "text": [
      "/var/folders/79/kc35gvcn5h3dnnrgtwd2z2w40000gn/T/ipykernel_9788/1773282809.py:1: SettingWithCopyWarning: \n",
      "A value is trying to be set on a copy of a slice from a DataFrame.\n",
      "Try using .loc[row_indexer,col_indexer] = value instead\n",
      "\n",
      "See the caveats in the documentation: https://pandas.pydata.org/pandas-docs/stable/user_guide/indexing.html#returning-a-view-versus-a-copy\n",
      "  recipes[\"cleaned_instructions\"]=recipes[\"recipe_steps\"].apply(lambda x: clean_text(x))\n"
     ]
    },
    {
     "data": {
      "text/html": [
       "<div>\n",
       "<style scoped>\n",
       "    .dataframe tbody tr th:only-of-type {\n",
       "        vertical-align: middle;\n",
       "    }\n",
       "\n",
       "    .dataframe tbody tr th {\n",
       "        vertical-align: top;\n",
       "    }\n",
       "\n",
       "    .dataframe thead th {\n",
       "        text-align: right;\n",
       "    }\n",
       "</style>\n",
       "<table border=\"1\" class=\"dataframe\">\n",
       "  <thead>\n",
       "    <tr style=\"text-align: right;\">\n",
       "      <th></th>\n",
       "      <th>recipe_id</th>\n",
       "      <th>recipe_url</th>\n",
       "      <th>recipe_title</th>\n",
       "      <th>recipe_type</th>\n",
       "      <th>recipe_steps</th>\n",
       "      <th>nb_sentences</th>\n",
       "      <th>cleaned_instructions</th>\n",
       "    </tr>\n",
       "  </thead>\n",
       "  <tbody>\n",
       "    <tr>\n",
       "      <th>0</th>\n",
       "      <td>10534</td>\n",
       "      <td>https://www.marmiton.org/recettes/recette_le-c...</td>\n",
       "      <td>Le crumble aux pommes du Chat qui Tousse</td>\n",
       "      <td>Dessert</td>\n",
       "      <td>Préchauffer le four à 210°C (thermostat 7). \\n...</td>\n",
       "      <td>8</td>\n",
       "      <td>Préchauffer le four à 210°C (thermostat 7). \\n...</td>\n",
       "    </tr>\n",
       "    <tr>\n",
       "      <th>1</th>\n",
       "      <td>10531</td>\n",
       "      <td>https://www.marmiton.org/recettes/recette_esca...</td>\n",
       "      <td>Escalopes lucullus à la cocotte</td>\n",
       "      <td>Plat principal</td>\n",
       "      <td>Coupez l'oignon en petits morceaux, faites rev...</td>\n",
       "      <td>3</td>\n",
       "      <td>Coupez l'oignon en petits morceaux, faites rev...</td>\n",
       "    </tr>\n",
       "    <tr>\n",
       "      <th>2</th>\n",
       "      <td>10529</td>\n",
       "      <td>https://www.marmiton.org/recettes/recette_terr...</td>\n",
       "      <td>Terrine de foie de porc</td>\n",
       "      <td>Plat principal</td>\n",
       "      <td>- hacher (pas trop fin) le foie, le lard, les ...</td>\n",
       "      <td>0</td>\n",
       "      <td>- hacher (pas trop fin) le foie, le lard, les ...</td>\n",
       "    </tr>\n",
       "    <tr>\n",
       "      <th>3</th>\n",
       "      <td>10530</td>\n",
       "      <td>https://www.marmiton.org/recettes/recette_lapi...</td>\n",
       "      <td>Lapin au vin blanc (à la cocotte)</td>\n",
       "      <td>Plat principal</td>\n",
       "      <td>Faire revenir les échalotes et les lardons dan...</td>\n",
       "      <td>6</td>\n",
       "      <td>Faire revenir les échalotes et les lardons dan...</td>\n",
       "    </tr>\n",
       "    <tr>\n",
       "      <th>4</th>\n",
       "      <td>10528</td>\n",
       "      <td>https://www.marmiton.org/recettes/recette_truf...</td>\n",
       "      <td>Truffes en chocolat</td>\n",
       "      <td>Confiserie</td>\n",
       "      <td>La veille : faire fondre le chocolat au bain-m...</td>\n",
       "      <td>7</td>\n",
       "      <td>La veille : faire fondre le chocolat au bain-m...</td>\n",
       "    </tr>\n",
       "    <tr>\n",
       "      <th>...</th>\n",
       "      <td>...</td>\n",
       "      <td>...</td>\n",
       "      <td>...</td>\n",
       "      <td>...</td>\n",
       "      <td>...</td>\n",
       "      <td>...</td>\n",
       "      <td>...</td>\n",
       "    </tr>\n",
       "    <tr>\n",
       "      <th>70597</th>\n",
       "      <td>532440</td>\n",
       "      <td>https://www.marmiton.org/recettes/recette_ciga...</td>\n",
       "      <td>Cigare au poulet et au chèvre</td>\n",
       "      <td>Plat principal</td>\n",
       "      <td>Dénerver et couper le poulet en fines lamelles...</td>\n",
       "      <td>5</td>\n",
       "      <td>Dénerver et couper le poulet en fines lamelles...</td>\n",
       "    </tr>\n",
       "    <tr>\n",
       "      <th>70598</th>\n",
       "      <td>532439</td>\n",
       "      <td>https://www.marmiton.org/recettes/recette_buch...</td>\n",
       "      <td>Bûche de Noël au chocolat et crêpes dentelles</td>\n",
       "      <td>Dessert</td>\n",
       "      <td>Faire fondre les chocolats au bain marie avec ...</td>\n",
       "      <td>14</td>\n",
       "      <td>Faire fondre les chocolats au bain marie avec ...</td>\n",
       "    </tr>\n",
       "    <tr>\n",
       "      <th>70599</th>\n",
       "      <td>532434</td>\n",
       "      <td>https://www.marmiton.org/recettes/recette_cook...</td>\n",
       "      <td>Cookies aux noix de pécan et au chocolat</td>\n",
       "      <td>Dessert</td>\n",
       "      <td>Pour le beurre de pécan : Faire fondre le beur...</td>\n",
       "      <td>15</td>\n",
       "      <td>Pour le beurre de pécan : Faire fondre le beur...</td>\n",
       "    </tr>\n",
       "    <tr>\n",
       "      <th>70600</th>\n",
       "      <td>532401</td>\n",
       "      <td>https://www.marmiton.org/recettes/recette_sand...</td>\n",
       "      <td>Sando au poulet</td>\n",
       "      <td>Plat principal</td>\n",
       "      <td>Couper le poulet en morceaux de 5/6cm. \\n\\n Ba...</td>\n",
       "      <td>11</td>\n",
       "      <td>Couper le poulet en morceaux de 5/6cm. \\n\\nBat...</td>\n",
       "    </tr>\n",
       "    <tr>\n",
       "      <th>70601</th>\n",
       "      <td>532213</td>\n",
       "      <td>https://www.marmiton.org/recettes/recette_grat...</td>\n",
       "      <td>Gratin pomme de terre et panais</td>\n",
       "      <td>Accompagnement</td>\n",
       "      <td>Éplucher les pommes de terre et le panais et l...</td>\n",
       "      <td>11</td>\n",
       "      <td>Éplucher les pommes de terre et le panais et l...</td>\n",
       "    </tr>\n",
       "  </tbody>\n",
       "</table>\n",
       "<p>70585 rows × 7 columns</p>\n",
       "</div>"
      ],
      "text/plain": [
       "       recipe_id                                         recipe_url  \\\n",
       "0          10534  https://www.marmiton.org/recettes/recette_le-c...   \n",
       "1          10531  https://www.marmiton.org/recettes/recette_esca...   \n",
       "2          10529  https://www.marmiton.org/recettes/recette_terr...   \n",
       "3          10530  https://www.marmiton.org/recettes/recette_lapi...   \n",
       "4          10528  https://www.marmiton.org/recettes/recette_truf...   \n",
       "...          ...                                                ...   \n",
       "70597     532440  https://www.marmiton.org/recettes/recette_ciga...   \n",
       "70598     532439  https://www.marmiton.org/recettes/recette_buch...   \n",
       "70599     532434  https://www.marmiton.org/recettes/recette_cook...   \n",
       "70600     532401  https://www.marmiton.org/recettes/recette_sand...   \n",
       "70601     532213  https://www.marmiton.org/recettes/recette_grat...   \n",
       "\n",
       "                                        recipe_title     recipe_type  \\\n",
       "0           Le crumble aux pommes du Chat qui Tousse         Dessert   \n",
       "1                    Escalopes lucullus à la cocotte  Plat principal   \n",
       "2                            Terrine de foie de porc  Plat principal   \n",
       "3                  Lapin au vin blanc (à la cocotte)  Plat principal   \n",
       "4                                Truffes en chocolat      Confiserie   \n",
       "...                                              ...             ...   \n",
       "70597                  Cigare au poulet et au chèvre  Plat principal   \n",
       "70598  Bûche de Noël au chocolat et crêpes dentelles         Dessert   \n",
       "70599       Cookies aux noix de pécan et au chocolat         Dessert   \n",
       "70600                                Sando au poulet  Plat principal   \n",
       "70601                Gratin pomme de terre et panais  Accompagnement   \n",
       "\n",
       "                                            recipe_steps  nb_sentences  \\\n",
       "0      Préchauffer le four à 210°C (thermostat 7). \\n...             8   \n",
       "1      Coupez l'oignon en petits morceaux, faites rev...             3   \n",
       "2      - hacher (pas trop fin) le foie, le lard, les ...             0   \n",
       "3      Faire revenir les échalotes et les lardons dan...             6   \n",
       "4      La veille : faire fondre le chocolat au bain-m...             7   \n",
       "...                                                  ...           ...   \n",
       "70597  Dénerver et couper le poulet en fines lamelles...             5   \n",
       "70598  Faire fondre les chocolats au bain marie avec ...            14   \n",
       "70599  Pour le beurre de pécan : Faire fondre le beur...            15   \n",
       "70600  Couper le poulet en morceaux de 5/6cm. \\n\\n Ba...            11   \n",
       "70601  Éplucher les pommes de terre et le panais et l...            11   \n",
       "\n",
       "                                    cleaned_instructions  \n",
       "0      Préchauffer le four à 210°C (thermostat 7). \\n...  \n",
       "1      Coupez l'oignon en petits morceaux, faites rev...  \n",
       "2      - hacher (pas trop fin) le foie, le lard, les ...  \n",
       "3      Faire revenir les échalotes et les lardons dan...  \n",
       "4      La veille : faire fondre le chocolat au bain-m...  \n",
       "...                                                  ...  \n",
       "70597  Dénerver et couper le poulet en fines lamelles...  \n",
       "70598  Faire fondre les chocolats au bain marie avec ...  \n",
       "70599  Pour le beurre de pécan : Faire fondre le beur...  \n",
       "70600  Couper le poulet en morceaux de 5/6cm. \\n\\nBat...  \n",
       "70601  Éplucher les pommes de terre et le panais et l...  \n",
       "\n",
       "[70585 rows x 7 columns]"
      ]
     },
     "execution_count": 18,
     "metadata": {},
     "output_type": "execute_result"
    }
   ],
   "source": [
    "recipes[\"cleaned_instructions\"]=recipes[\"recipe_steps\"].apply(lambda x: clean_text(x))\n",
    "recipes"
   ]
  },
  {
   "cell_type": "code",
   "execution_count": 19,
   "id": "eea6f810",
   "metadata": {
    "ExecuteTime": {
     "end_time": "2022-01-05T07:21:23.459236Z",
     "start_time": "2022-01-05T07:21:23.445359Z"
    }
   },
   "outputs": [
    {
     "name": "stdout",
     "output_type": "stream",
     "text": [
      "\n",
      "---> RANDOM RECIPIE 0 \n",
      "Title : Beignets d'acacia\n",
      "Nb sentences : 4\n",
      "Recipe id : 12457\n",
      "\n",
      "Faire une pâte à crêpes épaisse avec les oeufs, la farine, le lait; Ajouter l'huile et l'eau de fleur d'oranger. Laisser reposer un moment. \n",
      "\n",
      "Prendre alors un petit rameau d'acacia (non lavé car sinon la fleur  perd son parfum, secouer seulement), le tremper dans la pâte et cuire à la poêle préalablement huilée et très chaude. \n",
      "\n",
      "Procéder comme pour les crêpes : cuire d'un côté, et retourner pour cuire l'autre côté.\n",
      "\n",
      "---> RANDOM RECIPIE 1 \n",
      "Title : Pain de saumon fouré au foie gras\n",
      "Nb sentences : 8\n",
      "Recipe id : 84262\n",
      "\n",
      "Dérouler la pâte feuilletée(ou la faire si vous en avez le courage). \n",
      "\n",
      "Couper dans l'épaisseur les 4 pavés de saumon (ne pas laisser la peau). Émincer les 2 blanc de poireaux et les faire blanchir(dans l'eau) avec un peu de beurre. \n",
      "\n",
      "Puis dans votre pâte, déposer dans cet ordre:saumon, poireau, foie gras, poireau, saumon. Fermer votre pain et le badigeonner d'un jaune d'oeuf. Le mettre au four sur une plaque à 210°(thermostat 7). \n",
      "\n",
      "Pour la sauce, faire réduire dans une casserole le verre de vin de moitié. Puis verser la crème et une pincée de paprika doux.\n",
      "\n",
      "---> RANDOM RECIPIE 2 \n",
      "Title : Brochettes de sot l'y laisse à la normande\n",
      "Nb sentences : 15\n",
      "Recipe id : 57670\n",
      "\n",
      "Couper les sot-l'y-laisse en 4, puis les assembler sur les piques à brochettes. \n",
      "\n",
      "Fariner les brochettes. \n",
      "\n",
      "Utiliser une poêle assez grande pour faire revenir les brochettes à feu vif dans un peu de matière grasse (de préférence, de l'huile d'olive). \n",
      "\n",
      "Réserver. \n",
      "\n",
      "Dans la même poêle, faire revenir l'échalote (ajouter un peu de matière grasse si nécessaire). \n",
      "\n",
      "Puis les champignons. \n",
      "\n",
      "Les faire suer quelques minutes. \n",
      "\n",
      "Réserver. \n",
      "\n",
      "Déglacer la poêle avec le mélange vin blanc-eau. \n",
      "\n",
      "Ajouter ensuite l'échalote et les champignons. \n",
      "\n",
      "Additionner le fond de veau à cette sauce. \n",
      "\n",
      "Ajouter enfin les brochettes et le persil (finement coupé) à la sauce. \n",
      "\n",
      "Laisser cuire 20 à 25 minutes sur feu doux. \n",
      "\n",
      "Ajouter la crème fraîche. Faire cuire encore 5 minutes.\n",
      "\n",
      "---> RANDOM RECIPIE 3 \n",
      "Title : Amour de fromage de chèvre et ses figues fraîches\n",
      "Nb sentences : 6\n",
      "Recipe id : 29492\n",
      "\n",
      "Sur chaque tranche de pain , disposer 2 tranches épaisses de chèvre et parsemer de thym et d'un peu de poivre.  \n",
      "\n",
      "Enfourner les toasts 10 min à 210°C (th 7), jusqu'à ce que le fromage soit gratiné au dessus, mais fondant à cœur. \n",
      "\n",
      "Couper les figues en quartiers et les faire revenir 5 min à la poêle, avec une noisette de beurre et le sucre vanillé, en les parsemant de 4 épices ou de cannelle-muscade.  \n",
      "\n",
      "Disposer les quartiers de figues, en forme de fleur sur chaque assiette, à côté du toast de chèvre chaud et des feuilles de roquette relevées d'un filet d’huile d’olive et de vinaigre balsamique.  \n",
      "\n",
      "Décorer avec les herbes fraîches (ciboulette et basilic) et quelques pignons de pin. \n",
      "\n",
      "Déguster, en se léchant les babines.\n",
      "\n",
      "---> RANDOM RECIPIE 4 \n",
      "Title : Sauce vierge d'Aurélien\n",
      "Nb sentences : 15\n",
      "Recipe id : 315012\n",
      "\n",
      "Mélanger tous les ingrédients dans un bol : sans éplucher l’échalote, ni l'ail, ni l'oignon,  \n",
      "\n",
      "épépinez la tomate, coupez-la en petits cubes. Taillez les olives en rondelles, 2 feuilles de basilic.  \n",
      "\n",
      "Laisser mariner le tout au réfrigérateur au moins 2h. \n",
      "\n",
      "Récupérer échalote, ail et oignon et les éplucher. \n",
      "\n",
      "Hacher grossièrement toute la préparation. \n",
      "\n",
      "Mettre un trait de vinaigre balsamique et une pincée de gingembre. \n",
      "\n",
      "Ciseler les 2 feuilles de basilic restantes au moment de servir. \n",
      "\n",
      "Servir la sauce froide en nappage sur filets de poissons (bar, rousssette, sandre,...), darnes grillées de poissons gras (saumon...). \n",
      "\n",
      "Vous pouvez garder la préparation au réfrigérateur plusieurs jours.\n"
     ]
    }
   ],
   "source": [
    "random_check_instructions(recipes,nbprint=5,col=6)"
   ]
  },
  {
   "cell_type": "markdown",
   "id": "955dc733",
   "metadata": {},
   "source": [
    "### Check recipe_type"
   ]
  },
  {
   "cell_type": "code",
   "execution_count": 20,
   "id": "686ac23f",
   "metadata": {
    "ExecuteTime": {
     "end_time": "2022-01-05T07:21:23.469385Z",
     "start_time": "2022-01-05T07:21:23.460312Z"
    }
   },
   "outputs": [
    {
     "name": "stdout",
     "output_type": "stream",
     "text": [
      "25155\n"
     ]
    }
   ],
   "source": [
    "#It is expected 9 recipe_type, but we have 25155 !!\n",
    "print(recipes.recipe_type.nunique())"
   ]
  },
  {
   "cell_type": "code",
   "execution_count": 21,
   "id": "d6ccc4d1",
   "metadata": {
    "ExecuteTime": {
     "end_time": "2022-01-05T07:21:23.610068Z",
     "start_time": "2022-01-05T07:21:23.470440Z"
    }
   },
   "outputs": [
    {
     "name": "stdout",
     "output_type": "stream",
     "text": [
      "(38291, 7)\n",
      "(70585, 7)\n"
     ]
    },
    {
     "data": {
      "image/png": "[encoded data removed]",
      "text/plain": [
       "<Figure size 1080x576 with 1 Axes>"
      ]
     },
     "metadata": {
      "needs_background": "light"
     },
     "output_type": "display_data"
    }
   ],
   "source": [
    "known_types=[\"Entrée\", \"Plat principal\", \"Dessert\", \"Amuse-gueule\", \"Accompagnement\", \"Sauce\", \"Boisson\", \"Confiserie\", \"Conseil\"]\n",
    "mask = recipes['recipe_type'].isin(known_types)\n",
    "recipes[mask]\n",
    "\n",
    "plt.figure(figsize=(15,8))\n",
    "sns.countplot(x=\"recipe_type\", data=recipes[mask])\n",
    "\n",
    "# En dropant tous les types non-connus on réduit le dataset presque de moitié : 70 585 -> 38 291\n",
    "\n",
    "print(recipes[mask].shape)\n",
    "print(recipes.shape)\n"
   ]
  },
  {
   "cell_type": "markdown",
   "id": "0d879c01",
   "metadata": {},
   "source": [
    "# Exploration of ingredients"
   ]
  },
  {
   "cell_type": "markdown",
   "id": "214f785d",
   "metadata": {},
   "source": [
    "## Check ingredients : 578 330 rows with 2 694 duplicates (<0,5%) and 0 null"
   ]
  },
  {
   "cell_type": "code",
   "execution_count": 22,
   "id": "8f337b51",
   "metadata": {
    "ExecuteTime": {
     "end_time": "2022-01-05T07:21:23.938489Z",
     "start_time": "2022-01-05T07:21:23.611181Z"
    }
   },
   "outputs": [
    {
     "name": "stdout",
     "output_type": "stream",
     "text": [
      "Data shape:\n",
      " (578330, 2) \n",
      "\n",
      "Columns name:\n",
      " ['recipe_id', 'ingredient'] \n",
      "\n",
      "Datas type:\n",
      " recipe_id      int64\n",
      "ingredient    object\n",
      "dtype: object \n",
      "\n",
      "Null data:\n",
      " recipe_id     0.0\n",
      "ingredient    0.0\n",
      "dtype: float64\n",
      "\n",
      "\n",
      "2694 duplicated data\n",
      "\n",
      "Drop duplicates done : new data shape:\n",
      " (575636, 2)\n"
     ]
    }
   ],
   "source": [
    "ingredients_new=fastcheck(ingredients)"
   ]
  },
  {
   "cell_type": "code",
   "execution_count": 23,
   "id": "95f0785d",
   "metadata": {
    "ExecuteTime": {
     "end_time": "2022-01-05T07:21:23.944592Z",
     "start_time": "2022-01-05T07:21:23.939369Z"
    }
   },
   "outputs": [
    {
     "data": {
      "text/html": [
       "<div>\n",
       "<style scoped>\n",
       "    .dataframe tbody tr th:only-of-type {\n",
       "        vertical-align: middle;\n",
       "    }\n",
       "\n",
       "    .dataframe tbody tr th {\n",
       "        vertical-align: top;\n",
       "    }\n",
       "\n",
       "    .dataframe thead th {\n",
       "        text-align: right;\n",
       "    }\n",
       "</style>\n",
       "<table border=\"1\" class=\"dataframe\">\n",
       "  <thead>\n",
       "    <tr style=\"text-align: right;\">\n",
       "      <th></th>\n",
       "      <th>recipe_id</th>\n",
       "      <th>ingredient</th>\n",
       "    </tr>\n",
       "  </thead>\n",
       "  <tbody>\n",
       "    <tr>\n",
       "      <th>0</th>\n",
       "      <td>10534</td>\n",
       "      <td>6 pommes (des Canada par exemple)</td>\n",
       "    </tr>\n",
       "    <tr>\n",
       "      <th>1</th>\n",
       "      <td>10534</td>\n",
       "      <td>150 g de  cassonade</td>\n",
       "    </tr>\n",
       "    <tr>\n",
       "      <th>2</th>\n",
       "      <td>10534</td>\n",
       "      <td>150 g de  farine de blé</td>\n",
       "    </tr>\n",
       "    <tr>\n",
       "      <th>3</th>\n",
       "      <td>10534</td>\n",
       "      <td>1 petite cuillère de  cannelle en poudre</td>\n",
       "    </tr>\n",
       "    <tr>\n",
       "      <th>4</th>\n",
       "      <td>10534</td>\n",
       "      <td>1 sachet de  sucre vanillé</td>\n",
       "    </tr>\n",
       "    <tr>\n",
       "      <th>...</th>\n",
       "      <td>...</td>\n",
       "      <td>...</td>\n",
       "    </tr>\n",
       "    <tr>\n",
       "      <th>578316</th>\n",
       "      <td>532213</td>\n",
       "      <td>75 g de  beurre</td>\n",
       "    </tr>\n",
       "    <tr>\n",
       "      <th>578317</th>\n",
       "      <td>532213</td>\n",
       "      <td>pain rassis</td>\n",
       "    </tr>\n",
       "    <tr>\n",
       "      <th>578318</th>\n",
       "      <td>532213</td>\n",
       "      <td>muscade rapée</td>\n",
       "    </tr>\n",
       "    <tr>\n",
       "      <th>578319</th>\n",
       "      <td>532213</td>\n",
       "      <td>50 g de  beurre</td>\n",
       "    </tr>\n",
       "    <tr>\n",
       "      <th>578320</th>\n",
       "      <td>532213</td>\n",
       "      <td>crème liquide</td>\n",
       "    </tr>\n",
       "  </tbody>\n",
       "</table>\n",
       "<p>575636 rows × 2 columns</p>\n",
       "</div>"
      ],
      "text/plain": [
       "        recipe_id                                ingredient\n",
       "0           10534         6 pommes (des Canada par exemple)\n",
       "1           10534                       150 g de  cassonade\n",
       "2           10534                   150 g de  farine de blé\n",
       "3           10534  1 petite cuillère de  cannelle en poudre\n",
       "4           10534                1 sachet de  sucre vanillé\n",
       "...           ...                                       ...\n",
       "578316     532213                           75 g de  beurre\n",
       "578317     532213                               pain rassis\n",
       "578318     532213                             muscade rapée\n",
       "578319     532213                           50 g de  beurre\n",
       "578320     532213                             crème liquide\n",
       "\n",
       "[575636 rows x 2 columns]"
      ]
     },
     "execution_count": 23,
     "metadata": {},
     "output_type": "execute_result"
    }
   ],
   "source": [
    "ingredients_new"
   ]
  },
  {
   "cell_type": "code",
   "execution_count": 24,
   "id": "ede78c26",
   "metadata": {
    "ExecuteTime": {
     "end_time": "2022-01-05T07:21:23.988404Z",
     "start_time": "2022-01-05T07:21:23.945584Z"
    }
   },
   "outputs": [],
   "source": [
    "temp=ingredients.groupby(\"recipe_id\").count().sort_values(\"ingredient\")"
   ]
  },
  {
   "cell_type": "code",
   "execution_count": 25,
   "id": "8e167eb7",
   "metadata": {
    "ExecuteTime": {
     "end_time": "2022-01-05T07:21:23.994255Z",
     "start_time": "2022-01-05T07:21:23.989412Z"
    }
   },
   "outputs": [
    {
     "data": {
      "text/html": [
       "<div>\n",
       "<style scoped>\n",
       "    .dataframe tbody tr th:only-of-type {\n",
       "        vertical-align: middle;\n",
       "    }\n",
       "\n",
       "    .dataframe tbody tr th {\n",
       "        vertical-align: top;\n",
       "    }\n",
       "\n",
       "    .dataframe thead th {\n",
       "        text-align: right;\n",
       "    }\n",
       "</style>\n",
       "<table border=\"1\" class=\"dataframe\">\n",
       "  <thead>\n",
       "    <tr style=\"text-align: right;\">\n",
       "      <th></th>\n",
       "      <th>ingredient</th>\n",
       "    </tr>\n",
       "    <tr>\n",
       "      <th>recipe_id</th>\n",
       "      <th></th>\n",
       "    </tr>\n",
       "  </thead>\n",
       "  <tbody>\n",
       "    <tr>\n",
       "      <th>65558</th>\n",
       "      <td>1</td>\n",
       "    </tr>\n",
       "    <tr>\n",
       "      <th>36648</th>\n",
       "      <td>1</td>\n",
       "    </tr>\n",
       "    <tr>\n",
       "      <th>314361</th>\n",
       "      <td>1</td>\n",
       "    </tr>\n",
       "    <tr>\n",
       "      <th>21905</th>\n",
       "      <td>1</td>\n",
       "    </tr>\n",
       "    <tr>\n",
       "      <th>47643</th>\n",
       "      <td>1</td>\n",
       "    </tr>\n",
       "    <tr>\n",
       "      <th>...</th>\n",
       "      <td>...</td>\n",
       "    </tr>\n",
       "    <tr>\n",
       "      <th>223949</th>\n",
       "      <td>42</td>\n",
       "    </tr>\n",
       "    <tr>\n",
       "      <th>321549</th>\n",
       "      <td>42</td>\n",
       "    </tr>\n",
       "    <tr>\n",
       "      <th>33107</th>\n",
       "      <td>43</td>\n",
       "    </tr>\n",
       "    <tr>\n",
       "      <th>66444</th>\n",
       "      <td>46</td>\n",
       "    </tr>\n",
       "    <tr>\n",
       "      <th>164973</th>\n",
       "      <td>272</td>\n",
       "    </tr>\n",
       "  </tbody>\n",
       "</table>\n",
       "<p>70585 rows × 1 columns</p>\n",
       "</div>"
      ],
      "text/plain": [
       "           ingredient\n",
       "recipe_id            \n",
       "65558               1\n",
       "36648               1\n",
       "314361              1\n",
       "21905               1\n",
       "47643               1\n",
       "...               ...\n",
       "223949             42\n",
       "321549             42\n",
       "33107              43\n",
       "66444              46\n",
       "164973            272\n",
       "\n",
       "[70585 rows x 1 columns]"
      ]
     },
     "execution_count": 25,
     "metadata": {},
     "output_type": "execute_result"
    }
   ],
   "source": [
    "temp"
   ]
  },
  {
   "cell_type": "code",
   "execution_count": 26,
   "id": "f3f8d066",
   "metadata": {
    "ExecuteTime": {
     "end_time": "2022-01-05T07:21:24.001195Z",
     "start_time": "2022-01-05T07:21:23.995183Z"
    }
   },
   "outputs": [
    {
     "data": {
      "text/html": [
       "<div>\n",
       "<style scoped>\n",
       "    .dataframe tbody tr th:only-of-type {\n",
       "        vertical-align: middle;\n",
       "    }\n",
       "\n",
       "    .dataframe tbody tr th {\n",
       "        vertical-align: top;\n",
       "    }\n",
       "\n",
       "    .dataframe thead th {\n",
       "        text-align: right;\n",
       "    }\n",
       "</style>\n",
       "<table border=\"1\" class=\"dataframe\">\n",
       "  <thead>\n",
       "    <tr style=\"text-align: right;\">\n",
       "      <th></th>\n",
       "      <th>ingredient</th>\n",
       "    </tr>\n",
       "    <tr>\n",
       "      <th>recipe_id</th>\n",
       "      <th></th>\n",
       "    </tr>\n",
       "  </thead>\n",
       "  <tbody>\n",
       "    <tr>\n",
       "      <th>58933</th>\n",
       "      <td>2</td>\n",
       "    </tr>\n",
       "    <tr>\n",
       "      <th>230181</th>\n",
       "      <td>2</td>\n",
       "    </tr>\n",
       "    <tr>\n",
       "      <th>50865</th>\n",
       "      <td>2</td>\n",
       "    </tr>\n",
       "    <tr>\n",
       "      <th>18676</th>\n",
       "      <td>2</td>\n",
       "    </tr>\n",
       "    <tr>\n",
       "      <th>223351</th>\n",
       "      <td>2</td>\n",
       "    </tr>\n",
       "    <tr>\n",
       "      <th>...</th>\n",
       "      <td>...</td>\n",
       "    </tr>\n",
       "    <tr>\n",
       "      <th>174825</th>\n",
       "      <td>2</td>\n",
       "    </tr>\n",
       "    <tr>\n",
       "      <th>32964</th>\n",
       "      <td>2</td>\n",
       "    </tr>\n",
       "    <tr>\n",
       "      <th>23215</th>\n",
       "      <td>2</td>\n",
       "    </tr>\n",
       "    <tr>\n",
       "      <th>87697</th>\n",
       "      <td>2</td>\n",
       "    </tr>\n",
       "    <tr>\n",
       "      <th>194274</th>\n",
       "      <td>2</td>\n",
       "    </tr>\n",
       "  </tbody>\n",
       "</table>\n",
       "<p>692 rows × 1 columns</p>\n",
       "</div>"
      ],
      "text/plain": [
       "           ingredient\n",
       "recipe_id            \n",
       "58933               2\n",
       "230181              2\n",
       "50865               2\n",
       "18676               2\n",
       "223351              2\n",
       "...               ...\n",
       "174825              2\n",
       "32964               2\n",
       "23215               2\n",
       "87697               2\n",
       "194274              2\n",
       "\n",
       "[692 rows x 1 columns]"
      ]
     },
     "execution_count": 26,
     "metadata": {},
     "output_type": "execute_result"
    }
   ],
   "source": [
    "temp.query(\"ingredient==2\")"
   ]
  },
  {
   "cell_type": "code",
   "execution_count": 27,
   "id": "ff84d326",
   "metadata": {
    "ExecuteTime": {
     "end_time": "2022-01-05T07:21:24.013582Z",
     "start_time": "2022-01-05T07:21:24.006771Z"
    }
   },
   "outputs": [
    {
     "data": {
      "text/html": [
       "<div>\n",
       "<style scoped>\n",
       "    .dataframe tbody tr th:only-of-type {\n",
       "        vertical-align: middle;\n",
       "    }\n",
       "\n",
       "    .dataframe tbody tr th {\n",
       "        vertical-align: top;\n",
       "    }\n",
       "\n",
       "    .dataframe thead th {\n",
       "        text-align: right;\n",
       "    }\n",
       "</style>\n",
       "<table border=\"1\" class=\"dataframe\">\n",
       "  <thead>\n",
       "    <tr style=\"text-align: right;\">\n",
       "      <th></th>\n",
       "      <th>recipe_id</th>\n",
       "      <th>ingredient</th>\n",
       "    </tr>\n",
       "  </thead>\n",
       "  <tbody>\n",
       "    <tr>\n",
       "      <th>309837</th>\n",
       "      <td>65924</td>\n",
       "      <td>5 belles tranches de  saumon fumé</td>\n",
       "    </tr>\n",
       "    <tr>\n",
       "      <th>309838</th>\n",
       "      <td>65924</td>\n",
       "      <td>1 boursin ail et fines herbes</td>\n",
       "    </tr>\n",
       "  </tbody>\n",
       "</table>\n",
       "</div>"
      ],
      "text/plain": [
       "        recipe_id                         ingredient\n",
       "309837      65924  5 belles tranches de  saumon fumé\n",
       "309838      65924      1 boursin ail et fines herbes"
      ]
     },
     "execution_count": 27,
     "metadata": {},
     "output_type": "execute_result"
    }
   ],
   "source": [
    "ingredients.query(\"recipe_id==65924\")"
   ]
  },
  {
   "cell_type": "markdown",
   "id": "20b92f52",
   "metadata": {},
   "source": [
    "# # On drop moins de 2 ingrédients et plus que 10 -> reste 388 342 rows"
   ]
  },
  {
   "cell_type": "code",
   "execution_count": 28,
   "id": "3e09d085",
   "metadata": {
    "ExecuteTime": {
     "end_time": "2022-01-05T07:21:24.017402Z",
     "start_time": "2022-01-05T07:21:24.014634Z"
    }
   },
   "outputs": [],
   "source": [
    "def resample_ingredients(ingredients,min_ingredient=2, max_ingredient=10):\n",
    "    temp=ingredients.groupby(\"recipe_id\").count()\n",
    "    temp=temp.query(f\"{min_ingredient}<=ingredient<={max_ingredient}\")\n",
    "    return ingredients[ingredients[\"recipe_id\"].isin(temp.index)]"
   ]
  },
  {
   "cell_type": "code",
   "execution_count": 29,
   "id": "acddd4ba",
   "metadata": {
    "ExecuteTime": {
     "end_time": "2022-01-05T07:21:24.075885Z",
     "start_time": "2022-01-05T07:21:24.018595Z"
    }
   },
   "outputs": [
    {
     "data": {
      "text/html": [
       "<div>\n",
       "<style scoped>\n",
       "    .dataframe tbody tr th:only-of-type {\n",
       "        vertical-align: middle;\n",
       "    }\n",
       "\n",
       "    .dataframe tbody tr th {\n",
       "        vertical-align: top;\n",
       "    }\n",
       "\n",
       "    .dataframe thead th {\n",
       "        text-align: right;\n",
       "    }\n",
       "</style>\n",
       "<table border=\"1\" class=\"dataframe\">\n",
       "  <thead>\n",
       "    <tr style=\"text-align: right;\">\n",
       "      <th></th>\n",
       "      <th>recipe_id</th>\n",
       "      <th>ingredient</th>\n",
       "    </tr>\n",
       "  </thead>\n",
       "  <tbody>\n",
       "    <tr>\n",
       "      <th>0</th>\n",
       "      <td>10534</td>\n",
       "      <td>6 pommes (des Canada par exemple)</td>\n",
       "    </tr>\n",
       "    <tr>\n",
       "      <th>1</th>\n",
       "      <td>10534</td>\n",
       "      <td>150 g de  cassonade</td>\n",
       "    </tr>\n",
       "    <tr>\n",
       "      <th>2</th>\n",
       "      <td>10534</td>\n",
       "      <td>150 g de  farine de blé</td>\n",
       "    </tr>\n",
       "    <tr>\n",
       "      <th>3</th>\n",
       "      <td>10534</td>\n",
       "      <td>1 petite cuillère de  cannelle en poudre</td>\n",
       "    </tr>\n",
       "    <tr>\n",
       "      <th>4</th>\n",
       "      <td>10534</td>\n",
       "      <td>1 sachet de  sucre vanillé</td>\n",
       "    </tr>\n",
       "    <tr>\n",
       "      <th>...</th>\n",
       "      <td>...</td>\n",
       "      <td>...</td>\n",
       "    </tr>\n",
       "    <tr>\n",
       "      <th>578260</th>\n",
       "      <td>532439</td>\n",
       "      <td>200 g d' éclats d’amandes grillées</td>\n",
       "    </tr>\n",
       "    <tr>\n",
       "      <th>578261</th>\n",
       "      <td>532439</td>\n",
       "      <td>35 crêpes dentelles</td>\n",
       "    </tr>\n",
       "    <tr>\n",
       "      <th>578262</th>\n",
       "      <td>532439</td>\n",
       "      <td>1 café serré</td>\n",
       "    </tr>\n",
       "    <tr>\n",
       "      <th>578263</th>\n",
       "      <td>532439</td>\n",
       "      <td>4 crêpes dentelles</td>\n",
       "    </tr>\n",
       "    <tr>\n",
       "      <th>578264</th>\n",
       "      <td>532439</td>\n",
       "      <td>1 poignée de  copeaux de chocolat</td>\n",
       "    </tr>\n",
       "  </tbody>\n",
       "</table>\n",
       "<p>386580 rows × 2 columns</p>\n",
       "</div>"
      ],
      "text/plain": [
       "        recipe_id                                ingredient\n",
       "0           10534         6 pommes (des Canada par exemple)\n",
       "1           10534                       150 g de  cassonade\n",
       "2           10534                   150 g de  farine de blé\n",
       "3           10534  1 petite cuillère de  cannelle en poudre\n",
       "4           10534                1 sachet de  sucre vanillé\n",
       "...           ...                                       ...\n",
       "578260     532439        200 g d' éclats d’amandes grillées\n",
       "578261     532439                       35 crêpes dentelles\n",
       "578262     532439                              1 café serré\n",
       "578263     532439                        4 crêpes dentelles\n",
       "578264     532439         1 poignée de  copeaux de chocolat\n",
       "\n",
       "[386580 rows x 2 columns]"
      ]
     },
     "execution_count": 29,
     "metadata": {},
     "output_type": "execute_result"
    }
   ],
   "source": [
    "output2=resample_ingredients(ingredients)\n",
    "output2"
   ]
  },
  {
   "cell_type": "code",
   "execution_count": 30,
   "id": "26fdba7c",
   "metadata": {
    "ExecuteTime": {
     "end_time": "2022-01-05T07:21:25.343836Z",
     "start_time": "2022-01-05T07:21:24.076935Z"
    }
   },
   "outputs": [
    {
     "data": {
      "text/plain": [
       "ingredient    8.0\n",
       "dtype: float64"
      ]
     },
     "execution_count": 30,
     "metadata": {},
     "output_type": "execute_result"
    },
    {
     "data": {
      "image/png": "[encoded data removed]",
      "text/plain": [
       "<Figure size 1296x576 with 1 Axes>"
      ]
     },
     "metadata": {
      "needs_background": "light"
     },
     "output_type": "display_data"
    }
   ],
   "source": [
    "plt.figure(figsize=(18, 8))\n",
    "sns.histplot(temp['ingredient'])#, kde=True);\n",
    "temp[['ingredient']].median()"
   ]
  },
  {
   "cell_type": "code",
   "execution_count": 31,
   "id": "42b05543",
   "metadata": {
    "ExecuteTime": {
     "end_time": "2022-01-05T07:21:25.474802Z",
     "start_time": "2022-01-05T07:21:25.344818Z"
    }
   },
   "outputs": [
    {
     "ename": "NameError",
     "evalue": "name 'df_temp' is not defined",
     "output_type": "error",
     "traceback": [
      "\u001b[0;31m---------------------------------------------------------------------------\u001b[0m",
      "\u001b[0;31mNameError\u001b[0m                                 Traceback (most recent call last)",
      "\u001b[0;32m/var/folders/79/kc35gvcn5h3dnnrgtwd2z2w40000gn/T/ipykernel_9788/1503690133.py\u001b[0m in \u001b[0;36m<module>\u001b[0;34m\u001b[0m\n\u001b[0;32m----> 1\u001b[0;31m \u001b[0mdf_temp\u001b[0m \u001b[0;34m=\u001b[0m \u001b[0mdf_temp\u001b[0m\u001b[0;34m.\u001b[0m\u001b[0mdrop_duplicates\u001b[0m\u001b[0;34m(\u001b[0m\u001b[0;34m)\u001b[0m\u001b[0;34m\u001b[0m\u001b[0;34m\u001b[0m\u001b[0m\n\u001b[0m\u001b[1;32m      2\u001b[0m \u001b[0mdf_temp\u001b[0m\u001b[0;34m\u001b[0m\u001b[0;34m\u001b[0m\u001b[0m\n",
      "\u001b[0;31mNameError\u001b[0m: name 'df_temp' is not defined"
     ]
    }
   ],
   "source": [
    "df_temp = df_temp.drop_duplicates()\n",
    "df_temp\n"
   ]
  },
  {
   "cell_type": "markdown",
   "id": "bba2ce9b",
   "metadata": {},
   "source": [
    "# TODO analyse des données (pourcentage sucré et salé, nombre d'ingrédients, taille moyenne recette, recette 1 seul ingrédient, recette pas d'ingrédient), enlever les instructions inférieurs à 1 phrase (ou un mot, ou autre critere)"
   ]
  },
  {
   "cell_type": "code",
   "execution_count": null,
   "id": "c3e8f039",
   "metadata": {},
   "outputs": [],
   "source": []
  }
 ],
 "metadata": {
  "kernelspec": {
   "display_name": "Python 3 (ipykernel)",
   "language": "python",
   "name": "python3"
  },
  "language_info": {
   "codemirror_mode": {
    "name": "ipython",
    "version": 3
   },
   "file_extension": ".py",
   "mimetype": "text/x-python",
   "name": "python",
   "nbconvert_exporter": "python",
   "pygments_lexer": "ipython3",
   "version": "3.8.12"
  },
  "toc": {
   "base_numbering": 1,
   "nav_menu": {},
   "number_sections": true,
   "sideBar": true,
   "skip_h1_title": false,
   "title_cell": "Table of Contents",
   "title_sidebar": "Contents",
   "toc_cell": false,
   "toc_position": {
    "height": "calc(100% - 180px)",
    "left": "10px",
    "top": "150px",
    "width": "341px"
   },
   "toc_section_display": true,
   "toc_window_display": true
  },
  "varInspector": {
   "cols": {
    "lenName": 16,
    "lenType": 16,
    "lenVar": 40
   },
   "kernels_config": {
    "python": {
     "delete_cmd_postfix": "",
     "delete_cmd_prefix": "del ",
     "library": "var_list.py",
     "varRefreshCmd": "print(var_dic_list())"
    },
    "r": {
     "delete_cmd_postfix": ") ",
     "delete_cmd_prefix": "rm(",
     "library": "var_list.r",
     "varRefreshCmd": "cat(var_dic_list()) "
    }
   },
   "types_to_exclude": [
    "module",
    "function",
    "builtin_function_or_method",
    "instance",
    "_Feature"
   ],
   "window_display": false
  }
 },
 "nbformat": 4,
 "nbformat_minor": 5
}
