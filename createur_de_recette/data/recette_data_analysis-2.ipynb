{
 "cells": [
  {
   "cell_type": "markdown",
   "id": "c5427ad5",
   "metadata": {},
   "source": [
    "# Import package and load dataset"
   ]
  },
  {
   "cell_type": "code",
   "execution_count": 7,
   "id": "9c9d9f86",
   "metadata": {
    "ExecuteTime": {
     "end_time": "2022-01-04T16:03:15.759263Z",
     "start_time": "2022-01-04T16:03:14.850898Z"
    }
   },
   "outputs": [],
   "source": [
    "import pandas as pd\n",
    "import seaborn as sns\n",
    "import matplotlib.pyplot as plt\n"
   ]
  },
  {
   "cell_type": "code",
   "execution_count": 8,
   "id": "e28f2eae",
   "metadata": {
    "ExecuteTime": {
     "end_time": "2022-01-04T16:03:15.990878Z",
     "start_time": "2022-01-04T16:03:15.849514Z"
    }
   },
   "outputs": [
    {
     "name": "stdout",
     "output_type": "stream",
     "text": [
      "ingredients.csv                   recette_data_analysis.ipynb\r\n",
      "recette_data_analysis-Copy1.ipynb recipes.csv\r\n"
     ]
    }
   ],
   "source": [
    "!ls"
   ]
  },
  {
   "cell_type": "code",
   "execution_count": 9,
   "id": "a4415334",
   "metadata": {
    "ExecuteTime": {
     "end_time": "2022-01-04T16:03:17.482424Z",
     "start_time": "2022-01-04T16:03:16.568638Z"
    }
   },
   "outputs": [],
   "source": [
    "ingredients=pd.read_csv(\"ingredients.csv\")\n",
    "recipes=pd.read_csv(\"recipes.csv\")"
   ]
  },
  {
   "cell_type": "code",
   "execution_count": 10,
   "id": "a14c4bc6",
   "metadata": {
    "ExecuteTime": {
     "end_time": "2022-01-04T16:03:17.502071Z",
     "start_time": "2022-01-04T16:03:17.499938Z"
    }
   },
   "outputs": [],
   "source": [
    "pd.set_option(\"max_rows\", 20)\n",
    "pd.set_option(\"max_colwidth\", 50)"
   ]
  },
  {
   "cell_type": "markdown",
   "id": "98c021a0",
   "metadata": {},
   "source": [
    "# Display raw data recipes and ingredients dataframes"
   ]
  },
  {
   "cell_type": "markdown",
   "id": "a967a2f5",
   "metadata": {},
   "source": [
    "## Ingredients"
   ]
  },
  {
   "cell_type": "code",
   "execution_count": 11,
   "id": "463463a8",
   "metadata": {
    "ExecuteTime": {
     "end_time": "2022-01-04T16:03:18.986806Z",
     "start_time": "2022-01-04T16:03:18.963724Z"
    }
   },
   "outputs": [
    {
     "data": {
      "text/html": [
       "<div>\n",
       "<style scoped>\n",
       "    .dataframe tbody tr th:only-of-type {\n",
       "        vertical-align: middle;\n",
       "    }\n",
       "\n",
       "    .dataframe tbody tr th {\n",
       "        vertical-align: top;\n",
       "    }\n",
       "\n",
       "    .dataframe thead th {\n",
       "        text-align: right;\n",
       "    }\n",
       "</style>\n",
       "<table border=\"1\" class=\"dataframe\">\n",
       "  <thead>\n",
       "    <tr style=\"text-align: right;\">\n",
       "      <th></th>\n",
       "      <th>recipe_id</th>\n",
       "      <th>ingredient</th>\n",
       "    </tr>\n",
       "  </thead>\n",
       "  <tbody>\n",
       "    <tr>\n",
       "      <th>0</th>\n",
       "      <td>10534</td>\n",
       "      <td>6 pommes (des Canada par exemple)</td>\n",
       "    </tr>\n",
       "    <tr>\n",
       "      <th>1</th>\n",
       "      <td>10534</td>\n",
       "      <td>150 g de  cassonade</td>\n",
       "    </tr>\n",
       "    <tr>\n",
       "      <th>2</th>\n",
       "      <td>10534</td>\n",
       "      <td>150 g de  farine de blé</td>\n",
       "    </tr>\n",
       "    <tr>\n",
       "      <th>3</th>\n",
       "      <td>10534</td>\n",
       "      <td>1 petite cuillère de  cannelle en poudre</td>\n",
       "    </tr>\n",
       "    <tr>\n",
       "      <th>4</th>\n",
       "      <td>10534</td>\n",
       "      <td>1 sachet de  sucre vanillé</td>\n",
       "    </tr>\n",
       "    <tr>\n",
       "      <th>...</th>\n",
       "      <td>...</td>\n",
       "      <td>...</td>\n",
       "    </tr>\n",
       "    <tr>\n",
       "      <th>578325</th>\n",
       "      <td>532201</td>\n",
       "      <td>2 plaques de  saumon fumé</td>\n",
       "    </tr>\n",
       "    <tr>\n",
       "      <th>578326</th>\n",
       "      <td>532201</td>\n",
       "      <td>25 g de  beurre</td>\n",
       "    </tr>\n",
       "    <tr>\n",
       "      <th>578327</th>\n",
       "      <td>532201</td>\n",
       "      <td>4 citrons verts</td>\n",
       "    </tr>\n",
       "    <tr>\n",
       "      <th>578328</th>\n",
       "      <td>532201</td>\n",
       "      <td>4 oeufs</td>\n",
       "    </tr>\n",
       "    <tr>\n",
       "      <th>578329</th>\n",
       "      <td>532201</td>\n",
       "      <td>brocoli</td>\n",
       "    </tr>\n",
       "  </tbody>\n",
       "</table>\n",
       "<p>578330 rows × 2 columns</p>\n",
       "</div>"
      ],
      "text/plain": [
       "        recipe_id                                ingredient\n",
       "0           10534         6 pommes (des Canada par exemple)\n",
       "1           10534                       150 g de  cassonade\n",
       "2           10534                   150 g de  farine de blé\n",
       "3           10534  1 petite cuillère de  cannelle en poudre\n",
       "4           10534                1 sachet de  sucre vanillé\n",
       "...           ...                                       ...\n",
       "578325     532201                 2 plaques de  saumon fumé\n",
       "578326     532201                           25 g de  beurre\n",
       "578327     532201                           4 citrons verts\n",
       "578328     532201                                   4 oeufs\n",
       "578329     532201                                   brocoli\n",
       "\n",
       "[578330 rows x 2 columns]"
      ]
     },
     "execution_count": 11,
     "metadata": {},
     "output_type": "execute_result"
    }
   ],
   "source": [
    "ingredients"
   ]
  },
  {
   "cell_type": "markdown",
   "id": "c9502a95",
   "metadata": {},
   "source": [
    "## Recipes"
   ]
  },
  {
   "cell_type": "code",
   "execution_count": 12,
   "id": "057ba958",
   "metadata": {
    "ExecuteTime": {
     "end_time": "2022-01-04T16:03:20.350222Z",
     "start_time": "2022-01-04T16:03:20.330620Z"
    }
   },
   "outputs": [
    {
     "data": {
      "text/html": [
       "<div>\n",
       "<style scoped>\n",
       "    .dataframe tbody tr th:only-of-type {\n",
       "        vertical-align: middle;\n",
       "    }\n",
       "\n",
       "    .dataframe tbody tr th {\n",
       "        vertical-align: top;\n",
       "    }\n",
       "\n",
       "    .dataframe thead th {\n",
       "        text-align: right;\n",
       "    }\n",
       "</style>\n",
       "<table border=\"1\" class=\"dataframe\">\n",
       "  <thead>\n",
       "    <tr style=\"text-align: right;\">\n",
       "      <th></th>\n",
       "      <th>recipe_id</th>\n",
       "      <th>recipe_url</th>\n",
       "      <th>recipe_title</th>\n",
       "      <th>recipe_type</th>\n",
       "      <th>recipe_steps</th>\n",
       "    </tr>\n",
       "  </thead>\n",
       "  <tbody>\n",
       "    <tr>\n",
       "      <th>0</th>\n",
       "      <td>10534</td>\n",
       "      <td>https://www.marmiton.org/recettes/recette_le-c...</td>\n",
       "      <td>Le crumble aux pommes du Chat qui Tousse</td>\n",
       "      <td>Dessert</td>\n",
       "      <td>Préchauffer le four à 210°C (thermostat 7). \\n...</td>\n",
       "    </tr>\n",
       "    <tr>\n",
       "      <th>1</th>\n",
       "      <td>10531</td>\n",
       "      <td>https://www.marmiton.org/recettes/recette_esca...</td>\n",
       "      <td>Escalopes lucullus à la cocotte</td>\n",
       "      <td>Plat principal</td>\n",
       "      <td>Coupez l'oignon en petits morceaux, faites rev...</td>\n",
       "    </tr>\n",
       "    <tr>\n",
       "      <th>2</th>\n",
       "      <td>10529</td>\n",
       "      <td>https://www.marmiton.org/recettes/recette_terr...</td>\n",
       "      <td>Terrine de foie de porc</td>\n",
       "      <td>Plat principal</td>\n",
       "      <td>- hacher (pas trop fin) le foie, le lard, les ...</td>\n",
       "    </tr>\n",
       "    <tr>\n",
       "      <th>3</th>\n",
       "      <td>10530</td>\n",
       "      <td>https://www.marmiton.org/recettes/recette_lapi...</td>\n",
       "      <td>Lapin au vin blanc (à la cocotte)</td>\n",
       "      <td>Plat principal</td>\n",
       "      <td>Faire revenir les échalotes et les lardons dan...</td>\n",
       "    </tr>\n",
       "    <tr>\n",
       "      <th>4</th>\n",
       "      <td>10528</td>\n",
       "      <td>https://www.marmiton.org/recettes/recette_truf...</td>\n",
       "      <td>Truffes en chocolat</td>\n",
       "      <td>Confiserie</td>\n",
       "      <td>La veille : faire fondre le chocolat au bain-m...</td>\n",
       "    </tr>\n",
       "    <tr>\n",
       "      <th>...</th>\n",
       "      <td>...</td>\n",
       "      <td>...</td>\n",
       "      <td>...</td>\n",
       "      <td>...</td>\n",
       "      <td>...</td>\n",
       "    </tr>\n",
       "    <tr>\n",
       "      <th>70598</th>\n",
       "      <td>532439</td>\n",
       "      <td>https://www.marmiton.org/recettes/recette_buch...</td>\n",
       "      <td>Bûche de Noël au chocolat et crêpes dentelles</td>\n",
       "      <td>Dessert</td>\n",
       "      <td>Faire fondre les chocolats au bain marie avec ...</td>\n",
       "    </tr>\n",
       "    <tr>\n",
       "      <th>70599</th>\n",
       "      <td>532434</td>\n",
       "      <td>https://www.marmiton.org/recettes/recette_cook...</td>\n",
       "      <td>Cookies aux noix de pécan et au chocolat</td>\n",
       "      <td>Dessert</td>\n",
       "      <td>Pour le beurre de pécan : Faire fondre le beur...</td>\n",
       "    </tr>\n",
       "    <tr>\n",
       "      <th>70600</th>\n",
       "      <td>532401</td>\n",
       "      <td>https://www.marmiton.org/recettes/recette_sand...</td>\n",
       "      <td>Sando au poulet</td>\n",
       "      <td>Plat principal</td>\n",
       "      <td>Couper le poulet en morceaux de 5/6cm. \\n\\n Ba...</td>\n",
       "    </tr>\n",
       "    <tr>\n",
       "      <th>70601</th>\n",
       "      <td>532213</td>\n",
       "      <td>https://www.marmiton.org/recettes/recette_grat...</td>\n",
       "      <td>Gratin pomme de terre et panais</td>\n",
       "      <td>Accompagnement</td>\n",
       "      <td>Éplucher les pommes de terre et le panais et l...</td>\n",
       "    </tr>\n",
       "    <tr>\n",
       "      <th>70602</th>\n",
       "      <td>532201</td>\n",
       "      <td>https://www.marmiton.org/recettes/recette_tour...</td>\n",
       "      <td>Tourte au saumon et à la béchamel au citron</td>\n",
       "      <td>Pizza, tarte, quiche</td>\n",
       "      <td>Dans une casserole, faire fondre le beurre pui...</td>\n",
       "    </tr>\n",
       "  </tbody>\n",
       "</table>\n",
       "<p>70603 rows × 5 columns</p>\n",
       "</div>"
      ],
      "text/plain": [
       "       recipe_id                                         recipe_url  \\\n",
       "0          10534  https://www.marmiton.org/recettes/recette_le-c...   \n",
       "1          10531  https://www.marmiton.org/recettes/recette_esca...   \n",
       "2          10529  https://www.marmiton.org/recettes/recette_terr...   \n",
       "3          10530  https://www.marmiton.org/recettes/recette_lapi...   \n",
       "4          10528  https://www.marmiton.org/recettes/recette_truf...   \n",
       "...          ...                                                ...   \n",
       "70598     532439  https://www.marmiton.org/recettes/recette_buch...   \n",
       "70599     532434  https://www.marmiton.org/recettes/recette_cook...   \n",
       "70600     532401  https://www.marmiton.org/recettes/recette_sand...   \n",
       "70601     532213  https://www.marmiton.org/recettes/recette_grat...   \n",
       "70602     532201  https://www.marmiton.org/recettes/recette_tour...   \n",
       "\n",
       "                                        recipe_title           recipe_type  \\\n",
       "0           Le crumble aux pommes du Chat qui Tousse               Dessert   \n",
       "1                    Escalopes lucullus à la cocotte        Plat principal   \n",
       "2                            Terrine de foie de porc        Plat principal   \n",
       "3                  Lapin au vin blanc (à la cocotte)        Plat principal   \n",
       "4                                Truffes en chocolat            Confiserie   \n",
       "...                                              ...                   ...   \n",
       "70598  Bûche de Noël au chocolat et crêpes dentelles               Dessert   \n",
       "70599       Cookies aux noix de pécan et au chocolat               Dessert   \n",
       "70600                                Sando au poulet        Plat principal   \n",
       "70601                Gratin pomme de terre et panais        Accompagnement   \n",
       "70602    Tourte au saumon et à la béchamel au citron  Pizza, tarte, quiche   \n",
       "\n",
       "                                            recipe_steps  \n",
       "0      Préchauffer le four à 210°C (thermostat 7). \\n...  \n",
       "1      Coupez l'oignon en petits morceaux, faites rev...  \n",
       "2      - hacher (pas trop fin) le foie, le lard, les ...  \n",
       "3      Faire revenir les échalotes et les lardons dan...  \n",
       "4      La veille : faire fondre le chocolat au bain-m...  \n",
       "...                                                  ...  \n",
       "70598  Faire fondre les chocolats au bain marie avec ...  \n",
       "70599  Pour le beurre de pécan : Faire fondre le beur...  \n",
       "70600  Couper le poulet en morceaux de 5/6cm. \\n\\n Ba...  \n",
       "70601  Éplucher les pommes de terre et le panais et l...  \n",
       "70602  Dans une casserole, faire fondre le beurre pui...  \n",
       "\n",
       "[70603 rows x 5 columns]"
      ]
     },
     "execution_count": 12,
     "metadata": {},
     "output_type": "execute_result"
    }
   ],
   "source": [
    "recipes"
   ]
  },
  {
   "cell_type": "markdown",
   "id": "80f490ce",
   "metadata": {},
   "source": [
    "# Exploration of recipes"
   ]
  },
  {
   "cell_type": "code",
   "execution_count": 13,
   "id": "0dd19d4b",
   "metadata": {
    "ExecuteTime": {
     "end_time": "2022-01-04T16:03:21.969918Z",
     "start_time": "2022-01-04T16:03:21.956310Z"
    }
   },
   "outputs": [],
   "source": [
    "def fastcheck(data):\n",
    "    print('Data shape:\\n',data.shape,\\\n",
    "          '\\n\\nColumns name:\\n',list(data.columns),\\\n",
    "          '\\n\\nDatas type:\\n',data.dtypes,'\\n\\nNull data:\\n',\\\n",
    "          data.isnull().sum().sort_values(ascending=False)/len(data)*100)\n",
    "    if data.duplicated().sum() > 0:\n",
    "        print(f'\\n\\n{data.duplicated().sum()} duplicated data',\\\n",
    "              '\\n\\nDuplicated data:\\n',data.duplicated())\n",
    "        print('\\n\\nDrop duplicates ? (y/n)')\n",
    "        ans = input()\n",
    "        if ans.lower() == 'y':\n",
    "            data = data.drop_duplicates()\n",
    "            print('\\nNew data shape:\\n',data.shape)\n",
    "    else:\n",
    "        print('No duplicate')\n",
    "    data.sample(10)\n",
    "    return data"
   ]
  },
  {
   "cell_type": "markdown",
   "id": "b425b774",
   "metadata": {},
   "source": [
    "## Check recipes  : 70 603 rows with 18 duplicates (<0,03%)  and 0 null"
   ]
  },
  {
   "cell_type": "code",
   "execution_count": 14,
   "id": "ee4f10a4",
   "metadata": {
    "ExecuteTime": {
     "end_time": "2022-01-04T16:03:31.047481Z",
     "start_time": "2022-01-04T16:03:28.360214Z"
    }
   },
   "outputs": [
    {
     "name": "stdout",
     "output_type": "stream",
     "text": [
      "Data shape:\n",
      " (70603, 5) \n",
      "\n",
      "Columns name:\n",
      " ['recipe_id', 'recipe_url', 'recipe_title', 'recipe_type', 'recipe_steps'] \n",
      "\n",
      "Datas type:\n",
      " recipe_id        int64\n",
      "recipe_url      object\n",
      "recipe_title    object\n",
      "recipe_type     object\n",
      "recipe_steps    object\n",
      "dtype: object \n",
      "\n",
      "Null data:\n",
      " recipe_id       0.0\n",
      "recipe_url      0.0\n",
      "recipe_title    0.0\n",
      "recipe_type     0.0\n",
      "recipe_steps    0.0\n",
      "dtype: float64\n",
      "\n",
      "\n",
      "18 duplicated data \n",
      "\n",
      "Duplicated data:\n",
      " 0        False\n",
      "1        False\n",
      "2        False\n",
      "3        False\n",
      "4        False\n",
      "         ...  \n",
      "70598    False\n",
      "70599    False\n",
      "70600    False\n",
      "70601    False\n",
      "70602     True\n",
      "Length: 70603, dtype: bool\n",
      "\n",
      "\n",
      "Drop duplicates ? (y/n)\n",
      "y\n",
      "\n",
      "New data shape:\n",
      " (70585, 5)\n"
     ]
    }
   ],
   "source": [
    "recipes=fastcheck(recipes)"
   ]
  },
  {
   "cell_type": "markdown",
   "id": "db56991c",
   "metadata": {},
   "source": [
    "## Check recipe_steps (=instructions) format"
   ]
  },
  {
   "cell_type": "markdown",
   "id": "935d4a9c",
   "metadata": {},
   "source": [
    "### Add number of sentences in recipes in new column"
   ]
  },
  {
   "cell_type": "code",
   "execution_count": 15,
   "id": "faa0f241",
   "metadata": {
    "ExecuteTime": {
     "end_time": "2022-01-04T16:03:33.379554Z",
     "start_time": "2022-01-04T16:03:33.277499Z"
    }
   },
   "outputs": [],
   "source": [
    "enriched_recipes=recipes.copy()\n",
    "#Count the number of sentences using punctuation \".\" and store it in field nb_sentences\n",
    "#Warning : assumes that each sentence ends with \".\" (! or no punctuation is not counted)\n",
    "enriched_recipes[\"nb_sentences\"]=enriched_recipes[\"recipe_steps\"].apply(lambda x: x.count(\".\"))\n"
   ]
  },
  {
   "cell_type": "code",
   "execution_count": 16,
   "id": "b55ae6d5",
   "metadata": {
    "ExecuteTime": {
     "end_time": "2022-01-04T16:03:33.958621Z",
     "start_time": "2022-01-04T16:03:33.938435Z"
    }
   },
   "outputs": [
    {
     "data": {
      "text/html": [
       "<div>\n",
       "<style scoped>\n",
       "    .dataframe tbody tr th:only-of-type {\n",
       "        vertical-align: middle;\n",
       "    }\n",
       "\n",
       "    .dataframe tbody tr th {\n",
       "        vertical-align: top;\n",
       "    }\n",
       "\n",
       "    .dataframe thead th {\n",
       "        text-align: right;\n",
       "    }\n",
       "</style>\n",
       "<table border=\"1\" class=\"dataframe\">\n",
       "  <thead>\n",
       "    <tr style=\"text-align: right;\">\n",
       "      <th></th>\n",
       "      <th>recipe_id</th>\n",
       "      <th>recipe_url</th>\n",
       "      <th>recipe_title</th>\n",
       "      <th>recipe_type</th>\n",
       "      <th>recipe_steps</th>\n",
       "      <th>nb_sentences</th>\n",
       "    </tr>\n",
       "  </thead>\n",
       "  <tbody>\n",
       "    <tr>\n",
       "      <th>0</th>\n",
       "      <td>10534</td>\n",
       "      <td>https://www.marmiton.org/recettes/recette_le-c...</td>\n",
       "      <td>Le crumble aux pommes du Chat qui Tousse</td>\n",
       "      <td>Dessert</td>\n",
       "      <td>Préchauffer le four à 210°C (thermostat 7). \\n...</td>\n",
       "      <td>8</td>\n",
       "    </tr>\n",
       "    <tr>\n",
       "      <th>1</th>\n",
       "      <td>10531</td>\n",
       "      <td>https://www.marmiton.org/recettes/recette_esca...</td>\n",
       "      <td>Escalopes lucullus à la cocotte</td>\n",
       "      <td>Plat principal</td>\n",
       "      <td>Coupez l'oignon en petits morceaux, faites rev...</td>\n",
       "      <td>3</td>\n",
       "    </tr>\n",
       "    <tr>\n",
       "      <th>2</th>\n",
       "      <td>10529</td>\n",
       "      <td>https://www.marmiton.org/recettes/recette_terr...</td>\n",
       "      <td>Terrine de foie de porc</td>\n",
       "      <td>Plat principal</td>\n",
       "      <td>- hacher (pas trop fin) le foie, le lard, les ...</td>\n",
       "      <td>0</td>\n",
       "    </tr>\n",
       "    <tr>\n",
       "      <th>3</th>\n",
       "      <td>10530</td>\n",
       "      <td>https://www.marmiton.org/recettes/recette_lapi...</td>\n",
       "      <td>Lapin au vin blanc (à la cocotte)</td>\n",
       "      <td>Plat principal</td>\n",
       "      <td>Faire revenir les échalotes et les lardons dan...</td>\n",
       "      <td>6</td>\n",
       "    </tr>\n",
       "    <tr>\n",
       "      <th>4</th>\n",
       "      <td>10528</td>\n",
       "      <td>https://www.marmiton.org/recettes/recette_truf...</td>\n",
       "      <td>Truffes en chocolat</td>\n",
       "      <td>Confiserie</td>\n",
       "      <td>La veille : faire fondre le chocolat au bain-m...</td>\n",
       "      <td>7</td>\n",
       "    </tr>\n",
       "    <tr>\n",
       "      <th>...</th>\n",
       "      <td>...</td>\n",
       "      <td>...</td>\n",
       "      <td>...</td>\n",
       "      <td>...</td>\n",
       "      <td>...</td>\n",
       "      <td>...</td>\n",
       "    </tr>\n",
       "    <tr>\n",
       "      <th>70597</th>\n",
       "      <td>532440</td>\n",
       "      <td>https://www.marmiton.org/recettes/recette_ciga...</td>\n",
       "      <td>Cigare au poulet et au chèvre</td>\n",
       "      <td>Plat principal</td>\n",
       "      <td>Dénerver et couper le poulet en fines lamelles...</td>\n",
       "      <td>5</td>\n",
       "    </tr>\n",
       "    <tr>\n",
       "      <th>70598</th>\n",
       "      <td>532439</td>\n",
       "      <td>https://www.marmiton.org/recettes/recette_buch...</td>\n",
       "      <td>Bûche de Noël au chocolat et crêpes dentelles</td>\n",
       "      <td>Dessert</td>\n",
       "      <td>Faire fondre les chocolats au bain marie avec ...</td>\n",
       "      <td>14</td>\n",
       "    </tr>\n",
       "    <tr>\n",
       "      <th>70599</th>\n",
       "      <td>532434</td>\n",
       "      <td>https://www.marmiton.org/recettes/recette_cook...</td>\n",
       "      <td>Cookies aux noix de pécan et au chocolat</td>\n",
       "      <td>Dessert</td>\n",
       "      <td>Pour le beurre de pécan : Faire fondre le beur...</td>\n",
       "      <td>15</td>\n",
       "    </tr>\n",
       "    <tr>\n",
       "      <th>70600</th>\n",
       "      <td>532401</td>\n",
       "      <td>https://www.marmiton.org/recettes/recette_sand...</td>\n",
       "      <td>Sando au poulet</td>\n",
       "      <td>Plat principal</td>\n",
       "      <td>Couper le poulet en morceaux de 5/6cm. \\n\\n Ba...</td>\n",
       "      <td>11</td>\n",
       "    </tr>\n",
       "    <tr>\n",
       "      <th>70601</th>\n",
       "      <td>532213</td>\n",
       "      <td>https://www.marmiton.org/recettes/recette_grat...</td>\n",
       "      <td>Gratin pomme de terre et panais</td>\n",
       "      <td>Accompagnement</td>\n",
       "      <td>Éplucher les pommes de terre et le panais et l...</td>\n",
       "      <td>11</td>\n",
       "    </tr>\n",
       "  </tbody>\n",
       "</table>\n",
       "<p>70585 rows × 6 columns</p>\n",
       "</div>"
      ],
      "text/plain": [
       "       recipe_id                                         recipe_url  \\\n",
       "0          10534  https://www.marmiton.org/recettes/recette_le-c...   \n",
       "1          10531  https://www.marmiton.org/recettes/recette_esca...   \n",
       "2          10529  https://www.marmiton.org/recettes/recette_terr...   \n",
       "3          10530  https://www.marmiton.org/recettes/recette_lapi...   \n",
       "4          10528  https://www.marmiton.org/recettes/recette_truf...   \n",
       "...          ...                                                ...   \n",
       "70597     532440  https://www.marmiton.org/recettes/recette_ciga...   \n",
       "70598     532439  https://www.marmiton.org/recettes/recette_buch...   \n",
       "70599     532434  https://www.marmiton.org/recettes/recette_cook...   \n",
       "70600     532401  https://www.marmiton.org/recettes/recette_sand...   \n",
       "70601     532213  https://www.marmiton.org/recettes/recette_grat...   \n",
       "\n",
       "                                        recipe_title     recipe_type  \\\n",
       "0           Le crumble aux pommes du Chat qui Tousse         Dessert   \n",
       "1                    Escalopes lucullus à la cocotte  Plat principal   \n",
       "2                            Terrine de foie de porc  Plat principal   \n",
       "3                  Lapin au vin blanc (à la cocotte)  Plat principal   \n",
       "4                                Truffes en chocolat      Confiserie   \n",
       "...                                              ...             ...   \n",
       "70597                  Cigare au poulet et au chèvre  Plat principal   \n",
       "70598  Bûche de Noël au chocolat et crêpes dentelles         Dessert   \n",
       "70599       Cookies aux noix de pécan et au chocolat         Dessert   \n",
       "70600                                Sando au poulet  Plat principal   \n",
       "70601                Gratin pomme de terre et panais  Accompagnement   \n",
       "\n",
       "                                            recipe_steps  nb_sentences  \n",
       "0      Préchauffer le four à 210°C (thermostat 7). \\n...             8  \n",
       "1      Coupez l'oignon en petits morceaux, faites rev...             3  \n",
       "2      - hacher (pas trop fin) le foie, le lard, les ...             0  \n",
       "3      Faire revenir les échalotes et les lardons dan...             6  \n",
       "4      La veille : faire fondre le chocolat au bain-m...             7  \n",
       "...                                                  ...           ...  \n",
       "70597  Dénerver et couper le poulet en fines lamelles...             5  \n",
       "70598  Faire fondre les chocolats au bain marie avec ...            14  \n",
       "70599  Pour le beurre de pécan : Faire fondre le beur...            15  \n",
       "70600  Couper le poulet en morceaux de 5/6cm. \\n\\n Ba...            11  \n",
       "70601  Éplucher les pommes de terre et le panais et l...            11  \n",
       "\n",
       "[70585 rows x 6 columns]"
      ]
     },
     "execution_count": 16,
     "metadata": {},
     "output_type": "execute_result"
    }
   ],
   "source": [
    "enriched_recipes"
   ]
  },
  {
   "cell_type": "markdown",
   "id": "ef8afc2e",
   "metadata": {},
   "source": [
    "### Median of 8 sentences by instruction (based on \".\" occurence)"
   ]
  },
  {
   "cell_type": "code",
   "execution_count": 17,
   "id": "dae6445d",
   "metadata": {
    "ExecuteTime": {
     "end_time": "2022-01-04T16:03:36.457778Z",
     "start_time": "2022-01-04T16:03:35.819829Z"
    }
   },
   "outputs": [
    {
     "data": {
      "text/plain": [
       "nb_sentences    8.0\n",
       "dtype: float64"
      ]
     },
     "execution_count": 17,
     "metadata": {},
     "output_type": "execute_result"
    },
    {
     "data": {
      "image/png": "[encoded data removed]",
      "text/plain": [
       "<Figure size 1296x720 with 1 Axes>"
      ]
     },
     "metadata": {
      "needs_background": "light"
     },
     "output_type": "display_data"
    }
   ],
   "source": [
    "plt.figure(figsize=(18, 10))\n",
    "sns.histplot(enriched_recipes['nb_sentences'])#, kde=True);\n",
    "enriched_recipes[['nb_sentences']].median()"
   ]
  },
  {
   "cell_type": "code",
   "execution_count": 18,
   "id": "e3575103",
   "metadata": {
    "ExecuteTime": {
     "end_time": "2022-01-04T16:03:39.951002Z",
     "start_time": "2022-01-04T16:03:39.922332Z"
    }
   },
   "outputs": [
    {
     "data": {
      "text/html": [
       "<div>\n",
       "<style scoped>\n",
       "    .dataframe tbody tr th:only-of-type {\n",
       "        vertical-align: middle;\n",
       "    }\n",
       "\n",
       "    .dataframe tbody tr th {\n",
       "        vertical-align: top;\n",
       "    }\n",
       "\n",
       "    .dataframe thead th {\n",
       "        text-align: right;\n",
       "    }\n",
       "</style>\n",
       "<table border=\"1\" class=\"dataframe\">\n",
       "  <thead>\n",
       "    <tr style=\"text-align: right;\">\n",
       "      <th></th>\n",
       "      <th>recipe_id</th>\n",
       "      <th>recipe_url</th>\n",
       "      <th>recipe_title</th>\n",
       "      <th>recipe_type</th>\n",
       "      <th>recipe_steps</th>\n",
       "      <th>nb_sentences</th>\n",
       "    </tr>\n",
       "  </thead>\n",
       "  <tbody>\n",
       "    <tr>\n",
       "      <th>2</th>\n",
       "      <td>10529</td>\n",
       "      <td>https://www.marmiton.org/recettes/recette_terr...</td>\n",
       "      <td>Terrine de foie de porc</td>\n",
       "      <td>Plat principal</td>\n",
       "      <td>- hacher (pas trop fin) le foie, le lard, les ...</td>\n",
       "      <td>0</td>\n",
       "    </tr>\n",
       "    <tr>\n",
       "      <th>106</th>\n",
       "      <td>10717</td>\n",
       "      <td>https://www.marmiton.org/recettes/recette_sole...</td>\n",
       "      <td>Soleil d'Hawaii</td>\n",
       "      <td>Soleil d'hawaii</td>\n",
       "      <td>- Battre les 4 jaunes d'oeufs \\n\\n - Ajouter l...</td>\n",
       "      <td>0</td>\n",
       "    </tr>\n",
       "    <tr>\n",
       "      <th>979</th>\n",
       "      <td>12001</td>\n",
       "      <td>https://www.marmiton.org/recettes/recette_sauc...</td>\n",
       "      <td>Sauce / marinade Teriyaki</td>\n",
       "      <td>Sauce salée</td>\n",
       "      <td>Mélanger simplement tous les ingrédients !</td>\n",
       "      <td>0</td>\n",
       "    </tr>\n",
       "    <tr>\n",
       "      <th>1517</th>\n",
       "      <td>12776</td>\n",
       "      <td>https://www.marmiton.org/recettes/recette_sauc...</td>\n",
       "      <td>Sauce pour salade figues, foie gras et noix</td>\n",
       "      <td>Sauce salée</td>\n",
       "      <td>Une simple émulsion et le tour est joué !</td>\n",
       "      <td>0</td>\n",
       "    </tr>\n",
       "    <tr>\n",
       "      <th>2086</th>\n",
       "      <td>13516</td>\n",
       "      <td>https://www.marmiton.org/recettes/recette_glac...</td>\n",
       "      <td>Glace à la banane</td>\n",
       "      <td>Dessert</td>\n",
       "      <td>Passer tout ça au mixer, et faire prendre en s...</td>\n",
       "      <td>0</td>\n",
       "    </tr>\n",
       "    <tr>\n",
       "      <th>...</th>\n",
       "      <td>...</td>\n",
       "      <td>...</td>\n",
       "      <td>...</td>\n",
       "      <td>...</td>\n",
       "      <td>...</td>\n",
       "      <td>...</td>\n",
       "    </tr>\n",
       "    <tr>\n",
       "      <th>70170</th>\n",
       "      <td>530227</td>\n",
       "      <td>https://www.marmiton.org/recettes/recette_poiv...</td>\n",
       "      <td>Poivron farcis veggy</td>\n",
       "      <td>Plat principal</td>\n",
       "      <td>Coupez vos poivrons en deux, épépinez les et b...</td>\n",
       "      <td>0</td>\n",
       "    </tr>\n",
       "    <tr>\n",
       "      <th>70335</th>\n",
       "      <td>530831</td>\n",
       "      <td>https://www.marmiton.org/recettes/recette_cook...</td>\n",
       "      <td>Cookies fourrés à la pâte a tartiner maison by...</td>\n",
       "      <td>Dessert</td>\n",
       "      <td>Mettre les noisettes a torréfier au four à 160...</td>\n",
       "      <td>0</td>\n",
       "    </tr>\n",
       "    <tr>\n",
       "      <th>70464</th>\n",
       "      <td>531305</td>\n",
       "      <td>https://www.marmiton.org/recettes/recette_spri...</td>\n",
       "      <td>St-Germain Spritz</td>\n",
       "      <td>Apéritif ou buffet</td>\n",
       "      <td>Mettre les glaçons dans le verre \\n\\n Verser t...</td>\n",
       "      <td>0</td>\n",
       "    </tr>\n",
       "    <tr>\n",
       "      <th>70489</th>\n",
       "      <td>531692</td>\n",
       "      <td>https://www.marmiton.org/recettes/recette_tort...</td>\n",
       "      <td>Tortilla de riz au poulet et mozzarella de Fré...</td>\n",
       "      <td>Tortilla de riz au poulet et mozzarella de fré...</td>\n",
       "      <td>Faire cuire le riz 10 à 15min dans une cassero...</td>\n",
       "      <td>0</td>\n",
       "    </tr>\n",
       "    <tr>\n",
       "      <th>70563</th>\n",
       "      <td>531968</td>\n",
       "      <td>https://www.marmiton.org/recettes/recette_les-...</td>\n",
       "      <td>Les sucettes fantômes</td>\n",
       "      <td>Confiserie</td>\n",
       "      <td>Pour chaque sucettes, mets un demi-mouchoir au...</td>\n",
       "      <td>0</td>\n",
       "    </tr>\n",
       "  </tbody>\n",
       "</table>\n",
       "<p>308 rows × 6 columns</p>\n",
       "</div>"
      ],
      "text/plain": [
       "       recipe_id                                         recipe_url  \\\n",
       "2          10529  https://www.marmiton.org/recettes/recette_terr...   \n",
       "106        10717  https://www.marmiton.org/recettes/recette_sole...   \n",
       "979        12001  https://www.marmiton.org/recettes/recette_sauc...   \n",
       "1517       12776  https://www.marmiton.org/recettes/recette_sauc...   \n",
       "2086       13516  https://www.marmiton.org/recettes/recette_glac...   \n",
       "...          ...                                                ...   \n",
       "70170     530227  https://www.marmiton.org/recettes/recette_poiv...   \n",
       "70335     530831  https://www.marmiton.org/recettes/recette_cook...   \n",
       "70464     531305  https://www.marmiton.org/recettes/recette_spri...   \n",
       "70489     531692  https://www.marmiton.org/recettes/recette_tort...   \n",
       "70563     531968  https://www.marmiton.org/recettes/recette_les-...   \n",
       "\n",
       "                                            recipe_title  \\\n",
       "2                                Terrine de foie de porc   \n",
       "106                                      Soleil d'Hawaii   \n",
       "979                            Sauce / marinade Teriyaki   \n",
       "1517         Sauce pour salade figues, foie gras et noix   \n",
       "2086                                   Glace à la banane   \n",
       "...                                                  ...   \n",
       "70170                               Poivron farcis veggy   \n",
       "70335  Cookies fourrés à la pâte a tartiner maison by...   \n",
       "70464                                  St-Germain Spritz   \n",
       "70489  Tortilla de riz au poulet et mozzarella de Fré...   \n",
       "70563                              Les sucettes fantômes   \n",
       "\n",
       "                                             recipe_type  \\\n",
       "2                                         Plat principal   \n",
       "106                                      Soleil d'hawaii   \n",
       "979                                          Sauce salée   \n",
       "1517                                         Sauce salée   \n",
       "2086                                             Dessert   \n",
       "...                                                  ...   \n",
       "70170                                     Plat principal   \n",
       "70335                                            Dessert   \n",
       "70464                                 Apéritif ou buffet   \n",
       "70489  Tortilla de riz au poulet et mozzarella de fré...   \n",
       "70563                                         Confiserie   \n",
       "\n",
       "                                            recipe_steps  nb_sentences  \n",
       "2      - hacher (pas trop fin) le foie, le lard, les ...             0  \n",
       "106    - Battre les 4 jaunes d'oeufs \\n\\n - Ajouter l...             0  \n",
       "979           Mélanger simplement tous les ingrédients !             0  \n",
       "1517           Une simple émulsion et le tour est joué !             0  \n",
       "2086   Passer tout ça au mixer, et faire prendre en s...             0  \n",
       "...                                                  ...           ...  \n",
       "70170  Coupez vos poivrons en deux, épépinez les et b...             0  \n",
       "70335  Mettre les noisettes a torréfier au four à 160...             0  \n",
       "70464  Mettre les glaçons dans le verre \\n\\n Verser t...             0  \n",
       "70489  Faire cuire le riz 10 à 15min dans une cassero...             0  \n",
       "70563  Pour chaque sucettes, mets un demi-mouchoir au...             0  \n",
       "\n",
       "[308 rows x 6 columns]"
      ]
     },
     "execution_count": 18,
     "metadata": {},
     "output_type": "execute_result"
    }
   ],
   "source": [
    "enriched_recipes.query(\"nb_sentences == 0\")"
   ]
  },
  {
   "cell_type": "code",
   "execution_count": 21,
   "id": "6c643500",
   "metadata": {
    "ExecuteTime": {
     "end_time": "2022-01-04T16:05:00.609428Z",
     "start_time": "2022-01-04T16:05:00.598058Z"
    }
   },
   "outputs": [
    {
     "data": {
      "text/plain": [
       "[\"Mettre les noisettes a torréfier au four à 160°C pendant 20 minutes \\n\\n Mixer les 100g de noisettes jusqu'a obtention d'une pâte  \\n\\n Ajouter les chocolats dans le mixeur \\n\\n Faire bouillir la crème et sucre  \\n\\n Verser progressivement la crème bouillante sur les chocolats tout en mixant  \\n\\n Mouler dans des moules en silicone rond de 4cm de diamètre la préparation et réservé la pendant minimum 2h au congélateur  \\n\\n Pour les cookies, mélanger le sucre muscovado, la poudre de noisette et le beurre pommade jusqu'a obtenir un mélange homogène \\n\\n Ajouter l'oeuf  \\n\\n Ajouter la farine, la levure chimique et le sel \\n\\n Concasser les noisettes et le chocolat  \\n\\n Ajouter les au mélange précédent \\n\\n Diviser la pâte à cookies en boules de 50g \\n\\n Démouler les inserts de pâte a tartiner et placer un insert au milieux de chaque cookies \\n\\n Façonner les cookies de manière a enfermer l'insert de pâte a tartiner a l'intérieur du cookie bien hermétiquement  \\n\\n Disposer vos cookies sur une plaque avec une feuille de cuisson et cuire les cookies a 210°C pendant 8 minutes \\n\\n Laisser refroidir vos cookies 15 minutes et décoré les avec quelque points de pâte à tartiner et quelque éclats de noisettes  \\n\\n Il n'y a plus qu'a déguster !\"]"
      ]
     },
     "execution_count": 21,
     "metadata": {},
     "output_type": "execute_result"
    }
   ],
   "source": [
    "list(enriched_recipes.query(\"recipe_id==530831\").iloc[:,4])"
   ]
  },
  {
   "cell_type": "markdown",
   "id": "6508d27b",
   "metadata": {},
   "source": [
    "### Random check of instructions format"
   ]
  },
  {
   "cell_type": "code",
   "execution_count": 50,
   "id": "79c33515",
   "metadata": {
    "ExecuteTime": {
     "end_time": "2022-01-04T15:37:32.170113Z",
     "start_time": "2022-01-04T15:37:32.151739Z"
    },
    "scrolled": false
   },
   "outputs": [
    {
     "name": "stdout",
     "output_type": "stream",
     "text": [
      "\n",
      "---> RECETTE : Crème de banane au Cooking Chef :\n",
      "\n",
      "5 phrases\n",
      "Épluchez, puis coupez les bananes en petits morceaux. Déposez-les dans la cuve de votre Cooking Chef. Arrosez de jus de citron, ajoutez le reste des ingrédients, puis mixez avec le blender sur la sortie ultra rapide / 30 sec / 0 °C /  vit. 1 à max.  \n",
      "\n",
      " Dégustez immédiatement ou placez au frais pendant 15 minutes maximum.\n",
      "\n",
      "---> RECETTE : Gâteau à la crème de citron et petits beurre :\n",
      "\n",
      "7 phrases\n",
      "Préchauffer le four à 150°C (Thermostat 5). \n",
      "\n",
      " Placer la crème liquide au congélateur. \n",
      "\n",
      " Ecraser les gâteaux avec un rouleau (dans un sac plastique), faire fondre le beurre et mélanger avec les biscuits dans le fond du plat, placer au four 8 min. \n",
      "\n",
      " Sortir et laisser refroidir le plat. \n",
      "\n",
      " Presser le jus de citron, mettre les zestes et le lait concentré sucré et mélanger doucement.  \n",
      "\n",
      " Battre la crème au batteur, ajouter doucement le mélange citron/zestes/lait. \n",
      "\n",
      " Mettre la crème sur les biscuits et placer le moule au frigo.\n",
      "\n",
      "---> RECETTE : Carpaccio de betterave crue, parmesan et basilic :\n",
      "\n",
      "8 phrases\n",
      "Coupez votre betterave crue en tranches fines.Plus les rondelles sont fines, meilleur sera le goût. Disposez les dans un plat large et à fond plat si possible en faisant une couche régulière peu épaisse. \n",
      "\n",
      " Préparez votre vinaigrette avec le vinaigre balsamique et l'huile d'olive. Salez et poivrez à votre convenance. Arrosez les rondelles avec la vinaigrette. \n",
      "\n",
      " Laissez mariner pendant 3 à 4 heures. \n",
      "\n",
      " Saupoudrez de parmesan et de basilic au moment de servir.\n",
      "\n",
      "---> RECETTE : Mayonnaise ail gingembre :\n",
      "\n",
      "7 phrases\n",
      "Mélanger dans un bol le jaune d'oeuf et la moutarde et le sel. Laisser \"cuire\" un peu de temps. \n",
      "\n",
      " Monter la mayonnaise en ajoutant l'huile peu à peu.  \n",
      "\n",
      " Presser une gousse d'ail (procéder en plusieurs fois pour rectifier selon votre goût) puis presser le gingembre frais.  \n",
      "\n",
      " Rectifier au fur et à mesure. On peut également y ajouter un filet de citron si l'on veut. Poivrer.\n",
      "\n",
      "---> RECETTE : Crème cuite aux fraises :\n",
      "\n",
      "7 phrases\n",
      "Coupez les fraises équeutées en morceaux. \n",
      "\n",
      " Faites bouillir le lait avec le sucre et le zeste de citron. \n",
      "\n",
      " Ajoutez la Maïzena préalablement délayée dans l'eau. Laissez épaissir sur feu doux. \n",
      "\n",
      " Hors du feu incorporez l'oeuf entier, le beurre puis les fraises. \n",
      "\n",
      " Versez dans un moule, laissez refroidir et placez au réfrigérateur. \n",
      "\n",
      " Nappez de coulis de fraises et servez.\n",
      "\n",
      "---> RECETTE : Terrine de courgettes et de thon au basilic :\n",
      "\n",
      "4 phrases\n",
      "Cuire les courgettes coupées en rondelles dans de l'eau bouillante salée pendant 10 min, et les égoutter. \n",
      "\n",
      " Pendant ce temps, battre les œufs en omelette, y ajouter le concentré de tomate, la crème fraîche, l'huile d'olive, l'échalote émincée,le basilic ciselé, le fromage râpé, le sel et poivre, et enfin le thon émietté. \n",
      "\n",
      " Presser les courgettes dans vos mains afin d'en extraire l'eau et les ajouter à la préparation. \n",
      "\n",
      " Mettre le tout dans un moule à cake au bain marie, au four à 240°C (thermostat 8) pendant 40 min.\n",
      "\n",
      "---> RECETTE : Roulés à la Mexicaine :\n",
      "\n",
      "5 phrases\n",
      "Etalez du fromage frais sur toute la surface de la tortilla, ajoutez-y un peu de purée de piment. \n",
      "\n",
      " Disposez ensuite quelques feuilles de salade ou jeunes pousses de soja sur toute la surface de la tortilla, puis ajoutez-y le jambon ou rosbief. Parsemez de parmesan. Roulez la tortilla, disposez-la dans une feuille d'aluminium et mettre au frais une heure. \n",
      "\n",
      " Sortez la tortilla puis coupez-la en petit morceaux. Vous pouvez désormais dégustez vos roulés à la Méxicaine!\n",
      "\n",
      "---> RECETTE : Tarte aux noix de pécan (american pie) :\n",
      "\n",
      "17 phrases\n",
      "Préchauffer le four à 180°C (thermostat 6). \n",
      "\n",
      " Couper le beurre en petits morceaux dans une casserole.  \n",
      "\n",
      " Ajouter le golden syrup (ou sirop d’érable), la vanille et le sucre. Faire fondre à feu doux. Laisser refroidir 10 minutes. \n",
      "\n",
      " Battre les œufs en omelette et les ajouter au mélange précédent. \n",
      "\n",
      " Bien mélanger au fouet (pas électrique). \n",
      "\n",
      " Mettre de côté 1 poignée de noix de pécan pour la décoration. \n",
      "\n",
      " Disposer les autres sur la pâte à tarte.  \n",
      "\n",
      " Verser la préparation délicatement sur les noix de pecan en prenant garde de ne pas les déplacer. \n",
      "\n",
      " Mettre au four pour 30 minutes environ.  \n",
      "\n",
      " Bien surveiller car ça peut aller plus vite selon les fours, ou alors nécessiter 10 minutes de plus...  \n",
      "\n",
      " La pâte doit être bien dorée et le dessus de la tarte pas trop desséché. \n",
      "\n",
      " Sortir la tarte du four et disposer joliment les noix de pecan réservées. \n",
      "\n",
      " Servir, tiède ou froid, avec de la chantilly ou avec une boule de glace à la vanille.  \n",
      "\n",
      " Mes enfants la préfèrent avec une cuillère à soupe de yaourt grec nature et non sucré, car la tarte est déjà bien sucrée !\n",
      "\n",
      "---> RECETTE : Verrines rapide et pas cher :\n",
      "\n",
      "4 phrases\n",
      "Prendre 4 verres ou verrines , couper la pomme en dès et tapisser le fond de la verrine. \n",
      "\n",
      " Couper la banane en rondelles et les disposer sur la pomme.Rajouter le jus de citron et la cuillère a café de cannelle. \n",
      "\n",
      " Mixer les granolas et disposer sur la banane.\n",
      "\n",
      "---> RECETTE : Fondue aux fromages à ma façon :\n",
      "\n",
      "5 phrases\n",
      "Couper tous les fromages en petits dés. \n",
      "\n",
      " Couper la gousse d'ail en 2, enlever le germe, frotter le fond du caquelon avec, puis émincer l'ail et le mettre dedans. \n",
      "\n",
      " Mettre à chauffer, ajouter les fromages, le vin blanc, le poivre. \n",
      "\n",
      " Pendant que le fromage commence à fondre, diluer la maïzena dans le kirsch. \n",
      "\n",
      " Quand le liquide se forme au dessus du fromage, ajouter le kirsch et bien mélanger pour lier et pour éviter qu'il y ait le fromage au fond et le liquide dessus.\n"
     ]
    }
   ],
   "source": [
    "recipes_sample=recipes.sample(500)\n",
    "for i in range(10):\n",
    "    print(f\"\\n---> RECETTE : {recipes_sample.iloc[i,2]} :\\n\")\n",
    "    print(f\"{recipes_sample.iloc[i,4].count('.')} phrases\"\n",
    "         )\n",
    "\n",
    "    print(recipes_sample.iloc[i,4])"
   ]
  },
  {
   "cell_type": "markdown",
   "id": "955dc733",
   "metadata": {},
   "source": [
    "### Check recipe_type"
   ]
  },
  {
   "cell_type": "code",
   "execution_count": 51,
   "id": "686ac23f",
   "metadata": {
    "ExecuteTime": {
     "end_time": "2022-01-04T15:37:35.659221Z",
     "start_time": "2022-01-04T15:37:35.635426Z"
    }
   },
   "outputs": [
    {
     "name": "stdout",
     "output_type": "stream",
     "text": [
      "25155\n"
     ]
    }
   ],
   "source": [
    "#It is expected 9 recipe_type, but we have 25155 !!\n",
    "print(recipes.recipe_type.nunique())"
   ]
  },
  {
   "cell_type": "code",
   "execution_count": 52,
   "id": "d6ccc4d1",
   "metadata": {
    "ExecuteTime": {
     "end_time": "2022-01-04T15:37:36.855070Z",
     "start_time": "2022-01-04T15:37:36.685288Z"
    }
   },
   "outputs": [
    {
     "name": "stdout",
     "output_type": "stream",
     "text": [
      "(38291, 5)\n",
      "(70585, 5)\n"
     ]
    },
    {
     "data": {
      "image/png": "[encoded data removed]",
      "text/plain": [
       "<Figure size 1080x576 with 1 Axes>"
      ]
     },
     "metadata": {
      "needs_background": "light"
     },
     "output_type": "display_data"
    }
   ],
   "source": [
    "known_types=[\"Entrée\", \"Plat principal\", \"Dessert\", \"Amuse-gueule\", \"Accompagnement\", \"Sauce\", \"Boisson\", \"Confiserie\", \"Conseil\"]\n",
    "mask = recipes['recipe_type'].isin(known_types)\n",
    "recipes[mask]\n",
    "\n",
    "plt.figure(figsize=(15,8))\n",
    "sns.countplot(x=\"recipe_type\", data=recipes[mask])\n",
    "\n",
    "# En dropant tous les types non-connus on réduit le dataset presque de moitié : 70 585 -> 38 291\n",
    "\n",
    "print(recipes[mask].shape)\n",
    "print(recipes.shape)\n"
   ]
  },
  {
   "cell_type": "markdown",
   "id": "0d879c01",
   "metadata": {},
   "source": [
    "# Exploration of ingredients"
   ]
  },
  {
   "cell_type": "markdown",
   "id": "214f785d",
   "metadata": {},
   "source": [
    "## Check ingredients : 578 330 rows with 2 694 duplicates (<0,5%) and 0 null"
   ]
  },
  {
   "cell_type": "code",
   "execution_count": 51,
   "id": "8f337b51",
   "metadata": {
    "ExecuteTime": {
     "end_time": "2022-01-04T16:19:15.313476Z",
     "start_time": "2022-01-04T16:19:15.169715Z"
    }
   },
   "outputs": [
    {
     "name": "stdout",
     "output_type": "stream",
     "text": [
      "Data shape:\n",
      " (575636, 2) \n",
      "\n",
      "Columns name:\n",
      " ['recipe_id', 'ingredient'] \n",
      "\n",
      "Datas type:\n",
      " recipe_id      int64\n",
      "ingredient    object\n",
      "dtype: object \n",
      "\n",
      "Null data:\n",
      " recipe_id     0.0\n",
      "ingredient    0.0\n",
      "dtype: float64\n",
      "No duplicate\n"
     ]
    }
   ],
   "source": [
    "ingredients_new=fastcheck(ingredients)"
   ]
  },
  {
   "cell_type": "code",
   "execution_count": 52,
   "id": "95f0785d",
   "metadata": {
    "ExecuteTime": {
     "end_time": "2022-01-04T16:19:24.647359Z",
     "start_time": "2022-01-04T16:19:24.626137Z"
    }
   },
   "outputs": [
    {
     "data": {
      "text/html": [
       "<div>\n",
       "<style scoped>\n",
       "    .dataframe tbody tr th:only-of-type {\n",
       "        vertical-align: middle;\n",
       "    }\n",
       "\n",
       "    .dataframe tbody tr th {\n",
       "        vertical-align: top;\n",
       "    }\n",
       "\n",
       "    .dataframe thead th {\n",
       "        text-align: right;\n",
       "    }\n",
       "</style>\n",
       "<table border=\"1\" class=\"dataframe\">\n",
       "  <thead>\n",
       "    <tr style=\"text-align: right;\">\n",
       "      <th></th>\n",
       "      <th>recipe_id</th>\n",
       "      <th>ingredient</th>\n",
       "    </tr>\n",
       "  </thead>\n",
       "  <tbody>\n",
       "    <tr>\n",
       "      <th>0</th>\n",
       "      <td>10534</td>\n",
       "      <td>6 pommes (des Canada par exemple)</td>\n",
       "    </tr>\n",
       "    <tr>\n",
       "      <th>1</th>\n",
       "      <td>10534</td>\n",
       "      <td>150 g de  cassonade</td>\n",
       "    </tr>\n",
       "    <tr>\n",
       "      <th>2</th>\n",
       "      <td>10534</td>\n",
       "      <td>150 g de  farine de blé</td>\n",
       "    </tr>\n",
       "    <tr>\n",
       "      <th>3</th>\n",
       "      <td>10534</td>\n",
       "      <td>1 petite cuillère de  cannelle en poudre</td>\n",
       "    </tr>\n",
       "    <tr>\n",
       "      <th>4</th>\n",
       "      <td>10534</td>\n",
       "      <td>1 sachet de  sucre vanillé</td>\n",
       "    </tr>\n",
       "    <tr>\n",
       "      <th>...</th>\n",
       "      <td>...</td>\n",
       "      <td>...</td>\n",
       "    </tr>\n",
       "    <tr>\n",
       "      <th>578316</th>\n",
       "      <td>532213</td>\n",
       "      <td>75 g de  beurre</td>\n",
       "    </tr>\n",
       "    <tr>\n",
       "      <th>578317</th>\n",
       "      <td>532213</td>\n",
       "      <td>pain rassis</td>\n",
       "    </tr>\n",
       "    <tr>\n",
       "      <th>578318</th>\n",
       "      <td>532213</td>\n",
       "      <td>muscade rapée</td>\n",
       "    </tr>\n",
       "    <tr>\n",
       "      <th>578319</th>\n",
       "      <td>532213</td>\n",
       "      <td>50 g de  beurre</td>\n",
       "    </tr>\n",
       "    <tr>\n",
       "      <th>578320</th>\n",
       "      <td>532213</td>\n",
       "      <td>crème liquide</td>\n",
       "    </tr>\n",
       "  </tbody>\n",
       "</table>\n",
       "<p>575636 rows × 2 columns</p>\n",
       "</div>"
      ],
      "text/plain": [
       "        recipe_id                                ingredient\n",
       "0           10534         6 pommes (des Canada par exemple)\n",
       "1           10534                       150 g de  cassonade\n",
       "2           10534                   150 g de  farine de blé\n",
       "3           10534  1 petite cuillère de  cannelle en poudre\n",
       "4           10534                1 sachet de  sucre vanillé\n",
       "...           ...                                       ...\n",
       "578316     532213                           75 g de  beurre\n",
       "578317     532213                               pain rassis\n",
       "578318     532213                             muscade rapée\n",
       "578319     532213                           50 g de  beurre\n",
       "578320     532213                             crème liquide\n",
       "\n",
       "[575636 rows x 2 columns]"
      ]
     },
     "execution_count": 52,
     "metadata": {},
     "output_type": "execute_result"
    }
   ],
   "source": [
    "ingredients_new"
   ]
  },
  {
   "cell_type": "code",
   "execution_count": 53,
   "id": "ede78c26",
   "metadata": {
    "ExecuteTime": {
     "end_time": "2022-01-04T16:19:29.881163Z",
     "start_time": "2022-01-04T16:19:29.800533Z"
    }
   },
   "outputs": [],
   "source": [
    "temp=ingredients.groupby(\"recipe_id\").count().sort_values(\"ingredient\")"
   ]
  },
  {
   "cell_type": "code",
   "execution_count": 54,
   "id": "8e167eb7",
   "metadata": {
    "ExecuteTime": {
     "end_time": "2022-01-04T16:19:31.216743Z",
     "start_time": "2022-01-04T16:19:31.201594Z"
    }
   },
   "outputs": [
    {
     "data": {
      "text/html": [
       "<div>\n",
       "<style scoped>\n",
       "    .dataframe tbody tr th:only-of-type {\n",
       "        vertical-align: middle;\n",
       "    }\n",
       "\n",
       "    .dataframe tbody tr th {\n",
       "        vertical-align: top;\n",
       "    }\n",
       "\n",
       "    .dataframe thead th {\n",
       "        text-align: right;\n",
       "    }\n",
       "</style>\n",
       "<table border=\"1\" class=\"dataframe\">\n",
       "  <thead>\n",
       "    <tr style=\"text-align: right;\">\n",
       "      <th></th>\n",
       "      <th>ingredient</th>\n",
       "    </tr>\n",
       "    <tr>\n",
       "      <th>recipe_id</th>\n",
       "      <th></th>\n",
       "    </tr>\n",
       "  </thead>\n",
       "  <tbody>\n",
       "    <tr>\n",
       "      <th>392279</th>\n",
       "      <td>1</td>\n",
       "    </tr>\n",
       "    <tr>\n",
       "      <th>27423</th>\n",
       "      <td>1</td>\n",
       "    </tr>\n",
       "    <tr>\n",
       "      <th>371695</th>\n",
       "      <td>1</td>\n",
       "    </tr>\n",
       "    <tr>\n",
       "      <th>313713</th>\n",
       "      <td>1</td>\n",
       "    </tr>\n",
       "    <tr>\n",
       "      <th>29439</th>\n",
       "      <td>1</td>\n",
       "    </tr>\n",
       "    <tr>\n",
       "      <th>...</th>\n",
       "      <td>...</td>\n",
       "    </tr>\n",
       "    <tr>\n",
       "      <th>33107</th>\n",
       "      <td>37</td>\n",
       "    </tr>\n",
       "    <tr>\n",
       "      <th>337257</th>\n",
       "      <td>38</td>\n",
       "    </tr>\n",
       "    <tr>\n",
       "      <th>223949</th>\n",
       "      <td>39</td>\n",
       "    </tr>\n",
       "    <tr>\n",
       "      <th>66444</th>\n",
       "      <td>39</td>\n",
       "    </tr>\n",
       "    <tr>\n",
       "      <th>164973</th>\n",
       "      <td>64</td>\n",
       "    </tr>\n",
       "  </tbody>\n",
       "</table>\n",
       "<p>70585 rows × 1 columns</p>\n",
       "</div>"
      ],
      "text/plain": [
       "           ingredient\n",
       "recipe_id            \n",
       "392279              1\n",
       "27423               1\n",
       "371695              1\n",
       "313713              1\n",
       "29439               1\n",
       "...               ...\n",
       "33107              37\n",
       "337257             38\n",
       "223949             39\n",
       "66444              39\n",
       "164973             64\n",
       "\n",
       "[70585 rows x 1 columns]"
      ]
     },
     "execution_count": 54,
     "metadata": {},
     "output_type": "execute_result"
    }
   ],
   "source": [
    "temp"
   ]
  },
  {
   "cell_type": "code",
   "execution_count": 63,
   "id": "f3f8d066",
   "metadata": {
    "ExecuteTime": {
     "end_time": "2022-01-04T16:26:59.171917Z",
     "start_time": "2022-01-04T16:26:59.151943Z"
    }
   },
   "outputs": [
    {
     "data": {
      "text/html": [
       "<div>\n",
       "<style scoped>\n",
       "    .dataframe tbody tr th:only-of-type {\n",
       "        vertical-align: middle;\n",
       "    }\n",
       "\n",
       "    .dataframe tbody tr th {\n",
       "        vertical-align: top;\n",
       "    }\n",
       "\n",
       "    .dataframe thead th {\n",
       "        text-align: right;\n",
       "    }\n",
       "</style>\n",
       "<table border=\"1\" class=\"dataframe\">\n",
       "  <thead>\n",
       "    <tr style=\"text-align: right;\">\n",
       "      <th></th>\n",
       "      <th>ingredient</th>\n",
       "    </tr>\n",
       "    <tr>\n",
       "      <th>recipe_id</th>\n",
       "      <th></th>\n",
       "    </tr>\n",
       "  </thead>\n",
       "  <tbody>\n",
       "    <tr>\n",
       "      <th>169557</th>\n",
       "      <td>2</td>\n",
       "    </tr>\n",
       "    <tr>\n",
       "      <th>65924</th>\n",
       "      <td>2</td>\n",
       "    </tr>\n",
       "    <tr>\n",
       "      <th>72451</th>\n",
       "      <td>2</td>\n",
       "    </tr>\n",
       "    <tr>\n",
       "      <th>25795</th>\n",
       "      <td>2</td>\n",
       "    </tr>\n",
       "    <tr>\n",
       "      <th>345617</th>\n",
       "      <td>2</td>\n",
       "    </tr>\n",
       "    <tr>\n",
       "      <th>...</th>\n",
       "      <td>...</td>\n",
       "    </tr>\n",
       "    <tr>\n",
       "      <th>59298</th>\n",
       "      <td>2</td>\n",
       "    </tr>\n",
       "    <tr>\n",
       "      <th>27198</th>\n",
       "      <td>2</td>\n",
       "    </tr>\n",
       "    <tr>\n",
       "      <th>66065</th>\n",
       "      <td>2</td>\n",
       "    </tr>\n",
       "    <tr>\n",
       "      <th>19120</th>\n",
       "      <td>2</td>\n",
       "    </tr>\n",
       "    <tr>\n",
       "      <th>53246</th>\n",
       "      <td>2</td>\n",
       "    </tr>\n",
       "  </tbody>\n",
       "</table>\n",
       "<p>692 rows × 1 columns</p>\n",
       "</div>"
      ],
      "text/plain": [
       "           ingredient\n",
       "recipe_id            \n",
       "169557              2\n",
       "65924               2\n",
       "72451               2\n",
       "25795               2\n",
       "345617              2\n",
       "...               ...\n",
       "59298               2\n",
       "27198               2\n",
       "66065               2\n",
       "19120               2\n",
       "53246               2\n",
       "\n",
       "[692 rows x 1 columns]"
      ]
     },
     "execution_count": 63,
     "metadata": {},
     "output_type": "execute_result"
    }
   ],
   "source": [
    "temp.query(\"ingredient==2\")"
   ]
  },
  {
   "cell_type": "code",
   "execution_count": 65,
   "id": "ff84d326",
   "metadata": {
    "ExecuteTime": {
     "end_time": "2022-01-04T16:28:09.874321Z",
     "start_time": "2022-01-04T16:28:09.857388Z"
    }
   },
   "outputs": [
    {
     "data": {
      "text/html": [
       "<div>\n",
       "<style scoped>\n",
       "    .dataframe tbody tr th:only-of-type {\n",
       "        vertical-align: middle;\n",
       "    }\n",
       "\n",
       "    .dataframe tbody tr th {\n",
       "        vertical-align: top;\n",
       "    }\n",
       "\n",
       "    .dataframe thead th {\n",
       "        text-align: right;\n",
       "    }\n",
       "</style>\n",
       "<table border=\"1\" class=\"dataframe\">\n",
       "  <thead>\n",
       "    <tr style=\"text-align: right;\">\n",
       "      <th></th>\n",
       "      <th>recipe_id</th>\n",
       "      <th>ingredient</th>\n",
       "    </tr>\n",
       "  </thead>\n",
       "  <tbody>\n",
       "    <tr>\n",
       "      <th>309837</th>\n",
       "      <td>65924</td>\n",
       "      <td>5 belles tranches de  saumon fumé</td>\n",
       "    </tr>\n",
       "    <tr>\n",
       "      <th>309838</th>\n",
       "      <td>65924</td>\n",
       "      <td>1 boursin ail et fines herbes</td>\n",
       "    </tr>\n",
       "  </tbody>\n",
       "</table>\n",
       "</div>"
      ],
      "text/plain": [
       "        recipe_id                         ingredient\n",
       "309837      65924  5 belles tranches de  saumon fumé\n",
       "309838      65924      1 boursin ail et fines herbes"
      ]
     },
     "execution_count": 65,
     "metadata": {},
     "output_type": "execute_result"
    }
   ],
   "source": [
    "ingredients.query(\"recipe_id==65924\")"
   ]
  },
  {
   "cell_type": "markdown",
   "id": "20b92f52",
   "metadata": {},
   "source": [
    "# # On drop moins de 2 ingrédients et plus que 10 -> reste 388 342 rows"
   ]
  },
  {
   "cell_type": "code",
   "execution_count": 111,
   "id": "3e09d085",
   "metadata": {
    "ExecuteTime": {
     "end_time": "2022-01-04T16:57:11.801349Z",
     "start_time": "2022-01-04T16:57:11.794405Z"
    }
   },
   "outputs": [],
   "source": [
    "def resample_ingredients(ingredients,min_ingredient=2, max_ingredient=10):\n",
    "    temp=ingredients.groupby(\"recipe_id\").count()\n",
    "    temp=temp.query(f\"{min_ingredient}<=ingredient<={max_ingredient}\")\n",
    "    return ingredients[ingredients[\"recipe_id\"].isin(temp.index)]"
   ]
  },
  {
   "cell_type": "code",
   "execution_count": 113,
   "id": "acddd4ba",
   "metadata": {
    "ExecuteTime": {
     "end_time": "2022-01-04T16:57:53.133118Z",
     "start_time": "2022-01-04T16:57:53.032477Z"
    }
   },
   "outputs": [
    {
     "data": {
      "text/html": [
       "<div>\n",
       "<style scoped>\n",
       "    .dataframe tbody tr th:only-of-type {\n",
       "        vertical-align: middle;\n",
       "    }\n",
       "\n",
       "    .dataframe tbody tr th {\n",
       "        vertical-align: top;\n",
       "    }\n",
       "\n",
       "    .dataframe thead th {\n",
       "        text-align: right;\n",
       "    }\n",
       "</style>\n",
       "<table border=\"1\" class=\"dataframe\">\n",
       "  <thead>\n",
       "    <tr style=\"text-align: right;\">\n",
       "      <th></th>\n",
       "      <th>recipe_id</th>\n",
       "      <th>ingredient</th>\n",
       "    </tr>\n",
       "  </thead>\n",
       "  <tbody>\n",
       "    <tr>\n",
       "      <th>0</th>\n",
       "      <td>10534</td>\n",
       "      <td>6 pommes (des Canada par exemple)</td>\n",
       "    </tr>\n",
       "    <tr>\n",
       "      <th>1</th>\n",
       "      <td>10534</td>\n",
       "      <td>150 g de  cassonade</td>\n",
       "    </tr>\n",
       "    <tr>\n",
       "      <th>2</th>\n",
       "      <td>10534</td>\n",
       "      <td>150 g de  farine de blé</td>\n",
       "    </tr>\n",
       "    <tr>\n",
       "      <th>3</th>\n",
       "      <td>10534</td>\n",
       "      <td>1 petite cuillère de  cannelle en poudre</td>\n",
       "    </tr>\n",
       "    <tr>\n",
       "      <th>4</th>\n",
       "      <td>10534</td>\n",
       "      <td>1 sachet de  sucre vanillé</td>\n",
       "    </tr>\n",
       "    <tr>\n",
       "      <th>...</th>\n",
       "      <td>...</td>\n",
       "      <td>...</td>\n",
       "    </tr>\n",
       "    <tr>\n",
       "      <th>578260</th>\n",
       "      <td>532439</td>\n",
       "      <td>200 g d' éclats d’amandes grillées</td>\n",
       "    </tr>\n",
       "    <tr>\n",
       "      <th>578261</th>\n",
       "      <td>532439</td>\n",
       "      <td>35 crêpes dentelles</td>\n",
       "    </tr>\n",
       "    <tr>\n",
       "      <th>578262</th>\n",
       "      <td>532439</td>\n",
       "      <td>1 café serré</td>\n",
       "    </tr>\n",
       "    <tr>\n",
       "      <th>578263</th>\n",
       "      <td>532439</td>\n",
       "      <td>4 crêpes dentelles</td>\n",
       "    </tr>\n",
       "    <tr>\n",
       "      <th>578264</th>\n",
       "      <td>532439</td>\n",
       "      <td>1 poignée de  copeaux de chocolat</td>\n",
       "    </tr>\n",
       "  </tbody>\n",
       "</table>\n",
       "<p>388342 rows × 2 columns</p>\n",
       "</div>"
      ],
      "text/plain": [
       "        recipe_id                                ingredient\n",
       "0           10534         6 pommes (des Canada par exemple)\n",
       "1           10534                       150 g de  cassonade\n",
       "2           10534                   150 g de  farine de blé\n",
       "3           10534  1 petite cuillère de  cannelle en poudre\n",
       "4           10534                1 sachet de  sucre vanillé\n",
       "...           ...                                       ...\n",
       "578260     532439        200 g d' éclats d’amandes grillées\n",
       "578261     532439                       35 crêpes dentelles\n",
       "578262     532439                              1 café serré\n",
       "578263     532439                        4 crêpes dentelles\n",
       "578264     532439         1 poignée de  copeaux de chocolat\n",
       "\n",
       "[388342 rows x 2 columns]"
      ]
     },
     "execution_count": 113,
     "metadata": {},
     "output_type": "execute_result"
    }
   ],
   "source": [
    "output2=resample_ingredients(ingredients)\n",
    "output2"
   ]
  },
  {
   "cell_type": "code",
   "execution_count": 62,
   "id": "26fdba7c",
   "metadata": {
    "ExecuteTime": {
     "end_time": "2022-01-04T16:23:14.495158Z",
     "start_time": "2022-01-04T16:23:14.066816Z"
    }
   },
   "outputs": [
    {
     "data": {
      "text/plain": [
       "ingredient    8.0\n",
       "dtype: float64"
      ]
     },
     "execution_count": 62,
     "metadata": {},
     "output_type": "execute_result"
    },
    {
     "data": {
      "image/png": "[encoded data removed]",
      "text/plain": [
       "<Figure size 1296x360 with 1 Axes>"
      ]
     },
     "metadata": {
      "needs_background": "light"
     },
     "output_type": "display_data"
    }
   ],
   "source": [
    "plt.figure(figsize=(18, 5))\n",
    "sns.histplot(temp['ingredient'])#, kde=True);\n",
    "temp[['ingredient']].median()"
   ]
  },
  {
   "cell_type": "code",
   "execution_count": 57,
   "id": "42b05543",
   "metadata": {
    "ExecuteTime": {
     "end_time": "2022-01-04T16:19:37.746794Z",
     "start_time": "2022-01-04T16:19:37.726531Z"
    }
   },
   "outputs": [
    {
     "data": {
      "text/html": [
       "<div>\n",
       "<style scoped>\n",
       "    .dataframe tbody tr th:only-of-type {\n",
       "        vertical-align: middle;\n",
       "    }\n",
       "\n",
       "    .dataframe tbody tr th {\n",
       "        vertical-align: top;\n",
       "    }\n",
       "\n",
       "    .dataframe thead th {\n",
       "        text-align: right;\n",
       "    }\n",
       "</style>\n",
       "<table border=\"1\" class=\"dataframe\">\n",
       "  <thead>\n",
       "    <tr style=\"text-align: right;\">\n",
       "      <th></th>\n",
       "      <th>recipe_id</th>\n",
       "      <th>ingredient</th>\n",
       "    </tr>\n",
       "  </thead>\n",
       "  <tbody>\n",
       "    <tr>\n",
       "      <th>391742</th>\n",
       "      <td>164973</td>\n",
       "      <td>tomate</td>\n",
       "    </tr>\n",
       "    <tr>\n",
       "      <th>391743</th>\n",
       "      <td>164973</td>\n",
       "      <td>olives</td>\n",
       "    </tr>\n",
       "    <tr>\n",
       "      <th>391744</th>\n",
       "      <td>164973</td>\n",
       "      <td>champignon</td>\n",
       "    </tr>\n",
       "    <tr>\n",
       "      <th>391745</th>\n",
       "      <td>164973</td>\n",
       "      <td>poivre vert</td>\n",
       "    </tr>\n",
       "    <tr>\n",
       "      <th>391746</th>\n",
       "      <td>164973</td>\n",
       "      <td>fromage</td>\n",
       "    </tr>\n",
       "    <tr>\n",
       "      <th>...</th>\n",
       "      <td>...</td>\n",
       "      <td>...</td>\n",
       "    </tr>\n",
       "    <tr>\n",
       "      <th>391951</th>\n",
       "      <td>164973</td>\n",
       "      <td>mozzarella</td>\n",
       "    </tr>\n",
       "    <tr>\n",
       "      <th>391952</th>\n",
       "      <td>164973</td>\n",
       "      <td>ricotta</td>\n",
       "    </tr>\n",
       "    <tr>\n",
       "      <th>391953</th>\n",
       "      <td>164973</td>\n",
       "      <td>feta</td>\n",
       "    </tr>\n",
       "    <tr>\n",
       "      <th>391958</th>\n",
       "      <td>164973</td>\n",
       "      <td>roquefort</td>\n",
       "    </tr>\n",
       "    <tr>\n",
       "      <th>391974</th>\n",
       "      <td>164973</td>\n",
       "      <td>herbes de Provence</td>\n",
       "    </tr>\n",
       "  </tbody>\n",
       "</table>\n",
       "<p>64 rows × 2 columns</p>\n",
       "</div>"
      ],
      "text/plain": [
       "        recipe_id          ingredient\n",
       "391742     164973              tomate\n",
       "391743     164973              olives\n",
       "391744     164973          champignon\n",
       "391745     164973         poivre vert\n",
       "391746     164973             fromage\n",
       "...           ...                 ...\n",
       "391951     164973          mozzarella\n",
       "391952     164973             ricotta\n",
       "391953     164973                feta\n",
       "391958     164973           roquefort\n",
       "391974     164973  herbes de Provence\n",
       "\n",
       "[64 rows x 2 columns]"
      ]
     },
     "execution_count": 57,
     "metadata": {},
     "output_type": "execute_result"
    }
   ],
   "source": [
    "df_temp = df_temp.drop_duplicates()\n",
    "df_temp\n"
   ]
  },
  {
   "cell_type": "markdown",
   "id": "bba2ce9b",
   "metadata": {},
   "source": [
    "# TODO analyse des données (pourcentage sucré et salé, nombre d'ingrédients, taille moyenne recette, recette 1 seul ingrédient, recette pas d'ingrédient), enlever les instructions inférieurs à 1 phrase (ou un mot, ou autre critere)"
   ]
  },
  {
   "cell_type": "code",
   "execution_count": null,
   "id": "c3e8f039",
   "metadata": {},
   "outputs": [],
   "source": []
  }
 ],
 "metadata": {
  "kernelspec": {
   "display_name": "Python 3 (ipykernel)",
   "language": "python",
   "name": "python3"
  },
  "language_info": {
   "codemirror_mode": {
    "name": "ipython",
    "version": 3
   },
   "file_extension": ".py",
   "mimetype": "text/x-python",
   "name": "python",
   "nbconvert_exporter": "python",
   "pygments_lexer": "ipython3",
   "version": "3.8.12"
  },
  "toc": {
   "base_numbering": 1,
   "nav_menu": {},
   "number_sections": true,
   "sideBar": true,
   "skip_h1_title": false,
   "title_cell": "Table of Contents",
   "title_sidebar": "Contents",
   "toc_cell": false,
   "toc_position": {
    "height": "calc(100% - 180px)",
    "left": "10px",
    "top": "150px",
    "width": "341px"
   },
   "toc_section_display": true,
   "toc_window_display": true
  },
  "varInspector": {
   "cols": {
    "lenName": 16,
    "lenType": 16,
    "lenVar": 40
   },
   "kernels_config": {
    "python": {
     "delete_cmd_postfix": "",
     "delete_cmd_prefix": "del ",
     "library": "var_list.py",
     "varRefreshCmd": "print(var_dic_list())"
    },
    "r": {
     "delete_cmd_postfix": ") ",
     "delete_cmd_prefix": "rm(",
     "library": "var_list.r",
     "varRefreshCmd": "cat(var_dic_list()) "
    }
   },
   "types_to_exclude": [
    "module",
    "function",
    "builtin_function_or_method",
    "instance",
    "_Feature"
   ],
   "window_display": false
  }
 },
 "nbformat": 4,
 "nbformat_minor": 5
}
