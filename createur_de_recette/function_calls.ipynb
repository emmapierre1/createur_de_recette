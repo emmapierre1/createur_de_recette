{
 "cells": [
  {
   "cell_type": "code",
   "execution_count": 23,
   "id": "cb1afc9a",
   "metadata": {
    "ExecuteTime": {
     "end_time": "2022-01-05T18:36:32.101138Z",
     "start_time": "2022-01-05T18:36:32.076292Z"
    }
   },
   "outputs": [
    {
     "name": "stdout",
     "output_type": "stream",
     "text": [
      "The autoreload extension is already loaded. To reload it, use:\n",
      "  %reload_ext autoreload\n"
     ]
    }
   ],
   "source": [
    "import numpy as np\n",
    "import pandas as pd\n",
    "import matplotlib\n",
    "import matplotlib.pyplot as plt\n",
    "import seaborn as sns\n",
    "%load_ext autoreload\n",
    "%autoreload 2\n",
    "\n",
    "# pd.set_option(\"min_rows\", 50)"
   ]
  },
  {
   "cell_type": "code",
   "execution_count": 2,
   "id": "6ec18037",
   "metadata": {
    "ExecuteTime": {
     "end_time": "2022-01-05T18:32:00.586879Z",
     "start_time": "2022-01-05T18:31:59.252162Z"
    }
   },
   "outputs": [],
   "source": [
    "recipes_df = pd.read_csv('./data/recipes.csv')\n",
    "ingredients_df = pd.read_csv('./data/ingredients.csv')"
   ]
  },
  {
   "cell_type": "code",
   "execution_count": 3,
   "id": "67b87d76",
   "metadata": {
    "ExecuteTime": {
     "end_time": "2022-01-05T18:32:16.026735Z",
     "start_time": "2022-01-05T18:32:00.588768Z"
    }
   },
   "outputs": [
    {
     "data": {
      "text/html": [
       "<div>\n",
       "<style scoped>\n",
       "    .dataframe tbody tr th:only-of-type {\n",
       "        vertical-align: middle;\n",
       "    }\n",
       "\n",
       "    .dataframe tbody tr th {\n",
       "        vertical-align: top;\n",
       "    }\n",
       "\n",
       "    .dataframe thead th {\n",
       "        text-align: right;\n",
       "    }\n",
       "</style>\n",
       "<table border=\"1\" class=\"dataframe\">\n",
       "  <thead>\n",
       "    <tr style=\"text-align: right;\">\n",
       "      <th></th>\n",
       "      <th>recipe_id</th>\n",
       "      <th>recipe_url</th>\n",
       "      <th>recipe_title</th>\n",
       "      <th>recipe_type</th>\n",
       "      <th>recipe_steps</th>\n",
       "      <th>first_letter</th>\n",
       "    </tr>\n",
       "  </thead>\n",
       "  <tbody>\n",
       "    <tr>\n",
       "      <th>0</th>\n",
       "      <td>10534</td>\n",
       "      <td>https://www.marmiton.org/recettes/recette_le-c...</td>\n",
       "      <td>Le crumble aux pommes du Chat qui Tousse</td>\n",
       "      <td>Dessert</td>\n",
       "      <td>Préchauffer le four à 210°c (thermostat 7). \\n...</td>\n",
       "      <td>P</td>\n",
       "    </tr>\n",
       "    <tr>\n",
       "      <th>1</th>\n",
       "      <td>10531</td>\n",
       "      <td>https://www.marmiton.org/recettes/recette_esca...</td>\n",
       "      <td>Escalopes lucullus à la cocotte</td>\n",
       "      <td>Plat principal</td>\n",
       "      <td>Coupez l'oignon en petits morceaux, faites rev...</td>\n",
       "      <td>C</td>\n",
       "    </tr>\n",
       "    <tr>\n",
       "      <th>2</th>\n",
       "      <td>10529</td>\n",
       "      <td>https://www.marmiton.org/recettes/recette_terr...</td>\n",
       "      <td>Terrine de foie de porc</td>\n",
       "      <td>Plat principal</td>\n",
       "      <td>Hacher (pas trop fin) le foie, le lard, les éc...</td>\n",
       "      <td>h</td>\n",
       "    </tr>\n",
       "    <tr>\n",
       "      <th>3</th>\n",
       "      <td>10530</td>\n",
       "      <td>https://www.marmiton.org/recettes/recette_lapi...</td>\n",
       "      <td>Lapin au vin blanc (à la cocotte)</td>\n",
       "      <td>Plat principal</td>\n",
       "      <td>Faire revenir les échalotes et les lardons dan...</td>\n",
       "      <td>F</td>\n",
       "    </tr>\n",
       "    <tr>\n",
       "      <th>4</th>\n",
       "      <td>10528</td>\n",
       "      <td>https://www.marmiton.org/recettes/recette_truf...</td>\n",
       "      <td>Truffes en chocolat</td>\n",
       "      <td>Confiserie</td>\n",
       "      <td>La veille : faire fondre le chocolat au bain-m...</td>\n",
       "      <td>L</td>\n",
       "    </tr>\n",
       "    <tr>\n",
       "      <th>...</th>\n",
       "      <td>...</td>\n",
       "      <td>...</td>\n",
       "      <td>...</td>\n",
       "      <td>...</td>\n",
       "      <td>...</td>\n",
       "      <td>...</td>\n",
       "    </tr>\n",
       "    <tr>\n",
       "      <th>70321</th>\n",
       "      <td>532440</td>\n",
       "      <td>https://www.marmiton.org/recettes/recette_ciga...</td>\n",
       "      <td>Cigare au poulet et au chèvre</td>\n",
       "      <td>Plat principal</td>\n",
       "      <td>Dénerver et couper le poulet en fines lamelles...</td>\n",
       "      <td>D</td>\n",
       "    </tr>\n",
       "    <tr>\n",
       "      <th>70322</th>\n",
       "      <td>532439</td>\n",
       "      <td>https://www.marmiton.org/recettes/recette_buch...</td>\n",
       "      <td>Bûche de Noël au chocolat et crêpes dentelles</td>\n",
       "      <td>Dessert</td>\n",
       "      <td>Faire fondre les chocolats au bain marie avec ...</td>\n",
       "      <td>F</td>\n",
       "    </tr>\n",
       "    <tr>\n",
       "      <th>70323</th>\n",
       "      <td>532434</td>\n",
       "      <td>https://www.marmiton.org/recettes/recette_cook...</td>\n",
       "      <td>Cookies aux noix de pécan et au chocolat</td>\n",
       "      <td>Dessert</td>\n",
       "      <td>Pour le beurre de pécan : faire fondre le beur...</td>\n",
       "      <td>P</td>\n",
       "    </tr>\n",
       "    <tr>\n",
       "      <th>70324</th>\n",
       "      <td>532401</td>\n",
       "      <td>https://www.marmiton.org/recettes/recette_sand...</td>\n",
       "      <td>Sando au poulet</td>\n",
       "      <td>Plat principal</td>\n",
       "      <td>Couper le poulet en morceaux de 5/6cm. \\n\\nBat...</td>\n",
       "      <td>C</td>\n",
       "    </tr>\n",
       "    <tr>\n",
       "      <th>70325</th>\n",
       "      <td>532213</td>\n",
       "      <td>https://www.marmiton.org/recettes/recette_grat...</td>\n",
       "      <td>Gratin pomme de terre et panais</td>\n",
       "      <td>Accompagnement</td>\n",
       "      <td>Éplucher les pommes de terre et le panais et l...</td>\n",
       "      <td>É</td>\n",
       "    </tr>\n",
       "  </tbody>\n",
       "</table>\n",
       "<p>70326 rows × 6 columns</p>\n",
       "</div>"
      ],
      "text/plain": [
       "       recipe_id                                         recipe_url  \\\n",
       "0          10534  https://www.marmiton.org/recettes/recette_le-c...   \n",
       "1          10531  https://www.marmiton.org/recettes/recette_esca...   \n",
       "2          10529  https://www.marmiton.org/recettes/recette_terr...   \n",
       "3          10530  https://www.marmiton.org/recettes/recette_lapi...   \n",
       "4          10528  https://www.marmiton.org/recettes/recette_truf...   \n",
       "...          ...                                                ...   \n",
       "70321     532440  https://www.marmiton.org/recettes/recette_ciga...   \n",
       "70322     532439  https://www.marmiton.org/recettes/recette_buch...   \n",
       "70323     532434  https://www.marmiton.org/recettes/recette_cook...   \n",
       "70324     532401  https://www.marmiton.org/recettes/recette_sand...   \n",
       "70325     532213  https://www.marmiton.org/recettes/recette_grat...   \n",
       "\n",
       "                                        recipe_title     recipe_type  \\\n",
       "0           Le crumble aux pommes du Chat qui Tousse         Dessert   \n",
       "1                    Escalopes lucullus à la cocotte  Plat principal   \n",
       "2                            Terrine de foie de porc  Plat principal   \n",
       "3                  Lapin au vin blanc (à la cocotte)  Plat principal   \n",
       "4                                Truffes en chocolat      Confiserie   \n",
       "...                                              ...             ...   \n",
       "70321                  Cigare au poulet et au chèvre  Plat principal   \n",
       "70322  Bûche de Noël au chocolat et crêpes dentelles         Dessert   \n",
       "70323       Cookies aux noix de pécan et au chocolat         Dessert   \n",
       "70324                                Sando au poulet  Plat principal   \n",
       "70325                Gratin pomme de terre et panais  Accompagnement   \n",
       "\n",
       "                                            recipe_steps first_letter  \n",
       "0      Préchauffer le four à 210°c (thermostat 7). \\n...            P  \n",
       "1      Coupez l'oignon en petits morceaux, faites rev...            C  \n",
       "2      Hacher (pas trop fin) le foie, le lard, les éc...            h  \n",
       "3      Faire revenir les échalotes et les lardons dan...            F  \n",
       "4      La veille : faire fondre le chocolat au bain-m...            L  \n",
       "...                                                  ...          ...  \n",
       "70321  Dénerver et couper le poulet en fines lamelles...            D  \n",
       "70322  Faire fondre les chocolats au bain marie avec ...            F  \n",
       "70323  Pour le beurre de pécan : faire fondre le beur...            P  \n",
       "70324  Couper le poulet en morceaux de 5/6cm. \\n\\nBat...            C  \n",
       "70325  Éplucher les pommes de terre et le panais et l...            É  \n",
       "\n",
       "[70326 rows x 6 columns]"
      ]
     },
     "execution_count": 3,
     "metadata": {},
     "output_type": "execute_result"
    }
   ],
   "source": [
    "from data_cleaning import recipe_df_cleaning\n",
    "from data_cleaning import ingredients_df_cleaning\n",
    "clean_recipe_df = recipe_df_cleaning(recipes_df)\n",
    "clean_recipe_df"
   ]
  },
  {
   "cell_type": "code",
   "execution_count": 4,
   "id": "d37327e0",
   "metadata": {
    "ExecuteTime": {
     "end_time": "2022-01-05T18:32:16.303336Z",
     "start_time": "2022-01-05T18:32:16.029734Z"
    }
   },
   "outputs": [
    {
     "data": {
      "text/html": [
       "<div>\n",
       "<style scoped>\n",
       "    .dataframe tbody tr th:only-of-type {\n",
       "        vertical-align: middle;\n",
       "    }\n",
       "\n",
       "    .dataframe tbody tr th {\n",
       "        vertical-align: top;\n",
       "    }\n",
       "\n",
       "    .dataframe thead th {\n",
       "        text-align: right;\n",
       "    }\n",
       "</style>\n",
       "<table border=\"1\" class=\"dataframe\">\n",
       "  <thead>\n",
       "    <tr style=\"text-align: right;\">\n",
       "      <th></th>\n",
       "      <th>recipe_id</th>\n",
       "      <th>ingredient</th>\n",
       "    </tr>\n",
       "  </thead>\n",
       "  <tbody>\n",
       "    <tr>\n",
       "      <th>0</th>\n",
       "      <td>10534</td>\n",
       "      <td>6 pommes (des Canada par exemple)</td>\n",
       "    </tr>\n",
       "    <tr>\n",
       "      <th>1</th>\n",
       "      <td>10534</td>\n",
       "      <td>150 g de  cassonade</td>\n",
       "    </tr>\n",
       "    <tr>\n",
       "      <th>2</th>\n",
       "      <td>10534</td>\n",
       "      <td>150 g de  farine de blé</td>\n",
       "    </tr>\n",
       "    <tr>\n",
       "      <th>3</th>\n",
       "      <td>10534</td>\n",
       "      <td>1 petite cuillère de  cannelle en poudre</td>\n",
       "    </tr>\n",
       "    <tr>\n",
       "      <th>4</th>\n",
       "      <td>10534</td>\n",
       "      <td>1 sachet de  sucre vanillé</td>\n",
       "    </tr>\n",
       "    <tr>\n",
       "      <th>...</th>\n",
       "      <td>...</td>\n",
       "      <td>...</td>\n",
       "    </tr>\n",
       "    <tr>\n",
       "      <th>388337</th>\n",
       "      <td>532439</td>\n",
       "      <td>200 g d' éclats d’amandes grillées</td>\n",
       "    </tr>\n",
       "    <tr>\n",
       "      <th>388338</th>\n",
       "      <td>532439</td>\n",
       "      <td>35 crêpes dentelles</td>\n",
       "    </tr>\n",
       "    <tr>\n",
       "      <th>388339</th>\n",
       "      <td>532439</td>\n",
       "      <td>1 café serré</td>\n",
       "    </tr>\n",
       "    <tr>\n",
       "      <th>388340</th>\n",
       "      <td>532439</td>\n",
       "      <td>4 crêpes dentelles</td>\n",
       "    </tr>\n",
       "    <tr>\n",
       "      <th>388341</th>\n",
       "      <td>532439</td>\n",
       "      <td>1 poignée de  copeaux de chocolat</td>\n",
       "    </tr>\n",
       "  </tbody>\n",
       "</table>\n",
       "<p>388342 rows × 2 columns</p>\n",
       "</div>"
      ],
      "text/plain": [
       "        recipe_id                                ingredient\n",
       "0           10534         6 pommes (des Canada par exemple)\n",
       "1           10534                       150 g de  cassonade\n",
       "2           10534                   150 g de  farine de blé\n",
       "3           10534  1 petite cuillère de  cannelle en poudre\n",
       "4           10534                1 sachet de  sucre vanillé\n",
       "...           ...                                       ...\n",
       "388337     532439        200 g d' éclats d’amandes grillées\n",
       "388338     532439                       35 crêpes dentelles\n",
       "388339     532439                              1 café serré\n",
       "388340     532439                        4 crêpes dentelles\n",
       "388341     532439         1 poignée de  copeaux de chocolat\n",
       "\n",
       "[388342 rows x 2 columns]"
      ]
     },
     "execution_count": 4,
     "metadata": {},
     "output_type": "execute_result"
    }
   ],
   "source": [
    "ingredients_df_cleaning(ingredients_df)"
   ]
  },
  {
   "cell_type": "markdown",
   "id": "bb9d4e59",
   "metadata": {},
   "source": [
    "### Search in recipe_steps\n"
   ]
  },
  {
   "cell_type": "code",
   "execution_count": 11,
   "id": "58b2d3c8",
   "metadata": {
    "ExecuteTime": {
     "end_time": "2022-01-05T18:33:29.470362Z",
     "start_time": "2022-01-05T18:33:29.370070Z"
    },
    "scrolled": false
   },
   "outputs": [
    {
     "data": {
      "text/plain": [
       "[]"
      ]
     },
     "execution_count": 11,
     "metadata": {},
     "output_type": "execute_result"
    }
   ],
   "source": [
    "list(clean_recipe_df.recipe_steps[clean_recipe_df.recipe_steps.apply(lambda x : x.find('(1)')) != -1])"
   ]
  },
  {
   "cell_type": "markdown",
   "id": "0acdc1ee",
   "metadata": {},
   "source": [
    "### Search in recipe.first_letter (not updated)"
   ]
  },
  {
   "cell_type": "code",
   "execution_count": 19,
   "id": "5d5b1bce",
   "metadata": {
    "ExecuteTime": {
     "end_time": "2022-01-05T18:35:41.704048Z",
     "start_time": "2022-01-05T18:35:41.615291Z"
    }
   },
   "outputs": [
    {
     "data": {
      "text/plain": [
       "16504"
      ]
     },
     "execution_count": 19,
     "metadata": {},
     "output_type": "execute_result"
    }
   ],
   "source": [
    "# print(list(clean_recipe_df.recipe_steps[clean_recipe_df.first_letter.apply(lambda x : x.find('P')) != -1])[6])\n",
    "clean_recipe_df.recipe_steps[clean_recipe_df.first_letter.apply(lambda x : x.find('P')) != -1].nunique()"
   ]
  },
  {
   "cell_type": "code",
   "execution_count": 20,
   "id": "5f928d6c",
   "metadata": {
    "ExecuteTime": {
     "end_time": "2022-01-05T18:35:44.541785Z",
     "start_time": "2022-01-05T18:35:44.492925Z"
    },
    "scrolled": true
   },
   "outputs": [
    {
     "data": {
      "text/plain": [
       "[]"
      ]
     },
     "execution_count": 20,
     "metadata": {},
     "output_type": "execute_result"
    }
   ],
   "source": [
    "list(clean_recipe_df.recipe_steps[clean_recipe_df.recipe_steps.apply(lambda x : x.startswith('(1'))])"
   ]
  },
  {
   "cell_type": "markdown",
   "id": "eddce0ed",
   "metadata": {},
   "source": [
    "# Testing Regex"
   ]
  },
  {
   "cell_type": "code",
   "execution_count": 22,
   "id": "6b9b37d6",
   "metadata": {
    "ExecuteTime": {
     "end_time": "2022-01-05T18:36:01.947778Z",
     "start_time": "2022-01-05T18:36:00.757876Z"
    }
   },
   "outputs": [
    {
     "data": {
      "text/plain": [
       "0        Préchauffer le four à 210°c (thermostat 7). \\n...\n",
       "1        Coupez l'oignon en petits morceaux, faites rev...\n",
       "2        Hacher (pas trop fin) le foie, le lard, les éc...\n",
       "3        Faire revenir les échalotes et les lardons dan...\n",
       "4        La veille : faire fondre le chocolat au bain-m...\n",
       "                               ...                        \n",
       "70321    Dénerver et couper le poulet en fines lamelles...\n",
       "70322    Faire fondre les chocolats au bain marie avec ...\n",
       "70323    Pour le beurre de pécan : faire fondre le beur...\n",
       "70324    Couper le poulet en morceaux de 5/6cm. \\n\\nBat...\n",
       "70325    Éplucher les pommes de terre et le panais et l...\n",
       "Name: recipe_steps, Length: 70326, dtype: object"
      ]
     },
     "execution_count": 22,
     "metadata": {},
     "output_type": "execute_result"
    }
   ],
   "source": [
    "# clean_recipe_df.recipe_steps[2]\n",
    "\n",
    "clean_recipe_df.recipe_steps.replace(to_replace ='(^|\\\\n) *-+ *\\d* *', value = '\\g<1>', regex = True)"
   ]
  },
  {
   "cell_type": "code",
   "execution_count": 25,
   "id": "1e05f3c2",
   "metadata": {
    "ExecuteTime": {
     "end_time": "2022-01-05T18:37:06.476923Z",
     "start_time": "2022-01-05T18:37:03.874388Z"
    },
    "scrolled": false
   },
   "outputs": [
    {
     "data": {
      "text/html": [
       "<div>\n",
       "<style scoped>\n",
       "    .dataframe tbody tr th:only-of-type {\n",
       "        vertical-align: middle;\n",
       "    }\n",
       "\n",
       "    .dataframe tbody tr th {\n",
       "        vertical-align: top;\n",
       "    }\n",
       "\n",
       "    .dataframe thead th {\n",
       "        text-align: right;\n",
       "    }\n",
       "</style>\n",
       "<table border=\"1\" class=\"dataframe\">\n",
       "  <thead>\n",
       "    <tr style=\"text-align: right;\">\n",
       "      <th></th>\n",
       "      <th>recipe_id</th>\n",
       "      <th>recipe_url</th>\n",
       "      <th>recipe_title</th>\n",
       "      <th>recipe_type</th>\n",
       "      <th>recipe_steps</th>\n",
       "      <th>first_letter</th>\n",
       "    </tr>\n",
       "  </thead>\n",
       "  <tbody>\n",
       "    <tr>\n",
       "      <th>0</th>\n",
       "      <td>10534</td>\n",
       "      <td>https://www.marmiton.org/recettes/recette_le-c...</td>\n",
       "      <td>Le crumble aux pommes du Chat qui Tousse</td>\n",
       "      <td>Dessert</td>\n",
       "      <td>Préchauffer le four à 210°c (thermostat 7). \\n...</td>\n",
       "      <td>P</td>\n",
       "    </tr>\n",
       "    <tr>\n",
       "      <th>1</th>\n",
       "      <td>10531</td>\n",
       "      <td>https://www.marmiton.org/recettes/recette_esca...</td>\n",
       "      <td>Escalopes lucullus à la cocotte</td>\n",
       "      <td>Plat principal</td>\n",
       "      <td>Coupez l'oignon en petits morceaux, faites rev...</td>\n",
       "      <td>C</td>\n",
       "    </tr>\n",
       "    <tr>\n",
       "      <th>2</th>\n",
       "      <td>10529</td>\n",
       "      <td>https://www.marmiton.org/recettes/recette_terr...</td>\n",
       "      <td>Terrine de foie de porc</td>\n",
       "      <td>Plat principal</td>\n",
       "      <td>Hacher (pas trop fin) le foie, le lard, les éc...</td>\n",
       "      <td>h</td>\n",
       "    </tr>\n",
       "    <tr>\n",
       "      <th>3</th>\n",
       "      <td>10530</td>\n",
       "      <td>https://www.marmiton.org/recettes/recette_lapi...</td>\n",
       "      <td>Lapin au vin blanc (à la cocotte)</td>\n",
       "      <td>Plat principal</td>\n",
       "      <td>Faire revenir les échalotes et les lardons dan...</td>\n",
       "      <td>F</td>\n",
       "    </tr>\n",
       "    <tr>\n",
       "      <th>4</th>\n",
       "      <td>10528</td>\n",
       "      <td>https://www.marmiton.org/recettes/recette_truf...</td>\n",
       "      <td>Truffes en chocolat</td>\n",
       "      <td>Confiserie</td>\n",
       "      <td>La veille : faire fondre le chocolat au bain-m...</td>\n",
       "      <td>L</td>\n",
       "    </tr>\n",
       "    <tr>\n",
       "      <th>...</th>\n",
       "      <td>...</td>\n",
       "      <td>...</td>\n",
       "      <td>...</td>\n",
       "      <td>...</td>\n",
       "      <td>...</td>\n",
       "      <td>...</td>\n",
       "    </tr>\n",
       "    <tr>\n",
       "      <th>70321</th>\n",
       "      <td>532440</td>\n",
       "      <td>https://www.marmiton.org/recettes/recette_ciga...</td>\n",
       "      <td>Cigare au poulet et au chèvre</td>\n",
       "      <td>Plat principal</td>\n",
       "      <td>Dénerver et couper le poulet en fines lamelles...</td>\n",
       "      <td>D</td>\n",
       "    </tr>\n",
       "    <tr>\n",
       "      <th>70322</th>\n",
       "      <td>532439</td>\n",
       "      <td>https://www.marmiton.org/recettes/recette_buch...</td>\n",
       "      <td>Bûche de Noël au chocolat et crêpes dentelles</td>\n",
       "      <td>Dessert</td>\n",
       "      <td>Faire fondre les chocolats au bain marie avec ...</td>\n",
       "      <td>F</td>\n",
       "    </tr>\n",
       "    <tr>\n",
       "      <th>70323</th>\n",
       "      <td>532434</td>\n",
       "      <td>https://www.marmiton.org/recettes/recette_cook...</td>\n",
       "      <td>Cookies aux noix de pécan et au chocolat</td>\n",
       "      <td>Dessert</td>\n",
       "      <td>Pour le beurre de pécan : faire fondre le beur...</td>\n",
       "      <td>P</td>\n",
       "    </tr>\n",
       "    <tr>\n",
       "      <th>70324</th>\n",
       "      <td>532401</td>\n",
       "      <td>https://www.marmiton.org/recettes/recette_sand...</td>\n",
       "      <td>Sando au poulet</td>\n",
       "      <td>Plat principal</td>\n",
       "      <td>Couper le poulet en morceaux de 5/6cm. \\n\\nBat...</td>\n",
       "      <td>C</td>\n",
       "    </tr>\n",
       "    <tr>\n",
       "      <th>70325</th>\n",
       "      <td>532213</td>\n",
       "      <td>https://www.marmiton.org/recettes/recette_grat...</td>\n",
       "      <td>Gratin pomme de terre et panais</td>\n",
       "      <td>Accompagnement</td>\n",
       "      <td>Éplucher les pommes de terre et le panais et l...</td>\n",
       "      <td>É</td>\n",
       "    </tr>\n",
       "  </tbody>\n",
       "</table>\n",
       "<p>70326 rows × 6 columns</p>\n",
       "</div>"
      ],
      "text/plain": [
       "       recipe_id                                         recipe_url  \\\n",
       "0          10534  https://www.marmiton.org/recettes/recette_le-c...   \n",
       "1          10531  https://www.marmiton.org/recettes/recette_esca...   \n",
       "2          10529  https://www.marmiton.org/recettes/recette_terr...   \n",
       "3          10530  https://www.marmiton.org/recettes/recette_lapi...   \n",
       "4          10528  https://www.marmiton.org/recettes/recette_truf...   \n",
       "...          ...                                                ...   \n",
       "70321     532440  https://www.marmiton.org/recettes/recette_ciga...   \n",
       "70322     532439  https://www.marmiton.org/recettes/recette_buch...   \n",
       "70323     532434  https://www.marmiton.org/recettes/recette_cook...   \n",
       "70324     532401  https://www.marmiton.org/recettes/recette_sand...   \n",
       "70325     532213  https://www.marmiton.org/recettes/recette_grat...   \n",
       "\n",
       "                                        recipe_title     recipe_type  \\\n",
       "0           Le crumble aux pommes du Chat qui Tousse         Dessert   \n",
       "1                    Escalopes lucullus à la cocotte  Plat principal   \n",
       "2                            Terrine de foie de porc  Plat principal   \n",
       "3                  Lapin au vin blanc (à la cocotte)  Plat principal   \n",
       "4                                Truffes en chocolat      Confiserie   \n",
       "...                                              ...             ...   \n",
       "70321                  Cigare au poulet et au chèvre  Plat principal   \n",
       "70322  Bûche de Noël au chocolat et crêpes dentelles         Dessert   \n",
       "70323       Cookies aux noix de pécan et au chocolat         Dessert   \n",
       "70324                                Sando au poulet  Plat principal   \n",
       "70325                Gratin pomme de terre et panais  Accompagnement   \n",
       "\n",
       "                                            recipe_steps first_letter  \n",
       "0      Préchauffer le four à 210°c (thermostat 7). \\n...            P  \n",
       "1      Coupez l'oignon en petits morceaux, faites rev...            C  \n",
       "2      Hacher (pas trop fin) le foie, le lard, les éc...            h  \n",
       "3      Faire revenir les échalotes et les lardons dan...            F  \n",
       "4      La veille : faire fondre le chocolat au bain-m...            L  \n",
       "...                                                  ...          ...  \n",
       "70321  Dénerver et couper le poulet en fines lamelles...            D  \n",
       "70322  Faire fondre les chocolats au bain marie avec ...            F  \n",
       "70323  Pour le beurre de pécan : faire fondre le beur...            P  \n",
       "70324  Couper le poulet en morceaux de 5/6cm. \\n\\nBat...            C  \n",
       "70325  Éplucher les pommes de terre et le panais et l...            É  \n",
       "\n",
       "[70326 rows x 6 columns]"
      ]
     },
     "execution_count": 25,
     "metadata": {},
     "output_type": "execute_result"
    }
   ],
   "source": [
    "clean_recipe_df.replace(to_replace =r'(^|\\\\n) *([\\wéà])', value = r'\\g<2>', regex = True)"
   ]
  },
  {
   "cell_type": "code",
   "execution_count": null,
   "id": "3e8a4435",
   "metadata": {},
   "outputs": [],
   "source": []
  },
  {
   "cell_type": "code",
   "execution_count": null,
   "id": "fe621380",
   "metadata": {},
   "outputs": [],
   "source": []
  }
 ],
 "metadata": {
  "kernelspec": {
   "display_name": "Python 3 (ipykernel)",
   "language": "python",
   "name": "python3"
  },
  "language_info": {
   "codemirror_mode": {
    "name": "ipython",
    "version": 3
   },
   "file_extension": ".py",
   "mimetype": "text/x-python",
   "name": "python",
   "nbconvert_exporter": "python",
   "pygments_lexer": "ipython3",
   "version": "3.8.12"
  },
  "toc": {
   "base_numbering": 1,
   "nav_menu": {},
   "number_sections": true,
   "sideBar": true,
   "skip_h1_title": false,
   "title_cell": "Table of Contents",
   "title_sidebar": "Contents",
   "toc_cell": false,
   "toc_position": {},
   "toc_section_display": true,
   "toc_window_display": false
  }
 },
 "nbformat": 4,
 "nbformat_minor": 5
}
