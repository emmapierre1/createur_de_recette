{
 "cells": [
  {
   "cell_type": "code",
   "execution_count": 1,
   "id": "cb1afc9a",
   "metadata": {
    "ExecuteTime": {
     "end_time": "2022-01-06T18:48:01.514279Z",
     "start_time": "2022-01-06T18:48:00.504632Z"
    }
   },
   "outputs": [],
   "source": [
    "import numpy as np\n",
    "import pandas as pd\n",
    "import matplotlib\n",
    "import matplotlib.pyplot as plt\n",
    "import seaborn as sns\n",
    "%load_ext autoreload\n",
    "%autoreload 2\n",
    "\n",
    "# pd.set_option(\"min_rows\", 50)"
   ]
  },
  {
   "cell_type": "code",
   "execution_count": 2,
   "id": "6ec18037",
   "metadata": {
    "ExecuteTime": {
     "end_time": "2022-01-06T18:48:02.445204Z",
     "start_time": "2022-01-06T18:48:01.516596Z"
    }
   },
   "outputs": [],
   "source": [
    "recipes_df = pd.read_csv('./data/recipes.csv')\n",
    "ingredients_df = pd.read_csv('./data/ingredients.csv')"
   ]
  },
  {
   "cell_type": "code",
   "execution_count": 3,
   "id": "a4afce17",
   "metadata": {
    "ExecuteTime": {
     "end_time": "2022-01-06T18:48:02.465580Z",
     "start_time": "2022-01-06T18:48:02.447223Z"
    }
   },
   "outputs": [
    {
     "name": "stdout",
     "output_type": "stream",
     "text": [
      "['Nettoyez les pissenlits, lavez les plusieurs fois et égouttez les \\n\\n Faites cuire les oeufs jusqu’à ce qu\\'ils soient durs ou mollets, puis \\n\\n réservez les \\n\\n Dans un saladier, délayez la moutarde avec le vinaigre puis ajoutez 3 \\n\\n cuil a soupe d\\'huile, du sel, du poivre et le sucre. \\n\\n Mettez les pissenlits coupés dans cette vinaigrette et brassez les. \\n\\n Faites chauffer 2 cuil a soupe d\\'huile dans une poêle et faites rissoler \\n\\n les lardons 5 mn jusqu’à ce qu\\'ils soient dores et croustillants. \\n\\n Déposez les sur les pissenlits en gardant un peu de graisse dans la \\n\\n poêle. \\n\\n Remettez celle ci sur le feu ajoutez 1 cuil a soupe d\\'huile, l\\'ail \\n\\n écrasé et le pain coupé en petits croûtons. \\n\\n Faites dorer en remuant puis versez le tout sur les pissenlits. \\n\\n Posez la salade les oeufs dur coupé en deux ou en quatre ( entier s\\'ils \\n\\n sont mollets) servez aussitôt. \\n\\n NB: A Lyon, c\\'est le pissenlit que l\\'on nome \"Groin d\\'Ane\".']\n"
     ]
    }
   ],
   "source": [
    "print(list(recipes_df[recipes_df.recipe_id == 10589].recipe_steps))\n"
   ]
  },
  {
   "cell_type": "code",
   "execution_count": 4,
   "id": "8d9bbb0a",
   "metadata": {
    "ExecuteTime": {
     "end_time": "2022-01-06T18:48:02.487641Z",
     "start_time": "2022-01-06T18:48:02.469041Z"
    }
   },
   "outputs": [],
   "source": [
    "def drop_rows(df, rows_to_drop) :\n",
    "    \"\"\" delete rows and reset index\n",
    "    df : DataFrame\n",
    "    rows_to_drop : list of indexes(int) of rows to drop\n",
    "\n",
    "    \"\"\"\n",
    "    df.drop(rows_to_drop, axis=0, inplace=True)\n",
    "    df = df.reset_index().drop(columns='index')\n",
    "    return df\n"
   ]
  },
  {
   "cell_type": "code",
   "execution_count": 5,
   "id": "d37327e0",
   "metadata": {
    "ExecuteTime": {
     "end_time": "2022-01-06T18:48:19.247831Z",
     "start_time": "2022-01-06T18:48:02.489723Z"
    }
   },
   "outputs": [],
   "source": [
    "from data_cleaning import recipe_df_cleaning, ingredients_df_cleaning\n",
    "ingredients_df_cleaning(ingredients_df)\n",
    "clean_recipe_df = recipe_df_cleaning(recipes_df)"
   ]
  },
  {
   "cell_type": "code",
   "execution_count": 6,
   "id": "bbbe801b",
   "metadata": {
    "ExecuteTime": {
     "end_time": "2022-01-06T18:48:19.269620Z",
     "start_time": "2022-01-06T18:48:19.250581Z"
    }
   },
   "outputs": [],
   "source": [
    "# weird_df = pd.DataFrame(pd.DataFrame(clean_recipe_df.recipe_steps).duplicated())\n",
    "# weird_df[weird_df[0] == True].index"
   ]
  },
  {
   "cell_type": "markdown",
   "id": "bb9d4e59",
   "metadata": {},
   "source": [
    "### Search in recipe_steps\n"
   ]
  },
  {
   "cell_type": "code",
   "execution_count": 7,
   "id": "58b2d3c8",
   "metadata": {
    "ExecuteTime": {
     "end_time": "2022-01-06T18:48:19.447077Z",
     "start_time": "2022-01-06T18:48:19.271838Z"
    },
    "scrolled": false
   },
   "outputs": [
    {
     "data": {
      "text/plain": [
       "[]"
      ]
     },
     "execution_count": 7,
     "metadata": {},
     "output_type": "execute_result"
    }
   ],
   "source": [
    "list(clean_recipe_df.recipe_steps[clean_recipe_df.recipe_steps.apply(lambda x : x.find('(1)')) != -1])"
   ]
  },
  {
   "cell_type": "markdown",
   "id": "0acdc1ee",
   "metadata": {},
   "source": [
    "### Search in recipe.first_letter (not updated)"
   ]
  },
  {
   "cell_type": "code",
   "execution_count": 8,
   "id": "5d5b1bce",
   "metadata": {
    "ExecuteTime": {
     "end_time": "2022-01-06T18:48:19.467463Z",
     "start_time": "2022-01-06T18:48:19.448943Z"
    }
   },
   "outputs": [],
   "source": [
    "# print(list(clean_recipe_df.recipe_steps[clean_recipe_df.first_letter.apply(lambda x : x.find('P')) != -1])[6])\n",
    "# clean_recipe_df.recipe_steps[clean_recipe_df.first_letter.apply(lambda x : x.find('P')) != -1].nunique()"
   ]
  },
  {
   "cell_type": "code",
   "execution_count": 9,
   "id": "5f928d6c",
   "metadata": {
    "ExecuteTime": {
     "end_time": "2022-01-06T18:48:19.512480Z",
     "start_time": "2022-01-06T18:48:19.470132Z"
    },
    "scrolled": true
   },
   "outputs": [
    {
     "data": {
      "text/plain": [
       "[]"
      ]
     },
     "execution_count": 9,
     "metadata": {},
     "output_type": "execute_result"
    }
   ],
   "source": [
    "list(clean_recipe_df.recipe_steps[clean_recipe_df.recipe_steps.apply(lambda x : x.startswith('(1'))])"
   ]
  },
  {
   "cell_type": "markdown",
   "id": "eddce0ed",
   "metadata": {},
   "source": [
    "# Testing Regex"
   ]
  },
  {
   "cell_type": "code",
   "execution_count": 10,
   "id": "6b9b37d6",
   "metadata": {
    "ExecuteTime": {
     "end_time": "2022-01-06T18:48:20.506683Z",
     "start_time": "2022-01-06T18:48:19.514926Z"
    },
    "scrolled": false
   },
   "outputs": [
    {
     "data": {
      "text/plain": [
       "0        Préchauffer le four à 210°C (thermostat 7).\\n\\...\n",
       "1        Coupez l'oignon en petits morceaux, faites rev...\n",
       "2        Hacher (pas trop fin) le foie, le lard, les éc...\n",
       "3        Faire revenir les échalotes et les lardons dan...\n",
       "4        La veille : faire fondre le chocolat au bain-m...\n",
       "                               ...                        \n",
       "70315    Dénerver et couper le poulet en fines lamelles...\n",
       "70316    Faire fondre les chocolats au bain marie avec ...\n",
       "70317    Pour le beurre de pécan : Faire fondre le beur...\n",
       "70318    Couper le poulet en morceaux de 5/6cm.\\n\\nBatt...\n",
       "70319    Éplucher les pommes de terre et le panais et l...\n",
       "Name: recipe_steps, Length: 70320, dtype: object"
      ]
     },
     "execution_count": 10,
     "metadata": {},
     "output_type": "execute_result"
    }
   ],
   "source": [
    "# clean_recipe_df.recipe_steps[2]\n",
    "\n",
    "clean_recipe_df.recipe_steps.replace(to_replace ='(^|\\\\n) *-+ *\\d* *', value = '\\g<1>', regex = True)"
   ]
  },
  {
   "cell_type": "code",
   "execution_count": 11,
   "id": "13f39864",
   "metadata": {
    "ExecuteTime": {
     "end_time": "2022-01-06T18:48:20.529394Z",
     "start_time": "2022-01-06T18:48:20.509163Z"
    }
   },
   "outputs": [
    {
     "name": "stdout",
     "output_type": "stream",
     "text": [
      "['Nettoyez les pissenlits, lavez les plusieurs fois et égouttez les.\\n\\nFaites cuire les oeufs jusqu’à ce qu\\'ils soient durs ou mollets, puis.\\n\\nRéservez les.\\n\\nDans un saladier, délayez la moutarde avec le vinaigre puis ajoutez 3.\\n\\nCuil a soupe d\\'huile, du sel, du poivre et le sucre.\\n\\nMettez les pissenlits coupés dans cette vinaigrette et brassez les.\\n\\nFaites chauffer 2 cuil a soupe d\\'huile dans une poêle et faites rissoler.\\n\\nLes lardons 5 mn jusqu’à ce qu\\'ils soient dores et croustillants.\\n\\nDéposez les sur les pissenlits en gardant un peu de graisse dans la.\\n\\nPoêle.\\n\\nRemettez celle ci sur le feu ajoutez 1 cuil a soupe d\\'huile, l\\'ail.\\n\\nÉcrasé et le pain coupé en petits croûtons.\\n\\nFaites dorer en remuant puis versez le tout sur les pissenlits.\\n\\nPosez la salade les oeufs dur coupé en deux ou en quatre ( entier s\\'ils.\\n\\nSont mollets) servez aussitôt.\\n\\nNB: A Lyon, c\\'est le pissenlit que l\\'on nome \"Groin d\\'Ane\".']\n"
     ]
    }
   ],
   "source": [
    "print(list(clean_recipe_df[clean_recipe_df.recipe_id == 10589].recipe_steps))\n"
   ]
  },
  {
   "cell_type": "code",
   "execution_count": 12,
   "id": "1e05f3c2",
   "metadata": {
    "ExecuteTime": {
     "end_time": "2022-01-06T18:48:22.423932Z",
     "start_time": "2022-01-06T18:48:20.531365Z"
    },
    "scrolled": false
   },
   "outputs": [
    {
     "data": {
      "text/html": [
       "<div>\n",
       "<style scoped>\n",
       "    .dataframe tbody tr th:only-of-type {\n",
       "        vertical-align: middle;\n",
       "    }\n",
       "\n",
       "    .dataframe tbody tr th {\n",
       "        vertical-align: top;\n",
       "    }\n",
       "\n",
       "    .dataframe thead th {\n",
       "        text-align: right;\n",
       "    }\n",
       "</style>\n",
       "<table border=\"1\" class=\"dataframe\">\n",
       "  <thead>\n",
       "    <tr style=\"text-align: right;\">\n",
       "      <th></th>\n",
       "      <th>recipe_id</th>\n",
       "      <th>recipe_url</th>\n",
       "      <th>recipe_title</th>\n",
       "      <th>recipe_type</th>\n",
       "      <th>recipe_steps</th>\n",
       "    </tr>\n",
       "  </thead>\n",
       "  <tbody>\n",
       "    <tr>\n",
       "      <th>0</th>\n",
       "      <td>10534</td>\n",
       "      <td>https://www.marmiton.org/recettes/recette_le-c...</td>\n",
       "      <td>Le crumble aux pommes du Chat qui Tousse</td>\n",
       "      <td>Dessert</td>\n",
       "      <td>Préchauffer le four à 210°C (thermostat 7).\\n\\...</td>\n",
       "    </tr>\n",
       "    <tr>\n",
       "      <th>1</th>\n",
       "      <td>10531</td>\n",
       "      <td>https://www.marmiton.org/recettes/recette_esca...</td>\n",
       "      <td>Escalopes lucullus à la cocotte</td>\n",
       "      <td>Plat principal</td>\n",
       "      <td>Coupez l'oignon en petits morceaux, faites rev...</td>\n",
       "    </tr>\n",
       "    <tr>\n",
       "      <th>2</th>\n",
       "      <td>10529</td>\n",
       "      <td>https://www.marmiton.org/recettes/recette_terr...</td>\n",
       "      <td>Terrine de foie de porc</td>\n",
       "      <td>Plat principal</td>\n",
       "      <td>Hacher (pas trop fin) le foie, le lard, les éc...</td>\n",
       "    </tr>\n",
       "    <tr>\n",
       "      <th>3</th>\n",
       "      <td>10530</td>\n",
       "      <td>https://www.marmiton.org/recettes/recette_lapi...</td>\n",
       "      <td>Lapin au vin blanc (à la cocotte)</td>\n",
       "      <td>Plat principal</td>\n",
       "      <td>Faire revenir les échalotes et les lardons dan...</td>\n",
       "    </tr>\n",
       "    <tr>\n",
       "      <th>4</th>\n",
       "      <td>10528</td>\n",
       "      <td>https://www.marmiton.org/recettes/recette_truf...</td>\n",
       "      <td>Truffes en chocolat</td>\n",
       "      <td>Confiserie</td>\n",
       "      <td>La veille : faire fondre le chocolat au bain-m...</td>\n",
       "    </tr>\n",
       "    <tr>\n",
       "      <th>...</th>\n",
       "      <td>...</td>\n",
       "      <td>...</td>\n",
       "      <td>...</td>\n",
       "      <td>...</td>\n",
       "      <td>...</td>\n",
       "    </tr>\n",
       "    <tr>\n",
       "      <th>70315</th>\n",
       "      <td>532440</td>\n",
       "      <td>https://www.marmiton.org/recettes/recette_ciga...</td>\n",
       "      <td>Cigare au poulet et au chèvre</td>\n",
       "      <td>Plat principal</td>\n",
       "      <td>Dénerver et couper le poulet en fines lamelles...</td>\n",
       "    </tr>\n",
       "    <tr>\n",
       "      <th>70316</th>\n",
       "      <td>532439</td>\n",
       "      <td>https://www.marmiton.org/recettes/recette_buch...</td>\n",
       "      <td>Bûche de Noël au chocolat et crêpes dentelles</td>\n",
       "      <td>Dessert</td>\n",
       "      <td>Faire fondre les chocolats au bain marie avec ...</td>\n",
       "    </tr>\n",
       "    <tr>\n",
       "      <th>70317</th>\n",
       "      <td>532434</td>\n",
       "      <td>https://www.marmiton.org/recettes/recette_cook...</td>\n",
       "      <td>Cookies aux noix de pécan et au chocolat</td>\n",
       "      <td>Dessert</td>\n",
       "      <td>Pour le beurre de pécan : Faire fondre le beur...</td>\n",
       "    </tr>\n",
       "    <tr>\n",
       "      <th>70318</th>\n",
       "      <td>532401</td>\n",
       "      <td>https://www.marmiton.org/recettes/recette_sand...</td>\n",
       "      <td>Sando au poulet</td>\n",
       "      <td>Plat principal</td>\n",
       "      <td>Couper le poulet en morceaux de 5/6cm.\\n\\nBatt...</td>\n",
       "    </tr>\n",
       "    <tr>\n",
       "      <th>70319</th>\n",
       "      <td>532213</td>\n",
       "      <td>https://www.marmiton.org/recettes/recette_grat...</td>\n",
       "      <td>Gratin pomme de terre et panais</td>\n",
       "      <td>Accompagnement</td>\n",
       "      <td>Éplucher les pommes de terre et le panais et l...</td>\n",
       "    </tr>\n",
       "  </tbody>\n",
       "</table>\n",
       "<p>70320 rows × 5 columns</p>\n",
       "</div>"
      ],
      "text/plain": [
       "       recipe_id                                         recipe_url  \\\n",
       "0          10534  https://www.marmiton.org/recettes/recette_le-c...   \n",
       "1          10531  https://www.marmiton.org/recettes/recette_esca...   \n",
       "2          10529  https://www.marmiton.org/recettes/recette_terr...   \n",
       "3          10530  https://www.marmiton.org/recettes/recette_lapi...   \n",
       "4          10528  https://www.marmiton.org/recettes/recette_truf...   \n",
       "...          ...                                                ...   \n",
       "70315     532440  https://www.marmiton.org/recettes/recette_ciga...   \n",
       "70316     532439  https://www.marmiton.org/recettes/recette_buch...   \n",
       "70317     532434  https://www.marmiton.org/recettes/recette_cook...   \n",
       "70318     532401  https://www.marmiton.org/recettes/recette_sand...   \n",
       "70319     532213  https://www.marmiton.org/recettes/recette_grat...   \n",
       "\n",
       "                                        recipe_title     recipe_type  \\\n",
       "0           Le crumble aux pommes du Chat qui Tousse         Dessert   \n",
       "1                    Escalopes lucullus à la cocotte  Plat principal   \n",
       "2                            Terrine de foie de porc  Plat principal   \n",
       "3                  Lapin au vin blanc (à la cocotte)  Plat principal   \n",
       "4                                Truffes en chocolat      Confiserie   \n",
       "...                                              ...             ...   \n",
       "70315                  Cigare au poulet et au chèvre  Plat principal   \n",
       "70316  Bûche de Noël au chocolat et crêpes dentelles         Dessert   \n",
       "70317       Cookies aux noix de pécan et au chocolat         Dessert   \n",
       "70318                                Sando au poulet  Plat principal   \n",
       "70319                Gratin pomme de terre et panais  Accompagnement   \n",
       "\n",
       "                                            recipe_steps  \n",
       "0      Préchauffer le four à 210°C (thermostat 7).\\n\\...  \n",
       "1      Coupez l'oignon en petits morceaux, faites rev...  \n",
       "2      Hacher (pas trop fin) le foie, le lard, les éc...  \n",
       "3      Faire revenir les échalotes et les lardons dan...  \n",
       "4      La veille : faire fondre le chocolat au bain-m...  \n",
       "...                                                  ...  \n",
       "70315  Dénerver et couper le poulet en fines lamelles...  \n",
       "70316  Faire fondre les chocolats au bain marie avec ...  \n",
       "70317  Pour le beurre de pécan : Faire fondre le beur...  \n",
       "70318  Couper le poulet en morceaux de 5/6cm.\\n\\nBatt...  \n",
       "70319  Éplucher les pommes de terre et le panais et l...  \n",
       "\n",
       "[70320 rows x 5 columns]"
      ]
     },
     "execution_count": 12,
     "metadata": {},
     "output_type": "execute_result"
    }
   ],
   "source": [
    "clean_recipe_df.replace(to_replace =r'(^|\\\\n) *([\\wéà])', value = r'\\g<2>', regex = True)"
   ]
  },
  {
   "cell_type": "code",
   "execution_count": 13,
   "id": "3e8a4435",
   "metadata": {
    "ExecuteTime": {
     "end_time": "2022-01-06T18:48:22.461790Z",
     "start_time": "2022-01-06T18:48:22.426151Z"
    }
   },
   "outputs": [
    {
     "data": {
      "text/html": [
       "<div>\n",
       "<style scoped>\n",
       "    .dataframe tbody tr th:only-of-type {\n",
       "        vertical-align: middle;\n",
       "    }\n",
       "\n",
       "    .dataframe tbody tr th {\n",
       "        vertical-align: top;\n",
       "    }\n",
       "\n",
       "    .dataframe thead th {\n",
       "        text-align: right;\n",
       "    }\n",
       "</style>\n",
       "<table border=\"1\" class=\"dataframe\">\n",
       "  <thead>\n",
       "    <tr style=\"text-align: right;\">\n",
       "      <th></th>\n",
       "      <th>recipe_id</th>\n",
       "      <th>recipe_url</th>\n",
       "      <th>recipe_title</th>\n",
       "      <th>recipe_type</th>\n",
       "      <th>recipe_steps</th>\n",
       "    </tr>\n",
       "  </thead>\n",
       "  <tbody>\n",
       "    <tr>\n",
       "      <th>0</th>\n",
       "      <td>10534</td>\n",
       "      <td>https://www.marmiton.org/recettes/recette_le-c...</td>\n",
       "      <td>Le crumble aux pommes du Chat qui Tousse</td>\n",
       "      <td>Dessert</td>\n",
       "      <td>Préchauffer le four à 210°C (thermostat 7). \\n...</td>\n",
       "    </tr>\n",
       "    <tr>\n",
       "      <th>1</th>\n",
       "      <td>10531</td>\n",
       "      <td>https://www.marmiton.org/recettes/recette_esca...</td>\n",
       "      <td>Escalopes lucullus à la cocotte</td>\n",
       "      <td>Plat principal</td>\n",
       "      <td>Coupez l'oignon en petits morceaux, faites rev...</td>\n",
       "    </tr>\n",
       "    <tr>\n",
       "      <th>2</th>\n",
       "      <td>10529</td>\n",
       "      <td>https://www.marmiton.org/recettes/recette_terr...</td>\n",
       "      <td>Terrine de foie de porc</td>\n",
       "      <td>Plat principal</td>\n",
       "      <td>- hacher (pas trop fin) le foie, le lard, les ...</td>\n",
       "    </tr>\n",
       "    <tr>\n",
       "      <th>3</th>\n",
       "      <td>10530</td>\n",
       "      <td>https://www.marmiton.org/recettes/recette_lapi...</td>\n",
       "      <td>Lapin au vin blanc (à la cocotte)</td>\n",
       "      <td>Plat principal</td>\n",
       "      <td>Faire revenir les échalotes et les lardons dan...</td>\n",
       "    </tr>\n",
       "    <tr>\n",
       "      <th>4</th>\n",
       "      <td>10528</td>\n",
       "      <td>https://www.marmiton.org/recettes/recette_truf...</td>\n",
       "      <td>Truffes en chocolat</td>\n",
       "      <td>Confiserie</td>\n",
       "      <td>La veille : faire fondre le chocolat au bain-m...</td>\n",
       "    </tr>\n",
       "    <tr>\n",
       "      <th>...</th>\n",
       "      <td>...</td>\n",
       "      <td>...</td>\n",
       "      <td>...</td>\n",
       "      <td>...</td>\n",
       "      <td>...</td>\n",
       "    </tr>\n",
       "    <tr>\n",
       "      <th>70597</th>\n",
       "      <td>532440</td>\n",
       "      <td>https://www.marmiton.org/recettes/recette_ciga...</td>\n",
       "      <td>Cigare au poulet et au chèvre</td>\n",
       "      <td>Plat principal</td>\n",
       "      <td>Dénerver et couper le poulet en fines lamelles...</td>\n",
       "    </tr>\n",
       "    <tr>\n",
       "      <th>70598</th>\n",
       "      <td>532439</td>\n",
       "      <td>https://www.marmiton.org/recettes/recette_buch...</td>\n",
       "      <td>Bûche de Noël au chocolat et crêpes dentelles</td>\n",
       "      <td>Dessert</td>\n",
       "      <td>Faire fondre les chocolats au bain marie avec ...</td>\n",
       "    </tr>\n",
       "    <tr>\n",
       "      <th>70599</th>\n",
       "      <td>532434</td>\n",
       "      <td>https://www.marmiton.org/recettes/recette_cook...</td>\n",
       "      <td>Cookies aux noix de pécan et au chocolat</td>\n",
       "      <td>Dessert</td>\n",
       "      <td>Pour le beurre de pécan : Faire fondre le beur...</td>\n",
       "    </tr>\n",
       "    <tr>\n",
       "      <th>70600</th>\n",
       "      <td>532401</td>\n",
       "      <td>https://www.marmiton.org/recettes/recette_sand...</td>\n",
       "      <td>Sando au poulet</td>\n",
       "      <td>Plat principal</td>\n",
       "      <td>Couper le poulet en morceaux de 5/6cm. \\n\\n Ba...</td>\n",
       "    </tr>\n",
       "    <tr>\n",
       "      <th>70601</th>\n",
       "      <td>532213</td>\n",
       "      <td>https://www.marmiton.org/recettes/recette_grat...</td>\n",
       "      <td>Gratin pomme de terre et panais</td>\n",
       "      <td>Accompagnement</td>\n",
       "      <td>Éplucher les pommes de terre et le panais et l...</td>\n",
       "    </tr>\n",
       "  </tbody>\n",
       "</table>\n",
       "<p>70585 rows × 5 columns</p>\n",
       "</div>"
      ],
      "text/plain": [
       "       recipe_id                                         recipe_url  \\\n",
       "0          10534  https://www.marmiton.org/recettes/recette_le-c...   \n",
       "1          10531  https://www.marmiton.org/recettes/recette_esca...   \n",
       "2          10529  https://www.marmiton.org/recettes/recette_terr...   \n",
       "3          10530  https://www.marmiton.org/recettes/recette_lapi...   \n",
       "4          10528  https://www.marmiton.org/recettes/recette_truf...   \n",
       "...          ...                                                ...   \n",
       "70597     532440  https://www.marmiton.org/recettes/recette_ciga...   \n",
       "70598     532439  https://www.marmiton.org/recettes/recette_buch...   \n",
       "70599     532434  https://www.marmiton.org/recettes/recette_cook...   \n",
       "70600     532401  https://www.marmiton.org/recettes/recette_sand...   \n",
       "70601     532213  https://www.marmiton.org/recettes/recette_grat...   \n",
       "\n",
       "                                        recipe_title     recipe_type  \\\n",
       "0           Le crumble aux pommes du Chat qui Tousse         Dessert   \n",
       "1                    Escalopes lucullus à la cocotte  Plat principal   \n",
       "2                            Terrine de foie de porc  Plat principal   \n",
       "3                  Lapin au vin blanc (à la cocotte)  Plat principal   \n",
       "4                                Truffes en chocolat      Confiserie   \n",
       "...                                              ...             ...   \n",
       "70597                  Cigare au poulet et au chèvre  Plat principal   \n",
       "70598  Bûche de Noël au chocolat et crêpes dentelles         Dessert   \n",
       "70599       Cookies aux noix de pécan et au chocolat         Dessert   \n",
       "70600                                Sando au poulet  Plat principal   \n",
       "70601                Gratin pomme de terre et panais  Accompagnement   \n",
       "\n",
       "                                            recipe_steps  \n",
       "0      Préchauffer le four à 210°C (thermostat 7). \\n...  \n",
       "1      Coupez l'oignon en petits morceaux, faites rev...  \n",
       "2      - hacher (pas trop fin) le foie, le lard, les ...  \n",
       "3      Faire revenir les échalotes et les lardons dan...  \n",
       "4      La veille : faire fondre le chocolat au bain-m...  \n",
       "...                                                  ...  \n",
       "70597  Dénerver et couper le poulet en fines lamelles...  \n",
       "70598  Faire fondre les chocolats au bain marie avec ...  \n",
       "70599  Pour le beurre de pécan : Faire fondre le beur...  \n",
       "70600  Couper le poulet en morceaux de 5/6cm. \\n\\n Ba...  \n",
       "70601  Éplucher les pommes de terre et le panais et l...  \n",
       "\n",
       "[70585 rows x 5 columns]"
      ]
     },
     "execution_count": 13,
     "metadata": {},
     "output_type": "execute_result"
    }
   ],
   "source": [
    "recipes_df"
   ]
  },
  {
   "cell_type": "code",
   "execution_count": 14,
   "id": "fe621380",
   "metadata": {
    "ExecuteTime": {
     "end_time": "2022-01-06T18:48:22.481610Z",
     "start_time": "2022-01-06T18:48:22.463499Z"
    }
   },
   "outputs": [],
   "source": [
    "def capitalize_steps(df):\n",
    "    \"\"\"return the recipes's DataFrame with capitalized steps\"\"\"\n",
    "\n",
    "    df.recipe_steps = df.recipe_steps.apply(lambda x : x.split(\"\\n\\n\"))\n",
    "    df.recipe_steps = df.recipe_steps.apply(capitalize_steps_loop)\n",
    "    print(list(df.recipe_steps))\n",
    "    df.recipe_steps = df.recipe_steps.apply(lambda x : x.split(\"\\n\\n\"))\n",
    "    # df.recipe_steps = df.recipe_steps.apply(lambda x : x.strip())\n",
    "    df.recipe_steps = df.recipe_steps.apply(dot_at_the_end_of_string)\n",
    "\n",
    "    return df\n",
    "\n",
    "def capitalize_steps_loop(steps_list):\n",
    "    return \"\\n\\n\".join([step.capitalize() for step in steps_list])\n",
    "\n",
    "def dot_at_the_end_of_string(steps_list):\n",
    "    modified_steps_list = []\n",
    "    for step in steps_list:\n",
    "        stepper = step.strip()\n",
    "        if stepper != '' :\n",
    "            if stepper[-1] in  ['.', '!', '?']:\n",
    "                modified_steps_list.append(stepper)\n",
    "            else :\n",
    "                modified_steps_list.append(stepper+'.')\n",
    "    return \"\\n\\n\".join(modified_steps_list)\n",
    "    #     \"\\n\\n\".join([step for step in modified_steps_list])\n",
    "    # [continue if step[-1] in ACCEPTED_END_OF_STRING_CHAR else  ]\n"
   ]
  },
  {
   "cell_type": "code",
   "execution_count": 15,
   "id": "872f3d25",
   "metadata": {
    "ExecuteTime": {
     "end_time": "2022-01-06T18:48:24.216325Z",
     "start_time": "2022-01-06T18:48:22.483835Z"
    },
    "scrolled": true
   },
   "outputs": [
    {
     "name": "stderr",
     "output_type": "stream",
     "text": [
      "IOPub data rate exceeded.\n",
      "The notebook server will temporarily stop sending output\n",
      "to the client in order to avoid crashing it.\n",
      "To change this limit, set the config variable\n",
      "`--NotebookApp.iopub_data_rate_limit`.\n",
      "\n",
      "Current values:\n",
      "NotebookApp.iopub_data_rate_limit=1000000.0 (bytes/sec)\n",
      "NotebookApp.rate_limit_window=3.0 (secs)\n",
      "\n"
     ]
    },
    {
     "data": {
      "text/plain": [
       "(70585, 5)"
      ]
     },
     "execution_count": 15,
     "metadata": {},
     "output_type": "execute_result"
    }
   ],
   "source": [
    "# ACCEPTED_END_OF_STRING_CHAR = ['.', '!', '?', ':']\n",
    "tester_df = capitalize_steps(recipes_df.copy())\n",
    "tester_df[tester_df.recipe_steps.apply(lambda x : x.endswith('?'))]\n",
    "tester_df.shape\n"
   ]
  },
  {
   "cell_type": "code",
   "execution_count": 16,
   "id": "dc5fe4fd",
   "metadata": {
    "ExecuteTime": {
     "end_time": "2022-01-06T18:48:24.236871Z",
     "start_time": "2022-01-06T18:48:24.218502Z"
    }
   },
   "outputs": [
    {
     "data": {
      "text/plain": [
       "70585"
      ]
     },
     "execution_count": 16,
     "metadata": {},
     "output_type": "execute_result"
    }
   ],
   "source": [
    "60881 + 9683 + 21"
   ]
  },
  {
   "cell_type": "code",
   "execution_count": 17,
   "id": "ea8919eb",
   "metadata": {
    "ExecuteTime": {
     "end_time": "2022-01-06T18:48:24.295882Z",
     "start_time": "2022-01-06T18:48:24.238755Z"
    }
   },
   "outputs": [
    {
     "data": {
      "text/html": [
       "<div>\n",
       "<style scoped>\n",
       "    .dataframe tbody tr th:only-of-type {\n",
       "        vertical-align: middle;\n",
       "    }\n",
       "\n",
       "    .dataframe tbody tr th {\n",
       "        vertical-align: top;\n",
       "    }\n",
       "\n",
       "    .dataframe thead th {\n",
       "        text-align: right;\n",
       "    }\n",
       "</style>\n",
       "<table border=\"1\" class=\"dataframe\">\n",
       "  <thead>\n",
       "    <tr style=\"text-align: right;\">\n",
       "      <th></th>\n",
       "      <th>recipe_id</th>\n",
       "      <th>recipe_url</th>\n",
       "      <th>recipe_title</th>\n",
       "      <th>recipe_type</th>\n",
       "      <th>recipe_steps</th>\n",
       "    </tr>\n",
       "  </thead>\n",
       "  <tbody>\n",
       "    <tr>\n",
       "      <th>0</th>\n",
       "      <td>10534</td>\n",
       "      <td>https://www.marmiton.org/recettes/recette_le-c...</td>\n",
       "      <td>Le crumble aux pommes du Chat qui Tousse</td>\n",
       "      <td>Dessert</td>\n",
       "      <td>Préchauffer le four à 210°c (thermostat 7).\\n\\...</td>\n",
       "    </tr>\n",
       "    <tr>\n",
       "      <th>1</th>\n",
       "      <td>10531</td>\n",
       "      <td>https://www.marmiton.org/recettes/recette_esca...</td>\n",
       "      <td>Escalopes lucullus à la cocotte</td>\n",
       "      <td>Plat principal</td>\n",
       "      <td>Coupez l'oignon en petits morceaux, faites rev...</td>\n",
       "    </tr>\n",
       "    <tr>\n",
       "      <th>2</th>\n",
       "      <td>10529</td>\n",
       "      <td>https://www.marmiton.org/recettes/recette_terr...</td>\n",
       "      <td>Terrine de foie de porc</td>\n",
       "      <td>Plat principal</td>\n",
       "      <td>- hacher (pas trop fin) le foie, le lard, les ...</td>\n",
       "    </tr>\n",
       "    <tr>\n",
       "      <th>3</th>\n",
       "      <td>10530</td>\n",
       "      <td>https://www.marmiton.org/recettes/recette_lapi...</td>\n",
       "      <td>Lapin au vin blanc (à la cocotte)</td>\n",
       "      <td>Plat principal</td>\n",
       "      <td>Faire revenir les échalotes et les lardons dan...</td>\n",
       "    </tr>\n",
       "    <tr>\n",
       "      <th>4</th>\n",
       "      <td>10528</td>\n",
       "      <td>https://www.marmiton.org/recettes/recette_truf...</td>\n",
       "      <td>Truffes en chocolat</td>\n",
       "      <td>Confiserie</td>\n",
       "      <td>La veille : faire fondre le chocolat au bain-m...</td>\n",
       "    </tr>\n",
       "    <tr>\n",
       "      <th>...</th>\n",
       "      <td>...</td>\n",
       "      <td>...</td>\n",
       "      <td>...</td>\n",
       "      <td>...</td>\n",
       "      <td>...</td>\n",
       "    </tr>\n",
       "    <tr>\n",
       "      <th>70597</th>\n",
       "      <td>532440</td>\n",
       "      <td>https://www.marmiton.org/recettes/recette_ciga...</td>\n",
       "      <td>Cigare au poulet et au chèvre</td>\n",
       "      <td>Plat principal</td>\n",
       "      <td>Dénerver et couper le poulet en fines lamelles...</td>\n",
       "    </tr>\n",
       "    <tr>\n",
       "      <th>70598</th>\n",
       "      <td>532439</td>\n",
       "      <td>https://www.marmiton.org/recettes/recette_buch...</td>\n",
       "      <td>Bûche de Noël au chocolat et crêpes dentelles</td>\n",
       "      <td>Dessert</td>\n",
       "      <td>Faire fondre les chocolats au bain marie avec ...</td>\n",
       "    </tr>\n",
       "    <tr>\n",
       "      <th>70599</th>\n",
       "      <td>532434</td>\n",
       "      <td>https://www.marmiton.org/recettes/recette_cook...</td>\n",
       "      <td>Cookies aux noix de pécan et au chocolat</td>\n",
       "      <td>Dessert</td>\n",
       "      <td>Pour le beurre de pécan : faire fondre le beur...</td>\n",
       "    </tr>\n",
       "    <tr>\n",
       "      <th>70600</th>\n",
       "      <td>532401</td>\n",
       "      <td>https://www.marmiton.org/recettes/recette_sand...</td>\n",
       "      <td>Sando au poulet</td>\n",
       "      <td>Plat principal</td>\n",
       "      <td>Couper le poulet en morceaux de 5/6cm.\\n\\nbatt...</td>\n",
       "    </tr>\n",
       "    <tr>\n",
       "      <th>70601</th>\n",
       "      <td>532213</td>\n",
       "      <td>https://www.marmiton.org/recettes/recette_grat...</td>\n",
       "      <td>Gratin pomme de terre et panais</td>\n",
       "      <td>Accompagnement</td>\n",
       "      <td>Éplucher les pommes de terre et le panais et l...</td>\n",
       "    </tr>\n",
       "  </tbody>\n",
       "</table>\n",
       "<p>70585 rows × 5 columns</p>\n",
       "</div>"
      ],
      "text/plain": [
       "       recipe_id                                         recipe_url  \\\n",
       "0          10534  https://www.marmiton.org/recettes/recette_le-c...   \n",
       "1          10531  https://www.marmiton.org/recettes/recette_esca...   \n",
       "2          10529  https://www.marmiton.org/recettes/recette_terr...   \n",
       "3          10530  https://www.marmiton.org/recettes/recette_lapi...   \n",
       "4          10528  https://www.marmiton.org/recettes/recette_truf...   \n",
       "...          ...                                                ...   \n",
       "70597     532440  https://www.marmiton.org/recettes/recette_ciga...   \n",
       "70598     532439  https://www.marmiton.org/recettes/recette_buch...   \n",
       "70599     532434  https://www.marmiton.org/recettes/recette_cook...   \n",
       "70600     532401  https://www.marmiton.org/recettes/recette_sand...   \n",
       "70601     532213  https://www.marmiton.org/recettes/recette_grat...   \n",
       "\n",
       "                                        recipe_title     recipe_type  \\\n",
       "0           Le crumble aux pommes du Chat qui Tousse         Dessert   \n",
       "1                    Escalopes lucullus à la cocotte  Plat principal   \n",
       "2                            Terrine de foie de porc  Plat principal   \n",
       "3                  Lapin au vin blanc (à la cocotte)  Plat principal   \n",
       "4                                Truffes en chocolat      Confiserie   \n",
       "...                                              ...             ...   \n",
       "70597                  Cigare au poulet et au chèvre  Plat principal   \n",
       "70598  Bûche de Noël au chocolat et crêpes dentelles         Dessert   \n",
       "70599       Cookies aux noix de pécan et au chocolat         Dessert   \n",
       "70600                                Sando au poulet  Plat principal   \n",
       "70601                Gratin pomme de terre et panais  Accompagnement   \n",
       "\n",
       "                                            recipe_steps  \n",
       "0      Préchauffer le four à 210°c (thermostat 7).\\n\\...  \n",
       "1      Coupez l'oignon en petits morceaux, faites rev...  \n",
       "2      - hacher (pas trop fin) le foie, le lard, les ...  \n",
       "3      Faire revenir les échalotes et les lardons dan...  \n",
       "4      La veille : faire fondre le chocolat au bain-m...  \n",
       "...                                                  ...  \n",
       "70597  Dénerver et couper le poulet en fines lamelles...  \n",
       "70598  Faire fondre les chocolats au bain marie avec ...  \n",
       "70599  Pour le beurre de pécan : faire fondre le beur...  \n",
       "70600  Couper le poulet en morceaux de 5/6cm.\\n\\nbatt...  \n",
       "70601  Éplucher les pommes de terre et le panais et l...  \n",
       "\n",
       "[70585 rows x 5 columns]"
      ]
     },
     "execution_count": 17,
     "metadata": {},
     "output_type": "execute_result"
    }
   ],
   "source": [
    "tester_df"
   ]
  },
  {
   "cell_type": "code",
   "execution_count": 18,
   "id": "fdd255da",
   "metadata": {
    "ExecuteTime": {
     "end_time": "2022-01-06T18:48:25.635748Z",
     "start_time": "2022-01-06T18:48:24.297923Z"
    }
   },
   "outputs": [],
   "source": [
    "tester_df.to_csv('./data/clean_recipes.csv', index=False, header=True)"
   ]
  },
  {
   "cell_type": "code",
   "execution_count": 19,
   "id": "0128cd4e",
   "metadata": {
    "ExecuteTime": {
     "end_time": "2022-01-06T18:48:25.785902Z",
     "start_time": "2022-01-06T18:48:25.638660Z"
    }
   },
   "outputs": [
    {
     "ename": "FileNotFoundError",
     "evalue": "[Errno 2] No such file or directory: './clean_recip.csv'",
     "output_type": "error",
     "traceback": [
      "\u001b[0;31m---------------------------------------------------------------------------\u001b[0m",
      "\u001b[0;31mFileNotFoundError\u001b[0m                         Traceback (most recent call last)",
      "\u001b[0;32m/tmp/ipykernel_26140/4233357768.py\u001b[0m in \u001b[0;36m<module>\u001b[0;34m\u001b[0m\n\u001b[0;32m----> 1\u001b[0;31m \u001b[0mpd\u001b[0m\u001b[0;34m.\u001b[0m\u001b[0mread_csv\u001b[0m\u001b[0;34m(\u001b[0m\u001b[0;34m'./clean_recip.csv'\u001b[0m\u001b[0;34m)\u001b[0m\u001b[0;34m\u001b[0m\u001b[0;34m\u001b[0m\u001b[0m\n\u001b[0m",
      "\u001b[0;32m~/.pyenv/versions/3.8.12/envs/createur_de_recette/lib/python3.8/site-packages/pandas/util/_decorators.py\u001b[0m in \u001b[0;36mwrapper\u001b[0;34m(*args, **kwargs)\u001b[0m\n\u001b[1;32m    309\u001b[0m                     \u001b[0mstacklevel\u001b[0m\u001b[0;34m=\u001b[0m\u001b[0mstacklevel\u001b[0m\u001b[0;34m,\u001b[0m\u001b[0;34m\u001b[0m\u001b[0;34m\u001b[0m\u001b[0m\n\u001b[1;32m    310\u001b[0m                 )\n\u001b[0;32m--> 311\u001b[0;31m             \u001b[0;32mreturn\u001b[0m \u001b[0mfunc\u001b[0m\u001b[0;34m(\u001b[0m\u001b[0;34m*\u001b[0m\u001b[0margs\u001b[0m\u001b[0;34m,\u001b[0m \u001b[0;34m**\u001b[0m\u001b[0mkwargs\u001b[0m\u001b[0;34m)\u001b[0m\u001b[0;34m\u001b[0m\u001b[0;34m\u001b[0m\u001b[0m\n\u001b[0m\u001b[1;32m    312\u001b[0m \u001b[0;34m\u001b[0m\u001b[0m\n\u001b[1;32m    313\u001b[0m         \u001b[0;32mreturn\u001b[0m \u001b[0mwrapper\u001b[0m\u001b[0;34m\u001b[0m\u001b[0;34m\u001b[0m\u001b[0m\n",
      "\u001b[0;32m~/.pyenv/versions/3.8.12/envs/createur_de_recette/lib/python3.8/site-packages/pandas/io/parsers/readers.py\u001b[0m in \u001b[0;36mread_csv\u001b[0;34m(filepath_or_buffer, sep, delimiter, header, names, index_col, usecols, squeeze, prefix, mangle_dupe_cols, dtype, engine, converters, true_values, false_values, skipinitialspace, skiprows, skipfooter, nrows, na_values, keep_default_na, na_filter, verbose, skip_blank_lines, parse_dates, infer_datetime_format, keep_date_col, date_parser, dayfirst, cache_dates, iterator, chunksize, compression, thousands, decimal, lineterminator, quotechar, quoting, doublequote, escapechar, comment, encoding, encoding_errors, dialect, error_bad_lines, warn_bad_lines, on_bad_lines, delim_whitespace, low_memory, memory_map, float_precision, storage_options)\u001b[0m\n\u001b[1;32m    584\u001b[0m     \u001b[0mkwds\u001b[0m\u001b[0;34m.\u001b[0m\u001b[0mupdate\u001b[0m\u001b[0;34m(\u001b[0m\u001b[0mkwds_defaults\u001b[0m\u001b[0;34m)\u001b[0m\u001b[0;34m\u001b[0m\u001b[0;34m\u001b[0m\u001b[0m\n\u001b[1;32m    585\u001b[0m \u001b[0;34m\u001b[0m\u001b[0m\n\u001b[0;32m--> 586\u001b[0;31m     \u001b[0;32mreturn\u001b[0m \u001b[0m_read\u001b[0m\u001b[0;34m(\u001b[0m\u001b[0mfilepath_or_buffer\u001b[0m\u001b[0;34m,\u001b[0m \u001b[0mkwds\u001b[0m\u001b[0;34m)\u001b[0m\u001b[0;34m\u001b[0m\u001b[0;34m\u001b[0m\u001b[0m\n\u001b[0m\u001b[1;32m    587\u001b[0m \u001b[0;34m\u001b[0m\u001b[0m\n\u001b[1;32m    588\u001b[0m \u001b[0;34m\u001b[0m\u001b[0m\n",
      "\u001b[0;32m~/.pyenv/versions/3.8.12/envs/createur_de_recette/lib/python3.8/site-packages/pandas/io/parsers/readers.py\u001b[0m in \u001b[0;36m_read\u001b[0;34m(filepath_or_buffer, kwds)\u001b[0m\n\u001b[1;32m    480\u001b[0m \u001b[0;34m\u001b[0m\u001b[0m\n\u001b[1;32m    481\u001b[0m     \u001b[0;31m# Create the parser.\u001b[0m\u001b[0;34m\u001b[0m\u001b[0;34m\u001b[0m\u001b[0;34m\u001b[0m\u001b[0m\n\u001b[0;32m--> 482\u001b[0;31m     \u001b[0mparser\u001b[0m \u001b[0;34m=\u001b[0m \u001b[0mTextFileReader\u001b[0m\u001b[0;34m(\u001b[0m\u001b[0mfilepath_or_buffer\u001b[0m\u001b[0;34m,\u001b[0m \u001b[0;34m**\u001b[0m\u001b[0mkwds\u001b[0m\u001b[0;34m)\u001b[0m\u001b[0;34m\u001b[0m\u001b[0;34m\u001b[0m\u001b[0m\n\u001b[0m\u001b[1;32m    483\u001b[0m \u001b[0;34m\u001b[0m\u001b[0m\n\u001b[1;32m    484\u001b[0m     \u001b[0;32mif\u001b[0m \u001b[0mchunksize\u001b[0m \u001b[0;32mor\u001b[0m \u001b[0miterator\u001b[0m\u001b[0;34m:\u001b[0m\u001b[0;34m\u001b[0m\u001b[0;34m\u001b[0m\u001b[0m\n",
      "\u001b[0;32m~/.pyenv/versions/3.8.12/envs/createur_de_recette/lib/python3.8/site-packages/pandas/io/parsers/readers.py\u001b[0m in \u001b[0;36m__init__\u001b[0;34m(self, f, engine, **kwds)\u001b[0m\n\u001b[1;32m    809\u001b[0m             \u001b[0mself\u001b[0m\u001b[0;34m.\u001b[0m\u001b[0moptions\u001b[0m\u001b[0;34m[\u001b[0m\u001b[0;34m\"has_index_names\"\u001b[0m\u001b[0;34m]\u001b[0m \u001b[0;34m=\u001b[0m \u001b[0mkwds\u001b[0m\u001b[0;34m[\u001b[0m\u001b[0;34m\"has_index_names\"\u001b[0m\u001b[0;34m]\u001b[0m\u001b[0;34m\u001b[0m\u001b[0;34m\u001b[0m\u001b[0m\n\u001b[1;32m    810\u001b[0m \u001b[0;34m\u001b[0m\u001b[0m\n\u001b[0;32m--> 811\u001b[0;31m         \u001b[0mself\u001b[0m\u001b[0;34m.\u001b[0m\u001b[0m_engine\u001b[0m \u001b[0;34m=\u001b[0m \u001b[0mself\u001b[0m\u001b[0;34m.\u001b[0m\u001b[0m_make_engine\u001b[0m\u001b[0;34m(\u001b[0m\u001b[0mself\u001b[0m\u001b[0;34m.\u001b[0m\u001b[0mengine\u001b[0m\u001b[0;34m)\u001b[0m\u001b[0;34m\u001b[0m\u001b[0;34m\u001b[0m\u001b[0m\n\u001b[0m\u001b[1;32m    812\u001b[0m \u001b[0;34m\u001b[0m\u001b[0m\n\u001b[1;32m    813\u001b[0m     \u001b[0;32mdef\u001b[0m \u001b[0mclose\u001b[0m\u001b[0;34m(\u001b[0m\u001b[0mself\u001b[0m\u001b[0;34m)\u001b[0m\u001b[0;34m:\u001b[0m\u001b[0;34m\u001b[0m\u001b[0;34m\u001b[0m\u001b[0m\n",
      "\u001b[0;32m~/.pyenv/versions/3.8.12/envs/createur_de_recette/lib/python3.8/site-packages/pandas/io/parsers/readers.py\u001b[0m in \u001b[0;36m_make_engine\u001b[0;34m(self, engine)\u001b[0m\n\u001b[1;32m   1038\u001b[0m             )\n\u001b[1;32m   1039\u001b[0m         \u001b[0;31m# error: Too many arguments for \"ParserBase\"\u001b[0m\u001b[0;34m\u001b[0m\u001b[0;34m\u001b[0m\u001b[0;34m\u001b[0m\u001b[0m\n\u001b[0;32m-> 1040\u001b[0;31m         \u001b[0;32mreturn\u001b[0m \u001b[0mmapping\u001b[0m\u001b[0;34m[\u001b[0m\u001b[0mengine\u001b[0m\u001b[0;34m]\u001b[0m\u001b[0;34m(\u001b[0m\u001b[0mself\u001b[0m\u001b[0;34m.\u001b[0m\u001b[0mf\u001b[0m\u001b[0;34m,\u001b[0m \u001b[0;34m**\u001b[0m\u001b[0mself\u001b[0m\u001b[0;34m.\u001b[0m\u001b[0moptions\u001b[0m\u001b[0;34m)\u001b[0m  \u001b[0;31m# type: ignore[call-arg]\u001b[0m\u001b[0;34m\u001b[0m\u001b[0;34m\u001b[0m\u001b[0m\n\u001b[0m\u001b[1;32m   1041\u001b[0m \u001b[0;34m\u001b[0m\u001b[0m\n\u001b[1;32m   1042\u001b[0m     \u001b[0;32mdef\u001b[0m \u001b[0m_failover_to_python\u001b[0m\u001b[0;34m(\u001b[0m\u001b[0mself\u001b[0m\u001b[0;34m)\u001b[0m\u001b[0;34m:\u001b[0m\u001b[0;34m\u001b[0m\u001b[0;34m\u001b[0m\u001b[0m\n",
      "\u001b[0;32m~/.pyenv/versions/3.8.12/envs/createur_de_recette/lib/python3.8/site-packages/pandas/io/parsers/c_parser_wrapper.py\u001b[0m in \u001b[0;36m__init__\u001b[0;34m(self, src, **kwds)\u001b[0m\n\u001b[1;32m     49\u001b[0m \u001b[0;34m\u001b[0m\u001b[0m\n\u001b[1;32m     50\u001b[0m         \u001b[0;31m# open handles\u001b[0m\u001b[0;34m\u001b[0m\u001b[0;34m\u001b[0m\u001b[0;34m\u001b[0m\u001b[0m\n\u001b[0;32m---> 51\u001b[0;31m         \u001b[0mself\u001b[0m\u001b[0;34m.\u001b[0m\u001b[0m_open_handles\u001b[0m\u001b[0;34m(\u001b[0m\u001b[0msrc\u001b[0m\u001b[0;34m,\u001b[0m \u001b[0mkwds\u001b[0m\u001b[0;34m)\u001b[0m\u001b[0;34m\u001b[0m\u001b[0;34m\u001b[0m\u001b[0m\n\u001b[0m\u001b[1;32m     52\u001b[0m         \u001b[0;32massert\u001b[0m \u001b[0mself\u001b[0m\u001b[0;34m.\u001b[0m\u001b[0mhandles\u001b[0m \u001b[0;32mis\u001b[0m \u001b[0;32mnot\u001b[0m \u001b[0;32mNone\u001b[0m\u001b[0;34m\u001b[0m\u001b[0;34m\u001b[0m\u001b[0m\n\u001b[1;32m     53\u001b[0m \u001b[0;34m\u001b[0m\u001b[0m\n",
      "\u001b[0;32m~/.pyenv/versions/3.8.12/envs/createur_de_recette/lib/python3.8/site-packages/pandas/io/parsers/base_parser.py\u001b[0m in \u001b[0;36m_open_handles\u001b[0;34m(self, src, kwds)\u001b[0m\n\u001b[1;32m    220\u001b[0m         \u001b[0mLet\u001b[0m \u001b[0mthe\u001b[0m \u001b[0mreaders\u001b[0m \u001b[0mopen\u001b[0m \u001b[0mIOHandles\u001b[0m \u001b[0mafter\u001b[0m \u001b[0mthey\u001b[0m \u001b[0mare\u001b[0m \u001b[0mdone\u001b[0m \u001b[0;32mwith\u001b[0m \u001b[0mtheir\u001b[0m \u001b[0mpotential\u001b[0m \u001b[0mraises\u001b[0m\u001b[0;34m.\u001b[0m\u001b[0;34m\u001b[0m\u001b[0;34m\u001b[0m\u001b[0m\n\u001b[1;32m    221\u001b[0m         \"\"\"\n\u001b[0;32m--> 222\u001b[0;31m         self.handles = get_handle(\n\u001b[0m\u001b[1;32m    223\u001b[0m             \u001b[0msrc\u001b[0m\u001b[0;34m,\u001b[0m\u001b[0;34m\u001b[0m\u001b[0;34m\u001b[0m\u001b[0m\n\u001b[1;32m    224\u001b[0m             \u001b[0;34m\"r\"\u001b[0m\u001b[0;34m,\u001b[0m\u001b[0;34m\u001b[0m\u001b[0;34m\u001b[0m\u001b[0m\n",
      "\u001b[0;32m~/.pyenv/versions/3.8.12/envs/createur_de_recette/lib/python3.8/site-packages/pandas/io/common.py\u001b[0m in \u001b[0;36mget_handle\u001b[0;34m(path_or_buf, mode, encoding, compression, memory_map, is_text, errors, storage_options)\u001b[0m\n\u001b[1;32m    700\u001b[0m         \u001b[0;32mif\u001b[0m \u001b[0mioargs\u001b[0m\u001b[0;34m.\u001b[0m\u001b[0mencoding\u001b[0m \u001b[0;32mand\u001b[0m \u001b[0;34m\"b\"\u001b[0m \u001b[0;32mnot\u001b[0m \u001b[0;32min\u001b[0m \u001b[0mioargs\u001b[0m\u001b[0;34m.\u001b[0m\u001b[0mmode\u001b[0m\u001b[0;34m:\u001b[0m\u001b[0;34m\u001b[0m\u001b[0;34m\u001b[0m\u001b[0m\n\u001b[1;32m    701\u001b[0m             \u001b[0;31m# Encoding\u001b[0m\u001b[0;34m\u001b[0m\u001b[0;34m\u001b[0m\u001b[0;34m\u001b[0m\u001b[0m\n\u001b[0;32m--> 702\u001b[0;31m             handle = open(\n\u001b[0m\u001b[1;32m    703\u001b[0m                 \u001b[0mhandle\u001b[0m\u001b[0;34m,\u001b[0m\u001b[0;34m\u001b[0m\u001b[0;34m\u001b[0m\u001b[0m\n\u001b[1;32m    704\u001b[0m                 \u001b[0mioargs\u001b[0m\u001b[0;34m.\u001b[0m\u001b[0mmode\u001b[0m\u001b[0;34m,\u001b[0m\u001b[0;34m\u001b[0m\u001b[0;34m\u001b[0m\u001b[0m\n",
      "\u001b[0;31mFileNotFoundError\u001b[0m: [Errno 2] No such file or directory: './clean_recip.csv'"
     ]
    }
   ],
   "source": [
    "pd.read_csv('./clean_recip.csv')"
   ]
  },
  {
   "cell_type": "code",
   "execution_count": null,
   "id": "b4e560d0",
   "metadata": {
    "ExecuteTime": {
     "end_time": "2022-01-06T18:48:25.788548Z",
     "start_time": "2022-01-06T18:48:25.788528Z"
    }
   },
   "outputs": [],
   "source": [
    "(1)"
   ]
  }
 ],
 "metadata": {
  "kernelspec": {
   "display_name": "Python 3 (ipykernel)",
   "language": "python",
   "name": "python3"
  },
  "language_info": {
   "codemirror_mode": {
    "name": "ipython",
    "version": 3
   },
   "file_extension": ".py",
   "mimetype": "text/x-python",
   "name": "python",
   "nbconvert_exporter": "python",
   "pygments_lexer": "ipython3",
   "version": "3.8.12"
  },
  "toc": {
   "base_numbering": 1,
   "nav_menu": {},
   "number_sections": true,
   "sideBar": true,
   "skip_h1_title": false,
   "title_cell": "Table of Contents",
   "title_sidebar": "Contents",
   "toc_cell": false,
   "toc_position": {},
   "toc_section_display": true,
   "toc_window_display": false
  }
 },
 "nbformat": 4,
 "nbformat_minor": 5
}
