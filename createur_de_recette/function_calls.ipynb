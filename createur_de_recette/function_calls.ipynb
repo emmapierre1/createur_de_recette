{
 "cells": [
  {
   "cell_type": "code",
   "execution_count": 1,
   "id": "cb1afc9a",
   "metadata": {
    "ExecuteTime": {
     "end_time": "2022-01-06T18:48:01.514279Z",
     "start_time": "2022-01-06T18:48:00.504632Z"
    }
   },
   "outputs": [],
   "source": [
    "import numpy as np\n",
    "import pandas as pd\n",
    "import matplotlib\n",
    "import matplotlib.pyplot as plt\n",
    "import seaborn as sns\n",
    "%load_ext autoreload\n",
    "%autoreload 2\n",
    "\n",
    "# pd.set_option(\"min_rows\", 50)"
   ]
  },
  {
   "cell_type": "code",
   "execution_count": 2,
   "id": "6ec18037",
   "metadata": {
    "ExecuteTime": {
     "end_time": "2022-01-06T18:48:02.445204Z",
     "start_time": "2022-01-06T18:48:01.516596Z"
    }
   },
   "outputs": [],
   "source": [
    "recipes_df = pd.read_csv('./data/recipes.csv')\n",
    "ingredients_df = pd.read_csv('./data/ingredients.csv')"
   ]
  },
  {
   "cell_type": "code",
   "execution_count": 3,
   "id": "a4afce17",
   "metadata": {
    "ExecuteTime": {
     "end_time": "2022-01-06T18:48:02.465580Z",
     "start_time": "2022-01-06T18:48:02.447223Z"
    }
   },
   "outputs": [
    {
     "name": "stdout",
     "output_type": "stream",
     "text": [
      "['Nettoyez les pissenlits, lavez les plusieurs fois et égouttez les \\n\\n Faites cuire les oeufs jusqu’à ce qu\\'ils soient durs ou mollets, puis \\n\\n réservez les \\n\\n Dans un saladier, délayez la moutarde avec le vinaigre puis ajoutez 3 \\n\\n cuil a soupe d\\'huile, du sel, du poivre et le sucre. \\n\\n Mettez les pissenlits coupés dans cette vinaigrette et brassez les. \\n\\n Faites chauffer 2 cuil a soupe d\\'huile dans une poêle et faites rissoler \\n\\n les lardons 5 mn jusqu’à ce qu\\'ils soient dores et croustillants. \\n\\n Déposez les sur les pissenlits en gardant un peu de graisse dans la \\n\\n poêle. \\n\\n Remettez celle ci sur le feu ajoutez 1 cuil a soupe d\\'huile, l\\'ail \\n\\n écrasé et le pain coupé en petits croûtons. \\n\\n Faites dorer en remuant puis versez le tout sur les pissenlits. \\n\\n Posez la salade les oeufs dur coupé en deux ou en quatre ( entier s\\'ils \\n\\n sont mollets) servez aussitôt. \\n\\n NB: A Lyon, c\\'est le pissenlit que l\\'on nome \"Groin d\\'Ane\".']\n"
     ]
    }
   ],
   "source": [
    "print(list(recipes_df[recipes_df.recipe_id == 10589].recipe_steps))\n"
   ]
  },
  {
   "cell_type": "code",
   "execution_count": 4,
   "id": "8d9bbb0a",
   "metadata": {
    "ExecuteTime": {
     "end_time": "2022-01-06T18:48:02.487641Z",
     "start_time": "2022-01-06T18:48:02.469041Z"
    }
   },
   "outputs": [],
   "source": [
    "def drop_rows(df, rows_to_drop) :\n",
    "    \"\"\" delete rows and reset index\n",
    "    df : DataFrame\n",
    "    rows_to_drop : list of indexes(int) of rows to drop\n",
    "\n",
    "    \"\"\"\n",
    "    df.drop(rows_to_drop, axis=0, inplace=True)\n",
    "    df = df.reset_index().drop(columns='index')\n",
    "    return df\n"
   ]
  },
  {
   "cell_type": "code",
   "execution_count": 5,
   "id": "d37327e0",
   "metadata": {
    "ExecuteTime": {
     "end_time": "2022-01-06T18:48:19.247831Z",
     "start_time": "2022-01-06T18:48:02.489723Z"
    }
   },
   "outputs": [],
   "source": [
    "from data_cleaning import recipe_df_cleaning, ingredients_df_cleaning\n",
    "ingredients_df_cleaning(ingredients_df)\n",
    "clean_recipe_df = recipe_df_cleaning(recipes_df)"
   ]
  },
  {
   "cell_type": "code",
   "execution_count": 6,
   "id": "bbbe801b",
   "metadata": {
    "ExecuteTime": {
     "end_time": "2022-01-06T18:48:19.269620Z",
     "start_time": "2022-01-06T18:48:19.250581Z"
    }
   },
   "outputs": [],
   "source": [
    "# weird_df = pd.DataFrame(pd.DataFrame(clean_recipe_df.recipe_steps).duplicated())\n",
    "# weird_df[weird_df[0] == True].index"
   ]
  },
  {
   "cell_type": "markdown",
   "id": "bb9d4e59",
   "metadata": {},
   "source": [
    "### Search in recipe_steps\n"
   ]
  },
  {
   "cell_type": "code",
   "execution_count": 7,
   "id": "58b2d3c8",
   "metadata": {
    "ExecuteTime": {
     "end_time": "2022-01-06T18:48:19.447077Z",
     "start_time": "2022-01-06T18:48:19.271838Z"
    },
    "scrolled": false
   },
   "outputs": [
    {
     "data": {
      "text/plain": [
       "[]"
      ]
     },
     "execution_count": 7,
     "metadata": {},
     "output_type": "execute_result"
    }
   ],
   "source": [
    "list(clean_recipe_df.recipe_steps[clean_recipe_df.recipe_steps.apply(lambda x : x.find('(1)')) != -1])"
   ]
  },
  {
   "cell_type": "markdown",
   "id": "0acdc1ee",
   "metadata": {},
   "source": [
    "### Search in recipe.first_letter (not updated)"
   ]
  },
  {
   "cell_type": "code",
   "execution_count": 8,
   "id": "5d5b1bce",
   "metadata": {
    "ExecuteTime": {
     "end_time": "2022-01-06T18:48:19.467463Z",
     "start_time": "2022-01-06T18:48:19.448943Z"
    }
   },
   "outputs": [],
   "source": [
    "# print(list(clean_recipe_df.recipe_steps[clean_recipe_df.first_letter.apply(lambda x : x.find('P')) != -1])[6])\n",
    "# clean_recipe_df.recipe_steps[clean_recipe_df.first_letter.apply(lambda x : x.find('P')) != -1].nunique()"
   ]
  },
  {
   "cell_type": "code",
   "execution_count": 9,
   "id": "5f928d6c",
   "metadata": {
    "ExecuteTime": {
     "end_time": "2022-01-06T18:48:19.512480Z",
     "start_time": "2022-01-06T18:48:19.470132Z"
    },
    "scrolled": true
   },
   "outputs": [
    {
     "data": {
      "text/plain": [
       "[]"
      ]
     },
     "execution_count": 9,
     "metadata": {},
     "output_type": "execute_result"
    }
   ],
   "source": [
    "list(clean_recipe_df.recipe_steps[clean_recipe_df.recipe_steps.apply(lambda x : x.startswith('(1'))])"
   ]
  },
  {
   "cell_type": "markdown",
   "id": "eddce0ed",
   "metadata": {},
   "source": [
    "# Testing Regex"
   ]
  },
  {
   "cell_type": "code",
   "execution_count": 24,
   "id": "6b9b37d6",
   "metadata": {
    "ExecuteTime": {
     "end_time": "2022-01-06T18:52:06.692434Z",
     "start_time": "2022-01-06T18:52:05.693655Z"
    },
    "scrolled": false
   },
   "outputs": [
    {
     "data": {
      "text/plain": [
       "False    70320\n",
       "Name: recipe_steps, dtype: int64"
      ]
     },
     "execution_count": 24,
     "metadata": {},
     "output_type": "execute_result"
    }
   ],
   "source": [
    "# clean_recipe_df.recipe_steps[2]\n",
    "\n",
    "clean_recipe_df.recipe_steps.replace(to_replace ='(^|\\\\n) *-+ *\\d* *', value = '\\g<1>', regex = True).isna().value_counts()"
   ]
  },
  {
   "cell_type": "code",
   "execution_count": 11,
   "id": "13f39864",
   "metadata": {
    "ExecuteTime": {
     "end_time": "2022-01-06T18:48:20.529394Z",
     "start_time": "2022-01-06T18:48:20.509163Z"
    }
   },
   "outputs": [
    {
     "name": "stdout",
     "output_type": "stream",
     "text": [
      "['Nettoyez les pissenlits, lavez les plusieurs fois et égouttez les.\\n\\nFaites cuire les oeufs jusqu’à ce qu\\'ils soient durs ou mollets, puis.\\n\\nRéservez les.\\n\\nDans un saladier, délayez la moutarde avec le vinaigre puis ajoutez 3.\\n\\nCuil a soupe d\\'huile, du sel, du poivre et le sucre.\\n\\nMettez les pissenlits coupés dans cette vinaigrette et brassez les.\\n\\nFaites chauffer 2 cuil a soupe d\\'huile dans une poêle et faites rissoler.\\n\\nLes lardons 5 mn jusqu’à ce qu\\'ils soient dores et croustillants.\\n\\nDéposez les sur les pissenlits en gardant un peu de graisse dans la.\\n\\nPoêle.\\n\\nRemettez celle ci sur le feu ajoutez 1 cuil a soupe d\\'huile, l\\'ail.\\n\\nÉcrasé et le pain coupé en petits croûtons.\\n\\nFaites dorer en remuant puis versez le tout sur les pissenlits.\\n\\nPosez la salade les oeufs dur coupé en deux ou en quatre ( entier s\\'ils.\\n\\nSont mollets) servez aussitôt.\\n\\nNB: A Lyon, c\\'est le pissenlit que l\\'on nome \"Groin d\\'Ane\".']\n"
     ]
    }
   ],
   "source": [
    "print(list(clean_recipe_df[clean_recipe_df.recipe_id == 10589].recipe_steps))\n"
   ]
  },
  {
   "cell_type": "code",
   "execution_count": 12,
   "id": "1e05f3c2",
   "metadata": {
    "ExecuteTime": {
     "end_time": "2022-01-06T18:48:22.423932Z",
     "start_time": "2022-01-06T18:48:20.531365Z"
    },
    "scrolled": false
   },
   "outputs": [
    {
     "data": {
      "text/html": [
       "<div>\n",
       "<style scoped>\n",
       "    .dataframe tbody tr th:only-of-type {\n",
       "        vertical-align: middle;\n",
       "    }\n",
       "\n",
       "    .dataframe tbody tr th {\n",
       "        vertical-align: top;\n",
       "    }\n",
       "\n",
       "    .dataframe thead th {\n",
       "        text-align: right;\n",
       "    }\n",
       "</style>\n",
       "<table border=\"1\" class=\"dataframe\">\n",
       "  <thead>\n",
       "    <tr style=\"text-align: right;\">\n",
       "      <th></th>\n",
       "      <th>recipe_id</th>\n",
       "      <th>recipe_url</th>\n",
       "      <th>recipe_title</th>\n",
       "      <th>recipe_type</th>\n",
       "      <th>recipe_steps</th>\n",
       "    </tr>\n",
       "  </thead>\n",
       "  <tbody>\n",
       "    <tr>\n",
       "      <th>0</th>\n",
       "      <td>10534</td>\n",
       "      <td>https://www.marmiton.org/recettes/recette_le-c...</td>\n",
       "      <td>Le crumble aux pommes du Chat qui Tousse</td>\n",
       "      <td>Dessert</td>\n",
       "      <td>Préchauffer le four à 210°C (thermostat 7).\\n\\...</td>\n",
       "    </tr>\n",
       "    <tr>\n",
       "      <th>1</th>\n",
       "      <td>10531</td>\n",
       "      <td>https://www.marmiton.org/recettes/recette_esca...</td>\n",
       "      <td>Escalopes lucullus à la cocotte</td>\n",
       "      <td>Plat principal</td>\n",
       "      <td>Coupez l'oignon en petits morceaux, faites rev...</td>\n",
       "    </tr>\n",
       "    <tr>\n",
       "      <th>2</th>\n",
       "      <td>10529</td>\n",
       "      <td>https://www.marmiton.org/recettes/recette_terr...</td>\n",
       "      <td>Terrine de foie de porc</td>\n",
       "      <td>Plat principal</td>\n",
       "      <td>Hacher (pas trop fin) le foie, le lard, les éc...</td>\n",
       "    </tr>\n",
       "    <tr>\n",
       "      <th>3</th>\n",
       "      <td>10530</td>\n",
       "      <td>https://www.marmiton.org/recettes/recette_lapi...</td>\n",
       "      <td>Lapin au vin blanc (à la cocotte)</td>\n",
       "      <td>Plat principal</td>\n",
       "      <td>Faire revenir les échalotes et les lardons dan...</td>\n",
       "    </tr>\n",
       "    <tr>\n",
       "      <th>4</th>\n",
       "      <td>10528</td>\n",
       "      <td>https://www.marmiton.org/recettes/recette_truf...</td>\n",
       "      <td>Truffes en chocolat</td>\n",
       "      <td>Confiserie</td>\n",
       "      <td>La veille : faire fondre le chocolat au bain-m...</td>\n",
       "    </tr>\n",
       "    <tr>\n",
       "      <th>...</th>\n",
       "      <td>...</td>\n",
       "      <td>...</td>\n",
       "      <td>...</td>\n",
       "      <td>...</td>\n",
       "      <td>...</td>\n",
       "    </tr>\n",
       "    <tr>\n",
       "      <th>70315</th>\n",
       "      <td>532440</td>\n",
       "      <td>https://www.marmiton.org/recettes/recette_ciga...</td>\n",
       "      <td>Cigare au poulet et au chèvre</td>\n",
       "      <td>Plat principal</td>\n",
       "      <td>Dénerver et couper le poulet en fines lamelles...</td>\n",
       "    </tr>\n",
       "    <tr>\n",
       "      <th>70316</th>\n",
       "      <td>532439</td>\n",
       "      <td>https://www.marmiton.org/recettes/recette_buch...</td>\n",
       "      <td>Bûche de Noël au chocolat et crêpes dentelles</td>\n",
       "      <td>Dessert</td>\n",
       "      <td>Faire fondre les chocolats au bain marie avec ...</td>\n",
       "    </tr>\n",
       "    <tr>\n",
       "      <th>70317</th>\n",
       "      <td>532434</td>\n",
       "      <td>https://www.marmiton.org/recettes/recette_cook...</td>\n",
       "      <td>Cookies aux noix de pécan et au chocolat</td>\n",
       "      <td>Dessert</td>\n",
       "      <td>Pour le beurre de pécan : Faire fondre le beur...</td>\n",
       "    </tr>\n",
       "    <tr>\n",
       "      <th>70318</th>\n",
       "      <td>532401</td>\n",
       "      <td>https://www.marmiton.org/recettes/recette_sand...</td>\n",
       "      <td>Sando au poulet</td>\n",
       "      <td>Plat principal</td>\n",
       "      <td>Couper le poulet en morceaux de 5/6cm.\\n\\nBatt...</td>\n",
       "    </tr>\n",
       "    <tr>\n",
       "      <th>70319</th>\n",
       "      <td>532213</td>\n",
       "      <td>https://www.marmiton.org/recettes/recette_grat...</td>\n",
       "      <td>Gratin pomme de terre et panais</td>\n",
       "      <td>Accompagnement</td>\n",
       "      <td>Éplucher les pommes de terre et le panais et l...</td>\n",
       "    </tr>\n",
       "  </tbody>\n",
       "</table>\n",
       "<p>70320 rows × 5 columns</p>\n",
       "</div>"
      ],
      "text/plain": [
       "       recipe_id                                         recipe_url  \\\n",
       "0          10534  https://www.marmiton.org/recettes/recette_le-c...   \n",
       "1          10531  https://www.marmiton.org/recettes/recette_esca...   \n",
       "2          10529  https://www.marmiton.org/recettes/recette_terr...   \n",
       "3          10530  https://www.marmiton.org/recettes/recette_lapi...   \n",
       "4          10528  https://www.marmiton.org/recettes/recette_truf...   \n",
       "...          ...                                                ...   \n",
       "70315     532440  https://www.marmiton.org/recettes/recette_ciga...   \n",
       "70316     532439  https://www.marmiton.org/recettes/recette_buch...   \n",
       "70317     532434  https://www.marmiton.org/recettes/recette_cook...   \n",
       "70318     532401  https://www.marmiton.org/recettes/recette_sand...   \n",
       "70319     532213  https://www.marmiton.org/recettes/recette_grat...   \n",
       "\n",
       "                                        recipe_title     recipe_type  \\\n",
       "0           Le crumble aux pommes du Chat qui Tousse         Dessert   \n",
       "1                    Escalopes lucullus à la cocotte  Plat principal   \n",
       "2                            Terrine de foie de porc  Plat principal   \n",
       "3                  Lapin au vin blanc (à la cocotte)  Plat principal   \n",
       "4                                Truffes en chocolat      Confiserie   \n",
       "...                                              ...             ...   \n",
       "70315                  Cigare au poulet et au chèvre  Plat principal   \n",
       "70316  Bûche de Noël au chocolat et crêpes dentelles         Dessert   \n",
       "70317       Cookies aux noix de pécan et au chocolat         Dessert   \n",
       "70318                                Sando au poulet  Plat principal   \n",
       "70319                Gratin pomme de terre et panais  Accompagnement   \n",
       "\n",
       "                                            recipe_steps  \n",
       "0      Préchauffer le four à 210°C (thermostat 7).\\n\\...  \n",
       "1      Coupez l'oignon en petits morceaux, faites rev...  \n",
       "2      Hacher (pas trop fin) le foie, le lard, les éc...  \n",
       "3      Faire revenir les échalotes et les lardons dan...  \n",
       "4      La veille : faire fondre le chocolat au bain-m...  \n",
       "...                                                  ...  \n",
       "70315  Dénerver et couper le poulet en fines lamelles...  \n",
       "70316  Faire fondre les chocolats au bain marie avec ...  \n",
       "70317  Pour le beurre de pécan : Faire fondre le beur...  \n",
       "70318  Couper le poulet en morceaux de 5/6cm.\\n\\nBatt...  \n",
       "70319  Éplucher les pommes de terre et le panais et l...  \n",
       "\n",
       "[70320 rows x 5 columns]"
      ]
     },
     "execution_count": 12,
     "metadata": {},
     "output_type": "execute_result"
    }
   ],
   "source": [
    "clean_recipe_df.replace(to_replace =r'(^|\\\\n) *([\\wéà])', value = r'\\g<2>', regex = True)"
   ]
  },
  {
   "cell_type": "code",
   "execution_count": 13,
   "id": "3e8a4435",
   "metadata": {
    "ExecuteTime": {
     "end_time": "2022-01-06T18:48:22.461790Z",
     "start_time": "2022-01-06T18:48:22.426151Z"
    }
   },
   "outputs": [
    {
     "data": {
      "text/html": [
       "<div>\n",
       "<style scoped>\n",
       "    .dataframe tbody tr th:only-of-type {\n",
       "        vertical-align: middle;\n",
       "    }\n",
       "\n",
       "    .dataframe tbody tr th {\n",
       "        vertical-align: top;\n",
       "    }\n",
       "\n",
       "    .dataframe thead th {\n",
       "        text-align: right;\n",
       "    }\n",
       "</style>\n",
       "<table border=\"1\" class=\"dataframe\">\n",
       "  <thead>\n",
       "    <tr style=\"text-align: right;\">\n",
       "      <th></th>\n",
       "      <th>recipe_id</th>\n",
       "      <th>recipe_url</th>\n",
       "      <th>recipe_title</th>\n",
       "      <th>recipe_type</th>\n",
       "      <th>recipe_steps</th>\n",
       "    </tr>\n",
       "  </thead>\n",
       "  <tbody>\n",
       "    <tr>\n",
       "      <th>0</th>\n",
       "      <td>10534</td>\n",
       "      <td>https://www.marmiton.org/recettes/recette_le-c...</td>\n",
       "      <td>Le crumble aux pommes du Chat qui Tousse</td>\n",
       "      <td>Dessert</td>\n",
       "      <td>Préchauffer le four à 210°C (thermostat 7). \\n...</td>\n",
       "    </tr>\n",
       "    <tr>\n",
       "      <th>1</th>\n",
       "      <td>10531</td>\n",
       "      <td>https://www.marmiton.org/recettes/recette_esca...</td>\n",
       "      <td>Escalopes lucullus à la cocotte</td>\n",
       "      <td>Plat principal</td>\n",
       "      <td>Coupez l'oignon en petits morceaux, faites rev...</td>\n",
       "    </tr>\n",
       "    <tr>\n",
       "      <th>2</th>\n",
       "      <td>10529</td>\n",
       "      <td>https://www.marmiton.org/recettes/recette_terr...</td>\n",
       "      <td>Terrine de foie de porc</td>\n",
       "      <td>Plat principal</td>\n",
       "      <td>- hacher (pas trop fin) le foie, le lard, les ...</td>\n",
       "    </tr>\n",
       "    <tr>\n",
       "      <th>3</th>\n",
       "      <td>10530</td>\n",
       "      <td>https://www.marmiton.org/recettes/recette_lapi...</td>\n",
       "      <td>Lapin au vin blanc (à la cocotte)</td>\n",
       "      <td>Plat principal</td>\n",
       "      <td>Faire revenir les échalotes et les lardons dan...</td>\n",
       "    </tr>\n",
       "    <tr>\n",
       "      <th>4</th>\n",
       "      <td>10528</td>\n",
       "      <td>https://www.marmiton.org/recettes/recette_truf...</td>\n",
       "      <td>Truffes en chocolat</td>\n",
       "      <td>Confiserie</td>\n",
       "      <td>La veille : faire fondre le chocolat au bain-m...</td>\n",
       "    </tr>\n",
       "    <tr>\n",
       "      <th>...</th>\n",
       "      <td>...</td>\n",
       "      <td>...</td>\n",
       "      <td>...</td>\n",
       "      <td>...</td>\n",
       "      <td>...</td>\n",
       "    </tr>\n",
       "    <tr>\n",
       "      <th>70597</th>\n",
       "      <td>532440</td>\n",
       "      <td>https://www.marmiton.org/recettes/recette_ciga...</td>\n",
       "      <td>Cigare au poulet et au chèvre</td>\n",
       "      <td>Plat principal</td>\n",
       "      <td>Dénerver et couper le poulet en fines lamelles...</td>\n",
       "    </tr>\n",
       "    <tr>\n",
       "      <th>70598</th>\n",
       "      <td>532439</td>\n",
       "      <td>https://www.marmiton.org/recettes/recette_buch...</td>\n",
       "      <td>Bûche de Noël au chocolat et crêpes dentelles</td>\n",
       "      <td>Dessert</td>\n",
       "      <td>Faire fondre les chocolats au bain marie avec ...</td>\n",
       "    </tr>\n",
       "    <tr>\n",
       "      <th>70599</th>\n",
       "      <td>532434</td>\n",
       "      <td>https://www.marmiton.org/recettes/recette_cook...</td>\n",
       "      <td>Cookies aux noix de pécan et au chocolat</td>\n",
       "      <td>Dessert</td>\n",
       "      <td>Pour le beurre de pécan : Faire fondre le beur...</td>\n",
       "    </tr>\n",
       "    <tr>\n",
       "      <th>70600</th>\n",
       "      <td>532401</td>\n",
       "      <td>https://www.marmiton.org/recettes/recette_sand...</td>\n",
       "      <td>Sando au poulet</td>\n",
       "      <td>Plat principal</td>\n",
       "      <td>Couper le poulet en morceaux de 5/6cm. \\n\\n Ba...</td>\n",
       "    </tr>\n",
       "    <tr>\n",
       "      <th>70601</th>\n",
       "      <td>532213</td>\n",
       "      <td>https://www.marmiton.org/recettes/recette_grat...</td>\n",
       "      <td>Gratin pomme de terre et panais</td>\n",
       "      <td>Accompagnement</td>\n",
       "      <td>Éplucher les pommes de terre et le panais et l...</td>\n",
       "    </tr>\n",
       "  </tbody>\n",
       "</table>\n",
       "<p>70585 rows × 5 columns</p>\n",
       "</div>"
      ],
      "text/plain": [
       "       recipe_id                                         recipe_url  \\\n",
       "0          10534  https://www.marmiton.org/recettes/recette_le-c...   \n",
       "1          10531  https://www.marmiton.org/recettes/recette_esca...   \n",
       "2          10529  https://www.marmiton.org/recettes/recette_terr...   \n",
       "3          10530  https://www.marmiton.org/recettes/recette_lapi...   \n",
       "4          10528  https://www.marmiton.org/recettes/recette_truf...   \n",
       "...          ...                                                ...   \n",
       "70597     532440  https://www.marmiton.org/recettes/recette_ciga...   \n",
       "70598     532439  https://www.marmiton.org/recettes/recette_buch...   \n",
       "70599     532434  https://www.marmiton.org/recettes/recette_cook...   \n",
       "70600     532401  https://www.marmiton.org/recettes/recette_sand...   \n",
       "70601     532213  https://www.marmiton.org/recettes/recette_grat...   \n",
       "\n",
       "                                        recipe_title     recipe_type  \\\n",
       "0           Le crumble aux pommes du Chat qui Tousse         Dessert   \n",
       "1                    Escalopes lucullus à la cocotte  Plat principal   \n",
       "2                            Terrine de foie de porc  Plat principal   \n",
       "3                  Lapin au vin blanc (à la cocotte)  Plat principal   \n",
       "4                                Truffes en chocolat      Confiserie   \n",
       "...                                              ...             ...   \n",
       "70597                  Cigare au poulet et au chèvre  Plat principal   \n",
       "70598  Bûche de Noël au chocolat et crêpes dentelles         Dessert   \n",
       "70599       Cookies aux noix de pécan et au chocolat         Dessert   \n",
       "70600                                Sando au poulet  Plat principal   \n",
       "70601                Gratin pomme de terre et panais  Accompagnement   \n",
       "\n",
       "                                            recipe_steps  \n",
       "0      Préchauffer le four à 210°C (thermostat 7). \\n...  \n",
       "1      Coupez l'oignon en petits morceaux, faites rev...  \n",
       "2      - hacher (pas trop fin) le foie, le lard, les ...  \n",
       "3      Faire revenir les échalotes et les lardons dan...  \n",
       "4      La veille : faire fondre le chocolat au bain-m...  \n",
       "...                                                  ...  \n",
       "70597  Dénerver et couper le poulet en fines lamelles...  \n",
       "70598  Faire fondre les chocolats au bain marie avec ...  \n",
       "70599  Pour le beurre de pécan : Faire fondre le beur...  \n",
       "70600  Couper le poulet en morceaux de 5/6cm. \\n\\n Ba...  \n",
       "70601  Éplucher les pommes de terre et le panais et l...  \n",
       "\n",
       "[70585 rows x 5 columns]"
      ]
     },
     "execution_count": 13,
     "metadata": {},
     "output_type": "execute_result"
    }
   ],
   "source": [
    "recipes_df"
   ]
  },
  {
   "cell_type": "code",
   "execution_count": 14,
   "id": "fe621380",
   "metadata": {
    "ExecuteTime": {
     "end_time": "2022-01-06T18:48:22.481610Z",
     "start_time": "2022-01-06T18:48:22.463499Z"
    }
   },
   "outputs": [],
   "source": [
    "def capitalize_steps(df):\n",
    "    \"\"\"return the recipes's DataFrame with capitalized steps\"\"\"\n",
    "\n",
    "    df.recipe_steps = df.recipe_steps.apply(lambda x : x.split(\"\\n\\n\"))\n",
    "    df.recipe_steps = df.recipe_steps.apply(capitalize_steps_loop)\n",
    "    print(list(df.recipe_steps))\n",
    "    df.recipe_steps = df.recipe_steps.apply(lambda x : x.split(\"\\n\\n\"))\n",
    "    # df.recipe_steps = df.recipe_steps.apply(lambda x : x.strip())\n",
    "    df.recipe_steps = df.recipe_steps.apply(dot_at_the_end_of_string)\n",
    "\n",
    "    return df\n",
    "\n",
    "def capitalize_steps_loop(steps_list):\n",
    "    return \"\\n\\n\".join([step.capitalize() for step in steps_list])\n",
    "\n",
    "def dot_at_the_end_of_string(steps_list):\n",
    "    modified_steps_list = []\n",
    "    for step in steps_list:\n",
    "        stepper = step.strip()\n",
    "        if stepper != '' :\n",
    "            if stepper[-1] in  ['.', '!', '?']:\n",
    "                modified_steps_list.append(stepper)\n",
    "            else :\n",
    "                modified_steps_list.append(stepper+'.')\n",
    "    return \"\\n\\n\".join(modified_steps_list)\n",
    "    #     \"\\n\\n\".join([step for step in modified_steps_list])\n",
    "    # [continue if step[-1] in ACCEPTED_END_OF_STRING_CHAR else  ]\n"
   ]
  },
  {
   "cell_type": "code",
   "execution_count": 15,
   "id": "872f3d25",
   "metadata": {
    "ExecuteTime": {
     "end_time": "2022-01-06T18:48:24.216325Z",
     "start_time": "2022-01-06T18:48:22.483835Z"
    },
    "scrolled": true
   },
   "outputs": [
    {
     "name": "stderr",
     "output_type": "stream",
     "text": [
      "IOPub data rate exceeded.\n",
      "The notebook server will temporarily stop sending output\n",
      "to the client in order to avoid crashing it.\n",
      "To change this limit, set the config variable\n",
      "`--NotebookApp.iopub_data_rate_limit`.\n",
      "\n",
      "Current values:\n",
      "NotebookApp.iopub_data_rate_limit=1000000.0 (bytes/sec)\n",
      "NotebookApp.rate_limit_window=3.0 (secs)\n",
      "\n"
     ]
    },
    {
     "data": {
      "text/plain": [
       "(70585, 5)"
      ]
     },
     "execution_count": 15,
     "metadata": {},
     "output_type": "execute_result"
    }
   ],
   "source": [
    "# ACCEPTED_END_OF_STRING_CHAR = ['.', '!', '?', ':']\n",
    "tester_df = capitalize_steps(recipes_df.copy())\n",
    "tester_df[tester_df.recipe_steps.apply(lambda x : x.endswith('?'))]\n",
    "tester_df.shape\n"
   ]
  },
  {
   "cell_type": "code",
   "execution_count": 16,
   "id": "dc5fe4fd",
   "metadata": {
    "ExecuteTime": {
     "end_time": "2022-01-06T18:48:24.236871Z",
     "start_time": "2022-01-06T18:48:24.218502Z"
    }
   },
   "outputs": [
    {
     "data": {
      "text/plain": [
       "70585"
      ]
     },
     "execution_count": 16,
     "metadata": {},
     "output_type": "execute_result"
    }
   ],
   "source": [
    "60881 + 9683 + 21"
   ]
  },
  {
   "cell_type": "code",
   "execution_count": 17,
   "id": "ea8919eb",
   "metadata": {
    "ExecuteTime": {
     "end_time": "2022-01-06T18:48:24.295882Z",
     "start_time": "2022-01-06T18:48:24.238755Z"
    },
    "scrolled": true
   },
   "outputs": [
    {
     "data": {
      "text/html": [
       "<div>\n",
       "<style scoped>\n",
       "    .dataframe tbody tr th:only-of-type {\n",
       "        vertical-align: middle;\n",
       "    }\n",
       "\n",
       "    .dataframe tbody tr th {\n",
       "        vertical-align: top;\n",
       "    }\n",
       "\n",
       "    .dataframe thead th {\n",
       "        text-align: right;\n",
       "    }\n",
       "</style>\n",
       "<table border=\"1\" class=\"dataframe\">\n",
       "  <thead>\n",
       "    <tr style=\"text-align: right;\">\n",
       "      <th></th>\n",
       "      <th>recipe_id</th>\n",
       "      <th>recipe_url</th>\n",
       "      <th>recipe_title</th>\n",
       "      <th>recipe_type</th>\n",
       "      <th>recipe_steps</th>\n",
       "    </tr>\n",
       "  </thead>\n",
       "  <tbody>\n",
       "    <tr>\n",
       "      <th>0</th>\n",
       "      <td>10534</td>\n",
       "      <td>https://www.marmiton.org/recettes/recette_le-c...</td>\n",
       "      <td>Le crumble aux pommes du Chat qui Tousse</td>\n",
       "      <td>Dessert</td>\n",
       "      <td>Préchauffer le four à 210°c (thermostat 7).\\n\\...</td>\n",
       "    </tr>\n",
       "    <tr>\n",
       "      <th>1</th>\n",
       "      <td>10531</td>\n",
       "      <td>https://www.marmiton.org/recettes/recette_esca...</td>\n",
       "      <td>Escalopes lucullus à la cocotte</td>\n",
       "      <td>Plat principal</td>\n",
       "      <td>Coupez l'oignon en petits morceaux, faites rev...</td>\n",
       "    </tr>\n",
       "    <tr>\n",
       "      <th>2</th>\n",
       "      <td>10529</td>\n",
       "      <td>https://www.marmiton.org/recettes/recette_terr...</td>\n",
       "      <td>Terrine de foie de porc</td>\n",
       "      <td>Plat principal</td>\n",
       "      <td>- hacher (pas trop fin) le foie, le lard, les ...</td>\n",
       "    </tr>\n",
       "    <tr>\n",
       "      <th>3</th>\n",
       "      <td>10530</td>\n",
       "      <td>https://www.marmiton.org/recettes/recette_lapi...</td>\n",
       "      <td>Lapin au vin blanc (à la cocotte)</td>\n",
       "      <td>Plat principal</td>\n",
       "      <td>Faire revenir les échalotes et les lardons dan...</td>\n",
       "    </tr>\n",
       "    <tr>\n",
       "      <th>4</th>\n",
       "      <td>10528</td>\n",
       "      <td>https://www.marmiton.org/recettes/recette_truf...</td>\n",
       "      <td>Truffes en chocolat</td>\n",
       "      <td>Confiserie</td>\n",
       "      <td>La veille : faire fondre le chocolat au bain-m...</td>\n",
       "    </tr>\n",
       "    <tr>\n",
       "      <th>...</th>\n",
       "      <td>...</td>\n",
       "      <td>...</td>\n",
       "      <td>...</td>\n",
       "      <td>...</td>\n",
       "      <td>...</td>\n",
       "    </tr>\n",
       "    <tr>\n",
       "      <th>70597</th>\n",
       "      <td>532440</td>\n",
       "      <td>https://www.marmiton.org/recettes/recette_ciga...</td>\n",
       "      <td>Cigare au poulet et au chèvre</td>\n",
       "      <td>Plat principal</td>\n",
       "      <td>Dénerver et couper le poulet en fines lamelles...</td>\n",
       "    </tr>\n",
       "    <tr>\n",
       "      <th>70598</th>\n",
       "      <td>532439</td>\n",
       "      <td>https://www.marmiton.org/recettes/recette_buch...</td>\n",
       "      <td>Bûche de Noël au chocolat et crêpes dentelles</td>\n",
       "      <td>Dessert</td>\n",
       "      <td>Faire fondre les chocolats au bain marie avec ...</td>\n",
       "    </tr>\n",
       "    <tr>\n",
       "      <th>70599</th>\n",
       "      <td>532434</td>\n",
       "      <td>https://www.marmiton.org/recettes/recette_cook...</td>\n",
       "      <td>Cookies aux noix de pécan et au chocolat</td>\n",
       "      <td>Dessert</td>\n",
       "      <td>Pour le beurre de pécan : faire fondre le beur...</td>\n",
       "    </tr>\n",
       "    <tr>\n",
       "      <th>70600</th>\n",
       "      <td>532401</td>\n",
       "      <td>https://www.marmiton.org/recettes/recette_sand...</td>\n",
       "      <td>Sando au poulet</td>\n",
       "      <td>Plat principal</td>\n",
       "      <td>Couper le poulet en morceaux de 5/6cm.\\n\\nbatt...</td>\n",
       "    </tr>\n",
       "    <tr>\n",
       "      <th>70601</th>\n",
       "      <td>532213</td>\n",
       "      <td>https://www.marmiton.org/recettes/recette_grat...</td>\n",
       "      <td>Gratin pomme de terre et panais</td>\n",
       "      <td>Accompagnement</td>\n",
       "      <td>Éplucher les pommes de terre et le panais et l...</td>\n",
       "    </tr>\n",
       "  </tbody>\n",
       "</table>\n",
       "<p>70585 rows × 5 columns</p>\n",
       "</div>"
      ],
      "text/plain": [
       "       recipe_id                                         recipe_url  \\\n",
       "0          10534  https://www.marmiton.org/recettes/recette_le-c...   \n",
       "1          10531  https://www.marmiton.org/recettes/recette_esca...   \n",
       "2          10529  https://www.marmiton.org/recettes/recette_terr...   \n",
       "3          10530  https://www.marmiton.org/recettes/recette_lapi...   \n",
       "4          10528  https://www.marmiton.org/recettes/recette_truf...   \n",
       "...          ...                                                ...   \n",
       "70597     532440  https://www.marmiton.org/recettes/recette_ciga...   \n",
       "70598     532439  https://www.marmiton.org/recettes/recette_buch...   \n",
       "70599     532434  https://www.marmiton.org/recettes/recette_cook...   \n",
       "70600     532401  https://www.marmiton.org/recettes/recette_sand...   \n",
       "70601     532213  https://www.marmiton.org/recettes/recette_grat...   \n",
       "\n",
       "                                        recipe_title     recipe_type  \\\n",
       "0           Le crumble aux pommes du Chat qui Tousse         Dessert   \n",
       "1                    Escalopes lucullus à la cocotte  Plat principal   \n",
       "2                            Terrine de foie de porc  Plat principal   \n",
       "3                  Lapin au vin blanc (à la cocotte)  Plat principal   \n",
       "4                                Truffes en chocolat      Confiserie   \n",
       "...                                              ...             ...   \n",
       "70597                  Cigare au poulet et au chèvre  Plat principal   \n",
       "70598  Bûche de Noël au chocolat et crêpes dentelles         Dessert   \n",
       "70599       Cookies aux noix de pécan et au chocolat         Dessert   \n",
       "70600                                Sando au poulet  Plat principal   \n",
       "70601                Gratin pomme de terre et panais  Accompagnement   \n",
       "\n",
       "                                            recipe_steps  \n",
       "0      Préchauffer le four à 210°c (thermostat 7).\\n\\...  \n",
       "1      Coupez l'oignon en petits morceaux, faites rev...  \n",
       "2      - hacher (pas trop fin) le foie, le lard, les ...  \n",
       "3      Faire revenir les échalotes et les lardons dan...  \n",
       "4      La veille : faire fondre le chocolat au bain-m...  \n",
       "...                                                  ...  \n",
       "70597  Dénerver et couper le poulet en fines lamelles...  \n",
       "70598  Faire fondre les chocolats au bain marie avec ...  \n",
       "70599  Pour le beurre de pécan : faire fondre le beur...  \n",
       "70600  Couper le poulet en morceaux de 5/6cm.\\n\\nbatt...  \n",
       "70601  Éplucher les pommes de terre et le panais et l...  \n",
       "\n",
       "[70585 rows x 5 columns]"
      ]
     },
     "execution_count": 17,
     "metadata": {},
     "output_type": "execute_result"
    }
   ],
   "source": [
    "tester_df"
   ]
  },
  {
   "cell_type": "code",
   "execution_count": 18,
   "id": "fdd255da",
   "metadata": {
    "ExecuteTime": {
     "end_time": "2022-01-06T18:48:25.635748Z",
     "start_time": "2022-01-06T18:48:24.297923Z"
    }
   },
   "outputs": [],
   "source": [
    "tester_df.to_csv('./data/clean_recipes.csv', index=False, header=True)"
   ]
  },
  {
   "cell_type": "code",
   "execution_count": 20,
   "id": "0128cd4e",
   "metadata": {
    "ExecuteTime": {
     "end_time": "2022-01-06T18:50:11.229992Z",
     "start_time": "2022-01-06T18:50:11.207848Z"
    }
   },
   "outputs": [],
   "source": [
    "# pd.read_csv('./clean_recip.csv')"
   ]
  },
  {
   "cell_type": "code",
   "execution_count": 40,
   "id": "b4e560d0",
   "metadata": {
    "ExecuteTime": {
     "end_time": "2022-01-06T18:59:13.400881Z",
     "start_time": "2022-01-06T18:59:13.305851Z"
    },
    "scrolled": false
   },
   "outputs": [
    {
     "data": {
      "text/plain": [
       "88"
      ]
     },
     "execution_count": 40,
     "metadata": {},
     "output_type": "execute_result"
    }
   ],
   "source": [
    "# list(clean_recipe_df.recipe_steps[clean_recipe_df.recipe_steps.apply(lambda x : x.find('1)')) != -1])\n",
    "clean_recipe_df.recipe_steps[clean_recipe_df.recipe_steps.apply(lambda x : x.find('1.5')) != -1].count()"
   ]
  },
  {
   "cell_type": "code",
   "execution_count": 50,
   "id": "8691081e",
   "metadata": {
    "ExecuteTime": {
     "end_time": "2022-01-06T19:01:23.024291Z",
     "start_time": "2022-01-06T19:01:22.970904Z"
    }
   },
   "outputs": [
    {
     "data": {
      "text/html": [
       "<div>\n",
       "<style scoped>\n",
       "    .dataframe tbody tr th:only-of-type {\n",
       "        vertical-align: middle;\n",
       "    }\n",
       "\n",
       "    .dataframe tbody tr th {\n",
       "        vertical-align: top;\n",
       "    }\n",
       "\n",
       "    .dataframe thead th {\n",
       "        text-align: right;\n",
       "    }\n",
       "</style>\n",
       "<table border=\"1\" class=\"dataframe\">\n",
       "  <thead>\n",
       "    <tr style=\"text-align: right;\">\n",
       "      <th></th>\n",
       "      <th>recipe_id</th>\n",
       "      <th>recipe_url</th>\n",
       "      <th>recipe_title</th>\n",
       "      <th>recipe_type</th>\n",
       "      <th>recipe_steps</th>\n",
       "    </tr>\n",
       "  </thead>\n",
       "  <tbody>\n",
       "    <tr>\n",
       "      <th>49355</th>\n",
       "      <td>167673</td>\n",
       "      <td>https://www.marmiton.org/recettes/recette_cord...</td>\n",
       "      <td>Cordon bleu express</td>\n",
       "      <td>Plat principal</td>\n",
       "      <td>1.Farcir les tranches de jambon avec le gruyèr...</td>\n",
       "    </tr>\n",
       "    <tr>\n",
       "      <th>49358</th>\n",
       "      <td>167668</td>\n",
       "      <td>https://www.marmiton.org/recettes/recette_riso...</td>\n",
       "      <td>Risotto au chocolat</td>\n",
       "      <td>Risotto au chocolat</td>\n",
       "      <td>1.Faire fondre le beurre dans une sauteuse et ...</td>\n",
       "    </tr>\n",
       "    <tr>\n",
       "      <th>49566</th>\n",
       "      <td>168141</td>\n",
       "      <td>https://www.marmiton.org/recettes/recette_alou...</td>\n",
       "      <td>Alouettes sans tête braisées au four</td>\n",
       "      <td>Alouettes sans tête braisées au four</td>\n",
       "      <td>1. Pelez les gousses d'ail, coupez-les en lame...</td>\n",
       "    </tr>\n",
       "    <tr>\n",
       "      <th>49573</th>\n",
       "      <td>168091</td>\n",
       "      <td>https://www.marmiton.org/recettes/recette_lapi...</td>\n",
       "      <td>Lapin au cidre à ma façon</td>\n",
       "      <td>Plat principal</td>\n",
       "      <td>1. Découper le lapin en morceaux et réserver l...</td>\n",
       "    </tr>\n",
       "    <tr>\n",
       "      <th>49621</th>\n",
       "      <td>168275</td>\n",
       "      <td>https://www.marmiton.org/recettes/recette_cake...</td>\n",
       "      <td>Cake au roquefort et aux pommes</td>\n",
       "      <td>Apéritif ou buffet</td>\n",
       "      <td>1. Epluchez et coupez votre pomme en petits dé...</td>\n",
       "    </tr>\n",
       "    <tr>\n",
       "      <th>49680</th>\n",
       "      <td>168387</td>\n",
       "      <td>https://www.marmiton.org/recettes/recette_gate...</td>\n",
       "      <td>Gâteau à l'orange en 3 étapes</td>\n",
       "      <td>Dessert</td>\n",
       "      <td>1. Mettre tous les ingrédients dans un saladie...</td>\n",
       "    </tr>\n",
       "    <tr>\n",
       "      <th>49793</th>\n",
       "      <td>168654</td>\n",
       "      <td>https://www.marmiton.org/recettes/recette_maca...</td>\n",
       "      <td>Macaron aux oeufs en chocolat</td>\n",
       "      <td>Dessert</td>\n",
       "      <td>1. Mixer le sucre glace et la poudre d'amandes...</td>\n",
       "    </tr>\n",
       "    <tr>\n",
       "      <th>49804</th>\n",
       "      <td>168640</td>\n",
       "      <td>https://www.marmiton.org/recettes/recette_boul...</td>\n",
       "      <td>Boulettes de porc au choux chinois</td>\n",
       "      <td>Plat principal</td>\n",
       "      <td>1.Mélangez le porc avec l'oignon nouveau,le gi...</td>\n",
       "    </tr>\n",
       "    <tr>\n",
       "      <th>49859</th>\n",
       "      <td>168780</td>\n",
       "      <td>https://www.marmiton.org/recettes/recette_file...</td>\n",
       "      <td>Filets de rouget gastronomiques aux asperges</td>\n",
       "      <td>Plat principal</td>\n",
       "      <td>1. Laver les pommes de terre et rincer les asp...</td>\n",
       "    </tr>\n",
       "    <tr>\n",
       "      <th>49875</th>\n",
       "      <td>168897</td>\n",
       "      <td>https://www.marmiton.org/recettes/recette_boul...</td>\n",
       "      <td>Boulettes d'agneau à la sauce tomate</td>\n",
       "      <td>Plat principal</td>\n",
       "      <td>1.Epluchez puis hachez l'oignon et le persil g...</td>\n",
       "    </tr>\n",
       "    <tr>\n",
       "      <th>50807</th>\n",
       "      <td>171904</td>\n",
       "      <td>https://www.marmiton.org/recettes/recette_tart...</td>\n",
       "      <td>Tarte poire et pain d'épice</td>\n",
       "      <td>Dessert</td>\n",
       "      <td>1. Foncez un moule à tarte (de 26 cm de diamèt...</td>\n",
       "    </tr>\n",
       "    <tr>\n",
       "      <th>55129</th>\n",
       "      <td>225065</td>\n",
       "      <td>https://www.marmiton.org/recettes/recette_coeu...</td>\n",
       "      <td>Cœur de filet de loup de mer (bar) au four</td>\n",
       "      <td>Plat principal</td>\n",
       "      <td>1. Faire revenir les oignons dans l’huile de c...</td>\n",
       "    </tr>\n",
       "    <tr>\n",
       "      <th>55647</th>\n",
       "      <td>227883</td>\n",
       "      <td>https://www.marmiton.org/recettes/recette_tira...</td>\n",
       "      <td>tiramisu banana split</td>\n",
       "      <td>Dessert</td>\n",
       "      <td>1. Faites fondre le chocolat au bain-marie, un...</td>\n",
       "    </tr>\n",
       "    <tr>\n",
       "      <th>56156</th>\n",
       "      <td>229141</td>\n",
       "      <td>https://www.marmiton.org/recettes/recette_the-...</td>\n",
       "      <td>The best glace vanille façon iceberg</td>\n",
       "      <td>Dessert</td>\n",
       "      <td>1. Dans un premier temps, préparons l'île flot...</td>\n",
       "    </tr>\n",
       "    <tr>\n",
       "      <th>57790</th>\n",
       "      <td>233139</td>\n",
       "      <td>https://www.marmiton.org/recettes/recette_curr...</td>\n",
       "      <td>Curry de crevettes au concombre</td>\n",
       "      <td>Plat principal</td>\n",
       "      <td>1. Faites dégeler les crevettes selon les indi...</td>\n",
       "    </tr>\n",
       "    <tr>\n",
       "      <th>58267</th>\n",
       "      <td>304618</td>\n",
       "      <td>https://www.marmiton.org/recettes/recette_gate...</td>\n",
       "      <td>Gateau au chocolat glaçage au Mars</td>\n",
       "      <td>Gateau au chocolat glaçage au mars</td>\n",
       "      <td>1. Préchauffez votre four à 180°C (thermostat ...</td>\n",
       "    </tr>\n",
       "    <tr>\n",
       "      <th>58586</th>\n",
       "      <td>305571</td>\n",
       "      <td>https://www.marmiton.org/recettes/recette_riz-...</td>\n",
       "      <td>Riz poulet courgettes poivrons tomates séchées</td>\n",
       "      <td>Plat principal</td>\n",
       "      <td>1. couper tous les ingrédients.\\n\\n2. Dans une...</td>\n",
       "    </tr>\n",
       "    <tr>\n",
       "      <th>58676</th>\n",
       "      <td>307643</td>\n",
       "      <td>https://www.marmiton.org/recettes/recette_tagl...</td>\n",
       "      <td>Tagliatelles aux légumes, bacon et parmesan à ...</td>\n",
       "      <td>Plat principal</td>\n",
       "      <td>1. Émincer votre oignon.\\n\\n2. Découper en pêl...</td>\n",
       "    </tr>\n",
       "    <tr>\n",
       "      <th>58690</th>\n",
       "      <td>307631</td>\n",
       "      <td>https://www.marmiton.org/recettes/recette_pate...</td>\n",
       "      <td>Pâte à Pâtes à la Bibi's style</td>\n",
       "      <td>Accompagnement</td>\n",
       "      <td>1. Dans un saladier, disposer la farine en vol...</td>\n",
       "    </tr>\n",
       "    <tr>\n",
       "      <th>60961</th>\n",
       "      <td>314524</td>\n",
       "      <td>https://www.marmiton.org/recettes/recette_bort...</td>\n",
       "      <td>Bortsch de mon amie russe Tania</td>\n",
       "      <td>Bortsch de mon amie russe tania</td>\n",
       "      <td>1. Préparer le bouillon :\\n\\nDébiter la viande...</td>\n",
       "    </tr>\n",
       "    <tr>\n",
       "      <th>62062</th>\n",
       "      <td>323713</td>\n",
       "      <td>https://www.marmiton.org/recettes/recette_veau...</td>\n",
       "      <td>Veau mijoté au vin blanc et à la tomate</td>\n",
       "      <td>Veau mijoté au vin blanc et à la tomate</td>\n",
       "      <td>1.Si vous n’avez pas de tomate pelé, il vous f...</td>\n",
       "    </tr>\n",
       "    <tr>\n",
       "      <th>62585</th>\n",
       "      <td>328001</td>\n",
       "      <td>https://www.marmiton.org/recettes/recette_file...</td>\n",
       "      <td>Filet mignon rapide champignons purée de patat...</td>\n",
       "      <td>Accompagnement</td>\n",
       "      <td>1. Purée de patate douce.\\n\\nÉplucher et coupe...</td>\n",
       "    </tr>\n",
       "    <tr>\n",
       "      <th>63884</th>\n",
       "      <td>336142</td>\n",
       "      <td>https://www.marmiton.org/recettes/recette_crep...</td>\n",
       "      <td>Crépinettes à la chypriote</td>\n",
       "      <td>Crépinettes à la chypriote</td>\n",
       "      <td>1. Lavez bien la crépine de porc.\\n\\n2. Mélang...</td>\n",
       "    </tr>\n",
       "    <tr>\n",
       "      <th>63972</th>\n",
       "      <td>336294</td>\n",
       "      <td>https://www.marmiton.org/recettes/recette_terr...</td>\n",
       "      <td>Terrine de Crabe et d' Avocat</td>\n",
       "      <td>Plat principal</td>\n",
       "      <td>1. Crème d'avocat.\\n\\nPeler les avocats et les...</td>\n",
       "    </tr>\n",
       "    <tr>\n",
       "      <th>63988</th>\n",
       "      <td>336274</td>\n",
       "      <td>https://www.marmiton.org/recettes/recette_moel...</td>\n",
       "      <td>Moelleux chocolat-noisette sans gluten</td>\n",
       "      <td>Dessert</td>\n",
       "      <td>1. Préchauffer le four à 150°C.\\n\\n2. Séparer ...</td>\n",
       "    </tr>\n",
       "    <tr>\n",
       "      <th>63992</th>\n",
       "      <td>336258</td>\n",
       "      <td>https://www.marmiton.org/recettes/recette_gate...</td>\n",
       "      <td>Gâteau de pâtes</td>\n",
       "      <td>Plat principal</td>\n",
       "      <td>1.Préchauffer le four à 200°C (th.5).\\n\\n2.Dan...</td>\n",
       "    </tr>\n",
       "    <tr>\n",
       "      <th>63993</th>\n",
       "      <td>336253</td>\n",
       "      <td>https://www.marmiton.org/recettes/recette_quic...</td>\n",
       "      <td>Quiche thon tomate</td>\n",
       "      <td>Pizza, tarte, quiche</td>\n",
       "      <td>1. Préchauffer le four à 200°C.\\n\\n2. Etaler l...</td>\n",
       "    </tr>\n",
       "    <tr>\n",
       "      <th>68769</th>\n",
       "      <td>391422</td>\n",
       "      <td>https://www.marmiton.org/recettes/recette_omel...</td>\n",
       "      <td>Omelette norvégienne comme une tarte au citron</td>\n",
       "      <td>Dessert</td>\n",
       "      <td>1. Crème pâtissière au citron.\\n\\nRâpez l’écor...</td>\n",
       "    </tr>\n",
       "    <tr>\n",
       "      <th>68828</th>\n",
       "      <td>391423</td>\n",
       "      <td>https://www.marmiton.org/recettes/recette_chin...</td>\n",
       "      <td>Chinois (sans beurre)</td>\n",
       "      <td>Dessert</td>\n",
       "      <td>1. Crème pâtissière.\\n\\nFouettez les jaunes d'...</td>\n",
       "    </tr>\n",
       "    <tr>\n",
       "      <th>70160</th>\n",
       "      <td>531176</td>\n",
       "      <td>https://www.marmiton.org/recettes/recette_la-t...</td>\n",
       "      <td>Tarte rustique courgettes et burrata crémeuse ...</td>\n",
       "      <td>Pizza, tarte, quiche</td>\n",
       "      <td>1.\\tPréparez la pâte. Dans un saladier ou le b...</td>\n",
       "    </tr>\n",
       "  </tbody>\n",
       "</table>\n",
       "</div>"
      ],
      "text/plain": [
       "       recipe_id                                         recipe_url  \\\n",
       "49355     167673  https://www.marmiton.org/recettes/recette_cord...   \n",
       "49358     167668  https://www.marmiton.org/recettes/recette_riso...   \n",
       "49566     168141  https://www.marmiton.org/recettes/recette_alou...   \n",
       "49573     168091  https://www.marmiton.org/recettes/recette_lapi...   \n",
       "49621     168275  https://www.marmiton.org/recettes/recette_cake...   \n",
       "49680     168387  https://www.marmiton.org/recettes/recette_gate...   \n",
       "49793     168654  https://www.marmiton.org/recettes/recette_maca...   \n",
       "49804     168640  https://www.marmiton.org/recettes/recette_boul...   \n",
       "49859     168780  https://www.marmiton.org/recettes/recette_file...   \n",
       "49875     168897  https://www.marmiton.org/recettes/recette_boul...   \n",
       "50807     171904  https://www.marmiton.org/recettes/recette_tart...   \n",
       "55129     225065  https://www.marmiton.org/recettes/recette_coeu...   \n",
       "55647     227883  https://www.marmiton.org/recettes/recette_tira...   \n",
       "56156     229141  https://www.marmiton.org/recettes/recette_the-...   \n",
       "57790     233139  https://www.marmiton.org/recettes/recette_curr...   \n",
       "58267     304618  https://www.marmiton.org/recettes/recette_gate...   \n",
       "58586     305571  https://www.marmiton.org/recettes/recette_riz-...   \n",
       "58676     307643  https://www.marmiton.org/recettes/recette_tagl...   \n",
       "58690     307631  https://www.marmiton.org/recettes/recette_pate...   \n",
       "60961     314524  https://www.marmiton.org/recettes/recette_bort...   \n",
       "62062     323713  https://www.marmiton.org/recettes/recette_veau...   \n",
       "62585     328001  https://www.marmiton.org/recettes/recette_file...   \n",
       "63884     336142  https://www.marmiton.org/recettes/recette_crep...   \n",
       "63972     336294  https://www.marmiton.org/recettes/recette_terr...   \n",
       "63988     336274  https://www.marmiton.org/recettes/recette_moel...   \n",
       "63992     336258  https://www.marmiton.org/recettes/recette_gate...   \n",
       "63993     336253  https://www.marmiton.org/recettes/recette_quic...   \n",
       "68769     391422  https://www.marmiton.org/recettes/recette_omel...   \n",
       "68828     391423  https://www.marmiton.org/recettes/recette_chin...   \n",
       "70160     531176  https://www.marmiton.org/recettes/recette_la-t...   \n",
       "\n",
       "                                            recipe_title  \\\n",
       "49355                                Cordon bleu express   \n",
       "49358                                Risotto au chocolat   \n",
       "49566               Alouettes sans tête braisées au four   \n",
       "49573                          Lapin au cidre à ma façon   \n",
       "49621                    Cake au roquefort et aux pommes   \n",
       "49680                      Gâteau à l'orange en 3 étapes   \n",
       "49793                      Macaron aux oeufs en chocolat   \n",
       "49804                 Boulettes de porc au choux chinois   \n",
       "49859       Filets de rouget gastronomiques aux asperges   \n",
       "49875               Boulettes d'agneau à la sauce tomate   \n",
       "50807                        Tarte poire et pain d'épice   \n",
       "55129         Cœur de filet de loup de mer (bar) au four   \n",
       "55647                              tiramisu banana split   \n",
       "56156               The best glace vanille façon iceberg   \n",
       "57790                    Curry de crevettes au concombre   \n",
       "58267                 Gateau au chocolat glaçage au Mars   \n",
       "58586     Riz poulet courgettes poivrons tomates séchées   \n",
       "58676  Tagliatelles aux légumes, bacon et parmesan à ...   \n",
       "58690                     Pâte à Pâtes à la Bibi's style   \n",
       "60961                    Bortsch de mon amie russe Tania   \n",
       "62062            Veau mijoté au vin blanc et à la tomate   \n",
       "62585  Filet mignon rapide champignons purée de patat...   \n",
       "63884                         Crépinettes à la chypriote   \n",
       "63972                      Terrine de Crabe et d' Avocat   \n",
       "63988             Moelleux chocolat-noisette sans gluten   \n",
       "63992                                    Gâteau de pâtes   \n",
       "63993                                 Quiche thon tomate   \n",
       "68769     Omelette norvégienne comme une tarte au citron   \n",
       "68828                              Chinois (sans beurre)   \n",
       "70160  Tarte rustique courgettes et burrata crémeuse ...   \n",
       "\n",
       "                                   recipe_type  \\\n",
       "49355                           Plat principal   \n",
       "49358                      Risotto au chocolat   \n",
       "49566     Alouettes sans tête braisées au four   \n",
       "49573                           Plat principal   \n",
       "49621                       Apéritif ou buffet   \n",
       "49680                                  Dessert   \n",
       "49793                                  Dessert   \n",
       "49804                           Plat principal   \n",
       "49859                           Plat principal   \n",
       "49875                           Plat principal   \n",
       "50807                                  Dessert   \n",
       "55129                           Plat principal   \n",
       "55647                                  Dessert   \n",
       "56156                                  Dessert   \n",
       "57790                           Plat principal   \n",
       "58267       Gateau au chocolat glaçage au mars   \n",
       "58586                           Plat principal   \n",
       "58676                           Plat principal   \n",
       "58690                           Accompagnement   \n",
       "60961          Bortsch de mon amie russe tania   \n",
       "62062  Veau mijoté au vin blanc et à la tomate   \n",
       "62585                           Accompagnement   \n",
       "63884               Crépinettes à la chypriote   \n",
       "63972                           Plat principal   \n",
       "63988                                  Dessert   \n",
       "63992                           Plat principal   \n",
       "63993                     Pizza, tarte, quiche   \n",
       "68769                                  Dessert   \n",
       "68828                                  Dessert   \n",
       "70160                     Pizza, tarte, quiche   \n",
       "\n",
       "                                            recipe_steps  \n",
       "49355  1.Farcir les tranches de jambon avec le gruyèr...  \n",
       "49358  1.Faire fondre le beurre dans une sauteuse et ...  \n",
       "49566  1. Pelez les gousses d'ail, coupez-les en lame...  \n",
       "49573  1. Découper le lapin en morceaux et réserver l...  \n",
       "49621  1. Epluchez et coupez votre pomme en petits dé...  \n",
       "49680  1. Mettre tous les ingrédients dans un saladie...  \n",
       "49793  1. Mixer le sucre glace et la poudre d'amandes...  \n",
       "49804  1.Mélangez le porc avec l'oignon nouveau,le gi...  \n",
       "49859  1. Laver les pommes de terre et rincer les asp...  \n",
       "49875  1.Epluchez puis hachez l'oignon et le persil g...  \n",
       "50807  1. Foncez un moule à tarte (de 26 cm de diamèt...  \n",
       "55129  1. Faire revenir les oignons dans l’huile de c...  \n",
       "55647  1. Faites fondre le chocolat au bain-marie, un...  \n",
       "56156  1. Dans un premier temps, préparons l'île flot...  \n",
       "57790  1. Faites dégeler les crevettes selon les indi...  \n",
       "58267  1. Préchauffez votre four à 180°C (thermostat ...  \n",
       "58586  1. couper tous les ingrédients.\\n\\n2. Dans une...  \n",
       "58676  1. Émincer votre oignon.\\n\\n2. Découper en pêl...  \n",
       "58690  1. Dans un saladier, disposer la farine en vol...  \n",
       "60961  1. Préparer le bouillon :\\n\\nDébiter la viande...  \n",
       "62062  1.Si vous n’avez pas de tomate pelé, il vous f...  \n",
       "62585  1. Purée de patate douce.\\n\\nÉplucher et coupe...  \n",
       "63884  1. Lavez bien la crépine de porc.\\n\\n2. Mélang...  \n",
       "63972  1. Crème d'avocat.\\n\\nPeler les avocats et les...  \n",
       "63988  1. Préchauffer le four à 150°C.\\n\\n2. Séparer ...  \n",
       "63992  1.Préchauffer le four à 200°C (th.5).\\n\\n2.Dan...  \n",
       "63993  1. Préchauffer le four à 200°C.\\n\\n2. Etaler l...  \n",
       "68769  1. Crème pâtissière au citron.\\n\\nRâpez l’écor...  \n",
       "68828  1. Crème pâtissière.\\n\\nFouettez les jaunes d'...  \n",
       "70160  1.\\tPréparez la pâte. Dans un saladier ou le b...  "
      ]
     },
     "execution_count": 50,
     "metadata": {},
     "output_type": "execute_result"
    }
   ],
   "source": [
    "clean_recipe_df[clean_recipe_df.recipe_steps.apply(lambda x : x.startswith('1.'))].tail(30)"
   ]
  }
 ],
 "metadata": {
  "kernelspec": {
   "display_name": "Python 3 (ipykernel)",
   "language": "python",
   "name": "python3"
  },
  "language_info": {
   "codemirror_mode": {
    "name": "ipython",
    "version": 3
   },
   "file_extension": ".py",
   "mimetype": "text/x-python",
   "name": "python",
   "nbconvert_exporter": "python",
   "pygments_lexer": "ipython3",
   "version": "3.8.12"
  },
  "toc": {
   "base_numbering": 1,
   "nav_menu": {},
   "number_sections": true,
   "sideBar": true,
   "skip_h1_title": false,
   "title_cell": "Table of Contents",
   "title_sidebar": "Contents",
   "toc_cell": false,
   "toc_position": {},
   "toc_section_display": true,
   "toc_window_display": false
  }
 },
 "nbformat": 4,
 "nbformat_minor": 5
}
