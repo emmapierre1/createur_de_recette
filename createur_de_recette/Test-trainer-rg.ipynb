{
 "cells": [
  {
   "cell_type": "code",
   "execution_count": 4,
   "id": "89aa50da",
   "metadata": {
    "ExecuteTime": {
     "end_time": "2022-01-06T16:01:59.655051Z",
     "start_time": "2022-01-06T16:01:57.686627Z"
    }
   },
   "outputs": [],
   "source": [
    "from trainer import Trainer"
   ]
  },
  {
   "cell_type": "code",
   "execution_count": 5,
   "id": "a224b310",
   "metadata": {
    "ExecuteTime": {
     "end_time": "2022-01-06T16:01:59.687884Z",
     "start_time": "2022-01-06T16:01:59.685892Z"
    }
   },
   "outputs": [],
   "source": [
    "trainer=Trainer()"
   ]
  },
  {
   "cell_type": "code",
   "execution_count": 3,
   "id": "0daf8b44",
   "metadata": {
    "ExecuteTime": {
     "end_time": "2022-01-06T15:47:38.107640Z",
     "start_time": "2022-01-06T15:47:37.390615Z"
    }
   },
   "outputs": [
    {
     "name": "stdout",
     "output_type": "stream",
     "text": [
      "Loading data\n"
     ]
    }
   ],
   "source": [
    "trainer.load_data()"
   ]
  },
  {
   "cell_type": "code",
   "execution_count": 4,
   "id": "c3a1ca37",
   "metadata": {
    "ExecuteTime": {
     "end_time": "2022-01-06T15:47:39.660662Z",
     "start_time": "2022-01-06T15:47:39.657516Z"
    }
   },
   "outputs": [],
   "source": [
    "#trainer.tokenize()"
   ]
  },
  {
   "cell_type": "code",
   "execution_count": 5,
   "id": "e53cc088",
   "metadata": {
    "ExecuteTime": {
     "end_time": "2022-01-06T15:47:41.284252Z",
     "start_time": "2022-01-06T15:47:41.280858Z"
    }
   },
   "outputs": [],
   "source": [
    "import tensorflow as tf"
   ]
  },
  {
   "cell_type": "code",
   "execution_count": 6,
   "id": "f36b4a6b",
   "metadata": {
    "ExecuteTime": {
     "end_time": "2022-01-06T15:47:42.373386Z",
     "start_time": "2022-01-06T15:47:42.368714Z"
    }
   },
   "outputs": [],
   "source": [
    "tokenizer=tf.keras.preprocessing.text.Tokenizer(char_level=True,\n",
    "                filters='',\n",
    "                lower=False,\n",
    "                split=''\n",
    "            )\n"
   ]
  },
  {
   "cell_type": "code",
   "execution_count": 7,
   "id": "fd03aa1b",
   "metadata": {
    "ExecuteTime": {
     "end_time": "2022-01-06T15:47:46.568044Z",
     "start_time": "2022-01-06T15:47:46.564627Z"
    }
   },
   "outputs": [],
   "source": [
    "STOP_SIGN = '␣'          # Used for padding"
   ]
  },
  {
   "cell_type": "code",
   "execution_count": 8,
   "id": "d15682c7",
   "metadata": {
    "ExecuteTime": {
     "end_time": "2022-01-06T15:47:47.831085Z",
     "start_time": "2022-01-06T15:47:47.813367Z"
    }
   },
   "outputs": [
    {
     "data": {
      "text/plain": [
       "'␣'"
      ]
     },
     "execution_count": 8,
     "metadata": {},
     "output_type": "execute_result"
    }
   ],
   "source": [
    "STOP_SIGN"
   ]
  },
  {
   "cell_type": "code",
   "execution_count": 9,
   "id": "821f1892",
   "metadata": {
    "ExecuteTime": {
     "end_time": "2022-01-06T15:47:49.581150Z",
     "start_time": "2022-01-06T15:47:49.577203Z"
    }
   },
   "outputs": [],
   "source": [
    "tokenizer.fit_on_texts([STOP_SIGN])\n"
   ]
  },
  {
   "cell_type": "code",
   "execution_count": 12,
   "id": "99311e15",
   "metadata": {
    "ExecuteTime": {
     "end_time": "2022-01-06T15:50:17.796812Z",
     "start_time": "2022-01-06T15:50:17.791826Z"
    }
   },
   "outputs": [],
   "source": [
    "import pandas as pd"
   ]
  },
  {
   "cell_type": "code",
   "execution_count": 14,
   "id": "b02142ee",
   "metadata": {
    "ExecuteTime": {
     "end_time": "2022-01-06T15:50:59.987781Z",
     "start_time": "2022-01-06T15:50:59.978705Z"
    }
   },
   "outputs": [],
   "source": [
    "BUCKET_NAME = \"wagon-data-779-createur_de_recette\"\n",
    "BUCKET_DATA_PATH=\"data/train_data.csv\"\n",
    "MODEL_VERSION = 'v1'\n",
    "STORAGE_LOCATION = 'models/'\n",
    "\n",
    "CHECKPOINT_DIR = 'checkpoints'\n",
    "TOKENIZER_FILE = 'data/tokenizer.pickle'\n",
    "N_ROWS = 100             # Number of rows. None for the full dataset\n",
    "STOP_SIGN = '␣'          # Used for padding\n",
    "MAX_RECIPE_LENGTH = 1000 # For padding\n",
    "EMBEDDING_DIM = 256\n",
    "RNN_UNITS = 1024\n",
    "BATCH_SIZE = 64\n",
    "SHUFFLE_BUFFER_SIZE = 1000\n",
    "EPOCHS = 500\n",
    "INITIAL_EPOCH = 1\n",
    "STEPS_PER_EPOCH = 1500"
   ]
  },
  {
   "cell_type": "code",
   "execution_count": 17,
   "id": "dcaf9aae",
   "metadata": {
    "ExecuteTime": {
     "end_time": "2022-01-06T15:52:01.072360Z",
     "start_time": "2022-01-06T15:52:01.067690Z"
    }
   },
   "outputs": [],
   "source": [
    "import tensorflow as tf\n",
    "import numpy as np\n",
    "import pandas as pd\n",
    "import pickle\n",
    "import joblib\n",
    "from google.cloud import storage\n",
    "\n",
    "import os\n",
    "from sys import argv"
   ]
  },
  {
   "cell_type": "code",
   "execution_count": 24,
   "id": "43390b24",
   "metadata": {
    "ExecuteTime": {
     "end_time": "2022-01-06T15:58:16.288308Z",
     "start_time": "2022-01-06T15:58:16.284986Z"
    }
   },
   "outputs": [],
   "source": [
    "prefix = \"\"\n"
   ]
  },
  {
   "cell_type": "code",
   "execution_count": 25,
   "id": "84fea96d",
   "metadata": {
    "ExecuteTime": {
     "end_time": "2022-01-06T15:58:17.128506Z",
     "start_time": "2022-01-06T15:58:16.957569Z"
    }
   },
   "outputs": [
    {
     "name": "stdout",
     "output_type": "stream",
     "text": [
      "\u001b[01;34m.\u001b[00m\r\n",
      "├── Test-trainer-rg.ipynb\r\n",
      "├── __init__.py\r\n",
      "├── \u001b[01;34m__pycache__\u001b[00m\r\n",
      "│   └── trainer.cpython-38.pyc\r\n",
      "├── \u001b[01;34mdata\u001b[00m\r\n",
      "│   ├── ingredients.csv\r\n",
      "│   ├── ingredients.csv:Zone.Identifier\r\n",
      "│   ├── recipes.csv\r\n",
      "│   ├── recipes.csv:Zone.Identifier\r\n",
      "│   └── train_data.csv\r\n",
      "├── data.py\r\n",
      "├── params.py\r\n",
      "├── test.py\r\n",
      "├── trainer.py\r\n",
      "└── utils.py\r\n",
      "\r\n",
      "2 directories, 13 files\r\n"
     ]
    }
   ],
   "source": [
    "!tree"
   ]
  },
  {
   "cell_type": "code",
   "execution_count": 26,
   "id": "618cc6df",
   "metadata": {
    "ExecuteTime": {
     "end_time": "2022-01-06T15:58:21.295252Z",
     "start_time": "2022-01-06T15:58:21.288481Z"
    }
   },
   "outputs": [
    {
     "data": {
      "text/plain": [
       "''"
      ]
     },
     "execution_count": 26,
     "metadata": {},
     "output_type": "execute_result"
    }
   ],
   "source": [
    "prefix"
   ]
  },
  {
   "cell_type": "code",
   "execution_count": 27,
   "id": "5ad92ce8",
   "metadata": {
    "ExecuteTime": {
     "end_time": "2022-01-06T15:58:26.001294Z",
     "start_time": "2022-01-06T15:58:25.288574Z"
    }
   },
   "outputs": [],
   "source": [
    "dataset_filtered = pd.read_csv(prefix + \"data/train_data.csv\", header=None, nrows=None)[0]\n"
   ]
  },
  {
   "cell_type": "code",
   "execution_count": 28,
   "id": "d679f117",
   "metadata": {
    "ExecuteTime": {
     "end_time": "2022-01-06T15:58:39.164087Z",
     "start_time": "2022-01-06T15:58:30.004339Z"
    }
   },
   "outputs": [],
   "source": [
    "tokenizer.fit_on_texts(dataset_filtered)\n"
   ]
  },
  {
   "cell_type": "code",
   "execution_count": null,
   "id": "3a05343b",
   "metadata": {
    "ExecuteTime": {
     "start_time": "2022-01-06T16:00:03.820Z"
    }
   },
   "outputs": [
    {
     "name": "stdout",
     "output_type": "stream",
     "text": [
      "Tokenizing\n",
      "Create a new tokenizer\n"
     ]
    }
   ],
   "source": [
    "trainer.tokenize()"
   ]
  },
  {
   "cell_type": "markdown",
   "id": "a22f749a",
   "metadata": {},
   "source": [
    "# Direct"
   ]
  },
  {
   "cell_type": "code",
   "execution_count": null,
   "id": "adf3da06",
   "metadata": {},
   "outputs": [],
   "source": []
  },
  {
   "cell_type": "code",
   "execution_count": null,
   "id": "1a316b30",
   "metadata": {
    "ExecuteTime": {
     "start_time": "2022-01-06T16:02:03.490Z"
    }
   },
   "outputs": [
    {
     "name": "stdout",
     "output_type": "stream",
     "text": [
      "Loading data\n",
      "Tokenizing\n",
      "Create a new tokenizer\n"
     ]
    }
   ],
   "source": [
    "trainer.train()"
   ]
  },
  {
   "cell_type": "code",
   "execution_count": null,
   "id": "eddb1a45",
   "metadata": {},
   "outputs": [],
   "source": []
  }
 ],
 "metadata": {
  "kernelspec": {
   "display_name": "Python 3 (ipykernel)",
   "language": "python",
   "name": "python3"
  },
  "language_info": {
   "codemirror_mode": {
    "name": "ipython",
    "version": 3
   },
   "file_extension": ".py",
   "mimetype": "text/x-python",
   "name": "python",
   "nbconvert_exporter": "python",
   "pygments_lexer": "ipython3",
   "version": "3.8.12"
  },
  "toc": {
   "base_numbering": 1,
   "nav_menu": {},
   "number_sections": true,
   "sideBar": true,
   "skip_h1_title": false,
   "title_cell": "Table of Contents",
   "title_sidebar": "Contents",
   "toc_cell": false,
   "toc_position": {},
   "toc_section_display": true,
   "toc_window_display": false
  },
  "varInspector": {
   "cols": {
    "lenName": 16,
    "lenType": 16,
    "lenVar": 40
   },
   "kernels_config": {
    "python": {
     "delete_cmd_postfix": "",
     "delete_cmd_prefix": "del ",
     "library": "var_list.py",
     "varRefreshCmd": "print(var_dic_list())"
    },
    "r": {
     "delete_cmd_postfix": ") ",
     "delete_cmd_prefix": "rm(",
     "library": "var_list.r",
     "varRefreshCmd": "cat(var_dic_list()) "
    }
   },
   "types_to_exclude": [
    "module",
    "function",
    "builtin_function_or_method",
    "instance",
    "_Feature"
   ],
   "window_display": false
  }
 },
 "nbformat": 4,
 "nbformat_minor": 5
}
